{
 "cells": [
  {
   "cell_type": "code",
   "execution_count": 1,
   "id": "7cc1cc5f",
   "metadata": {},
   "outputs": [],
   "source": [
    "import pandas as pd "
   ]
  },
  {
   "cell_type": "code",
   "execution_count": 2,
   "id": "c94d8be8",
   "metadata": {},
   "outputs": [],
   "source": [
    "data=pd.read_csv('finalData/TrainingData.csv')"
   ]
  },
  {
   "cell_type": "code",
   "execution_count": 3,
   "id": "4fcea1c1",
   "metadata": {},
   "outputs": [
    {
     "data": {
      "text/plain": [
       "Index(['MP', 'games_starts', 'minutes', 'goals', 'assists', 'goals_pens',\n",
       "       'pens_made', 'pens_att', 'cards_yellow', 'cards_red',\n",
       "       'cards_yellow_red', 'fouls', 'fouled', 'offsides', 'crosses',\n",
       "       'interceptions', 'tackles_won', 'pens_won', 'pens_conceded',\n",
       "       'main_info', 'country', 'name', 'position', 'month', 'year', 'height',\n",
       "       'weight', 'MP_', 'shooting', 'agressive', 'impulse_degree', 'crossing',\n",
       "       'assisting', 'tackling', 'intercepting', 'power'],\n",
       "      dtype='object')"
      ]
     },
     "execution_count": 3,
     "metadata": {},
     "output_type": "execute_result"
    }
   ],
   "source": [
    "data.columns"
   ]
  },
  {
   "cell_type": "code",
   "execution_count": 4,
   "id": "0aaa18bc",
   "metadata": {},
   "outputs": [
    {
     "data": {
      "text/plain": [
       "(27364, 36)"
      ]
     },
     "execution_count": 4,
     "metadata": {},
     "output_type": "execute_result"
    }
   ],
   "source": [
    "data.shape"
   ]
  },
  {
   "cell_type": "code",
   "execution_count": 5,
   "id": "c2ef06f7",
   "metadata": {},
   "outputs": [
    {
     "name": "stdout",
     "output_type": "stream",
     "text": [
      "<class 'pandas.core.frame.DataFrame'>\n",
      "RangeIndex: 27364 entries, 0 to 27363\n",
      "Data columns (total 36 columns):\n",
      " #   Column            Non-Null Count  Dtype  \n",
      "---  ------            --------------  -----  \n",
      " 0   MP                27364 non-null  float64\n",
      " 1   games_starts      27364 non-null  float64\n",
      " 2   minutes           27364 non-null  float64\n",
      " 3   goals             27364 non-null  float64\n",
      " 4   assists           27364 non-null  float64\n",
      " 5   goals_pens        27364 non-null  float64\n",
      " 6   pens_made         27364 non-null  float64\n",
      " 7   pens_att          27364 non-null  float64\n",
      " 8   cards_yellow      27364 non-null  float64\n",
      " 9   cards_red         27364 non-null  float64\n",
      " 10  cards_yellow_red  27364 non-null  float64\n",
      " 11  fouls             27364 non-null  float64\n",
      " 12  fouled            27364 non-null  float64\n",
      " 13  offsides          27364 non-null  float64\n",
      " 14  crosses           27364 non-null  float64\n",
      " 15  interceptions     27364 non-null  float64\n",
      " 16  tackles_won       27364 non-null  float64\n",
      " 17  pens_won          7064 non-null   float64\n",
      " 18  pens_conceded     7064 non-null   float64\n",
      " 19  main_info         27364 non-null  object \n",
      " 20  country           27364 non-null  object \n",
      " 21  name              27364 non-null  object \n",
      " 22  position          27364 non-null  object \n",
      " 23  month             27364 non-null  object \n",
      " 24  year              27364 non-null  int64  \n",
      " 25  height            27364 non-null  int64  \n",
      " 26  weight            27364 non-null  int64  \n",
      " 27  MP_               27364 non-null  float64\n",
      " 28  shooting          27364 non-null  int64  \n",
      " 29  agressive         27364 non-null  int64  \n",
      " 30  impulse_degree    27364 non-null  int64  \n",
      " 31  crossing          27364 non-null  int64  \n",
      " 32  assisting         27364 non-null  int64  \n",
      " 33  tackling          27364 non-null  int64  \n",
      " 34  intercepting      27364 non-null  int64  \n",
      " 35  power             27364 non-null  int64  \n",
      "dtypes: float64(20), int64(11), object(5)\n",
      "memory usage: 7.5+ MB\n"
     ]
    }
   ],
   "source": [
    "data.info()"
   ]
  },
  {
   "cell_type": "code",
   "execution_count": 6,
   "id": "ec393110",
   "metadata": {},
   "outputs": [],
   "source": [
    "from sklearn.preprocessing import StandardScaler\n",
    "from sklearn.preprocessing import MinMaxScaler"
   ]
  },
  {
   "cell_type": "code",
   "execution_count": 7,
   "id": "5ed66257",
   "metadata": {},
   "outputs": [],
   "source": [
    "scaler=StandardScaler()"
   ]
  },
  {
   "cell_type": "code",
   "execution_count": 8,
   "id": "79aede50",
   "metadata": {},
   "outputs": [
    {
     "data": {
      "text/plain": [
       "Index(['MP', 'games_starts', 'minutes', 'goals', 'assists', 'goals_pens',\n",
       "       'pens_made', 'pens_att', 'cards_yellow', 'cards_red',\n",
       "       'cards_yellow_red', 'fouls', 'fouled', 'offsides', 'crosses',\n",
       "       'interceptions', 'tackles_won', 'pens_won', 'pens_conceded',\n",
       "       'main_info', 'country', 'name', 'position', 'month', 'year', 'height',\n",
       "       'weight', 'MP_', 'shooting', 'agressive', 'impulse_degree', 'crossing',\n",
       "       'assisting', 'tackling', 'intercepting', 'power'],\n",
       "      dtype='object')"
      ]
     },
     "execution_count": 8,
     "metadata": {},
     "output_type": "execute_result"
    }
   ],
   "source": [
    "data.columns"
   ]
  },
  {
   "cell_type": "code",
   "execution_count": 9,
   "id": "936964c5",
   "metadata": {},
   "outputs": [],
   "source": [
    "cols=[ 'height', 'shooting', 'agressive', 'impulse_degree', 'crossing',\n",
    "       'assisting', 'tackling', 'intercepting', 'power']"
   ]
  },
  {
   "cell_type": "code",
   "execution_count": 10,
   "id": "33fafcfd",
   "metadata": {},
   "outputs": [],
   "source": [
    "data[cols]=scaler.fit_transform(data[cols])"
   ]
  },
  {
   "cell_type": "code",
   "execution_count": 11,
   "id": "c14fd35f",
   "metadata": {},
   "outputs": [
    {
     "data": {
      "text/html": [
       "<div>\n",
       "<style scoped>\n",
       "    .dataframe tbody tr th:only-of-type {\n",
       "        vertical-align: middle;\n",
       "    }\n",
       "\n",
       "    .dataframe tbody tr th {\n",
       "        vertical-align: top;\n",
       "    }\n",
       "\n",
       "    .dataframe thead th {\n",
       "        text-align: right;\n",
       "    }\n",
       "</style>\n",
       "<table border=\"1\" class=\"dataframe\">\n",
       "  <thead>\n",
       "    <tr style=\"text-align: right;\">\n",
       "      <th></th>\n",
       "      <th>height</th>\n",
       "      <th>shooting</th>\n",
       "      <th>agressive</th>\n",
       "      <th>impulse_degree</th>\n",
       "      <th>crossing</th>\n",
       "      <th>assisting</th>\n",
       "      <th>tackling</th>\n",
       "      <th>intercepting</th>\n",
       "      <th>power</th>\n",
       "    </tr>\n",
       "  </thead>\n",
       "  <tbody>\n",
       "    <tr>\n",
       "      <th>0</th>\n",
       "      <td>-0.006209</td>\n",
       "      <td>-0.241280</td>\n",
       "      <td>1.315394</td>\n",
       "      <td>-0.555584</td>\n",
       "      <td>-0.497692</td>\n",
       "      <td>0.652629</td>\n",
       "      <td>-1.061546</td>\n",
       "      <td>-0.831934</td>\n",
       "      <td>0.181220</td>\n",
       "    </tr>\n",
       "    <tr>\n",
       "      <th>1</th>\n",
       "      <td>-0.176111</td>\n",
       "      <td>-0.671762</td>\n",
       "      <td>-1.008118</td>\n",
       "      <td>-0.089508</td>\n",
       "      <td>0.841302</td>\n",
       "      <td>0.787804</td>\n",
       "      <td>0.435817</td>\n",
       "      <td>0.087418</td>\n",
       "      <td>-0.454074</td>\n",
       "    </tr>\n",
       "    <tr>\n",
       "      <th>2</th>\n",
       "      <td>0.503498</td>\n",
       "      <td>-0.671762</td>\n",
       "      <td>-1.008118</td>\n",
       "      <td>-0.846881</td>\n",
       "      <td>-0.436829</td>\n",
       "      <td>-0.699113</td>\n",
       "      <td>-0.901114</td>\n",
       "      <td>-0.883009</td>\n",
       "      <td>1.989363</td>\n",
       "    </tr>\n",
       "    <tr>\n",
       "      <th>3</th>\n",
       "      <td>-0.515916</td>\n",
       "      <td>-0.671762</td>\n",
       "      <td>-1.008118</td>\n",
       "      <td>-1.312957</td>\n",
       "      <td>-0.862872</td>\n",
       "      <td>-0.699113</td>\n",
       "      <td>-1.221977</td>\n",
       "      <td>-1.036235</td>\n",
       "      <td>1.989363</td>\n",
       "    </tr>\n",
       "    <tr>\n",
       "      <th>4</th>\n",
       "      <td>0.163693</td>\n",
       "      <td>-0.336943</td>\n",
       "      <td>2.499930</td>\n",
       "      <td>1.308721</td>\n",
       "      <td>-0.802009</td>\n",
       "      <td>-0.248533</td>\n",
       "      <td>0.917112</td>\n",
       "      <td>3.305150</td>\n",
       "      <td>0.621039</td>\n",
       "    </tr>\n",
       "    <tr>\n",
       "      <th>...</th>\n",
       "      <td>...</td>\n",
       "      <td>...</td>\n",
       "      <td>...</td>\n",
       "      <td>...</td>\n",
       "      <td>...</td>\n",
       "      <td>...</td>\n",
       "      <td>...</td>\n",
       "      <td>...</td>\n",
       "      <td>...</td>\n",
       "    </tr>\n",
       "    <tr>\n",
       "      <th>27359</th>\n",
       "      <td>1.013204</td>\n",
       "      <td>-0.480437</td>\n",
       "      <td>-0.370291</td>\n",
       "      <td>0.959163</td>\n",
       "      <td>2.545477</td>\n",
       "      <td>1.193327</td>\n",
       "      <td>0.275385</td>\n",
       "      <td>-0.116883</td>\n",
       "      <td>-0.600680</td>\n",
       "    </tr>\n",
       "    <tr>\n",
       "      <th>27360</th>\n",
       "      <td>-0.346013</td>\n",
       "      <td>-0.671762</td>\n",
       "      <td>-1.008118</td>\n",
       "      <td>-0.963400</td>\n",
       "      <td>-0.680282</td>\n",
       "      <td>-0.699113</td>\n",
       "      <td>-0.901114</td>\n",
       "      <td>-0.780859</td>\n",
       "      <td>1.989363</td>\n",
       "    </tr>\n",
       "    <tr>\n",
       "      <th>27361</th>\n",
       "      <td>-0.346013</td>\n",
       "      <td>-0.671762</td>\n",
       "      <td>-1.008118</td>\n",
       "      <td>-1.312957</td>\n",
       "      <td>-0.862872</td>\n",
       "      <td>-0.699113</td>\n",
       "      <td>-1.221977</td>\n",
       "      <td>-1.036235</td>\n",
       "      <td>1.989363</td>\n",
       "    </tr>\n",
       "    <tr>\n",
       "      <th>27362</th>\n",
       "      <td>-0.515916</td>\n",
       "      <td>-0.671762</td>\n",
       "      <td>-0.461410</td>\n",
       "      <td>-0.846881</td>\n",
       "      <td>2.180296</td>\n",
       "      <td>-0.699113</td>\n",
       "      <td>-0.580251</td>\n",
       "      <td>-0.474408</td>\n",
       "      <td>0.034614</td>\n",
       "    </tr>\n",
       "    <tr>\n",
       "      <th>27363</th>\n",
       "      <td>-0.515916</td>\n",
       "      <td>0.906671</td>\n",
       "      <td>-0.370291</td>\n",
       "      <td>-0.147767</td>\n",
       "      <td>-0.132512</td>\n",
       "      <td>-0.699113</td>\n",
       "      <td>0.061476</td>\n",
       "      <td>-0.525484</td>\n",
       "      <td>-1.920136</td>\n",
       "    </tr>\n",
       "  </tbody>\n",
       "</table>\n",
       "<p>27364 rows × 9 columns</p>\n",
       "</div>"
      ],
      "text/plain": [
       "         height  shooting  agressive  impulse_degree  crossing  assisting  \\\n",
       "0     -0.006209 -0.241280   1.315394       -0.555584 -0.497692   0.652629   \n",
       "1     -0.176111 -0.671762  -1.008118       -0.089508  0.841302   0.787804   \n",
       "2      0.503498 -0.671762  -1.008118       -0.846881 -0.436829  -0.699113   \n",
       "3     -0.515916 -0.671762  -1.008118       -1.312957 -0.862872  -0.699113   \n",
       "4      0.163693 -0.336943   2.499930        1.308721 -0.802009  -0.248533   \n",
       "...         ...       ...        ...             ...       ...        ...   \n",
       "27359  1.013204 -0.480437  -0.370291        0.959163  2.545477   1.193327   \n",
       "27360 -0.346013 -0.671762  -1.008118       -0.963400 -0.680282  -0.699113   \n",
       "27361 -0.346013 -0.671762  -1.008118       -1.312957 -0.862872  -0.699113   \n",
       "27362 -0.515916 -0.671762  -0.461410       -0.846881  2.180296  -0.699113   \n",
       "27363 -0.515916  0.906671  -0.370291       -0.147767 -0.132512  -0.699113   \n",
       "\n",
       "       tackling  intercepting     power  \n",
       "0     -1.061546     -0.831934  0.181220  \n",
       "1      0.435817      0.087418 -0.454074  \n",
       "2     -0.901114     -0.883009  1.989363  \n",
       "3     -1.221977     -1.036235  1.989363  \n",
       "4      0.917112      3.305150  0.621039  \n",
       "...         ...           ...       ...  \n",
       "27359  0.275385     -0.116883 -0.600680  \n",
       "27360 -0.901114     -0.780859  1.989363  \n",
       "27361 -1.221977     -1.036235  1.989363  \n",
       "27362 -0.580251     -0.474408  0.034614  \n",
       "27363  0.061476     -0.525484 -1.920136  \n",
       "\n",
       "[27364 rows x 9 columns]"
      ]
     },
     "execution_count": 11,
     "metadata": {},
     "output_type": "execute_result"
    }
   ],
   "source": [
    "data[cols]"
   ]
  },
  {
   "cell_type": "code",
   "execution_count": 12,
   "id": "43274cde",
   "metadata": {},
   "outputs": [],
   "source": [
    "y=data['position']"
   ]
  },
  {
   "cell_type": "code",
   "execution_count": 13,
   "id": "31d7201c",
   "metadata": {},
   "outputs": [],
   "source": [
    "y=y.map({'FW':0,'MF':1,'DF':2})"
   ]
  },
  {
   "cell_type": "code",
   "execution_count": 14,
   "id": "dd11661d",
   "metadata": {},
   "outputs": [
    {
     "data": {
      "text/plain": [
       "Index(['MP', 'games_starts', 'minutes', 'goals', 'assists', 'goals_pens',\n",
       "       'pens_made', 'pens_att', 'cards_yellow', 'cards_red',\n",
       "       'cards_yellow_red', 'fouls', 'fouled', 'offsides', 'crosses',\n",
       "       'interceptions', 'tackles_won', 'pens_won', 'pens_conceded',\n",
       "       'main_info', 'country', 'name', 'position', 'month', 'year', 'height',\n",
       "       'weight', 'MP_', 'shooting', 'agressive', 'impulse_degree', 'crossing',\n",
       "       'assisting', 'tackling', 'intercepting', 'power'],\n",
       "      dtype='object')"
      ]
     },
     "execution_count": 14,
     "metadata": {},
     "output_type": "execute_result"
    }
   ],
   "source": [
    "data.columns"
   ]
  },
  {
   "cell_type": "code",
   "execution_count": 15,
   "id": "14b749da",
   "metadata": {},
   "outputs": [],
   "source": [
    "X=data.drop(['MP', 'games_starts', 'minutes', 'goals', 'assists', 'goals_pens',\n",
    "       'pens_made', 'pens_att', 'cards_yellow', 'cards_red',\n",
    "       'cards_yellow_red', 'fouls', 'fouled', 'offsides', 'crosses',\n",
    "       'interceptions', 'tackles_won', 'pens_won', 'pens_conceded',\n",
    "       'main_info', 'country', 'name', 'month', 'year', 'position',\n",
    "       'weight', 'MP_'],axis=1)"
   ]
  },
  {
   "cell_type": "code",
   "execution_count": 16,
   "id": "6df3269f",
   "metadata": {},
   "outputs": [
    {
     "data": {
      "text/plain": [
       "Index(['height', 'shooting', 'agressive', 'impulse_degree', 'crossing',\n",
       "       'assisting', 'tackling', 'intercepting', 'power'],\n",
       "      dtype='object')"
      ]
     },
     "execution_count": 16,
     "metadata": {},
     "output_type": "execute_result"
    }
   ],
   "source": [
    "X.columns"
   ]
  },
  {
   "cell_type": "code",
   "execution_count": 17,
   "id": "1d2e3b48",
   "metadata": {},
   "outputs": [],
   "source": [
    "from matplotlib import pyplot as plt\n",
    "import seaborn as sns\n",
    "import numpy as np"
   ]
  },
  {
   "cell_type": "code",
   "execution_count": 18,
   "id": "959f275a",
   "metadata": {},
   "outputs": [
    {
     "name": "stderr",
     "output_type": "stream",
     "text": [
      "C:\\Users\\DELL\\anaconda3\\lib\\site-packages\\seaborn\\_decorators.py:36: FutureWarning: Pass the following variables as keyword args: x, y. From version 0.12, the only valid positional argument will be `data`, and passing other arguments without an explicit keyword will result in an error or misinterpretation.\n",
      "  warnings.warn(\n"
     ]
    },
    {
     "data": {
      "text/plain": [
       "<AxesSubplot:>"
      ]
     },
     "execution_count": 18,
     "metadata": {},
     "output_type": "execute_result"
    },
    {
     "data": {
      "image/png": "[encoded data removed]",
      "text/plain": [
       "<Figure size 432x288 with 1 Axes>"
      ]
     },
     "metadata": {
      "needs_background": "light"
     },
     "output_type": "display_data"
    }
   ],
   "source": [
    "sns.barplot(y.value_counts().index,y.value_counts().values)"
   ]
  },
  {
   "cell_type": "code",
   "execution_count": 19,
   "id": "3067e87b",
   "metadata": {},
   "outputs": [],
   "source": [
    "from imblearn.over_sampling import SMOTE "
   ]
  },
  {
   "cell_type": "code",
   "execution_count": 20,
   "id": "1b1b9e14",
   "metadata": {},
   "outputs": [],
   "source": [
    "resampler=SMOTE()"
   ]
  },
  {
   "cell_type": "code",
   "execution_count": 21,
   "id": "5b4db911",
   "metadata": {},
   "outputs": [],
   "source": [
    "X,y=resampler.fit_resample(X,y)"
   ]
  },
  {
   "cell_type": "code",
   "execution_count": 22,
   "id": "66438e6d",
   "metadata": {},
   "outputs": [],
   "source": [
    "from sklearn.model_selection import train_test_split"
   ]
  },
  {
   "cell_type": "code",
   "execution_count": 23,
   "id": "3e029d12",
   "metadata": {},
   "outputs": [],
   "source": [
    "X_train, X_test, y_train, y_test = train_test_split(X, y, test_size=0.33, random_state=42,stratify=y)"
   ]
  },
  {
   "cell_type": "code",
   "execution_count": 24,
   "id": "a159bba7",
   "metadata": {},
   "outputs": [],
   "source": [
    "from sklearn.linear_model import LogisticRegression\n",
    "from sklearn import svm\n",
    "from sklearn.neighbors import KNeighborsClassifier\n",
    "from sklearn import tree\n",
    "from sklearn.ensemble import RandomForestClassifier\n",
    "import xgboost"
   ]
  },
  {
   "cell_type": "code",
   "execution_count": 25,
   "id": "297c71b9",
   "metadata": {},
   "outputs": [],
   "source": [
    "models=[LogisticRegression(),svm.SVC(),KNeighborsClassifier(),tree.DecisionTreeClassifier(),RandomForestClassifier(),xgboost.XGBClassifier()]"
   ]
  },
  {
   "cell_type": "code",
   "execution_count": 26,
   "id": "eca8c160",
   "metadata": {},
   "outputs": [],
   "source": [
    "from sklearn.metrics import accuracy_score"
   ]
  },
  {
   "cell_type": "code",
   "execution_count": null,
   "id": "d9f98532",
   "metadata": {},
   "outputs": [
    {
     "name": "stdout",
     "output_type": "stream",
     "text": [
      "LogisticRegression()\n",
      "Training score: 73.20722202639722\n",
      "Testing score: 73.39376590330788\n"
     ]
    }
   ],
   "source": [
    "train_scores=[]\n",
    "test_scores=[]\n",
    "for model in models:\n",
    "    model.fit(X_train,y_train)\n",
    "    y_pred=model.predict(X_train)\n",
    "    print(model)\n",
    "    print(f'Training score: {accuracy_score(y_train,y_pred)*100}' )\n",
    "    train_scores.append(accuracy_score(y_train,y_pred)*100)\n",
    "    y_pred=model.predict(X_test)\n",
    "    print(f'Testing score: {accuracy_score(y_test,y_pred)*100}' )\n",
    "    test_scores.append(accuracy_score(y_test,y_pred)*100)\n",
    "    "
   ]
  },
  {
   "cell_type": "code",
   "execution_count": null,
   "id": "af9e74f8",
   "metadata": {},
   "outputs": [],
   "source": [
    "y.value_counts()"
   ]
  },
  {
   "cell_type": "code",
   "execution_count": null,
   "id": "afba88d5",
   "metadata": {},
   "outputs": [],
   "source": [
    "labels=['LogisticRegression','SVM','KNN','DecisionTree','RandomForest','XGboost']\n",
    "x=np.arange(len(labels))\n",
    "fig, ax = plt.subplots()\n",
    "rects1 = ax.bar(x - 0.35/2, test_scores, 0.35, label='Test')\n",
    "rects2 = ax.bar(x + 0.35/2, train_scores, 0.35, label='Train')\n",
    "\n",
    "# Add some text for labels, title and custom x-axis tick labels, etc.\n",
    "ax.set_ylabel('Scores')\n",
    "ax.set_title('Scores of training and testing ')\n",
    "ax.set_xticks(x)\n",
    "ax.set_xticklabels(labels)\n",
    "plt.xticks(rotation=10)\n",
    "ax.legend()\n",
    "plt.savefig('model.png')"
   ]
  },
  {
   "cell_type": "code",
   "execution_count": null,
   "id": "87b0ee2e",
   "metadata": {},
   "outputs": [],
   "source": [
    "from sklearn.model_selection import RandomizedSearchCV\n",
    "from sklearn.model_selection import GridSearchCV"
   ]
  },
  {
   "cell_type": "code",
   "execution_count": null,
   "id": "3b1ca5f9",
   "metadata": {},
   "outputs": [],
   "source": [
    "distributions={\n",
    "        'learning_rate':[0.05,0.10,0.15,0.20,0.25,0.30],\n",
    "#         'max_depth': [10,12,15],\n",
    "        'gamma':[0.2,0.4,0.6,0.8],\n",
    "        \"colsample_bytree\":[0.3,0.4,0.5,0.7],\n",
    "        'reg_alpha':[5,6,8,10],\n",
    "        'reg_lambda':[1,2,3,4,5],\n",
    "        'min_child_weight':[2,3,4,5],\n",
    "        'subsample':[0.5,0.7,0.9],\n",
    "        'n_estimators':[100,200,400,500]\n",
    "    \n",
    "}"
   ]
  },
  {
   "cell_type": "code",
   "execution_count": null,
   "id": "30bf55ec",
   "metadata": {},
   "outputs": [],
   "source": [
    "clf=RandomizedSearchCV(xgboost.XGBClassifier(),distributions)"
   ]
  },
  {
   "cell_type": "code",
   "execution_count": null,
   "id": "44a133ad",
   "metadata": {},
   "outputs": [],
   "source": [
    "search=clf.fit(X,y)"
   ]
  },
  {
   "cell_type": "code",
   "execution_count": null,
   "id": "e1c412d5",
   "metadata": {},
   "outputs": [],
   "source": [
    "search.best_score_"
   ]
  },
  {
   "cell_type": "code",
   "execution_count": null,
   "id": "27950989",
   "metadata": {},
   "outputs": [],
   "source": [
    "search.best_params_"
   ]
  },
  {
   "cell_type": "code",
   "execution_count": null,
   "id": "c8104a57",
   "metadata": {},
   "outputs": [],
   "source": [
    "model=search.best_estimator_"
   ]
  },
  {
   "cell_type": "code",
   "execution_count": null,
   "id": "851a7c24",
   "metadata": {},
   "outputs": [],
   "source": [
    "model.fit(X_train,y_train)"
   ]
  },
  {
   "cell_type": "code",
   "execution_count": null,
   "id": "c805f15c",
   "metadata": {},
   "outputs": [],
   "source": [
    "y_pred=model.predict(X_test)"
   ]
  },
  {
   "cell_type": "code",
   "execution_count": null,
   "id": "675176e5",
   "metadata": {},
   "outputs": [],
   "source": [
    "model.feature_importances_"
   ]
  },
  {
   "cell_type": "code",
   "execution_count": null,
   "id": "dbb5bf19",
   "metadata": {},
   "outputs": [],
   "source": [
    "cols"
   ]
  },
  {
   "cell_type": "code",
   "execution_count": null,
   "id": "097e1e8b",
   "metadata": {},
   "outputs": [],
   "source": [
    "from sklearn.metrics import confusion_matrix, ConfusionMatrixDisplay"
   ]
  },
  {
   "cell_type": "code",
   "execution_count": null,
   "id": "72840a4c",
   "metadata": {},
   "outputs": [],
   "source": [
    "cm=confusion_matrix(y_test,y_pred,labels=model.classes_)\n",
    "disp = ConfusionMatrixDisplay(confusion_matrix=cm, display_labels=model.classes_)\n",
    "disp.plot()"
   ]
  },
  {
   "cell_type": "code",
   "execution_count": null,
   "id": "e918b135",
   "metadata": {},
   "outputs": [],
   "source": [
    "from sklearn.metrics import classification_report"
   ]
  },
  {
   "cell_type": "code",
   "execution_count": null,
   "id": "242cea7b",
   "metadata": {},
   "outputs": [],
   "source": [
    "print(classification_report(y_test,y_pred))"
   ]
  },
  {
   "cell_type": "code",
   "execution_count": null,
   "id": "72c24d1c",
   "metadata": {},
   "outputs": [],
   "source": [
    "from sklearn.model_selection import cross_validate"
   ]
  },
  {
   "cell_type": "code",
   "execution_count": null,
   "id": "0d0e101c",
   "metadata": {},
   "outputs": [],
   "source": [
    "cv_results = cross_validate(model,X, y, cv = 10, scoring = 'accuracy',return_train_score=True)\n",
    "cv_results"
   ]
  },
  {
   "cell_type": "code",
   "execution_count": null,
   "id": "ec03bd5c",
   "metadata": {},
   "outputs": [],
   "source": [
    "model.fit(X,y)"
   ]
  },
  {
   "cell_type": "code",
   "execution_count": null,
   "id": "8f3868cb",
   "metadata": {},
   "outputs": [],
   "source": [
    "import joblib"
   ]
  },
  {
   "cell_type": "code",
   "execution_count": null,
   "id": "12c05e29",
   "metadata": {},
   "outputs": [],
   "source": [
    "joblib.dump(model,'FinalModel.sav')"
   ]
  },
  {
   "cell_type": "code",
   "execution_count": null,
   "id": "7bacd820",
   "metadata": {},
   "outputs": [],
   "source": [
    "joblib.dump(scaler,'scaler.sav')"
   ]
  }
 ],
 "metadata": {
  "kernelspec": {
   "display_name": "Python 3 (ipykernel)",
   "language": "python",
   "name": "python3"
  },
  "language_info": {
   "codemirror_mode": {
    "name": "ipython",
    "version": 3
   },
   "file_extension": ".py",
   "mimetype": "text/x-python",
   "name": "python",
   "nbconvert_exporter": "python",
   "pygments_lexer": "ipython3",
   "version": "3.9.7"
  }
 },
 "nbformat": 4,
 "nbformat_minor": 5
}
