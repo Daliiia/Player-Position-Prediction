{
 "cells": [
  {
   "cell_type": "code",
   "execution_count": 143,
   "id": "681476c8",
   "metadata": {},
   "outputs": [],
   "source": [
    "import pandas as pd \n",
    "import numpy as np"
   ]
  },
  {
   "cell_type": "markdown",
   "id": "0f8a6ff4",
   "metadata": {},
   "source": [
    "## Reading scraped files"
   ]
  },
  {
   "cell_type": "code",
   "execution_count": 144,
   "id": "c1b0fd5c",
   "metadata": {},
   "outputs": [],
   "source": [
    "import os\n",
    "import glob"
   ]
  },
  {
   "cell_type": "code",
   "execution_count": 145,
   "id": "122f6087",
   "metadata": {},
   "outputs": [],
   "source": [
    "path = os.getcwd()\n",
    "csv_files = glob.glob(os.path.join(path, \"*.csv\"))"
   ]
  },
  {
   "cell_type": "code",
   "execution_count": 146,
   "id": "35c455f7",
   "metadata": {},
   "outputs": [
    {
     "data": {
      "text/plain": [
       "70"
      ]
     },
     "execution_count": 146,
     "metadata": {},
     "output_type": "execute_result"
    }
   ],
   "source": [
    "len(csv_files)"
   ]
  },
  {
   "cell_type": "code",
   "execution_count": 147,
   "id": "b9fb799b",
   "metadata": {},
   "outputs": [],
   "source": [
    "data=pd.read_csv(csv_files[0])"
   ]
  },
  {
   "cell_type": "code",
   "execution_count": 148,
   "id": "eae70f47",
   "metadata": {},
   "outputs": [],
   "source": [
    "for i in csv_files[1:]:\n",
    "    readed_data=pd.read_csv(i)\n",
    "    data=pd.concat([data,readed_data],ignore_index=True)"
   ]
  },
  {
   "cell_type": "code",
   "execution_count": 149,
   "id": "3e1f8d72",
   "metadata": {},
   "outputs": [
    {
     "data": {
      "text/html": [
       "<div>\n",
       "<style scoped>\n",
       "    .dataframe tbody tr th:only-of-type {\n",
       "        vertical-align: middle;\n",
       "    }\n",
       "\n",
       "    .dataframe tbody tr th {\n",
       "        vertical-align: top;\n",
       "    }\n",
       "\n",
       "    .dataframe thead th {\n",
       "        text-align: right;\n",
       "    }\n",
       "</style>\n",
       "<table border=\"1\" class=\"dataframe\">\n",
       "  <thead>\n",
       "    <tr style=\"text-align: right;\">\n",
       "      <th></th>\n",
       "      <th>MP</th>\n",
       "      <th>games_starts</th>\n",
       "      <th>minutes</th>\n",
       "      <th>goals</th>\n",
       "      <th>assists</th>\n",
       "      <th>goals_pens</th>\n",
       "      <th>pens_made</th>\n",
       "      <th>pens_att</th>\n",
       "      <th>cards_yellow</th>\n",
       "      <th>cards_red</th>\n",
       "      <th>...</th>\n",
       "      <th>fouls</th>\n",
       "      <th>fouled</th>\n",
       "      <th>offsides</th>\n",
       "      <th>crosses</th>\n",
       "      <th>interceptions</th>\n",
       "      <th>tackles_won</th>\n",
       "      <th>pens_won</th>\n",
       "      <th>pens_conceded</th>\n",
       "      <th>main_info</th>\n",
       "      <th>country</th>\n",
       "    </tr>\n",
       "  </thead>\n",
       "  <tbody>\n",
       "    <tr>\n",
       "      <th>0</th>\n",
       "      <td>1.0</td>\n",
       "      <td>0.0</td>\n",
       "      <td>34</td>\n",
       "      <td>0.0</td>\n",
       "      <td>0.0</td>\n",
       "      <td>0.0</td>\n",
       "      <td>0.0</td>\n",
       "      <td>0.0</td>\n",
       "      <td>0.0</td>\n",
       "      <td>0.0</td>\n",
       "      <td>...</td>\n",
       "      <td>NaN</td>\n",
       "      <td>NaN</td>\n",
       "      <td>NaN</td>\n",
       "      <td>NaN</td>\n",
       "      <td>NaN</td>\n",
       "      <td>NaN</td>\n",
       "      <td>NaN</td>\n",
       "      <td>NaN</td>\n",
       "      <td>Masood Abdulsaeed Position: DF 180cm, 69kg (5-...</td>\n",
       "      <td>Afghanistan</td>\n",
       "    </tr>\n",
       "    <tr>\n",
       "      <th>1</th>\n",
       "      <td>1.0</td>\n",
       "      <td>0.0</td>\n",
       "      <td>7</td>\n",
       "      <td>0.0</td>\n",
       "      <td>0.0</td>\n",
       "      <td>0.0</td>\n",
       "      <td>0.0</td>\n",
       "      <td>0.0</td>\n",
       "      <td>0.0</td>\n",
       "      <td>0.0</td>\n",
       "      <td>...</td>\n",
       "      <td>NaN</td>\n",
       "      <td>NaN</td>\n",
       "      <td>NaN</td>\n",
       "      <td>NaN</td>\n",
       "      <td>NaN</td>\n",
       "      <td>NaN</td>\n",
       "      <td>NaN</td>\n",
       "      <td>NaN</td>\n",
       "      <td>Mustafa Afshar Position: FW Born: November 25,...</td>\n",
       "      <td>Afghanistan</td>\n",
       "    </tr>\n",
       "    <tr>\n",
       "      <th>2</th>\n",
       "      <td>4.0</td>\n",
       "      <td>4.0</td>\n",
       "      <td>321</td>\n",
       "      <td>0.0</td>\n",
       "      <td>NaN</td>\n",
       "      <td>0.0</td>\n",
       "      <td>0.0</td>\n",
       "      <td>0.0</td>\n",
       "      <td>2.0</td>\n",
       "      <td>1.0</td>\n",
       "      <td>...</td>\n",
       "      <td>NaN</td>\n",
       "      <td>NaN</td>\n",
       "      <td>NaN</td>\n",
       "      <td>NaN</td>\n",
       "      <td>NaN</td>\n",
       "      <td>NaN</td>\n",
       "      <td>NaN</td>\n",
       "      <td>NaN</td>\n",
       "      <td>Bashir Ahmad Saadat Position: DF Born: Decembe...</td>\n",
       "      <td>Afghanistan</td>\n",
       "    </tr>\n",
       "    <tr>\n",
       "      <th>3</th>\n",
       "      <td>2.0</td>\n",
       "      <td>2.0</td>\n",
       "      <td>104</td>\n",
       "      <td>0.0</td>\n",
       "      <td>0.0</td>\n",
       "      <td>0.0</td>\n",
       "      <td>0.0</td>\n",
       "      <td>0.0</td>\n",
       "      <td>0.0</td>\n",
       "      <td>0.0</td>\n",
       "      <td>...</td>\n",
       "      <td>NaN</td>\n",
       "      <td>NaN</td>\n",
       "      <td>NaN</td>\n",
       "      <td>NaN</td>\n",
       "      <td>NaN</td>\n",
       "      <td>NaN</td>\n",
       "      <td>NaN</td>\n",
       "      <td>NaN</td>\n",
       "      <td>Moshtaq Ahmadi Moshtaq Ahmadi Position: FW 180...</td>\n",
       "      <td>Afghanistan</td>\n",
       "    </tr>\n",
       "    <tr>\n",
       "      <th>4</th>\n",
       "      <td>1.0</td>\n",
       "      <td>0.0</td>\n",
       "      <td>1</td>\n",
       "      <td>0.0</td>\n",
       "      <td>0.0</td>\n",
       "      <td>0.0</td>\n",
       "      <td>0.0</td>\n",
       "      <td>0.0</td>\n",
       "      <td>0.0</td>\n",
       "      <td>0.0</td>\n",
       "      <td>...</td>\n",
       "      <td>NaN</td>\n",
       "      <td>NaN</td>\n",
       "      <td>NaN</td>\n",
       "      <td>NaN</td>\n",
       "      <td>NaN</td>\n",
       "      <td>NaN</td>\n",
       "      <td>NaN</td>\n",
       "      <td>NaN</td>\n",
       "      <td>Qesmat Ahmadi Position: MF Born: August 13, 19...</td>\n",
       "      <td>Afghanistan</td>\n",
       "    </tr>\n",
       "  </tbody>\n",
       "</table>\n",
       "<p>5 rows × 21 columns</p>\n",
       "</div>"
      ],
      "text/plain": [
       "    MP  games_starts minutes  goals  assists  goals_pens  pens_made  pens_att  \\\n",
       "0  1.0           0.0      34    0.0      0.0         0.0        0.0       0.0   \n",
       "1  1.0           0.0       7    0.0      0.0         0.0        0.0       0.0   \n",
       "2  4.0           4.0     321    0.0      NaN         0.0        0.0       0.0   \n",
       "3  2.0           2.0     104    0.0      0.0         0.0        0.0       0.0   \n",
       "4  1.0           0.0       1    0.0      0.0         0.0        0.0       0.0   \n",
       "\n",
       "   cards_yellow  cards_red  ...  fouls  fouled  offsides  crosses  \\\n",
       "0           0.0        0.0  ...    NaN     NaN       NaN      NaN   \n",
       "1           0.0        0.0  ...    NaN     NaN       NaN      NaN   \n",
       "2           2.0        1.0  ...    NaN     NaN       NaN      NaN   \n",
       "3           0.0        0.0  ...    NaN     NaN       NaN      NaN   \n",
       "4           0.0        0.0  ...    NaN     NaN       NaN      NaN   \n",
       "\n",
       "   interceptions  tackles_won  pens_won  pens_conceded  \\\n",
       "0            NaN          NaN       NaN            NaN   \n",
       "1            NaN          NaN       NaN            NaN   \n",
       "2            NaN          NaN       NaN            NaN   \n",
       "3            NaN          NaN       NaN            NaN   \n",
       "4            NaN          NaN       NaN            NaN   \n",
       "\n",
       "                                           main_info       country  \n",
       "0  Masood Abdulsaeed Position: DF 180cm, 69kg (5-...  Afghanistan   \n",
       "1  Mustafa Afshar Position: FW Born: November 25,...  Afghanistan   \n",
       "2  Bashir Ahmad Saadat Position: DF Born: Decembe...  Afghanistan   \n",
       "3  Moshtaq Ahmadi Moshtaq Ahmadi Position: FW 180...  Afghanistan   \n",
       "4  Qesmat Ahmadi Position: MF Born: August 13, 19...  Afghanistan   \n",
       "\n",
       "[5 rows x 21 columns]"
      ]
     },
     "execution_count": 149,
     "metadata": {},
     "output_type": "execute_result"
    }
   ],
   "source": [
    "data.head()"
   ]
  },
  {
   "cell_type": "code",
   "execution_count": 150,
   "id": "43e87fe6",
   "metadata": {},
   "outputs": [
    {
     "data": {
      "text/html": [
       "<div>\n",
       "<style scoped>\n",
       "    .dataframe tbody tr th:only-of-type {\n",
       "        vertical-align: middle;\n",
       "    }\n",
       "\n",
       "    .dataframe tbody tr th {\n",
       "        vertical-align: top;\n",
       "    }\n",
       "\n",
       "    .dataframe thead th {\n",
       "        text-align: right;\n",
       "    }\n",
       "</style>\n",
       "<table border=\"1\" class=\"dataframe\">\n",
       "  <thead>\n",
       "    <tr style=\"text-align: right;\">\n",
       "      <th></th>\n",
       "      <th>MP</th>\n",
       "      <th>games_starts</th>\n",
       "      <th>goals</th>\n",
       "      <th>assists</th>\n",
       "      <th>goals_pens</th>\n",
       "      <th>pens_made</th>\n",
       "      <th>pens_att</th>\n",
       "      <th>cards_yellow</th>\n",
       "      <th>cards_red</th>\n",
       "      <th>cards_yellow_red</th>\n",
       "      <th>fouls</th>\n",
       "      <th>fouled</th>\n",
       "      <th>offsides</th>\n",
       "      <th>crosses</th>\n",
       "      <th>interceptions</th>\n",
       "      <th>tackles_won</th>\n",
       "      <th>pens_won</th>\n",
       "      <th>pens_conceded</th>\n",
       "    </tr>\n",
       "  </thead>\n",
       "  <tbody>\n",
       "    <tr>\n",
       "      <th>count</th>\n",
       "      <td>37751.000000</td>\n",
       "      <td>37751.000000</td>\n",
       "      <td>37720.000000</td>\n",
       "      <td>33784.000000</td>\n",
       "      <td>37714.000000</td>\n",
       "      <td>37714.000000</td>\n",
       "      <td>36508.000000</td>\n",
       "      <td>37720.000000</td>\n",
       "      <td>37720.000000</td>\n",
       "      <td>29345.000000</td>\n",
       "      <td>19519.000000</td>\n",
       "      <td>15215.000000</td>\n",
       "      <td>15217.000000</td>\n",
       "      <td>15205.000000</td>\n",
       "      <td>15203.000000</td>\n",
       "      <td>15203.000000</td>\n",
       "      <td>9769.000000</td>\n",
       "      <td>9769.000000</td>\n",
       "    </tr>\n",
       "    <tr>\n",
       "      <th>mean</th>\n",
       "      <td>67.410373</td>\n",
       "      <td>53.373765</td>\n",
       "      <td>7.000424</td>\n",
       "      <td>4.245856</td>\n",
       "      <td>6.398048</td>\n",
       "      <td>0.601315</td>\n",
       "      <td>0.748028</td>\n",
       "      <td>10.186824</td>\n",
       "      <td>0.676166</td>\n",
       "      <td>0.171443</td>\n",
       "      <td>57.676674</td>\n",
       "      <td>32.559645</td>\n",
       "      <td>4.724913</td>\n",
       "      <td>42.343505</td>\n",
       "      <td>30.480103</td>\n",
       "      <td>27.694337</td>\n",
       "      <td>0.195516</td>\n",
       "      <td>0.230218</td>\n",
       "    </tr>\n",
       "    <tr>\n",
       "      <th>std</th>\n",
       "      <td>90.917433</td>\n",
       "      <td>78.236223</td>\n",
       "      <td>17.145551</td>\n",
       "      <td>9.395209</td>\n",
       "      <td>15.352402</td>\n",
       "      <td>2.444523</td>\n",
       "      <td>2.898872</td>\n",
       "      <td>16.749074</td>\n",
       "      <td>1.534991</td>\n",
       "      <td>0.521043</td>\n",
       "      <td>85.608794</td>\n",
       "      <td>53.722685</td>\n",
       "      <td>12.291400</td>\n",
       "      <td>93.272964</td>\n",
       "      <td>51.914703</td>\n",
       "      <td>44.202257</td>\n",
       "      <td>0.758285</td>\n",
       "      <td>0.700213</td>\n",
       "    </tr>\n",
       "    <tr>\n",
       "      <th>min</th>\n",
       "      <td>0.000000</td>\n",
       "      <td>0.000000</td>\n",
       "      <td>0.000000</td>\n",
       "      <td>0.000000</td>\n",
       "      <td>-1.000000</td>\n",
       "      <td>0.000000</td>\n",
       "      <td>0.000000</td>\n",
       "      <td>0.000000</td>\n",
       "      <td>0.000000</td>\n",
       "      <td>0.000000</td>\n",
       "      <td>0.000000</td>\n",
       "      <td>0.000000</td>\n",
       "      <td>0.000000</td>\n",
       "      <td>0.000000</td>\n",
       "      <td>0.000000</td>\n",
       "      <td>0.000000</td>\n",
       "      <td>0.000000</td>\n",
       "      <td>0.000000</td>\n",
       "    </tr>\n",
       "    <tr>\n",
       "      <th>25%</th>\n",
       "      <td>5.000000</td>\n",
       "      <td>2.000000</td>\n",
       "      <td>0.000000</td>\n",
       "      <td>0.000000</td>\n",
       "      <td>0.000000</td>\n",
       "      <td>0.000000</td>\n",
       "      <td>0.000000</td>\n",
       "      <td>0.000000</td>\n",
       "      <td>0.000000</td>\n",
       "      <td>0.000000</td>\n",
       "      <td>3.000000</td>\n",
       "      <td>0.000000</td>\n",
       "      <td>0.000000</td>\n",
       "      <td>0.000000</td>\n",
       "      <td>0.000000</td>\n",
       "      <td>0.000000</td>\n",
       "      <td>0.000000</td>\n",
       "      <td>0.000000</td>\n",
       "    </tr>\n",
       "    <tr>\n",
       "      <th>50%</th>\n",
       "      <td>25.000000</td>\n",
       "      <td>16.000000</td>\n",
       "      <td>1.000000</td>\n",
       "      <td>0.000000</td>\n",
       "      <td>1.000000</td>\n",
       "      <td>0.000000</td>\n",
       "      <td>0.000000</td>\n",
       "      <td>3.000000</td>\n",
       "      <td>0.000000</td>\n",
       "      <td>0.000000</td>\n",
       "      <td>22.000000</td>\n",
       "      <td>9.000000</td>\n",
       "      <td>0.000000</td>\n",
       "      <td>5.000000</td>\n",
       "      <td>6.000000</td>\n",
       "      <td>7.000000</td>\n",
       "      <td>0.000000</td>\n",
       "      <td>0.000000</td>\n",
       "    </tr>\n",
       "    <tr>\n",
       "      <th>75%</th>\n",
       "      <td>97.000000</td>\n",
       "      <td>75.000000</td>\n",
       "      <td>6.000000</td>\n",
       "      <td>4.000000</td>\n",
       "      <td>5.000000</td>\n",
       "      <td>0.000000</td>\n",
       "      <td>0.000000</td>\n",
       "      <td>13.000000</td>\n",
       "      <td>1.000000</td>\n",
       "      <td>0.000000</td>\n",
       "      <td>78.000000</td>\n",
       "      <td>42.000000</td>\n",
       "      <td>4.000000</td>\n",
       "      <td>37.000000</td>\n",
       "      <td>37.000000</td>\n",
       "      <td>37.000000</td>\n",
       "      <td>0.000000</td>\n",
       "      <td>0.000000</td>\n",
       "    </tr>\n",
       "    <tr>\n",
       "      <th>max</th>\n",
       "      <td>663.000000</td>\n",
       "      <td>663.000000</td>\n",
       "      <td>482.000000</td>\n",
       "      <td>206.000000</td>\n",
       "      <td>421.000000</td>\n",
       "      <td>61.000000</td>\n",
       "      <td>75.000000</td>\n",
       "      <td>201.000000</td>\n",
       "      <td>22.000000</td>\n",
       "      <td>7.000000</td>\n",
       "      <td>1138.000000</td>\n",
       "      <td>714.000000</td>\n",
       "      <td>169.000000</td>\n",
       "      <td>1195.000000</td>\n",
       "      <td>498.000000</td>\n",
       "      <td>449.000000</td>\n",
       "      <td>19.000000</td>\n",
       "      <td>10.000000</td>\n",
       "    </tr>\n",
       "  </tbody>\n",
       "</table>\n",
       "</div>"
      ],
      "text/plain": [
       "                 MP  games_starts         goals       assists    goals_pens  \\\n",
       "count  37751.000000  37751.000000  37720.000000  33784.000000  37714.000000   \n",
       "mean      67.410373     53.373765      7.000424      4.245856      6.398048   \n",
       "std       90.917433     78.236223     17.145551      9.395209     15.352402   \n",
       "min        0.000000      0.000000      0.000000      0.000000     -1.000000   \n",
       "25%        5.000000      2.000000      0.000000      0.000000      0.000000   \n",
       "50%       25.000000     16.000000      1.000000      0.000000      1.000000   \n",
       "75%       97.000000     75.000000      6.000000      4.000000      5.000000   \n",
       "max      663.000000    663.000000    482.000000    206.000000    421.000000   \n",
       "\n",
       "          pens_made      pens_att  cards_yellow     cards_red  \\\n",
       "count  37714.000000  36508.000000  37720.000000  37720.000000   \n",
       "mean       0.601315      0.748028     10.186824      0.676166   \n",
       "std        2.444523      2.898872     16.749074      1.534991   \n",
       "min        0.000000      0.000000      0.000000      0.000000   \n",
       "25%        0.000000      0.000000      0.000000      0.000000   \n",
       "50%        0.000000      0.000000      3.000000      0.000000   \n",
       "75%        0.000000      0.000000     13.000000      1.000000   \n",
       "max       61.000000     75.000000    201.000000     22.000000   \n",
       "\n",
       "       cards_yellow_red         fouls        fouled      offsides  \\\n",
       "count      29345.000000  19519.000000  15215.000000  15217.000000   \n",
       "mean           0.171443     57.676674     32.559645      4.724913   \n",
       "std            0.521043     85.608794     53.722685     12.291400   \n",
       "min            0.000000      0.000000      0.000000      0.000000   \n",
       "25%            0.000000      3.000000      0.000000      0.000000   \n",
       "50%            0.000000     22.000000      9.000000      0.000000   \n",
       "75%            0.000000     78.000000     42.000000      4.000000   \n",
       "max            7.000000   1138.000000    714.000000    169.000000   \n",
       "\n",
       "            crosses  interceptions   tackles_won     pens_won  pens_conceded  \n",
       "count  15205.000000   15203.000000  15203.000000  9769.000000    9769.000000  \n",
       "mean      42.343505      30.480103     27.694337     0.195516       0.230218  \n",
       "std       93.272964      51.914703     44.202257     0.758285       0.700213  \n",
       "min        0.000000       0.000000      0.000000     0.000000       0.000000  \n",
       "25%        0.000000       0.000000      0.000000     0.000000       0.000000  \n",
       "50%        5.000000       6.000000      7.000000     0.000000       0.000000  \n",
       "75%       37.000000      37.000000     37.000000     0.000000       0.000000  \n",
       "max     1195.000000     498.000000    449.000000    19.000000      10.000000  "
      ]
     },
     "execution_count": 150,
     "metadata": {},
     "output_type": "execute_result"
    }
   ],
   "source": [
    "data.describe()"
   ]
  },
  {
   "cell_type": "code",
   "execution_count": 151,
   "id": "27ced725",
   "metadata": {},
   "outputs": [],
   "source": [
    "import seaborn as sns "
   ]
  },
  {
   "cell_type": "code",
   "execution_count": 152,
   "id": "ebff269f",
   "metadata": {},
   "outputs": [
    {
     "data": {
      "text/plain": [
       "<AxesSubplot:>"
      ]
     },
     "execution_count": 152,
     "metadata": {},
     "output_type": "execute_result"
    },
    {
     "data": {
      "image/png": "[encoded data removed]",
      "text/plain": [
       "<Figure size 432x288 with 2 Axes>"
      ]
     },
     "metadata": {
      "needs_background": "light"
     },
     "output_type": "display_data"
    }
   ],
   "source": [
    "sns.heatmap(data.corr())"
   ]
  },
  {
   "cell_type": "markdown",
   "id": "02adbd37",
   "metadata": {},
   "source": [
    "## Data preparation/ cleaning  "
   ]
  },
  {
   "cell_type": "markdown",
   "id": "33652ffd",
   "metadata": {},
   "source": [
    "### Extract Name "
   ]
  },
  {
   "cell_type": "code",
   "execution_count": 153,
   "id": "5b8c3752",
   "metadata": {},
   "outputs": [
    {
     "data": {
      "text/plain": [
       "'Masood Abdulsaeed Position: DF 180cm, 69kg (5-10½, 152lb) Born: March 1, 1994 in Afghanistan af National Team: Afghanistan af'"
      ]
     },
     "execution_count": 153,
     "metadata": {},
     "output_type": "execute_result"
    }
   ],
   "source": [
    "data['main_info'][0]"
   ]
  },
  {
   "cell_type": "code",
   "execution_count": 154,
   "id": "60f2f7f4",
   "metadata": {},
   "outputs": [],
   "source": [
    "data['name']=data['main_info'].apply(lambda x: x.split(' ')[0]+' '+ x.split(' ')[1])"
   ]
  },
  {
   "cell_type": "code",
   "execution_count": 155,
   "id": "2fc967fd",
   "metadata": {},
   "outputs": [
    {
     "data": {
      "text/plain": [
       "0        Masood Abdulsaeed\n",
       "1           Mustafa Afshar\n",
       "2             Bashir Ahmad\n",
       "3           Moshtaq Ahmadi\n",
       "4            Qesmat Ahmadi\n",
       "               ...        \n",
       "38052       Roberto Acosta\n",
       "38053       Federico Acuña\n",
       "38054         Javier Acuña\n",
       "38055        Roberto Acuña\n",
       "38056         Ronald Acuña\n",
       "Name: name, Length: 38057, dtype: object"
      ]
     },
     "execution_count": 155,
     "metadata": {},
     "output_type": "execute_result"
    }
   ],
   "source": [
    "data['name']"
   ]
  },
  {
   "cell_type": "markdown",
   "id": "8fb620cd",
   "metadata": {},
   "source": [
    "### Extract Position(Target)"
   ]
  },
  {
   "cell_type": "code",
   "execution_count": 156,
   "id": "7c1cfc49",
   "metadata": {},
   "outputs": [],
   "source": [
    "pos=data['main_info'].apply(lambda x: x.split('Position'))"
   ]
  },
  {
   "cell_type": "code",
   "execution_count": 157,
   "id": "136b9263",
   "metadata": {},
   "outputs": [],
   "source": [
    "condition=data['main_info'].str.contains('Position')"
   ]
  },
  {
   "cell_type": "code",
   "execution_count": 158,
   "id": "36bdf334",
   "metadata": {},
   "outputs": [],
   "source": [
    "data=data[condition]"
   ]
  },
  {
   "cell_type": "code",
   "execution_count": 159,
   "id": "a21f54b0",
   "metadata": {},
   "outputs": [],
   "source": [
    "data['position']=data['main_info'].apply(lambda x : x.split('Position:')[1].strip().split(' ')[0])"
   ]
  },
  {
   "cell_type": "code",
   "execution_count": 160,
   "id": "e59534b6",
   "metadata": {},
   "outputs": [
    {
     "data": {
      "text/plain": [
       "0        DF\n",
       "1        FW\n",
       "2        DF\n",
       "3        FW\n",
       "4        MF\n",
       "         ..\n",
       "38052    GK\n",
       "38053    DF\n",
       "38054    FW\n",
       "38055    MF\n",
       "38056    FW\n",
       "Name: position, Length: 37845, dtype: object"
      ]
     },
     "execution_count": 160,
     "metadata": {},
     "output_type": "execute_result"
    }
   ],
   "source": [
    "data['position']"
   ]
  },
  {
   "cell_type": "markdown",
   "id": "5301be26",
   "metadata": {},
   "source": [
    "### Extract birth month and year  "
   ]
  },
  {
   "cell_type": "code",
   "execution_count": 161,
   "id": "c02cdbf8",
   "metadata": {},
   "outputs": [],
   "source": [
    "def birth_month(x):\n",
    "    if 'Born:' in x:\n",
    "        return x.split('Born: ')[1].split(' ')[0]\n",
    "    else:\n",
    "        return np.nan"
   ]
  },
  {
   "cell_type": "code",
   "execution_count": 162,
   "id": "6537fd4a",
   "metadata": {},
   "outputs": [],
   "source": [
    "data['month']=data['main_info'].apply(birth_month)"
   ]
  },
  {
   "cell_type": "code",
   "execution_count": 163,
   "id": "2b0b7fed",
   "metadata": {},
   "outputs": [],
   "source": [
    "def birth_year(x):\n",
    "    if 'Born:' in x:\n",
    "        return x.split('Born: ')[1].split(' ')[2]\n",
    "    else:\n",
    "        return np.nan"
   ]
  },
  {
   "cell_type": "code",
   "execution_count": 164,
   "id": "dd88877c",
   "metadata": {},
   "outputs": [],
   "source": [
    "data['year']=data['main_info'].apply(birth_year)"
   ]
  },
  {
   "cell_type": "code",
   "execution_count": 165,
   "id": "55504ce1",
   "metadata": {},
   "outputs": [],
   "source": [
    "data=data[~data['year'].isna()]"
   ]
  },
  {
   "cell_type": "code",
   "execution_count": 166,
   "id": "beee00ad",
   "metadata": {},
   "outputs": [
    {
     "data": {
      "text/html": [
       "<div>\n",
       "<style scoped>\n",
       "    .dataframe tbody tr th:only-of-type {\n",
       "        vertical-align: middle;\n",
       "    }\n",
       "\n",
       "    .dataframe tbody tr th {\n",
       "        vertical-align: top;\n",
       "    }\n",
       "\n",
       "    .dataframe thead th {\n",
       "        text-align: right;\n",
       "    }\n",
       "</style>\n",
       "<table border=\"1\" class=\"dataframe\">\n",
       "  <thead>\n",
       "    <tr style=\"text-align: right;\">\n",
       "      <th></th>\n",
       "      <th>MP</th>\n",
       "      <th>games_starts</th>\n",
       "      <th>minutes</th>\n",
       "      <th>goals</th>\n",
       "      <th>assists</th>\n",
       "      <th>goals_pens</th>\n",
       "      <th>pens_made</th>\n",
       "      <th>pens_att</th>\n",
       "      <th>cards_yellow</th>\n",
       "      <th>cards_red</th>\n",
       "      <th>...</th>\n",
       "      <th>interceptions</th>\n",
       "      <th>tackles_won</th>\n",
       "      <th>pens_won</th>\n",
       "      <th>pens_conceded</th>\n",
       "      <th>main_info</th>\n",
       "      <th>country</th>\n",
       "      <th>name</th>\n",
       "      <th>position</th>\n",
       "      <th>month</th>\n",
       "      <th>year</th>\n",
       "    </tr>\n",
       "  </thead>\n",
       "  <tbody>\n",
       "    <tr>\n",
       "      <th>0</th>\n",
       "      <td>1.0</td>\n",
       "      <td>0.0</td>\n",
       "      <td>34</td>\n",
       "      <td>0.0</td>\n",
       "      <td>0.0</td>\n",
       "      <td>0.0</td>\n",
       "      <td>0.0</td>\n",
       "      <td>0.0</td>\n",
       "      <td>0.0</td>\n",
       "      <td>0.0</td>\n",
       "      <td>...</td>\n",
       "      <td>NaN</td>\n",
       "      <td>NaN</td>\n",
       "      <td>NaN</td>\n",
       "      <td>NaN</td>\n",
       "      <td>Masood Abdulsaeed Position: DF 180cm, 69kg (5-...</td>\n",
       "      <td>Afghanistan</td>\n",
       "      <td>Masood Abdulsaeed</td>\n",
       "      <td>DF</td>\n",
       "      <td>March</td>\n",
       "      <td>1994</td>\n",
       "    </tr>\n",
       "    <tr>\n",
       "      <th>1</th>\n",
       "      <td>1.0</td>\n",
       "      <td>0.0</td>\n",
       "      <td>7</td>\n",
       "      <td>0.0</td>\n",
       "      <td>0.0</td>\n",
       "      <td>0.0</td>\n",
       "      <td>0.0</td>\n",
       "      <td>0.0</td>\n",
       "      <td>0.0</td>\n",
       "      <td>0.0</td>\n",
       "      <td>...</td>\n",
       "      <td>NaN</td>\n",
       "      <td>NaN</td>\n",
       "      <td>NaN</td>\n",
       "      <td>NaN</td>\n",
       "      <td>Mustafa Afshar Position: FW Born: November 25,...</td>\n",
       "      <td>Afghanistan</td>\n",
       "      <td>Mustafa Afshar</td>\n",
       "      <td>FW</td>\n",
       "      <td>November</td>\n",
       "      <td>1988</td>\n",
       "    </tr>\n",
       "    <tr>\n",
       "      <th>2</th>\n",
       "      <td>4.0</td>\n",
       "      <td>4.0</td>\n",
       "      <td>321</td>\n",
       "      <td>0.0</td>\n",
       "      <td>NaN</td>\n",
       "      <td>0.0</td>\n",
       "      <td>0.0</td>\n",
       "      <td>0.0</td>\n",
       "      <td>2.0</td>\n",
       "      <td>1.0</td>\n",
       "      <td>...</td>\n",
       "      <td>NaN</td>\n",
       "      <td>NaN</td>\n",
       "      <td>NaN</td>\n",
       "      <td>NaN</td>\n",
       "      <td>Bashir Ahmad Saadat Position: DF Born: Decembe...</td>\n",
       "      <td>Afghanistan</td>\n",
       "      <td>Bashir Ahmad</td>\n",
       "      <td>DF</td>\n",
       "      <td>December</td>\n",
       "      <td>1981</td>\n",
       "    </tr>\n",
       "    <tr>\n",
       "      <th>3</th>\n",
       "      <td>2.0</td>\n",
       "      <td>2.0</td>\n",
       "      <td>104</td>\n",
       "      <td>0.0</td>\n",
       "      <td>0.0</td>\n",
       "      <td>0.0</td>\n",
       "      <td>0.0</td>\n",
       "      <td>0.0</td>\n",
       "      <td>0.0</td>\n",
       "      <td>0.0</td>\n",
       "      <td>...</td>\n",
       "      <td>NaN</td>\n",
       "      <td>NaN</td>\n",
       "      <td>NaN</td>\n",
       "      <td>NaN</td>\n",
       "      <td>Moshtaq Ahmadi Moshtaq Ahmadi Position: FW 180...</td>\n",
       "      <td>Afghanistan</td>\n",
       "      <td>Moshtaq Ahmadi</td>\n",
       "      <td>FW</td>\n",
       "      <td>April</td>\n",
       "      <td>1996</td>\n",
       "    </tr>\n",
       "    <tr>\n",
       "      <th>4</th>\n",
       "      <td>1.0</td>\n",
       "      <td>0.0</td>\n",
       "      <td>1</td>\n",
       "      <td>0.0</td>\n",
       "      <td>0.0</td>\n",
       "      <td>0.0</td>\n",
       "      <td>0.0</td>\n",
       "      <td>0.0</td>\n",
       "      <td>0.0</td>\n",
       "      <td>0.0</td>\n",
       "      <td>...</td>\n",
       "      <td>NaN</td>\n",
       "      <td>NaN</td>\n",
       "      <td>NaN</td>\n",
       "      <td>NaN</td>\n",
       "      <td>Qesmat Ahmadi Position: MF Born: August 13, 19...</td>\n",
       "      <td>Afghanistan</td>\n",
       "      <td>Qesmat Ahmadi</td>\n",
       "      <td>MF</td>\n",
       "      <td>August</td>\n",
       "      <td>1996</td>\n",
       "    </tr>\n",
       "  </tbody>\n",
       "</table>\n",
       "<p>5 rows × 25 columns</p>\n",
       "</div>"
      ],
      "text/plain": [
       "    MP  games_starts minutes  goals  assists  goals_pens  pens_made  pens_att  \\\n",
       "0  1.0           0.0      34    0.0      0.0         0.0        0.0       0.0   \n",
       "1  1.0           0.0       7    0.0      0.0         0.0        0.0       0.0   \n",
       "2  4.0           4.0     321    0.0      NaN         0.0        0.0       0.0   \n",
       "3  2.0           2.0     104    0.0      0.0         0.0        0.0       0.0   \n",
       "4  1.0           0.0       1    0.0      0.0         0.0        0.0       0.0   \n",
       "\n",
       "   cards_yellow  cards_red  ...  interceptions  tackles_won  pens_won  \\\n",
       "0           0.0        0.0  ...            NaN          NaN       NaN   \n",
       "1           0.0        0.0  ...            NaN          NaN       NaN   \n",
       "2           2.0        1.0  ...            NaN          NaN       NaN   \n",
       "3           0.0        0.0  ...            NaN          NaN       NaN   \n",
       "4           0.0        0.0  ...            NaN          NaN       NaN   \n",
       "\n",
       "   pens_conceded                                          main_info  \\\n",
       "0            NaN  Masood Abdulsaeed Position: DF 180cm, 69kg (5-...   \n",
       "1            NaN  Mustafa Afshar Position: FW Born: November 25,...   \n",
       "2            NaN  Bashir Ahmad Saadat Position: DF Born: Decembe...   \n",
       "3            NaN  Moshtaq Ahmadi Moshtaq Ahmadi Position: FW 180...   \n",
       "4            NaN  Qesmat Ahmadi Position: MF Born: August 13, 19...   \n",
       "\n",
       "        country               name  position     month  year  \n",
       "0  Afghanistan   Masood Abdulsaeed        DF     March  1994  \n",
       "1  Afghanistan      Mustafa Afshar        FW  November  1988  \n",
       "2  Afghanistan        Bashir Ahmad        DF  December  1981  \n",
       "3  Afghanistan      Moshtaq Ahmadi        FW     April  1996  \n",
       "4  Afghanistan       Qesmat Ahmadi        MF    August  1996  \n",
       "\n",
       "[5 rows x 25 columns]"
      ]
     },
     "execution_count": 166,
     "metadata": {},
     "output_type": "execute_result"
    }
   ],
   "source": [
    "data.head()"
   ]
  },
  {
   "cell_type": "markdown",
   "id": "8089014e",
   "metadata": {},
   "source": [
    "### Extract height "
   ]
  },
  {
   "cell_type": "code",
   "execution_count": 167,
   "id": "95518884",
   "metadata": {},
   "outputs": [],
   "source": [
    "height_condition=data['main_info'].str.contains('cm')"
   ]
  },
  {
   "cell_type": "code",
   "execution_count": 168,
   "id": "2f1fc293",
   "metadata": {},
   "outputs": [
    {
     "data": {
      "text/plain": [
       "0        180\n",
       "1         af\n",
       "2         af\n",
       "3        180\n",
       "4         af\n",
       "        ... \n",
       "38052    180\n",
       "38053    181\n",
       "38054    175\n",
       "38055    175\n",
       "38056    JLM\n",
       "Name: main_info, Length: 37702, dtype: object"
      ]
     },
     "execution_count": 168,
     "metadata": {},
     "output_type": "execute_result"
    }
   ],
   "source": [
    "data['main_info'].apply(lambda x : x.split('cm')[0].split(' ')[-1])"
   ]
  },
  {
   "cell_type": "code",
   "execution_count": 169,
   "id": "cbc89d38",
   "metadata": {},
   "outputs": [
    {
     "data": {
      "text/plain": [
       "False"
      ]
     },
     "execution_count": 169,
     "metadata": {},
     "output_type": "execute_result"
    }
   ],
   "source": [
    "height_condition.all()"
   ]
  },
  {
   "cell_type": "code",
   "execution_count": 170,
   "id": "00efab7b",
   "metadata": {},
   "outputs": [],
   "source": [
    "def height_col(x):\n",
    "    if 'cm' in x:\n",
    "        return x.split('cm')[0].split(' ')[-1]\n",
    "    else:\n",
    "        return np.nan"
   ]
  },
  {
   "cell_type": "code",
   "execution_count": 171,
   "id": "bc312844",
   "metadata": {},
   "outputs": [],
   "source": [
    "data['height']=data['main_info'].apply(height_col)"
   ]
  },
  {
   "cell_type": "code",
   "execution_count": 172,
   "id": "8852ed26",
   "metadata": {},
   "outputs": [],
   "source": [
    "data=data[data['height']!='']"
   ]
  },
  {
   "cell_type": "markdown",
   "id": "5e6140f1",
   "metadata": {},
   "source": [
    "### Extract weight "
   ]
  },
  {
   "cell_type": "code",
   "execution_count": 173,
   "id": "2488c499",
   "metadata": {},
   "outputs": [
    {
     "data": {
      "text/plain": [
       "0         69\n",
       "1         af\n",
       "2         af\n",
       "3         77\n",
       "4         af\n",
       "        ... \n",
       "38052     82\n",
       "38053     89\n",
       "38054     69\n",
       "38055     86\n",
       "38056    JLM\n",
       "Name: main_info, Length: 37701, dtype: object"
      ]
     },
     "execution_count": 173,
     "metadata": {},
     "output_type": "execute_result"
    }
   ],
   "source": [
    "data['main_info'].apply(lambda x : x.split('kg')[0].split(' ')[-1])"
   ]
  },
  {
   "cell_type": "code",
   "execution_count": 174,
   "id": "5703f094",
   "metadata": {},
   "outputs": [
    {
     "data": {
      "text/plain": [
       "0                                                       69\n",
       "1             Afghanistan af National Team: Afghanistan af\n",
       "2             Afghanistan af National Team: Afghanistan af\n",
       "3                                                       77\n",
       "4                       1996 National Team: Afghanistan af\n",
       "                               ...                        \n",
       "38052                                                   82\n",
       "38053                                                   89\n",
       "38054                                                   69\n",
       "38055                                                   86\n",
       "38056     1993 (Age: 29-090d) Citizenship: Paraguay py ...\n",
       "Name: main_info, Length: 37701, dtype: object"
      ]
     },
     "execution_count": 174,
     "metadata": {},
     "output_type": "execute_result"
    }
   ],
   "source": [
    "data['main_info'].apply(lambda x : x.split('kg')[0].split(',')[-1])"
   ]
  },
  {
   "cell_type": "code",
   "execution_count": 175,
   "id": "0ee8edb0",
   "metadata": {},
   "outputs": [],
   "source": [
    "def weight_col(x):\n",
    "    if 'kg' in x:\n",
    "        return x.split('kg')[0].split(' ')[-1]\n",
    "    else:\n",
    "        return np.nan"
   ]
  },
  {
   "cell_type": "code",
   "execution_count": 176,
   "id": "ad7aa4d1",
   "metadata": {},
   "outputs": [],
   "source": [
    "data['weight']=data['main_info'].apply(weight_col)"
   ]
  },
  {
   "cell_type": "code",
   "execution_count": 177,
   "id": "f6da8b70",
   "metadata": {},
   "outputs": [
    {
     "data": {
      "text/plain": [
       "20022"
      ]
     },
     "execution_count": 177,
     "metadata": {},
     "output_type": "execute_result"
    }
   ],
   "source": [
    "data['weight'].isna().sum()"
   ]
  },
  {
   "cell_type": "code",
   "execution_count": 178,
   "id": "f6fce506",
   "metadata": {},
   "outputs": [
    {
     "data": {
      "text/plain": [
       "73      1806\n",
       "78      1752\n",
       "69      1343\n",
       "74      1270\n",
       "68      1216\n",
       "        ... \n",
       "Māni       1\n",
       "40         1\n",
       "116        1\n",
       "200        1\n",
       "126        1\n",
       "Name: weight, Length: 67, dtype: int64"
      ]
     },
     "execution_count": 178,
     "metadata": {},
     "output_type": "execute_result"
    }
   ],
   "source": [
    "data['weight'].value_counts()"
   ]
  },
  {
   "cell_type": "code",
   "execution_count": 179,
   "id": "b0cb4ed9",
   "metadata": {},
   "outputs": [],
   "source": [
    "def weight_col(x):\n",
    "    try:\n",
    "        x=float(x)\n",
    "    except:\n",
    "        return np.nan\n",
    "    return x"
   ]
  },
  {
   "cell_type": "code",
   "execution_count": 180,
   "id": "dabcbcae",
   "metadata": {},
   "outputs": [],
   "source": [
    "data['weight']=data['weight'].apply(weight_col)"
   ]
  },
  {
   "cell_type": "markdown",
   "id": "c4d5d7aa",
   "metadata": {},
   "source": [
    "### position feature"
   ]
  },
  {
   "cell_type": "code",
   "execution_count": 181,
   "id": "32640a17",
   "metadata": {},
   "outputs": [
    {
     "data": {
      "text/plain": [
       "MF          12242\n",
       "DF          10123\n",
       "FW           8448\n",
       "GK           2940\n",
       "FW-MF        2073\n",
       "DF-MF        1640\n",
       "DF-FW-MF      115\n",
       "DF-FW          85\n",
       "DF-GK          15\n",
       "GK-MF           8\n",
       "DF-GK-MF        3\n",
       "FW-GK-MF        2\n",
       "(WM)            2\n",
       "(FB)            2\n",
       "FW-GK           2\n",
       "DF-FW-GK        1\n",
       "Name: position, dtype: int64"
      ]
     },
     "execution_count": 181,
     "metadata": {},
     "output_type": "execute_result"
    }
   ],
   "source": [
    "data['position'].value_counts()"
   ]
  },
  {
   "cell_type": "code",
   "execution_count": 182,
   "id": "f80d98a6",
   "metadata": {},
   "outputs": [],
   "source": [
    "data=data.groupby('position').filter(lambda x: len(x)>200)"
   ]
  },
  {
   "cell_type": "code",
   "execution_count": 183,
   "id": "03e9b9d7",
   "metadata": {
    "scrolled": true
   },
   "outputs": [
    {
     "data": {
      "text/plain": [
       "MF       12242\n",
       "DF       10123\n",
       "FW        8448\n",
       "GK        2940\n",
       "FW-MF     2073\n",
       "DF-MF     1640\n",
       "Name: position, dtype: int64"
      ]
     },
     "execution_count": 183,
     "metadata": {},
     "output_type": "execute_result"
    }
   ],
   "source": [
    "data['position'].value_counts()"
   ]
  },
  {
   "cell_type": "markdown",
   "id": "76f8f98c",
   "metadata": {},
   "source": [
    "### remove uneccessary data "
   ]
  },
  {
   "cell_type": "code",
   "execution_count": 184,
   "id": "f01632d2",
   "metadata": {},
   "outputs": [],
   "source": [
    "data=data[data['MP']>0]"
   ]
  },
  {
   "cell_type": "code",
   "execution_count": 185,
   "id": "6da1907d",
   "metadata": {},
   "outputs": [],
   "source": [
    "data.to_csv('finaldata/EDA_data.csv',index=False)"
   ]
  },
  {
   "cell_type": "code",
   "execution_count": 186,
   "id": "635a3ea4",
   "metadata": {},
   "outputs": [],
   "source": [
    "data.loc[data['position']=='FW-MF','position']='MF'\n",
    "data.loc[data['position']=='DF-MF','position']='MF'"
   ]
  },
  {
   "cell_type": "code",
   "execution_count": 187,
   "id": "206d8f89",
   "metadata": {},
   "outputs": [
    {
     "data": {
      "text/plain": [
       "MF    15847\n",
       "DF    10025\n",
       "FW     8360\n",
       "GK     2900\n",
       "Name: position, dtype: int64"
      ]
     },
     "execution_count": 187,
     "metadata": {},
     "output_type": "execute_result"
    }
   ],
   "source": [
    "data['position'].value_counts()"
   ]
  },
  {
   "cell_type": "code",
   "execution_count": 188,
   "id": "5c71baae",
   "metadata": {},
   "outputs": [],
   "source": [
    "data['minutes']=data['minutes'].astype(str)"
   ]
  },
  {
   "cell_type": "code",
   "execution_count": 189,
   "id": "9099ecea",
   "metadata": {},
   "outputs": [
    {
     "data": {
      "text/plain": [
       "(37132, 27)"
      ]
     },
     "execution_count": 189,
     "metadata": {},
     "output_type": "execute_result"
    }
   ],
   "source": [
    "data.shape"
   ]
  },
  {
   "cell_type": "code",
   "execution_count": 190,
   "id": "eafb6177",
   "metadata": {},
   "outputs": [],
   "source": [
    "data=data.groupby('month').filter(lambda x: len(x)>43)\n",
    "data=data.groupby('year').filter(lambda x: len(x)>1)"
   ]
  },
  {
   "cell_type": "code",
   "execution_count": 191,
   "id": "cb6c704f",
   "metadata": {},
   "outputs": [],
   "source": [
    "data['minutes']=data['minutes'].apply(lambda x : x.replace(',',''))"
   ]
  },
  {
   "cell_type": "code",
   "execution_count": 192,
   "id": "e693ca5c",
   "metadata": {},
   "outputs": [
    {
     "data": {
      "text/plain": [
       "(37117, 27)"
      ]
     },
     "execution_count": 192,
     "metadata": {},
     "output_type": "execute_result"
    }
   ],
   "source": [
    "data.shape"
   ]
  },
  {
   "cell_type": "code",
   "execution_count": 193,
   "id": "eb16090e",
   "metadata": {},
   "outputs": [
    {
     "data": {
      "text/plain": [
       "0        1994\n",
       "1        1988\n",
       "2        1981\n",
       "3        1996\n",
       "4        1996\n",
       "         ... \n",
       "38052    1984\n",
       "38053    1985\n",
       "38054    1988\n",
       "38055    1972\n",
       "38056    1993\n",
       "Name: year, Length: 37117, dtype: object"
      ]
     },
     "execution_count": 193,
     "metadata": {},
     "output_type": "execute_result"
    }
   ],
   "source": [
    "data['year']"
   ]
  },
  {
   "cell_type": "code",
   "execution_count": 194,
   "id": "f858fbbd",
   "metadata": {},
   "outputs": [
    {
     "data": {
      "text/plain": [
       "array([1731, 1730, 1713, 1694, 1674, 1667, 1561, 1546, 1510, 1494, 1445,\n",
       "       1418, 1331, 1276, 1207, 1089, 1068, 1038,  975,  858,  787,  774,\n",
       "        766,  677,  614,  546,  463,  435,  380,  379,  348,  333,  280,\n",
       "        235,  228,  187,  138,  119,  102,   92,   82,   76,   60,   55,\n",
       "         42,   38,   34,   31,   29,   28,   26,   24,   23,   22,   22,\n",
       "         22,   21,   21,   21,   20,   20,   19,   18,   18,   17,   17,\n",
       "         17,   17,   17,   16,   15,   15,   14,   14,   13,   13,   13,\n",
       "         13,   13,   12,   12,   11,   11,   11,   11,   10,    9,    9,\n",
       "          9,    9,    8,    8,    8,    7,    7,    6,    6,    6,    6,\n",
       "          5,    4,    4,    4,    3,    3,    3,    3,    3,    3,    2],\n",
       "      dtype=int64)"
      ]
     },
     "execution_count": 194,
     "metadata": {},
     "output_type": "execute_result"
    }
   ],
   "source": [
    "data['year'].value_counts().values"
   ]
  },
  {
   "cell_type": "markdown",
   "id": "0e08f3b9",
   "metadata": {},
   "source": [
    "### Handling missing data "
   ]
  },
  {
   "cell_type": "code",
   "execution_count": 195,
   "id": "9f29d4df",
   "metadata": {},
   "outputs": [],
   "source": [
    "from sklearn.impute import KNNImputer\n",
    "from sklearn.preprocessing import MinMaxScaler\n",
    "from sklearn.preprocessing import StandardScaler"
   ]
  },
  {
   "cell_type": "code",
   "execution_count": 196,
   "id": "39d64070",
   "metadata": {},
   "outputs": [],
   "source": [
    "scaler=StandardScaler()"
   ]
  },
  {
   "cell_type": "code",
   "execution_count": 197,
   "id": "06bffc51",
   "metadata": {},
   "outputs": [
    {
     "data": {
      "text/plain": [
       "1996    1731\n",
       "1995    1730\n",
       "1994    1713\n",
       "1997    1694\n",
       "1993    1674\n",
       "        ... \n",
       "1919       3\n",
       "1921       3\n",
       "1900       3\n",
       "2007       3\n",
       "1899       2\n",
       "Name: year, Length: 110, dtype: int64"
      ]
     },
     "execution_count": 197,
     "metadata": {},
     "output_type": "execute_result"
    }
   ],
   "source": [
    "data['year'].value_counts()"
   ]
  },
  {
   "cell_type": "code",
   "execution_count": 198,
   "id": "f3514ef8",
   "metadata": {},
   "outputs": [],
   "source": [
    "numerical=['MP', 'games_starts', 'goals', 'assists', 'goals_pens',\n",
    "       'pens_made', 'pens_att', 'cards_yellow', 'cards_red',\n",
    "       'cards_yellow_red', 'fouls', 'fouled', 'offsides', 'crosses',\n",
    "       'interceptions', 'tackles_won','height','minutes','weight']"
   ]
  },
  {
   "cell_type": "code",
   "execution_count": 199,
   "id": "fa9a2924",
   "metadata": {},
   "outputs": [],
   "source": [
    "# data[numerical]=scaler.fit_transform(data[numerical])"
   ]
  },
  {
   "cell_type": "code",
   "execution_count": 200,
   "id": "4a795582",
   "metadata": {},
   "outputs": [],
   "source": [
    "forward=data[data['position']=='FW']\n",
    "mid=data[data['position']=='MF']\n",
    "goalkeeper=data[data['position']=='GK']\n",
    "defense=data[data['position']=='DF']"
   ]
  },
  {
   "cell_type": "code",
   "execution_count": 201,
   "id": "fa63f7d5",
   "metadata": {},
   "outputs": [
    {
     "data": {
      "text/plain": [
       "(8354, 27)"
      ]
     },
     "execution_count": 201,
     "metadata": {},
     "output_type": "execute_result"
    }
   ],
   "source": [
    "forward.shape\n"
   ]
  },
  {
   "cell_type": "code",
   "execution_count": 202,
   "id": "173e499e",
   "metadata": {},
   "outputs": [
    {
     "data": {
      "text/plain": [
       "(15841, 27)"
      ]
     },
     "execution_count": 202,
     "metadata": {},
     "output_type": "execute_result"
    }
   ],
   "source": [
    "mid.shape"
   ]
  },
  {
   "cell_type": "code",
   "execution_count": 203,
   "id": "870bb703",
   "metadata": {},
   "outputs": [
    {
     "data": {
      "text/plain": [
       "(2899, 27)"
      ]
     },
     "execution_count": 203,
     "metadata": {},
     "output_type": "execute_result"
    }
   ],
   "source": [
    "goalkeeper.shape"
   ]
  },
  {
   "cell_type": "code",
   "execution_count": 204,
   "id": "12e7427c",
   "metadata": {},
   "outputs": [
    {
     "data": {
      "text/plain": [
       "(10023, 27)"
      ]
     },
     "execution_count": 204,
     "metadata": {},
     "output_type": "execute_result"
    }
   ],
   "source": [
    "defense.shape"
   ]
  },
  {
   "cell_type": "code",
   "execution_count": 205,
   "id": "f9255256",
   "metadata": {},
   "outputs": [
    {
     "data": {
      "text/plain": [
       "(37117, 27)"
      ]
     },
     "execution_count": 205,
     "metadata": {},
     "output_type": "execute_result"
    }
   ],
   "source": [
    "data.shape"
   ]
  },
  {
   "cell_type": "code",
   "execution_count": 206,
   "id": "c473c132",
   "metadata": {},
   "outputs": [],
   "source": [
    "# Imputing missing values "
   ]
  },
  {
   "cell_type": "code",
   "execution_count": 207,
   "id": "0aad1be8",
   "metadata": {},
   "outputs": [
    {
     "data": {
      "text/plain": [
       "MP                   0.000000\n",
       "games_starts         0.000000\n",
       "minutes              0.000000\n",
       "goals                0.002694\n",
       "assists             10.256756\n",
       "goals_pens           0.016165\n",
       "pens_made            0.016165\n",
       "pens_att             3.154889\n",
       "cards_yellow         0.002694\n",
       "cards_red            0.002694\n",
       "cards_yellow_red    21.973759\n",
       "fouls               47.929520\n",
       "fouled              59.350163\n",
       "offsides            59.344775\n",
       "crosses             59.377105\n",
       "interceptions       59.382493\n",
       "tackles_won         59.382493\n",
       "pens_won            73.960719\n",
       "pens_conceded       73.960719\n",
       "main_info            0.000000\n",
       "country              0.000000\n",
       "name                 0.000000\n",
       "position             0.000000\n",
       "month                0.000000\n",
       "year                 0.000000\n",
       "height              35.097125\n",
       "weight              52.876041\n",
       "dtype: float64"
      ]
     },
     "execution_count": 207,
     "metadata": {},
     "output_type": "execute_result"
    }
   ],
   "source": [
    "data.isna().sum()/len(data)*100"
   ]
  },
  {
   "cell_type": "code",
   "execution_count": 208,
   "id": "2523a14f",
   "metadata": {},
   "outputs": [],
   "source": [
    "from sklearn.neighbors import KNeighborsClassifier"
   ]
  },
  {
   "cell_type": "code",
   "execution_count": 209,
   "id": "dd39b135",
   "metadata": {},
   "outputs": [],
   "source": [
    "imputer=KNNImputer(n_neighbors=23)\n"
   ]
  },
  {
   "cell_type": "code",
   "execution_count": 210,
   "id": "80f738d4",
   "metadata": {
    "scrolled": true
   },
   "outputs": [
    {
     "data": {
      "text/html": [
       "<div>\n",
       "<style scoped>\n",
       "    .dataframe tbody tr th:only-of-type {\n",
       "        vertical-align: middle;\n",
       "    }\n",
       "\n",
       "    .dataframe tbody tr th {\n",
       "        vertical-align: top;\n",
       "    }\n",
       "\n",
       "    .dataframe thead th {\n",
       "        text-align: right;\n",
       "    }\n",
       "</style>\n",
       "<table border=\"1\" class=\"dataframe\">\n",
       "  <thead>\n",
       "    <tr style=\"text-align: right;\">\n",
       "      <th></th>\n",
       "      <th>MP</th>\n",
       "      <th>games_starts</th>\n",
       "      <th>goals</th>\n",
       "      <th>assists</th>\n",
       "      <th>goals_pens</th>\n",
       "      <th>pens_made</th>\n",
       "      <th>pens_att</th>\n",
       "      <th>cards_yellow</th>\n",
       "      <th>cards_red</th>\n",
       "      <th>cards_yellow_red</th>\n",
       "      <th>fouls</th>\n",
       "      <th>fouled</th>\n",
       "      <th>offsides</th>\n",
       "      <th>crosses</th>\n",
       "      <th>interceptions</th>\n",
       "      <th>tackles_won</th>\n",
       "      <th>height</th>\n",
       "      <th>minutes</th>\n",
       "      <th>weight</th>\n",
       "    </tr>\n",
       "  </thead>\n",
       "  <tbody>\n",
       "    <tr>\n",
       "      <th>1</th>\n",
       "      <td>1.0</td>\n",
       "      <td>0.0</td>\n",
       "      <td>0.0</td>\n",
       "      <td>0.0</td>\n",
       "      <td>0.0</td>\n",
       "      <td>0.0</td>\n",
       "      <td>0.0</td>\n",
       "      <td>0.0</td>\n",
       "      <td>0.0</td>\n",
       "      <td>0.0</td>\n",
       "      <td>NaN</td>\n",
       "      <td>NaN</td>\n",
       "      <td>NaN</td>\n",
       "      <td>NaN</td>\n",
       "      <td>NaN</td>\n",
       "      <td>NaN</td>\n",
       "      <td>NaN</td>\n",
       "      <td>7</td>\n",
       "      <td>NaN</td>\n",
       "    </tr>\n",
       "    <tr>\n",
       "      <th>3</th>\n",
       "      <td>2.0</td>\n",
       "      <td>2.0</td>\n",
       "      <td>0.0</td>\n",
       "      <td>0.0</td>\n",
       "      <td>0.0</td>\n",
       "      <td>0.0</td>\n",
       "      <td>0.0</td>\n",
       "      <td>0.0</td>\n",
       "      <td>0.0</td>\n",
       "      <td>0.0</td>\n",
       "      <td>NaN</td>\n",
       "      <td>NaN</td>\n",
       "      <td>NaN</td>\n",
       "      <td>NaN</td>\n",
       "      <td>NaN</td>\n",
       "      <td>NaN</td>\n",
       "      <td>180</td>\n",
       "      <td>104</td>\n",
       "      <td>77.0</td>\n",
       "    </tr>\n",
       "    <tr>\n",
       "      <th>7</th>\n",
       "      <td>16.0</td>\n",
       "      <td>6.0</td>\n",
       "      <td>3.0</td>\n",
       "      <td>0.0</td>\n",
       "      <td>3.0</td>\n",
       "      <td>0.0</td>\n",
       "      <td>0.0</td>\n",
       "      <td>0.0</td>\n",
       "      <td>0.0</td>\n",
       "      <td>0.0</td>\n",
       "      <td>NaN</td>\n",
       "      <td>NaN</td>\n",
       "      <td>NaN</td>\n",
       "      <td>NaN</td>\n",
       "      <td>NaN</td>\n",
       "      <td>NaN</td>\n",
       "      <td>183</td>\n",
       "      <td>614</td>\n",
       "      <td>79.0</td>\n",
       "    </tr>\n",
       "    <tr>\n",
       "      <th>11</th>\n",
       "      <td>2.0</td>\n",
       "      <td>1.0</td>\n",
       "      <td>1.0</td>\n",
       "      <td>0.0</td>\n",
       "      <td>1.0</td>\n",
       "      <td>0.0</td>\n",
       "      <td>0.0</td>\n",
       "      <td>0.0</td>\n",
       "      <td>0.0</td>\n",
       "      <td>0.0</td>\n",
       "      <td>NaN</td>\n",
       "      <td>NaN</td>\n",
       "      <td>NaN</td>\n",
       "      <td>NaN</td>\n",
       "      <td>NaN</td>\n",
       "      <td>NaN</td>\n",
       "      <td>178</td>\n",
       "      <td>94</td>\n",
       "      <td>78.0</td>\n",
       "    </tr>\n",
       "    <tr>\n",
       "      <th>12</th>\n",
       "      <td>8.0</td>\n",
       "      <td>7.0</td>\n",
       "      <td>1.0</td>\n",
       "      <td>1.0</td>\n",
       "      <td>1.0</td>\n",
       "      <td>0.0</td>\n",
       "      <td>0.0</td>\n",
       "      <td>1.0</td>\n",
       "      <td>0.0</td>\n",
       "      <td>0.0</td>\n",
       "      <td>NaN</td>\n",
       "      <td>NaN</td>\n",
       "      <td>NaN</td>\n",
       "      <td>NaN</td>\n",
       "      <td>NaN</td>\n",
       "      <td>NaN</td>\n",
       "      <td>180</td>\n",
       "      <td>524</td>\n",
       "      <td>NaN</td>\n",
       "    </tr>\n",
       "    <tr>\n",
       "      <th>...</th>\n",
       "      <td>...</td>\n",
       "      <td>...</td>\n",
       "      <td>...</td>\n",
       "      <td>...</td>\n",
       "      <td>...</td>\n",
       "      <td>...</td>\n",
       "      <td>...</td>\n",
       "      <td>...</td>\n",
       "      <td>...</td>\n",
       "      <td>...</td>\n",
       "      <td>...</td>\n",
       "      <td>...</td>\n",
       "      <td>...</td>\n",
       "      <td>...</td>\n",
       "      <td>...</td>\n",
       "      <td>...</td>\n",
       "      <td>...</td>\n",
       "      <td>...</td>\n",
       "      <td>...</td>\n",
       "    </tr>\n",
       "    <tr>\n",
       "      <th>38040</th>\n",
       "      <td>3.0</td>\n",
       "      <td>0.0</td>\n",
       "      <td>1.0</td>\n",
       "      <td>0.0</td>\n",
       "      <td>1.0</td>\n",
       "      <td>0.0</td>\n",
       "      <td>0.0</td>\n",
       "      <td>0.0</td>\n",
       "      <td>0.0</td>\n",
       "      <td>0.0</td>\n",
       "      <td>NaN</td>\n",
       "      <td>NaN</td>\n",
       "      <td>NaN</td>\n",
       "      <td>NaN</td>\n",
       "      <td>NaN</td>\n",
       "      <td>NaN</td>\n",
       "      <td>NaN</td>\n",
       "      <td>67</td>\n",
       "      <td>NaN</td>\n",
       "    </tr>\n",
       "    <tr>\n",
       "      <th>38042</th>\n",
       "      <td>227.0</td>\n",
       "      <td>151.0</td>\n",
       "      <td>44.0</td>\n",
       "      <td>19.0</td>\n",
       "      <td>43.0</td>\n",
       "      <td>1.0</td>\n",
       "      <td>1.0</td>\n",
       "      <td>58.0</td>\n",
       "      <td>3.0</td>\n",
       "      <td>0.0</td>\n",
       "      <td>52.0</td>\n",
       "      <td>NaN</td>\n",
       "      <td>NaN</td>\n",
       "      <td>NaN</td>\n",
       "      <td>NaN</td>\n",
       "      <td>NaN</td>\n",
       "      <td>172</td>\n",
       "      <td>13479</td>\n",
       "      <td>78.0</td>\n",
       "    </tr>\n",
       "    <tr>\n",
       "      <th>38043</th>\n",
       "      <td>12.0</td>\n",
       "      <td>7.0</td>\n",
       "      <td>0.0</td>\n",
       "      <td>0.0</td>\n",
       "      <td>0.0</td>\n",
       "      <td>0.0</td>\n",
       "      <td>0.0</td>\n",
       "      <td>2.0</td>\n",
       "      <td>0.0</td>\n",
       "      <td>0.0</td>\n",
       "      <td>NaN</td>\n",
       "      <td>NaN</td>\n",
       "      <td>NaN</td>\n",
       "      <td>NaN</td>\n",
       "      <td>NaN</td>\n",
       "      <td>NaN</td>\n",
       "      <td>NaN</td>\n",
       "      <td>614</td>\n",
       "      <td>NaN</td>\n",
       "    </tr>\n",
       "    <tr>\n",
       "      <th>38054</th>\n",
       "      <td>248.0</td>\n",
       "      <td>102.0</td>\n",
       "      <td>35.0</td>\n",
       "      <td>3.0</td>\n",
       "      <td>34.0</td>\n",
       "      <td>1.0</td>\n",
       "      <td>1.0</td>\n",
       "      <td>27.0</td>\n",
       "      <td>2.0</td>\n",
       "      <td>0.0</td>\n",
       "      <td>83.0</td>\n",
       "      <td>43.0</td>\n",
       "      <td>10.0</td>\n",
       "      <td>38.0</td>\n",
       "      <td>6.0</td>\n",
       "      <td>8.0</td>\n",
       "      <td>175</td>\n",
       "      <td>10716</td>\n",
       "      <td>69.0</td>\n",
       "    </tr>\n",
       "    <tr>\n",
       "      <th>38056</th>\n",
       "      <td>7.0</td>\n",
       "      <td>3.0</td>\n",
       "      <td>0.0</td>\n",
       "      <td>0.0</td>\n",
       "      <td>0.0</td>\n",
       "      <td>0.0</td>\n",
       "      <td>0.0</td>\n",
       "      <td>1.0</td>\n",
       "      <td>0.0</td>\n",
       "      <td>0.0</td>\n",
       "      <td>NaN</td>\n",
       "      <td>NaN</td>\n",
       "      <td>NaN</td>\n",
       "      <td>NaN</td>\n",
       "      <td>NaN</td>\n",
       "      <td>NaN</td>\n",
       "      <td>NaN</td>\n",
       "      <td>244</td>\n",
       "      <td>NaN</td>\n",
       "    </tr>\n",
       "  </tbody>\n",
       "</table>\n",
       "<p>8354 rows × 19 columns</p>\n",
       "</div>"
      ],
      "text/plain": [
       "          MP  games_starts  goals  assists  goals_pens  pens_made  pens_att  \\\n",
       "1        1.0           0.0    0.0      0.0         0.0        0.0       0.0   \n",
       "3        2.0           2.0    0.0      0.0         0.0        0.0       0.0   \n",
       "7       16.0           6.0    3.0      0.0         3.0        0.0       0.0   \n",
       "11       2.0           1.0    1.0      0.0         1.0        0.0       0.0   \n",
       "12       8.0           7.0    1.0      1.0         1.0        0.0       0.0   \n",
       "...      ...           ...    ...      ...         ...        ...       ...   \n",
       "38040    3.0           0.0    1.0      0.0         1.0        0.0       0.0   \n",
       "38042  227.0         151.0   44.0     19.0        43.0        1.0       1.0   \n",
       "38043   12.0           7.0    0.0      0.0         0.0        0.0       0.0   \n",
       "38054  248.0         102.0   35.0      3.0        34.0        1.0       1.0   \n",
       "38056    7.0           3.0    0.0      0.0         0.0        0.0       0.0   \n",
       "\n",
       "       cards_yellow  cards_red  cards_yellow_red  fouls  fouled  offsides  \\\n",
       "1               0.0        0.0               0.0    NaN     NaN       NaN   \n",
       "3               0.0        0.0               0.0    NaN     NaN       NaN   \n",
       "7               0.0        0.0               0.0    NaN     NaN       NaN   \n",
       "11              0.0        0.0               0.0    NaN     NaN       NaN   \n",
       "12              1.0        0.0               0.0    NaN     NaN       NaN   \n",
       "...             ...        ...               ...    ...     ...       ...   \n",
       "38040           0.0        0.0               0.0    NaN     NaN       NaN   \n",
       "38042          58.0        3.0               0.0   52.0     NaN       NaN   \n",
       "38043           2.0        0.0               0.0    NaN     NaN       NaN   \n",
       "38054          27.0        2.0               0.0   83.0    43.0      10.0   \n",
       "38056           1.0        0.0               0.0    NaN     NaN       NaN   \n",
       "\n",
       "       crosses  interceptions  tackles_won height minutes  weight  \n",
       "1          NaN            NaN          NaN    NaN       7     NaN  \n",
       "3          NaN            NaN          NaN    180     104    77.0  \n",
       "7          NaN            NaN          NaN    183     614    79.0  \n",
       "11         NaN            NaN          NaN    178      94    78.0  \n",
       "12         NaN            NaN          NaN    180     524     NaN  \n",
       "...        ...            ...          ...    ...     ...     ...  \n",
       "38040      NaN            NaN          NaN    NaN      67     NaN  \n",
       "38042      NaN            NaN          NaN    172   13479    78.0  \n",
       "38043      NaN            NaN          NaN    NaN     614     NaN  \n",
       "38054     38.0            6.0          8.0    175   10716    69.0  \n",
       "38056      NaN            NaN          NaN    NaN     244     NaN  \n",
       "\n",
       "[8354 rows x 19 columns]"
      ]
     },
     "execution_count": 210,
     "metadata": {},
     "output_type": "execute_result"
    }
   ],
   "source": [
    "forward[numerical]"
   ]
  },
  {
   "cell_type": "code",
   "execution_count": 211,
   "id": "4faaec22",
   "metadata": {},
   "outputs": [
    {
     "data": {
      "text/plain": [
       "0           March\n",
       "1        November\n",
       "2        December\n",
       "3           April\n",
       "4          August\n",
       "           ...   \n",
       "38052        July\n",
       "38053       March\n",
       "38054        June\n",
       "38055       March\n",
       "38056         May\n",
       "Name: month, Length: 37117, dtype: object"
      ]
     },
     "execution_count": 211,
     "metadata": {},
     "output_type": "execute_result"
    }
   ],
   "source": [
    "data['month']"
   ]
  },
  {
   "cell_type": "code",
   "execution_count": 212,
   "id": "1a12c08a",
   "metadata": {},
   "outputs": [
    {
     "name": "stderr",
     "output_type": "stream",
     "text": [
      "C:\\Users\\DELL\\anaconda3\\lib\\site-packages\\pandas\\core\\frame.py:3678: SettingWithCopyWarning: \n",
      "A value is trying to be set on a copy of a slice from a DataFrame.\n",
      "Try using .loc[row_indexer,col_indexer] = value instead\n",
      "\n",
      "See the caveats in the documentation: https://pandas.pydata.org/pandas-docs/stable/user_guide/indexing.html#returning-a-view-versus-a-copy\n",
      "  self[col] = igetitem(value, i)\n"
     ]
    }
   ],
   "source": [
    "forward[numerical]=imputer.fit_transform(forward[numerical])"
   ]
  },
  {
   "cell_type": "code",
   "execution_count": 213,
   "id": "0a9914b1",
   "metadata": {},
   "outputs": [
    {
     "data": {
      "text/html": [
       "<div>\n",
       "<style scoped>\n",
       "    .dataframe tbody tr th:only-of-type {\n",
       "        vertical-align: middle;\n",
       "    }\n",
       "\n",
       "    .dataframe tbody tr th {\n",
       "        vertical-align: top;\n",
       "    }\n",
       "\n",
       "    .dataframe thead th {\n",
       "        text-align: right;\n",
       "    }\n",
       "</style>\n",
       "<table border=\"1\" class=\"dataframe\">\n",
       "  <thead>\n",
       "    <tr style=\"text-align: right;\">\n",
       "      <th></th>\n",
       "      <th>MP</th>\n",
       "      <th>games_starts</th>\n",
       "      <th>goals</th>\n",
       "      <th>assists</th>\n",
       "      <th>goals_pens</th>\n",
       "      <th>pens_made</th>\n",
       "      <th>pens_att</th>\n",
       "      <th>cards_yellow</th>\n",
       "      <th>cards_red</th>\n",
       "      <th>cards_yellow_red</th>\n",
       "      <th>fouls</th>\n",
       "      <th>fouled</th>\n",
       "      <th>offsides</th>\n",
       "      <th>crosses</th>\n",
       "      <th>interceptions</th>\n",
       "      <th>tackles_won</th>\n",
       "      <th>height</th>\n",
       "      <th>minutes</th>\n",
       "      <th>weight</th>\n",
       "    </tr>\n",
       "  </thead>\n",
       "  <tbody>\n",
       "    <tr>\n",
       "      <th>1</th>\n",
       "      <td>1.0</td>\n",
       "      <td>0.0</td>\n",
       "      <td>0.0</td>\n",
       "      <td>0.0</td>\n",
       "      <td>0.0</td>\n",
       "      <td>0.0</td>\n",
       "      <td>0.0</td>\n",
       "      <td>0.0</td>\n",
       "      <td>0.0</td>\n",
       "      <td>0.0</td>\n",
       "      <td>0.434783</td>\n",
       "      <td>0.086957</td>\n",
       "      <td>0.000000</td>\n",
       "      <td>0.086957</td>\n",
       "      <td>0.217391</td>\n",
       "      <td>0.173913</td>\n",
       "      <td>181.391304</td>\n",
       "      <td>7.0</td>\n",
       "      <td>73.565217</td>\n",
       "    </tr>\n",
       "    <tr>\n",
       "      <th>3</th>\n",
       "      <td>2.0</td>\n",
       "      <td>2.0</td>\n",
       "      <td>0.0</td>\n",
       "      <td>0.0</td>\n",
       "      <td>0.0</td>\n",
       "      <td>0.0</td>\n",
       "      <td>0.0</td>\n",
       "      <td>0.0</td>\n",
       "      <td>0.0</td>\n",
       "      <td>0.0</td>\n",
       "      <td>1.739130</td>\n",
       "      <td>1.304348</td>\n",
       "      <td>0.608696</td>\n",
       "      <td>0.782609</td>\n",
       "      <td>0.391304</td>\n",
       "      <td>0.913043</td>\n",
       "      <td>180.000000</td>\n",
       "      <td>104.0</td>\n",
       "      <td>77.000000</td>\n",
       "    </tr>\n",
       "    <tr>\n",
       "      <th>7</th>\n",
       "      <td>16.0</td>\n",
       "      <td>6.0</td>\n",
       "      <td>3.0</td>\n",
       "      <td>0.0</td>\n",
       "      <td>3.0</td>\n",
       "      <td>0.0</td>\n",
       "      <td>0.0</td>\n",
       "      <td>0.0</td>\n",
       "      <td>0.0</td>\n",
       "      <td>0.0</td>\n",
       "      <td>7.695652</td>\n",
       "      <td>7.913043</td>\n",
       "      <td>2.347826</td>\n",
       "      <td>7.695652</td>\n",
       "      <td>2.434783</td>\n",
       "      <td>3.782609</td>\n",
       "      <td>183.000000</td>\n",
       "      <td>614.0</td>\n",
       "      <td>79.000000</td>\n",
       "    </tr>\n",
       "    <tr>\n",
       "      <th>11</th>\n",
       "      <td>2.0</td>\n",
       "      <td>1.0</td>\n",
       "      <td>1.0</td>\n",
       "      <td>0.0</td>\n",
       "      <td>1.0</td>\n",
       "      <td>0.0</td>\n",
       "      <td>0.0</td>\n",
       "      <td>0.0</td>\n",
       "      <td>0.0</td>\n",
       "      <td>0.0</td>\n",
       "      <td>1.565217</td>\n",
       "      <td>1.304348</td>\n",
       "      <td>0.304348</td>\n",
       "      <td>1.565217</td>\n",
       "      <td>0.478261</td>\n",
       "      <td>0.956522</td>\n",
       "      <td>178.000000</td>\n",
       "      <td>94.0</td>\n",
       "      <td>78.000000</td>\n",
       "    </tr>\n",
       "    <tr>\n",
       "      <th>12</th>\n",
       "      <td>8.0</td>\n",
       "      <td>7.0</td>\n",
       "      <td>1.0</td>\n",
       "      <td>1.0</td>\n",
       "      <td>1.0</td>\n",
       "      <td>0.0</td>\n",
       "      <td>0.0</td>\n",
       "      <td>1.0</td>\n",
       "      <td>0.0</td>\n",
       "      <td>0.0</td>\n",
       "      <td>9.043478</td>\n",
       "      <td>5.086957</td>\n",
       "      <td>1.130435</td>\n",
       "      <td>6.434783</td>\n",
       "      <td>3.000000</td>\n",
       "      <td>3.304348</td>\n",
       "      <td>180.000000</td>\n",
       "      <td>524.0</td>\n",
       "      <td>73.956522</td>\n",
       "    </tr>\n",
       "    <tr>\n",
       "      <th>...</th>\n",
       "      <td>...</td>\n",
       "      <td>...</td>\n",
       "      <td>...</td>\n",
       "      <td>...</td>\n",
       "      <td>...</td>\n",
       "      <td>...</td>\n",
       "      <td>...</td>\n",
       "      <td>...</td>\n",
       "      <td>...</td>\n",
       "      <td>...</td>\n",
       "      <td>...</td>\n",
       "      <td>...</td>\n",
       "      <td>...</td>\n",
       "      <td>...</td>\n",
       "      <td>...</td>\n",
       "      <td>...</td>\n",
       "      <td>...</td>\n",
       "      <td>...</td>\n",
       "      <td>...</td>\n",
       "    </tr>\n",
       "    <tr>\n",
       "      <th>38040</th>\n",
       "      <td>3.0</td>\n",
       "      <td>0.0</td>\n",
       "      <td>1.0</td>\n",
       "      <td>0.0</td>\n",
       "      <td>1.0</td>\n",
       "      <td>0.0</td>\n",
       "      <td>0.0</td>\n",
       "      <td>0.0</td>\n",
       "      <td>0.0</td>\n",
       "      <td>0.0</td>\n",
       "      <td>1.260870</td>\n",
       "      <td>1.043478</td>\n",
       "      <td>0.173913</td>\n",
       "      <td>1.347826</td>\n",
       "      <td>0.391304</td>\n",
       "      <td>0.652174</td>\n",
       "      <td>178.478261</td>\n",
       "      <td>67.0</td>\n",
       "      <td>72.391304</td>\n",
       "    </tr>\n",
       "    <tr>\n",
       "      <th>38042</th>\n",
       "      <td>227.0</td>\n",
       "      <td>151.0</td>\n",
       "      <td>44.0</td>\n",
       "      <td>19.0</td>\n",
       "      <td>43.0</td>\n",
       "      <td>1.0</td>\n",
       "      <td>1.0</td>\n",
       "      <td>58.0</td>\n",
       "      <td>3.0</td>\n",
       "      <td>0.0</td>\n",
       "      <td>52.000000</td>\n",
       "      <td>61.956522</td>\n",
       "      <td>32.869565</td>\n",
       "      <td>18.130435</td>\n",
       "      <td>11.260870</td>\n",
       "      <td>17.695652</td>\n",
       "      <td>172.000000</td>\n",
       "      <td>13479.0</td>\n",
       "      <td>78.000000</td>\n",
       "    </tr>\n",
       "    <tr>\n",
       "      <th>38043</th>\n",
       "      <td>12.0</td>\n",
       "      <td>7.0</td>\n",
       "      <td>0.0</td>\n",
       "      <td>0.0</td>\n",
       "      <td>0.0</td>\n",
       "      <td>0.0</td>\n",
       "      <td>0.0</td>\n",
       "      <td>2.0</td>\n",
       "      <td>0.0</td>\n",
       "      <td>0.0</td>\n",
       "      <td>8.130435</td>\n",
       "      <td>7.478261</td>\n",
       "      <td>2.478261</td>\n",
       "      <td>7.043478</td>\n",
       "      <td>2.173913</td>\n",
       "      <td>3.695652</td>\n",
       "      <td>182.086957</td>\n",
       "      <td>614.0</td>\n",
       "      <td>76.173913</td>\n",
       "    </tr>\n",
       "    <tr>\n",
       "      <th>38054</th>\n",
       "      <td>248.0</td>\n",
       "      <td>102.0</td>\n",
       "      <td>35.0</td>\n",
       "      <td>3.0</td>\n",
       "      <td>34.0</td>\n",
       "      <td>1.0</td>\n",
       "      <td>1.0</td>\n",
       "      <td>27.0</td>\n",
       "      <td>2.0</td>\n",
       "      <td>0.0</td>\n",
       "      <td>83.000000</td>\n",
       "      <td>43.000000</td>\n",
       "      <td>10.000000</td>\n",
       "      <td>38.000000</td>\n",
       "      <td>6.000000</td>\n",
       "      <td>8.000000</td>\n",
       "      <td>175.000000</td>\n",
       "      <td>10716.0</td>\n",
       "      <td>69.000000</td>\n",
       "    </tr>\n",
       "    <tr>\n",
       "      <th>38056</th>\n",
       "      <td>7.0</td>\n",
       "      <td>3.0</td>\n",
       "      <td>0.0</td>\n",
       "      <td>0.0</td>\n",
       "      <td>0.0</td>\n",
       "      <td>0.0</td>\n",
       "      <td>0.0</td>\n",
       "      <td>1.0</td>\n",
       "      <td>0.0</td>\n",
       "      <td>0.0</td>\n",
       "      <td>3.739130</td>\n",
       "      <td>3.913043</td>\n",
       "      <td>0.652174</td>\n",
       "      <td>5.086957</td>\n",
       "      <td>1.173913</td>\n",
       "      <td>1.913043</td>\n",
       "      <td>178.956522</td>\n",
       "      <td>244.0</td>\n",
       "      <td>71.739130</td>\n",
       "    </tr>\n",
       "  </tbody>\n",
       "</table>\n",
       "<p>8354 rows × 19 columns</p>\n",
       "</div>"
      ],
      "text/plain": [
       "          MP  games_starts  goals  assists  goals_pens  pens_made  pens_att  \\\n",
       "1        1.0           0.0    0.0      0.0         0.0        0.0       0.0   \n",
       "3        2.0           2.0    0.0      0.0         0.0        0.0       0.0   \n",
       "7       16.0           6.0    3.0      0.0         3.0        0.0       0.0   \n",
       "11       2.0           1.0    1.0      0.0         1.0        0.0       0.0   \n",
       "12       8.0           7.0    1.0      1.0         1.0        0.0       0.0   \n",
       "...      ...           ...    ...      ...         ...        ...       ...   \n",
       "38040    3.0           0.0    1.0      0.0         1.0        0.0       0.0   \n",
       "38042  227.0         151.0   44.0     19.0        43.0        1.0       1.0   \n",
       "38043   12.0           7.0    0.0      0.0         0.0        0.0       0.0   \n",
       "38054  248.0         102.0   35.0      3.0        34.0        1.0       1.0   \n",
       "38056    7.0           3.0    0.0      0.0         0.0        0.0       0.0   \n",
       "\n",
       "       cards_yellow  cards_red  cards_yellow_red      fouls     fouled  \\\n",
       "1               0.0        0.0               0.0   0.434783   0.086957   \n",
       "3               0.0        0.0               0.0   1.739130   1.304348   \n",
       "7               0.0        0.0               0.0   7.695652   7.913043   \n",
       "11              0.0        0.0               0.0   1.565217   1.304348   \n",
       "12              1.0        0.0               0.0   9.043478   5.086957   \n",
       "...             ...        ...               ...        ...        ...   \n",
       "38040           0.0        0.0               0.0   1.260870   1.043478   \n",
       "38042          58.0        3.0               0.0  52.000000  61.956522   \n",
       "38043           2.0        0.0               0.0   8.130435   7.478261   \n",
       "38054          27.0        2.0               0.0  83.000000  43.000000   \n",
       "38056           1.0        0.0               0.0   3.739130   3.913043   \n",
       "\n",
       "        offsides    crosses  interceptions  tackles_won      height  minutes  \\\n",
       "1       0.000000   0.086957       0.217391     0.173913  181.391304      7.0   \n",
       "3       0.608696   0.782609       0.391304     0.913043  180.000000    104.0   \n",
       "7       2.347826   7.695652       2.434783     3.782609  183.000000    614.0   \n",
       "11      0.304348   1.565217       0.478261     0.956522  178.000000     94.0   \n",
       "12      1.130435   6.434783       3.000000     3.304348  180.000000    524.0   \n",
       "...          ...        ...            ...          ...         ...      ...   \n",
       "38040   0.173913   1.347826       0.391304     0.652174  178.478261     67.0   \n",
       "38042  32.869565  18.130435      11.260870    17.695652  172.000000  13479.0   \n",
       "38043   2.478261   7.043478       2.173913     3.695652  182.086957    614.0   \n",
       "38054  10.000000  38.000000       6.000000     8.000000  175.000000  10716.0   \n",
       "38056   0.652174   5.086957       1.173913     1.913043  178.956522    244.0   \n",
       "\n",
       "          weight  \n",
       "1      73.565217  \n",
       "3      77.000000  \n",
       "7      79.000000  \n",
       "11     78.000000  \n",
       "12     73.956522  \n",
       "...          ...  \n",
       "38040  72.391304  \n",
       "38042  78.000000  \n",
       "38043  76.173913  \n",
       "38054  69.000000  \n",
       "38056  71.739130  \n",
       "\n",
       "[8354 rows x 19 columns]"
      ]
     },
     "execution_count": 213,
     "metadata": {},
     "output_type": "execute_result"
    }
   ],
   "source": [
    "forward[numerical]"
   ]
  },
  {
   "cell_type": "code",
   "execution_count": 214,
   "id": "d682d97b",
   "metadata": {
    "scrolled": true
   },
   "outputs": [
    {
     "name": "stderr",
     "output_type": "stream",
     "text": [
      "C:\\Users\\DELL\\anaconda3\\lib\\site-packages\\pandas\\core\\frame.py:3678: SettingWithCopyWarning: \n",
      "A value is trying to be set on a copy of a slice from a DataFrame.\n",
      "Try using .loc[row_indexer,col_indexer] = value instead\n",
      "\n",
      "See the caveats in the documentation: https://pandas.pydata.org/pandas-docs/stable/user_guide/indexing.html#returning-a-view-versus-a-copy\n",
      "  self[col] = igetitem(value, i)\n"
     ]
    }
   ],
   "source": [
    "defense[numerical]=imputer.fit_transform(defense[numerical])"
   ]
  },
  {
   "cell_type": "code",
   "execution_count": 215,
   "id": "aa17fbb7",
   "metadata": {
    "scrolled": true
   },
   "outputs": [
    {
     "name": "stderr",
     "output_type": "stream",
     "text": [
      "C:\\Users\\DELL\\anaconda3\\lib\\site-packages\\pandas\\core\\frame.py:3678: SettingWithCopyWarning: \n",
      "A value is trying to be set on a copy of a slice from a DataFrame.\n",
      "Try using .loc[row_indexer,col_indexer] = value instead\n",
      "\n",
      "See the caveats in the documentation: https://pandas.pydata.org/pandas-docs/stable/user_guide/indexing.html#returning-a-view-versus-a-copy\n",
      "  self[col] = igetitem(value, i)\n"
     ]
    }
   ],
   "source": [
    "goalkeeper[numerical]=imputer.fit_transform(goalkeeper[numerical])"
   ]
  },
  {
   "cell_type": "code",
   "execution_count": 216,
   "id": "ebf603cb",
   "metadata": {
    "scrolled": true
   },
   "outputs": [
    {
     "name": "stderr",
     "output_type": "stream",
     "text": [
      "C:\\Users\\DELL\\anaconda3\\lib\\site-packages\\pandas\\core\\frame.py:3678: SettingWithCopyWarning: \n",
      "A value is trying to be set on a copy of a slice from a DataFrame.\n",
      "Try using .loc[row_indexer,col_indexer] = value instead\n",
      "\n",
      "See the caveats in the documentation: https://pandas.pydata.org/pandas-docs/stable/user_guide/indexing.html#returning-a-view-versus-a-copy\n",
      "  self[col] = igetitem(value, i)\n"
     ]
    }
   ],
   "source": [
    "forward[numerical]=imputer.fit_transform(forward[numerical])"
   ]
  },
  {
   "cell_type": "code",
   "execution_count": 217,
   "id": "db9ac979",
   "metadata": {
    "scrolled": true
   },
   "outputs": [
    {
     "name": "stderr",
     "output_type": "stream",
     "text": [
      "C:\\Users\\DELL\\anaconda3\\lib\\site-packages\\pandas\\core\\frame.py:3678: SettingWithCopyWarning: \n",
      "A value is trying to be set on a copy of a slice from a DataFrame.\n",
      "Try using .loc[row_indexer,col_indexer] = value instead\n",
      "\n",
      "See the caveats in the documentation: https://pandas.pydata.org/pandas-docs/stable/user_guide/indexing.html#returning-a-view-versus-a-copy\n",
      "  self[col] = igetitem(value, i)\n"
     ]
    }
   ],
   "source": [
    "mid[numerical]=imputer.fit_transform(mid[numerical])"
   ]
  },
  {
   "cell_type": "code",
   "execution_count": 218,
   "id": "e0de972e",
   "metadata": {},
   "outputs": [],
   "source": [
    "data.loc[data['position']=='FW']=forward\n",
    "data.loc[data['position']=='MF']=mid\n",
    "data.loc[data['position']=='DF']=defense\n",
    "data.loc[data['position']=='GK']=goalkeeper\n"
   ]
  },
  {
   "cell_type": "code",
   "execution_count": 219,
   "id": "ead42d2f",
   "metadata": {},
   "outputs": [],
   "source": [
    "# data[numerical]=scaler.inverse_transform(data[numerical])"
   ]
  },
  {
   "cell_type": "code",
   "execution_count": 220,
   "id": "d8c9a309",
   "metadata": {
    "scrolled": true
   },
   "outputs": [
    {
     "data": {
      "text/plain": [
       "(37117, 27)"
      ]
     },
     "execution_count": 220,
     "metadata": {},
     "output_type": "execute_result"
    }
   ],
   "source": [
    "data.shape"
   ]
  },
  {
   "cell_type": "code",
   "execution_count": 221,
   "id": "38072a27",
   "metadata": {},
   "outputs": [
    {
     "data": {
      "text/html": [
       "<div>\n",
       "<style scoped>\n",
       "    .dataframe tbody tr th:only-of-type {\n",
       "        vertical-align: middle;\n",
       "    }\n",
       "\n",
       "    .dataframe tbody tr th {\n",
       "        vertical-align: top;\n",
       "    }\n",
       "\n",
       "    .dataframe thead th {\n",
       "        text-align: right;\n",
       "    }\n",
       "</style>\n",
       "<table border=\"1\" class=\"dataframe\">\n",
       "  <thead>\n",
       "    <tr style=\"text-align: right;\">\n",
       "      <th></th>\n",
       "      <th>MP</th>\n",
       "      <th>games_starts</th>\n",
       "      <th>goals</th>\n",
       "      <th>assists</th>\n",
       "      <th>goals_pens</th>\n",
       "      <th>pens_made</th>\n",
       "      <th>pens_att</th>\n",
       "      <th>cards_yellow</th>\n",
       "      <th>cards_red</th>\n",
       "      <th>cards_yellow_red</th>\n",
       "      <th>fouls</th>\n",
       "      <th>fouled</th>\n",
       "      <th>offsides</th>\n",
       "      <th>crosses</th>\n",
       "      <th>interceptions</th>\n",
       "      <th>tackles_won</th>\n",
       "      <th>height</th>\n",
       "      <th>minutes</th>\n",
       "      <th>weight</th>\n",
       "    </tr>\n",
       "  </thead>\n",
       "  <tbody>\n",
       "    <tr>\n",
       "      <th>0</th>\n",
       "      <td>1.0</td>\n",
       "      <td>0.0</td>\n",
       "      <td>0.0</td>\n",
       "      <td>0.0</td>\n",
       "      <td>0.0</td>\n",
       "      <td>0.0</td>\n",
       "      <td>0.0</td>\n",
       "      <td>0.0</td>\n",
       "      <td>0.0</td>\n",
       "      <td>0.0</td>\n",
       "      <td>0.782609</td>\n",
       "      <td>0.260870</td>\n",
       "      <td>0.043478</td>\n",
       "      <td>0.608696</td>\n",
       "      <td>0.826087</td>\n",
       "      <td>0.652174</td>\n",
       "      <td>180.0</td>\n",
       "      <td>34.0</td>\n",
       "      <td>69.000000</td>\n",
       "    </tr>\n",
       "    <tr>\n",
       "      <th>1</th>\n",
       "      <td>1.0</td>\n",
       "      <td>0.0</td>\n",
       "      <td>0.0</td>\n",
       "      <td>0.0</td>\n",
       "      <td>0.0</td>\n",
       "      <td>0.0</td>\n",
       "      <td>0.0</td>\n",
       "      <td>0.0</td>\n",
       "      <td>0.0</td>\n",
       "      <td>0.0</td>\n",
       "      <td>0.434783</td>\n",
       "      <td>0.086957</td>\n",
       "      <td>0.000000</td>\n",
       "      <td>0.086957</td>\n",
       "      <td>0.217391</td>\n",
       "      <td>0.173913</td>\n",
       "      <td>181.391304</td>\n",
       "      <td>7.0</td>\n",
       "      <td>73.565217</td>\n",
       "    </tr>\n",
       "    <tr>\n",
       "      <th>2</th>\n",
       "      <td>4.0</td>\n",
       "      <td>4.0</td>\n",
       "      <td>0.0</td>\n",
       "      <td>0.0</td>\n",
       "      <td>0.0</td>\n",
       "      <td>0.0</td>\n",
       "      <td>0.0</td>\n",
       "      <td>2.0</td>\n",
       "      <td>1.0</td>\n",
       "      <td>1.0</td>\n",
       "      <td>3.086957</td>\n",
       "      <td>2.086957</td>\n",
       "      <td>0.043478</td>\n",
       "      <td>3.782609</td>\n",
       "      <td>4.086957</td>\n",
       "      <td>3.217391</td>\n",
       "      <td>182.086957</td>\n",
       "      <td>321.0</td>\n",
       "      <td>74.739130</td>\n",
       "    </tr>\n",
       "    <tr>\n",
       "      <th>3</th>\n",
       "      <td>2.0</td>\n",
       "      <td>2.0</td>\n",
       "      <td>0.0</td>\n",
       "      <td>0.0</td>\n",
       "      <td>0.0</td>\n",
       "      <td>0.0</td>\n",
       "      <td>0.0</td>\n",
       "      <td>0.0</td>\n",
       "      <td>0.0</td>\n",
       "      <td>0.0</td>\n",
       "      <td>1.739130</td>\n",
       "      <td>1.304348</td>\n",
       "      <td>0.608696</td>\n",
       "      <td>0.782609</td>\n",
       "      <td>0.391304</td>\n",
       "      <td>0.913043</td>\n",
       "      <td>180.0</td>\n",
       "      <td>104.0</td>\n",
       "      <td>77.000000</td>\n",
       "    </tr>\n",
       "    <tr>\n",
       "      <th>4</th>\n",
       "      <td>1.0</td>\n",
       "      <td>0.0</td>\n",
       "      <td>0.0</td>\n",
       "      <td>0.0</td>\n",
       "      <td>0.0</td>\n",
       "      <td>0.0</td>\n",
       "      <td>0.0</td>\n",
       "      <td>0.0</td>\n",
       "      <td>0.0</td>\n",
       "      <td>0.0</td>\n",
       "      <td>0.130435</td>\n",
       "      <td>0.086957</td>\n",
       "      <td>0.043478</td>\n",
       "      <td>0.086957</td>\n",
       "      <td>0.000000</td>\n",
       "      <td>0.086957</td>\n",
       "      <td>176.608696</td>\n",
       "      <td>1.0</td>\n",
       "      <td>68.826087</td>\n",
       "    </tr>\n",
       "  </tbody>\n",
       "</table>\n",
       "</div>"
      ],
      "text/plain": [
       "    MP  games_starts  goals  assists  goals_pens  pens_made  pens_att  \\\n",
       "0  1.0           0.0    0.0      0.0         0.0        0.0       0.0   \n",
       "1  1.0           0.0    0.0      0.0         0.0        0.0       0.0   \n",
       "2  4.0           4.0    0.0      0.0         0.0        0.0       0.0   \n",
       "3  2.0           2.0    0.0      0.0         0.0        0.0       0.0   \n",
       "4  1.0           0.0    0.0      0.0         0.0        0.0       0.0   \n",
       "\n",
       "   cards_yellow  cards_red  cards_yellow_red     fouls    fouled  offsides  \\\n",
       "0           0.0        0.0               0.0  0.782609  0.260870  0.043478   \n",
       "1           0.0        0.0               0.0  0.434783  0.086957  0.000000   \n",
       "2           2.0        1.0               1.0  3.086957  2.086957  0.043478   \n",
       "3           0.0        0.0               0.0  1.739130  1.304348  0.608696   \n",
       "4           0.0        0.0               0.0  0.130435  0.086957  0.043478   \n",
       "\n",
       "    crosses  interceptions  tackles_won      height minutes     weight  \n",
       "0  0.608696       0.826087     0.652174       180.0    34.0  69.000000  \n",
       "1  0.086957       0.217391     0.173913  181.391304     7.0  73.565217  \n",
       "2  3.782609       4.086957     3.217391  182.086957   321.0  74.739130  \n",
       "3  0.782609       0.391304     0.913043       180.0   104.0  77.000000  \n",
       "4  0.086957       0.000000     0.086957  176.608696     1.0  68.826087  "
      ]
     },
     "execution_count": 221,
     "metadata": {},
     "output_type": "execute_result"
    }
   ],
   "source": [
    "data[numerical].head()"
   ]
  },
  {
   "cell_type": "code",
   "execution_count": 222,
   "id": "05b8ff1a",
   "metadata": {},
   "outputs": [],
   "source": [
    "from matplotlib import pyplot as plt"
   ]
  },
  {
   "cell_type": "code",
   "execution_count": 223,
   "id": "5f4e7c18",
   "metadata": {
    "scrolled": true
   },
   "outputs": [],
   "source": [
    "data[['minutes','height','weight']]=data[['minutes','height','weight']].astype(float)"
   ]
  },
  {
   "cell_type": "code",
   "execution_count": 224,
   "id": "f8229411",
   "metadata": {
    "scrolled": true
   },
   "outputs": [
    {
     "data": {
      "text/plain": [
       "MP                      0\n",
       "games_starts            0\n",
       "minutes                 0\n",
       "goals                   0\n",
       "assists                 0\n",
       "goals_pens              0\n",
       "pens_made               0\n",
       "pens_att                0\n",
       "cards_yellow            0\n",
       "cards_red               0\n",
       "cards_yellow_red        0\n",
       "fouls                   0\n",
       "fouled                  0\n",
       "offsides                0\n",
       "crosses                 0\n",
       "interceptions           0\n",
       "tackles_won             0\n",
       "pens_won            27452\n",
       "pens_conceded       27452\n",
       "main_info               0\n",
       "country                 0\n",
       "name                    0\n",
       "position                0\n",
       "month                   0\n",
       "year                    0\n",
       "height                  0\n",
       "weight                  0\n",
       "dtype: int64"
      ]
     },
     "execution_count": 224,
     "metadata": {},
     "output_type": "execute_result"
    }
   ],
   "source": [
    "data.isna().sum()"
   ]
  },
  {
   "cell_type": "code",
   "execution_count": 225,
   "id": "be3297a5",
   "metadata": {
    "scrolled": true
   },
   "outputs": [
    {
     "name": "stdout",
     "output_type": "stream",
     "text": [
      "<class 'pandas.core.frame.DataFrame'>\n",
      "Int64Index: 37117 entries, 0 to 38056\n",
      "Data columns (total 27 columns):\n",
      " #   Column            Non-Null Count  Dtype  \n",
      "---  ------            --------------  -----  \n",
      " 0   MP                37117 non-null  float64\n",
      " 1   games_starts      37117 non-null  float64\n",
      " 2   minutes           37117 non-null  float64\n",
      " 3   goals             37117 non-null  float64\n",
      " 4   assists           37117 non-null  float64\n",
      " 5   goals_pens        37117 non-null  float64\n",
      " 6   pens_made         37117 non-null  float64\n",
      " 7   pens_att          37117 non-null  float64\n",
      " 8   cards_yellow      37117 non-null  float64\n",
      " 9   cards_red         37117 non-null  float64\n",
      " 10  cards_yellow_red  37117 non-null  float64\n",
      " 11  fouls             37117 non-null  float64\n",
      " 12  fouled            37117 non-null  float64\n",
      " 13  offsides          37117 non-null  float64\n",
      " 14  crosses           37117 non-null  float64\n",
      " 15  interceptions     37117 non-null  float64\n",
      " 16  tackles_won       37117 non-null  float64\n",
      " 17  pens_won          9665 non-null   float64\n",
      " 18  pens_conceded     9665 non-null   float64\n",
      " 19  main_info         37117 non-null  object \n",
      " 20  country           37117 non-null  object \n",
      " 21  name              37117 non-null  object \n",
      " 22  position          37117 non-null  object \n",
      " 23  month             37117 non-null  object \n",
      " 24  year              37117 non-null  object \n",
      " 25  height            37117 non-null  float64\n",
      " 26  weight            37117 non-null  float64\n",
      "dtypes: float64(21), object(6)\n",
      "memory usage: 7.9+ MB\n"
     ]
    }
   ],
   "source": [
    "data.info()"
   ]
  },
  {
   "cell_type": "code",
   "execution_count": 226,
   "id": "ae999b76",
   "metadata": {},
   "outputs": [
    {
     "data": {
      "text/plain": [
       "Index(['January', 'March', 'February', 'April', 'May', 'June', 'July',\n",
       "       'August', 'September', 'October', 'November', 'December', '(Date'],\n",
       "      dtype='object')"
      ]
     },
     "execution_count": 226,
     "metadata": {},
     "output_type": "execute_result"
    }
   ],
   "source": [
    "data.month.value_counts().index"
   ]
  },
  {
   "cell_type": "code",
   "execution_count": 227,
   "id": "271023a6",
   "metadata": {},
   "outputs": [],
   "source": [
    "new=data"
   ]
  },
  {
   "cell_type": "code",
   "execution_count": 228,
   "id": "2db3fce7",
   "metadata": {},
   "outputs": [
    {
     "data": {
      "text/plain": [
       "Index(['Brazil ', 'Argentina ', 'Netherlands ', 'Colombia ', 'Norway ',\n",
       "       'Denmark ', 'Croatia ', 'Bulgaria ', 'Austria ', 'Czech Republic ',\n",
       "       'Australia ', 'Ecuador ', 'Belgium ', 'Nigeria ', 'Bolivia ', 'Chile ',\n",
       "       'Bosnia and Herzegovina ', 'Côte d'Ivoire ', 'Northern Ireland ',\n",
       "       'North Macedonia ', 'Costa Rica ', 'Congo DR ', 'Panama ',\n",
       "       'El Salvador ', 'New Zealand ', 'Egypt ', 'Belarus ', 'Cuba ',\n",
       "       'Armenia ', 'Azerbaijan ', 'Dominican Republic ', 'Chinese Taipei ',\n",
       "       'Palestine ', 'Bahrain ', 'Nicaragua ', 'Barbados ', 'Congo ',\n",
       "       'Cyprus ', 'Curaçao ', 'Botswana ', 'Oman ', 'Bangladesh ', 'Bermuda ',\n",
       "       'Aruba ', 'Belize ', 'Czechoslovakia ', 'Angola ', 'Dominica ',\n",
       "       'Andorra ', 'Pakistan ', 'China PR ', 'Anguilla ', 'New Caledonia ',\n",
       "       'Benin ', 'Bahamas ', 'Niger ', 'Afghanistan ', 'Djibouti ',\n",
       "       'Papua New Guinea ', 'Algeria ', 'Antigua and Barbuda ', 'Bhutan ',\n",
       "       'Albania ', 'Cook Islands ', 'Comoros ', 'American Samoa ',\n",
       "       'Burkina Faso ', 'Commonwealth of Independent States ', 'Paraguay '],\n",
       "      dtype='object')"
      ]
     },
     "execution_count": 228,
     "metadata": {},
     "output_type": "execute_result"
    }
   ],
   "source": [
    "countries=data['country'].value_counts().index\n",
    "countries"
   ]
  },
  {
   "cell_type": "code",
   "execution_count": 229,
   "id": "29618fa9",
   "metadata": {},
   "outputs": [
    {
     "data": {
      "text/plain": [
       "Float64Index([  1.0,   2.0,   3.0,   4.0,   5.0,   6.0,   7.0,   8.0,   9.0,\n",
       "               10.0,\n",
       "              ...\n",
       "              438.0, 663.0, 428.0, 470.0, 525.0, 404.0, 570.0, 614.0, 511.0,\n",
       "              528.0],\n",
       "             dtype='float64', length=517)"
      ]
     },
     "execution_count": 229,
     "metadata": {},
     "output_type": "execute_result"
    }
   ],
   "source": [
    "data['MP'].value_counts().index"
   ]
  },
  {
   "cell_type": "code",
   "execution_count": 230,
   "id": "d3fe15a9",
   "metadata": {},
   "outputs": [],
   "source": [
    "data=data[data['position']!='GK']"
   ]
  },
  {
   "cell_type": "markdown",
   "id": "ec7f206b",
   "metadata": {},
   "source": [
    "# Feature Engineering "
   ]
  },
  {
   "cell_type": "code",
   "execution_count": 231,
   "id": "4e21f8d3",
   "metadata": {},
   "outputs": [
    {
     "data": {
      "text/plain": [
       "0           34.0\n",
       "1            7.0\n",
       "2          321.0\n",
       "3          104.0\n",
       "4            1.0\n",
       "          ...   \n",
       "38051      407.0\n",
       "38053    18632.0\n",
       "38054    10716.0\n",
       "38055    25502.0\n",
       "38056      244.0\n",
       "Name: minutes, Length: 34218, dtype: float64"
      ]
     },
     "execution_count": 231,
     "metadata": {},
     "output_type": "execute_result"
    }
   ],
   "source": [
    "data['minutes']"
   ]
  },
  {
   "cell_type": "code",
   "execution_count": 232,
   "id": "162dc591",
   "metadata": {},
   "outputs": [],
   "source": [
    "def classify_minutes(x):\n",
    "    if x<=120:\n",
    "        return 1\n",
    "    j=2\n",
    "    for i in range(120,46196,120):\n",
    "        if x>i and x<=i+120:\n",
    "            return j\n",
    "        j+=1"
   ]
  },
  {
   "cell_type": "code",
   "execution_count": 233,
   "id": "7a4c0f31",
   "metadata": {},
   "outputs": [
    {
     "name": "stderr",
     "output_type": "stream",
     "text": [
      "C:\\Users\\DELL\\AppData\\Local\\Temp/ipykernel_8260/1933400124.py:1: SettingWithCopyWarning: \n",
      "A value is trying to be set on a copy of a slice from a DataFrame.\n",
      "Try using .loc[row_indexer,col_indexer] = value instead\n",
      "\n",
      "See the caveats in the documentation: https://pandas.pydata.org/pandas-docs/stable/user_guide/indexing.html#returning-a-view-versus-a-copy\n",
      "  data['minutes']=data['minutes'].apply(classify_minutes)\n"
     ]
    }
   ],
   "source": [
    "data['minutes']=data['minutes'].apply(classify_minutes)"
   ]
  },
  {
   "cell_type": "code",
   "execution_count": 234,
   "id": "46be7336",
   "metadata": {},
   "outputs": [
    {
     "name": "stderr",
     "output_type": "stream",
     "text": [
      "C:\\Users\\DELL\\AppData\\Local\\Temp/ipykernel_8260/930947896.py:1: SettingWithCopyWarning: \n",
      "A value is trying to be set on a copy of a slice from a DataFrame.\n",
      "Try using .loc[row_indexer,col_indexer] = value instead\n",
      "\n",
      "See the caveats in the documentation: https://pandas.pydata.org/pandas-docs/stable/user_guide/indexing.html#returning-a-view-versus-a-copy\n",
      "  data['MP_']=data['MP']\n"
     ]
    }
   ],
   "source": [
    "data['MP_']=data['MP']"
   ]
  },
  {
   "cell_type": "code",
   "execution_count": 235,
   "id": "b8145d4b",
   "metadata": {},
   "outputs": [
    {
     "data": {
      "text/plain": [
       "0          1.0\n",
       "1          1.0\n",
       "2          4.0\n",
       "3          2.0\n",
       "4          1.0\n",
       "         ...  \n",
       "38051      6.0\n",
       "38053    222.0\n",
       "38054    248.0\n",
       "38055    332.0\n",
       "38056      7.0\n",
       "Name: MP, Length: 34218, dtype: float64"
      ]
     },
     "execution_count": 235,
     "metadata": {},
     "output_type": "execute_result"
    }
   ],
   "source": [
    "data['MP']"
   ]
  },
  {
   "cell_type": "code",
   "execution_count": 236,
   "id": "655f43e2",
   "metadata": {},
   "outputs": [],
   "source": [
    "matches_played=data['MP'].value_counts().index"
   ]
  },
  {
   "cell_type": "code",
   "execution_count": 237,
   "id": "ba8c078d",
   "metadata": {},
   "outputs": [],
   "source": [
    "ranged_columns=['shooting', 'agressive', 'impulse_degree', 'crossing', 'assisting',\n",
    "       'tackling','intercepting','height','weight','power']"
   ]
  },
  {
   "cell_type": "code",
   "execution_count": 238,
   "id": "088d930c",
   "metadata": {},
   "outputs": [],
   "source": [
    "countries=data['country'].value_counts().index"
   ]
  },
  {
   "cell_type": "code",
   "execution_count": 239,
   "id": "758eeabc",
   "metadata": {},
   "outputs": [],
   "source": [
    "def clear_messy(x):\n",
    "    try:\n",
    "        x=int(x)\n",
    "    except:\n",
    "        return False\n",
    "    return True"
   ]
  },
  {
   "cell_type": "code",
   "execution_count": 240,
   "id": "bed782f1",
   "metadata": {},
   "outputs": [],
   "source": [
    "condition=data['year'].apply(clear_messy)"
   ]
  },
  {
   "cell_type": "code",
   "execution_count": 241,
   "id": "00e84737",
   "metadata": {},
   "outputs": [],
   "source": [
    "data=data[condition]"
   ]
  },
  {
   "cell_type": "code",
   "execution_count": 242,
   "id": "5e3a16cc",
   "metadata": {},
   "outputs": [],
   "source": [
    "data['year']=data['year'].astype(int)"
   ]
  },
  {
   "cell_type": "code",
   "execution_count": 243,
   "id": "462cac94",
   "metadata": {},
   "outputs": [],
   "source": [
    "def classify_year(x):\n",
    "    if x<1970:\n",
    "        return 1\n",
    "    if x>=1970 and x<1980:\n",
    "        return 2\n",
    "    if x>=1980 and x<1990:\n",
    "        return 3\n",
    "    if x>=1990 and x<2000:\n",
    "        return 4\n",
    "    if x>=2000:\n",
    "        return 5"
   ]
  },
  {
   "cell_type": "code",
   "execution_count": 244,
   "id": "bf917ccd",
   "metadata": {},
   "outputs": [],
   "source": [
    "data['year']=data['year'].apply(classify_year)"
   ]
  },
  {
   "cell_type": "code",
   "execution_count": 245,
   "id": "c6a2c103",
   "metadata": {},
   "outputs": [
    {
     "data": {
      "text/plain": [
       "Int64Index([4, 3, 5, 2, 1], dtype='int64')"
      ]
     },
     "execution_count": 245,
     "metadata": {},
     "output_type": "execute_result"
    }
   ],
   "source": [
    "years=data['year'].value_counts().index\n",
    "years"
   ]
  },
  {
   "cell_type": "code",
   "execution_count": 246,
   "id": "82b5466a",
   "metadata": {},
   "outputs": [],
   "source": [
    "data=data.groupby('MP_').filter(lambda x: len(x)>1)"
   ]
  },
  {
   "cell_type": "code",
   "execution_count": 247,
   "id": "b4db6655",
   "metadata": {},
   "outputs": [],
   "source": [
    "minutes=data['minutes'].value_counts().index"
   ]
  },
  {
   "cell_type": "code",
   "execution_count": 293,
   "id": "a7815400",
   "metadata": {
    "scrolled": true
   },
   "outputs": [],
   "source": [
    "for m in minutes:\n",
    "    data.loc[data['minutes']==m,'shooting']=((data.loc[data['minutes']==m,'goals']+data.loc[data['minutes']==m,'goals_pens']))/(data.loc[data['minutes']==m,'goals'].max()+data.loc[data['minutes']==m,'goals_pens'].max())*100"
   ]
  },
  {
   "cell_type": "code",
   "execution_count": 294,
   "id": "20889526",
   "metadata": {},
   "outputs": [
    {
     "data": {
      "text/plain": [
       "18793    14.545455\n",
       "7127     18.750000\n",
       "2488     16.901408\n",
       "26603     0.000000\n",
       "31690    11.881188\n",
       "           ...    \n",
       "15805    26.315789\n",
       "30562     7.017544\n",
       "3116     12.500000\n",
       "5332      0.000000\n",
       "9735      3.773585\n",
       "Name: shooting, Length: 34114, dtype: float64"
      ]
     },
     "execution_count": 294,
     "metadata": {},
     "output_type": "execute_result"
    }
   ],
   "source": [
    "data['shooting']"
   ]
  },
  {
   "cell_type": "code",
   "execution_count": 250,
   "id": "7a584739",
   "metadata": {},
   "outputs": [],
   "source": [
    "for m in minutes:\n",
    "    data.loc[data['minutes']==m,'agressive']=(data.loc[data['minutes']==m,'cards_yellow']+data.loc[data['minutes']==m,'cards_red']+data.loc[data['minutes']==m,'cards_yellow_red'])/(data.loc[data['minutes']==m,'cards_yellow'].max()+data.loc[data['minutes']==m,'cards_red'].max()+data.loc[data['minutes']==m,'cards_yellow_red'].max())*100"
   ]
  },
  {
   "cell_type": "code",
   "execution_count": 251,
   "id": "a27de3c5",
   "metadata": {
    "scrolled": true
   },
   "outputs": [
    {
     "data": {
      "text/plain": [
       "0         0.000000\n",
       "1         0.000000\n",
       "2        50.000000\n",
       "3         0.000000\n",
       "4         0.000000\n",
       "           ...    \n",
       "38051    20.000000\n",
       "38053    70.873786\n",
       "38054    48.333333\n",
       "38055    52.800000\n",
       "38056    12.500000\n",
       "Name: agressive, Length: 34117, dtype: float64"
      ]
     },
     "execution_count": 251,
     "metadata": {},
     "output_type": "execute_result"
    }
   ],
   "source": [
    "data['agressive']"
   ]
  },
  {
   "cell_type": "code",
   "execution_count": 252,
   "id": "bc408d2b",
   "metadata": {},
   "outputs": [],
   "source": [
    "for m in minutes:\n",
    "    data.loc[data['minutes']==m,'impulse_degree']=(data.loc[data['minutes']==m,'fouls']+data.loc[data['minutes']==m,'offsides'])/(data.loc[data['minutes']==m,'fouls'].max()+data.loc[data['minutes']==m,'offsides'].max())*100"
   ]
  },
  {
   "cell_type": "code",
   "execution_count": 253,
   "id": "642679b8",
   "metadata": {},
   "outputs": [
    {
     "data": {
      "text/plain": [
       "0         5.900621\n",
       "1         3.105590\n",
       "2        13.043478\n",
       "3        16.770186\n",
       "4         1.242236\n",
       "           ...    \n",
       "38051    16.304348\n",
       "38053    33.143094\n",
       "38054    24.155844\n",
       "38055    45.402360\n",
       "38056    18.297101\n",
       "Name: impulse_degree, Length: 34117, dtype: float64"
      ]
     },
     "execution_count": 253,
     "metadata": {},
     "output_type": "execute_result"
    }
   ],
   "source": [
    "data['impulse_degree']"
   ]
  },
  {
   "cell_type": "code",
   "execution_count": 254,
   "id": "45b6d380",
   "metadata": {},
   "outputs": [],
   "source": [
    "for m in minutes:\n",
    "    data.loc[data['minutes']==m,'crossing']=data.loc[data['minutes']==m,'crosses']/data.loc[data['minutes']==m,'crosses'].max()*100"
   ]
  },
  {
   "cell_type": "code",
   "execution_count": 255,
   "id": "e3d0e356",
   "metadata": {},
   "outputs": [
    {
     "data": {
      "text/plain": [
       "0         5.533597\n",
       "1         0.790514\n",
       "2        11.820652\n",
       "3         7.114625\n",
       "4         0.790514\n",
       "           ...    \n",
       "38051     8.695652\n",
       "38053    16.927873\n",
       "38054     8.558559\n",
       "38055    38.089039\n",
       "38056    15.896739\n",
       "Name: crossing, Length: 34117, dtype: float64"
      ]
     },
     "execution_count": 255,
     "metadata": {},
     "output_type": "execute_result"
    }
   ],
   "source": [
    "data['crossing']"
   ]
  },
  {
   "cell_type": "code",
   "execution_count": 256,
   "id": "03939616",
   "metadata": {},
   "outputs": [],
   "source": [
    "for m in minutes:\n",
    "    data.loc[data['minutes']==m,'assisting']=data.loc[data['minutes']==m,'assists']/data.loc[data['minutes']==m,'assists'].max()*100"
   ]
  },
  {
   "cell_type": "code",
   "execution_count": 257,
   "id": "84cf176b",
   "metadata": {},
   "outputs": [
    {
     "data": {
      "text/plain": [
       "0         0.000000\n",
       "1         0.000000\n",
       "2         0.000000\n",
       "3         0.000000\n",
       "4         0.000000\n",
       "           ...    \n",
       "38051     0.000000\n",
       "38053     1.886792\n",
       "38054    11.111111\n",
       "38055    75.000000\n",
       "38056     0.000000\n",
       "Name: assisting, Length: 34117, dtype: float64"
      ]
     },
     "execution_count": 257,
     "metadata": {},
     "output_type": "execute_result"
    }
   ],
   "source": [
    "data['assisting']"
   ]
  },
  {
   "cell_type": "code",
   "execution_count": 258,
   "id": "764fd939",
   "metadata": {},
   "outputs": [
    {
     "data": {
      "text/plain": [
       "(34117, 33)"
      ]
     },
     "execution_count": 258,
     "metadata": {},
     "output_type": "execute_result"
    }
   ],
   "source": [
    "data.shape"
   ]
  },
  {
   "cell_type": "code",
   "execution_count": 259,
   "id": "6e200970",
   "metadata": {},
   "outputs": [],
   "source": [
    "for m in minutes:\n",
    "    data.loc[data['minutes']==m,'tackling']=data.loc[data['minutes']==m,'tackles_won']/data.loc[data['minutes']==m,'tackles_won'].max()*100"
   ]
  },
  {
   "cell_type": "code",
   "execution_count": 260,
   "id": "fed68029",
   "metadata": {},
   "outputs": [
    {
     "data": {
      "text/plain": [
       "0        10.869565\n",
       "1         2.898551\n",
       "2        20.108696\n",
       "3        15.217391\n",
       "4         1.449275\n",
       "           ...    \n",
       "38051    28.019324\n",
       "38053    38.370621\n",
       "38054     3.030303\n",
       "38055    34.953591\n",
       "38056    11.956522\n",
       "Name: tackling, Length: 34117, dtype: float64"
      ]
     },
     "execution_count": 260,
     "metadata": {},
     "output_type": "execute_result"
    }
   ],
   "source": [
    "data['tackling']"
   ]
  },
  {
   "cell_type": "code",
   "execution_count": 261,
   "id": "5388cf4d",
   "metadata": {},
   "outputs": [],
   "source": [
    "for m in minutes:\n",
    "    data.loc[data['minutes']==m,'intercepting']=data.loc[data['minutes']==m,'interceptions']/data.loc[data['minutes']==m,'interceptions'].max()*100"
   ]
  },
  {
   "cell_type": "code",
   "execution_count": 262,
   "id": "53cf39f3",
   "metadata": {},
   "outputs": [
    {
     "data": {
      "text/plain": [
       "0        10.326087\n",
       "1         2.717391\n",
       "2        22.705314\n",
       "3         4.891304\n",
       "4         0.000000\n",
       "           ...    \n",
       "38051    35.000000\n",
       "38053    46.159673\n",
       "38054     2.166065\n",
       "38055    42.434783\n",
       "38056     6.521739\n",
       "Name: intercepting, Length: 34117, dtype: float64"
      ]
     },
     "execution_count": 262,
     "metadata": {},
     "output_type": "execute_result"
    }
   ],
   "source": [
    "data['intercepting']"
   ]
  },
  {
   "cell_type": "code",
   "execution_count": 263,
   "id": "a8fbe5bd",
   "metadata": {},
   "outputs": [],
   "source": [
    "data['power']=data['minutes']/data['MP_']*100"
   ]
  },
  {
   "cell_type": "code",
   "execution_count": 264,
   "id": "4757d2e4",
   "metadata": {},
   "outputs": [
    {
     "data": {
      "text/html": [
       "<div>\n",
       "<style scoped>\n",
       "    .dataframe tbody tr th:only-of-type {\n",
       "        vertical-align: middle;\n",
       "    }\n",
       "\n",
       "    .dataframe tbody tr th {\n",
       "        vertical-align: top;\n",
       "    }\n",
       "\n",
       "    .dataframe thead th {\n",
       "        text-align: right;\n",
       "    }\n",
       "</style>\n",
       "<table border=\"1\" class=\"dataframe\">\n",
       "  <thead>\n",
       "    <tr style=\"text-align: right;\">\n",
       "      <th></th>\n",
       "      <th>shooting</th>\n",
       "      <th>agressive</th>\n",
       "      <th>impulse_degree</th>\n",
       "      <th>crossing</th>\n",
       "      <th>assisting</th>\n",
       "      <th>tackling</th>\n",
       "      <th>intercepting</th>\n",
       "      <th>height</th>\n",
       "      <th>weight</th>\n",
       "      <th>power</th>\n",
       "    </tr>\n",
       "  </thead>\n",
       "  <tbody>\n",
       "    <tr>\n",
       "      <th>0</th>\n",
       "      <td>0.000000</td>\n",
       "      <td>0.000000</td>\n",
       "      <td>5.900621</td>\n",
       "      <td>5.533597</td>\n",
       "      <td>0.000000</td>\n",
       "      <td>10.869565</td>\n",
       "      <td>10.326087</td>\n",
       "      <td>180.000000</td>\n",
       "      <td>69.000000</td>\n",
       "      <td>100.000000</td>\n",
       "    </tr>\n",
       "    <tr>\n",
       "      <th>1</th>\n",
       "      <td>0.000000</td>\n",
       "      <td>0.000000</td>\n",
       "      <td>3.105590</td>\n",
       "      <td>0.790514</td>\n",
       "      <td>0.000000</td>\n",
       "      <td>2.898551</td>\n",
       "      <td>2.717391</td>\n",
       "      <td>181.391304</td>\n",
       "      <td>73.565217</td>\n",
       "      <td>100.000000</td>\n",
       "    </tr>\n",
       "    <tr>\n",
       "      <th>2</th>\n",
       "      <td>0.000000</td>\n",
       "      <td>50.000000</td>\n",
       "      <td>13.043478</td>\n",
       "      <td>11.820652</td>\n",
       "      <td>0.000000</td>\n",
       "      <td>20.108696</td>\n",
       "      <td>22.705314</td>\n",
       "      <td>182.086957</td>\n",
       "      <td>74.739130</td>\n",
       "      <td>75.000000</td>\n",
       "    </tr>\n",
       "    <tr>\n",
       "      <th>3</th>\n",
       "      <td>0.000000</td>\n",
       "      <td>0.000000</td>\n",
       "      <td>16.770186</td>\n",
       "      <td>7.114625</td>\n",
       "      <td>0.000000</td>\n",
       "      <td>15.217391</td>\n",
       "      <td>4.891304</td>\n",
       "      <td>180.000000</td>\n",
       "      <td>77.000000</td>\n",
       "      <td>50.000000</td>\n",
       "    </tr>\n",
       "    <tr>\n",
       "      <th>4</th>\n",
       "      <td>0.000000</td>\n",
       "      <td>0.000000</td>\n",
       "      <td>1.242236</td>\n",
       "      <td>0.790514</td>\n",
       "      <td>0.000000</td>\n",
       "      <td>1.449275</td>\n",
       "      <td>0.000000</td>\n",
       "      <td>176.608696</td>\n",
       "      <td>68.826087</td>\n",
       "      <td>100.000000</td>\n",
       "    </tr>\n",
       "    <tr>\n",
       "      <th>...</th>\n",
       "      <td>...</td>\n",
       "      <td>...</td>\n",
       "      <td>...</td>\n",
       "      <td>...</td>\n",
       "      <td>...</td>\n",
       "      <td>...</td>\n",
       "      <td>...</td>\n",
       "      <td>...</td>\n",
       "      <td>...</td>\n",
       "      <td>...</td>\n",
       "    </tr>\n",
       "    <tr>\n",
       "      <th>38051</th>\n",
       "      <td>11.111111</td>\n",
       "      <td>20.000000</td>\n",
       "      <td>16.304348</td>\n",
       "      <td>8.695652</td>\n",
       "      <td>0.000000</td>\n",
       "      <td>28.019324</td>\n",
       "      <td>35.000000</td>\n",
       "      <td>179.739130</td>\n",
       "      <td>72.217391</td>\n",
       "      <td>66.666667</td>\n",
       "    </tr>\n",
       "    <tr>\n",
       "      <th>38053</th>\n",
       "      <td>6.926407</td>\n",
       "      <td>70.873786</td>\n",
       "      <td>33.143094</td>\n",
       "      <td>16.927873</td>\n",
       "      <td>1.886792</td>\n",
       "      <td>38.370621</td>\n",
       "      <td>46.159673</td>\n",
       "      <td>181.000000</td>\n",
       "      <td>89.000000</td>\n",
       "      <td>70.270270</td>\n",
       "    </tr>\n",
       "    <tr>\n",
       "      <th>38054</th>\n",
       "      <td>52.671756</td>\n",
       "      <td>48.333333</td>\n",
       "      <td>24.155844</td>\n",
       "      <td>8.558559</td>\n",
       "      <td>11.111111</td>\n",
       "      <td>3.030303</td>\n",
       "      <td>2.166065</td>\n",
       "      <td>175.000000</td>\n",
       "      <td>69.000000</td>\n",
       "      <td>36.290323</td>\n",
       "    </tr>\n",
       "    <tr>\n",
       "      <th>38055</th>\n",
       "      <td>19.559229</td>\n",
       "      <td>52.800000</td>\n",
       "      <td>45.402360</td>\n",
       "      <td>38.089039</td>\n",
       "      <td>75.000000</td>\n",
       "      <td>34.953591</td>\n",
       "      <td>42.434783</td>\n",
       "      <td>175.000000</td>\n",
       "      <td>86.000000</td>\n",
       "      <td>64.156627</td>\n",
       "    </tr>\n",
       "    <tr>\n",
       "      <th>38056</th>\n",
       "      <td>0.000000</td>\n",
       "      <td>12.500000</td>\n",
       "      <td>18.297101</td>\n",
       "      <td>15.896739</td>\n",
       "      <td>0.000000</td>\n",
       "      <td>11.956522</td>\n",
       "      <td>6.521739</td>\n",
       "      <td>178.956522</td>\n",
       "      <td>71.739130</td>\n",
       "      <td>42.857143</td>\n",
       "    </tr>\n",
       "  </tbody>\n",
       "</table>\n",
       "<p>34117 rows × 10 columns</p>\n",
       "</div>"
      ],
      "text/plain": [
       "        shooting  agressive  impulse_degree   crossing  assisting   tackling  \\\n",
       "0       0.000000   0.000000        5.900621   5.533597   0.000000  10.869565   \n",
       "1       0.000000   0.000000        3.105590   0.790514   0.000000   2.898551   \n",
       "2       0.000000  50.000000       13.043478  11.820652   0.000000  20.108696   \n",
       "3       0.000000   0.000000       16.770186   7.114625   0.000000  15.217391   \n",
       "4       0.000000   0.000000        1.242236   0.790514   0.000000   1.449275   \n",
       "...          ...        ...             ...        ...        ...        ...   \n",
       "38051  11.111111  20.000000       16.304348   8.695652   0.000000  28.019324   \n",
       "38053   6.926407  70.873786       33.143094  16.927873   1.886792  38.370621   \n",
       "38054  52.671756  48.333333       24.155844   8.558559  11.111111   3.030303   \n",
       "38055  19.559229  52.800000       45.402360  38.089039  75.000000  34.953591   \n",
       "38056   0.000000  12.500000       18.297101  15.896739   0.000000  11.956522   \n",
       "\n",
       "       intercepting      height     weight       power  \n",
       "0         10.326087  180.000000  69.000000  100.000000  \n",
       "1          2.717391  181.391304  73.565217  100.000000  \n",
       "2         22.705314  182.086957  74.739130   75.000000  \n",
       "3          4.891304  180.000000  77.000000   50.000000  \n",
       "4          0.000000  176.608696  68.826087  100.000000  \n",
       "...             ...         ...        ...         ...  \n",
       "38051     35.000000  179.739130  72.217391   66.666667  \n",
       "38053     46.159673  181.000000  89.000000   70.270270  \n",
       "38054      2.166065  175.000000  69.000000   36.290323  \n",
       "38055     42.434783  175.000000  86.000000   64.156627  \n",
       "38056      6.521739  178.956522  71.739130   42.857143  \n",
       "\n",
       "[34117 rows x 10 columns]"
      ]
     },
     "execution_count": 264,
     "metadata": {},
     "output_type": "execute_result"
    }
   ],
   "source": [
    "data[ranged_columns]"
   ]
  },
  {
   "cell_type": "code",
   "execution_count": 265,
   "id": "c192bb47",
   "metadata": {},
   "outputs": [],
   "source": [
    "def round_data(series):\n",
    "    for i in range(20,0,-1):\n",
    "        series=series.apply(lambda x: round(x,i))\n",
    "    \n",
    "    series=series.apply(lambda x: round(x))\n",
    "    return series "
   ]
  },
  {
   "cell_type": "code",
   "execution_count": 266,
   "id": "66a7e039",
   "metadata": {},
   "outputs": [
    {
     "data": {
      "text/plain": [
       "shooting          0\n",
       "agressive         0\n",
       "impulse_degree    0\n",
       "crossing          3\n",
       "assisting         0\n",
       "tackling          3\n",
       "intercepting      3\n",
       "height            0\n",
       "weight            0\n",
       "power             0\n",
       "dtype: int64"
      ]
     },
     "execution_count": 266,
     "metadata": {},
     "output_type": "execute_result"
    }
   ],
   "source": [
    "data[ranged_columns].isna().sum()"
   ]
  },
  {
   "cell_type": "code",
   "execution_count": 267,
   "id": "5df5c79f",
   "metadata": {},
   "outputs": [],
   "source": [
    "data=data[~data['tackling'].isna()]"
   ]
  },
  {
   "cell_type": "code",
   "execution_count": 268,
   "id": "ce702e43",
   "metadata": {},
   "outputs": [],
   "source": [
    "data=data[~data['impulse_degree'].isna()]"
   ]
  },
  {
   "cell_type": "code",
   "execution_count": 269,
   "id": "60e1f988",
   "metadata": {},
   "outputs": [],
   "source": [
    "data=data[~data['crossing'].isna()]"
   ]
  },
  {
   "cell_type": "code",
   "execution_count": 270,
   "id": "98c66a39",
   "metadata": {},
   "outputs": [],
   "source": [
    "data=data[~data['assisting'].isna()]"
   ]
  },
  {
   "cell_type": "code",
   "execution_count": 271,
   "id": "7e143090",
   "metadata": {},
   "outputs": [],
   "source": [
    "data=data[~data['power'].isna()]"
   ]
  },
  {
   "cell_type": "code",
   "execution_count": 272,
   "id": "5df4d16e",
   "metadata": {},
   "outputs": [],
   "source": [
    "data=data[~data['intercepting'].isna()]"
   ]
  },
  {
   "cell_type": "code",
   "execution_count": 273,
   "id": "e6a1e70f",
   "metadata": {},
   "outputs": [],
   "source": [
    "data=data[~data['shooting'].isna()]"
   ]
  },
  {
   "cell_type": "code",
   "execution_count": 274,
   "id": "02967d5f",
   "metadata": {},
   "outputs": [],
   "source": [
    "# data=data[~data]"
   ]
  },
  {
   "cell_type": "code",
   "execution_count": 275,
   "id": "b301e8e3",
   "metadata": {},
   "outputs": [],
   "source": [
    "data=data[~data['agressive'].isna()]"
   ]
  },
  {
   "cell_type": "code",
   "execution_count": 276,
   "id": "28977708",
   "metadata": {
    "scrolled": true
   },
   "outputs": [],
   "source": [
    "for col in ranged_columns:\n",
    "    data[col]=round_data(data[col])"
   ]
  },
  {
   "cell_type": "code",
   "execution_count": 277,
   "id": "d0ddd626",
   "metadata": {
    "scrolled": true
   },
   "outputs": [
    {
     "data": {
      "text/html": [
       "<div>\n",
       "<style scoped>\n",
       "    .dataframe tbody tr th:only-of-type {\n",
       "        vertical-align: middle;\n",
       "    }\n",
       "\n",
       "    .dataframe tbody tr th {\n",
       "        vertical-align: top;\n",
       "    }\n",
       "\n",
       "    .dataframe thead th {\n",
       "        text-align: right;\n",
       "    }\n",
       "</style>\n",
       "<table border=\"1\" class=\"dataframe\">\n",
       "  <thead>\n",
       "    <tr style=\"text-align: right;\">\n",
       "      <th></th>\n",
       "      <th>shooting</th>\n",
       "      <th>agressive</th>\n",
       "      <th>impulse_degree</th>\n",
       "      <th>crossing</th>\n",
       "      <th>assisting</th>\n",
       "      <th>tackling</th>\n",
       "      <th>intercepting</th>\n",
       "      <th>height</th>\n",
       "      <th>weight</th>\n",
       "      <th>power</th>\n",
       "    </tr>\n",
       "  </thead>\n",
       "  <tbody>\n",
       "    <tr>\n",
       "      <th>0</th>\n",
       "      <td>0</td>\n",
       "      <td>0</td>\n",
       "      <td>6</td>\n",
       "      <td>6</td>\n",
       "      <td>0</td>\n",
       "      <td>11</td>\n",
       "      <td>10</td>\n",
       "      <td>180</td>\n",
       "      <td>69</td>\n",
       "      <td>100</td>\n",
       "    </tr>\n",
       "    <tr>\n",
       "      <th>1</th>\n",
       "      <td>0</td>\n",
       "      <td>0</td>\n",
       "      <td>3</td>\n",
       "      <td>1</td>\n",
       "      <td>0</td>\n",
       "      <td>3</td>\n",
       "      <td>3</td>\n",
       "      <td>181</td>\n",
       "      <td>74</td>\n",
       "      <td>100</td>\n",
       "    </tr>\n",
       "    <tr>\n",
       "      <th>2</th>\n",
       "      <td>0</td>\n",
       "      <td>50</td>\n",
       "      <td>13</td>\n",
       "      <td>12</td>\n",
       "      <td>0</td>\n",
       "      <td>20</td>\n",
       "      <td>23</td>\n",
       "      <td>182</td>\n",
       "      <td>75</td>\n",
       "      <td>75</td>\n",
       "    </tr>\n",
       "    <tr>\n",
       "      <th>3</th>\n",
       "      <td>0</td>\n",
       "      <td>0</td>\n",
       "      <td>17</td>\n",
       "      <td>7</td>\n",
       "      <td>0</td>\n",
       "      <td>15</td>\n",
       "      <td>5</td>\n",
       "      <td>180</td>\n",
       "      <td>77</td>\n",
       "      <td>50</td>\n",
       "    </tr>\n",
       "    <tr>\n",
       "      <th>4</th>\n",
       "      <td>0</td>\n",
       "      <td>0</td>\n",
       "      <td>1</td>\n",
       "      <td>1</td>\n",
       "      <td>0</td>\n",
       "      <td>1</td>\n",
       "      <td>0</td>\n",
       "      <td>177</td>\n",
       "      <td>69</td>\n",
       "      <td>100</td>\n",
       "    </tr>\n",
       "    <tr>\n",
       "      <th>...</th>\n",
       "      <td>...</td>\n",
       "      <td>...</td>\n",
       "      <td>...</td>\n",
       "      <td>...</td>\n",
       "      <td>...</td>\n",
       "      <td>...</td>\n",
       "      <td>...</td>\n",
       "      <td>...</td>\n",
       "      <td>...</td>\n",
       "      <td>...</td>\n",
       "    </tr>\n",
       "    <tr>\n",
       "      <th>38051</th>\n",
       "      <td>11</td>\n",
       "      <td>20</td>\n",
       "      <td>16</td>\n",
       "      <td>9</td>\n",
       "      <td>0</td>\n",
       "      <td>28</td>\n",
       "      <td>35</td>\n",
       "      <td>180</td>\n",
       "      <td>72</td>\n",
       "      <td>67</td>\n",
       "    </tr>\n",
       "    <tr>\n",
       "      <th>38053</th>\n",
       "      <td>7</td>\n",
       "      <td>71</td>\n",
       "      <td>33</td>\n",
       "      <td>17</td>\n",
       "      <td>2</td>\n",
       "      <td>38</td>\n",
       "      <td>46</td>\n",
       "      <td>181</td>\n",
       "      <td>89</td>\n",
       "      <td>70</td>\n",
       "    </tr>\n",
       "    <tr>\n",
       "      <th>38054</th>\n",
       "      <td>53</td>\n",
       "      <td>48</td>\n",
       "      <td>24</td>\n",
       "      <td>9</td>\n",
       "      <td>11</td>\n",
       "      <td>3</td>\n",
       "      <td>2</td>\n",
       "      <td>175</td>\n",
       "      <td>69</td>\n",
       "      <td>36</td>\n",
       "    </tr>\n",
       "    <tr>\n",
       "      <th>38055</th>\n",
       "      <td>20</td>\n",
       "      <td>53</td>\n",
       "      <td>45</td>\n",
       "      <td>38</td>\n",
       "      <td>75</td>\n",
       "      <td>35</td>\n",
       "      <td>42</td>\n",
       "      <td>175</td>\n",
       "      <td>86</td>\n",
       "      <td>64</td>\n",
       "    </tr>\n",
       "    <tr>\n",
       "      <th>38056</th>\n",
       "      <td>0</td>\n",
       "      <td>12</td>\n",
       "      <td>18</td>\n",
       "      <td>16</td>\n",
       "      <td>0</td>\n",
       "      <td>12</td>\n",
       "      <td>6</td>\n",
       "      <td>179</td>\n",
       "      <td>72</td>\n",
       "      <td>43</td>\n",
       "    </tr>\n",
       "  </tbody>\n",
       "</table>\n",
       "<p>34114 rows × 10 columns</p>\n",
       "</div>"
      ],
      "text/plain": [
       "       shooting  agressive  impulse_degree  crossing  assisting  tackling  \\\n",
       "0             0          0               6         6          0        11   \n",
       "1             0          0               3         1          0         3   \n",
       "2             0         50              13        12          0        20   \n",
       "3             0          0              17         7          0        15   \n",
       "4             0          0               1         1          0         1   \n",
       "...         ...        ...             ...       ...        ...       ...   \n",
       "38051        11         20              16         9          0        28   \n",
       "38053         7         71              33        17          2        38   \n",
       "38054        53         48              24         9         11         3   \n",
       "38055        20         53              45        38         75        35   \n",
       "38056         0         12              18        16          0        12   \n",
       "\n",
       "       intercepting  height  weight  power  \n",
       "0                10     180      69    100  \n",
       "1                 3     181      74    100  \n",
       "2                23     182      75     75  \n",
       "3                 5     180      77     50  \n",
       "4                 0     177      69    100  \n",
       "...             ...     ...     ...    ...  \n",
       "38051            35     180      72     67  \n",
       "38053            46     181      89     70  \n",
       "38054             2     175      69     36  \n",
       "38055            42     175      86     64  \n",
       "38056             6     179      72     43  \n",
       "\n",
       "[34114 rows x 10 columns]"
      ]
     },
     "execution_count": 277,
     "metadata": {},
     "output_type": "execute_result"
    }
   ],
   "source": [
    "data[ranged_columns]"
   ]
  },
  {
   "cell_type": "code",
   "execution_count": 278,
   "id": "7b9ad902",
   "metadata": {},
   "outputs": [
    {
     "data": {
      "text/plain": [
       "MF    1706\n",
       "DF    1368\n",
       "FW    1039\n",
       "Name: position, dtype: int64"
      ]
     },
     "execution_count": 278,
     "metadata": {},
     "output_type": "execute_result"
    }
   ],
   "source": [
    "data[data['power']==data['power'].max()]['position'].value_counts()"
   ]
  },
  {
   "cell_type": "markdown",
   "id": "aaacbc84",
   "metadata": {},
   "source": [
    "# Test Validation Train "
   ]
  },
  {
   "cell_type": "code",
   "execution_count": 279,
   "id": "01f2d6a0",
   "metadata": {},
   "outputs": [],
   "source": [
    "data=data[data['position']!='GK']"
   ]
  },
  {
   "cell_type": "code",
   "execution_count": 280,
   "id": "caca2fef",
   "metadata": {},
   "outputs": [],
   "source": [
    "columns=['height',\n",
    "        'shooting', 'agressive', 'impulse_degree', 'crossing',\n",
    "       'assisting', 'tackling', 'intercepting', 'power','position']"
   ]
  },
  {
   "cell_type": "code",
   "execution_count": 281,
   "id": "cd9fe0db",
   "metadata": {},
   "outputs": [
    {
     "data": {
      "text/html": [
       "<div>\n",
       "<style scoped>\n",
       "    .dataframe tbody tr th:only-of-type {\n",
       "        vertical-align: middle;\n",
       "    }\n",
       "\n",
       "    .dataframe tbody tr th {\n",
       "        vertical-align: top;\n",
       "    }\n",
       "\n",
       "    .dataframe thead th {\n",
       "        text-align: right;\n",
       "    }\n",
       "</style>\n",
       "<table border=\"1\" class=\"dataframe\">\n",
       "  <thead>\n",
       "    <tr style=\"text-align: right;\">\n",
       "      <th></th>\n",
       "      <th>height</th>\n",
       "      <th>shooting</th>\n",
       "      <th>agressive</th>\n",
       "      <th>impulse_degree</th>\n",
       "      <th>crossing</th>\n",
       "      <th>assisting</th>\n",
       "      <th>tackling</th>\n",
       "      <th>intercepting</th>\n",
       "      <th>power</th>\n",
       "      <th>position</th>\n",
       "    </tr>\n",
       "  </thead>\n",
       "  <tbody>\n",
       "    <tr>\n",
       "      <th>10848</th>\n",
       "      <td>190</td>\n",
       "      <td>17</td>\n",
       "      <td>30</td>\n",
       "      <td>12</td>\n",
       "      <td>0</td>\n",
       "      <td>7</td>\n",
       "      <td>0</td>\n",
       "      <td>0</td>\n",
       "      <td>75</td>\n",
       "      <td>DF</td>\n",
       "    </tr>\n",
       "    <tr>\n",
       "      <th>10906</th>\n",
       "      <td>182</td>\n",
       "      <td>54</td>\n",
       "      <td>21</td>\n",
       "      <td>23</td>\n",
       "      <td>0</td>\n",
       "      <td>0</td>\n",
       "      <td>0</td>\n",
       "      <td>0</td>\n",
       "      <td>56</td>\n",
       "      <td>FW</td>\n",
       "    </tr>\n",
       "    <tr>\n",
       "      <th>2469</th>\n",
       "      <td>179</td>\n",
       "      <td>76</td>\n",
       "      <td>34</td>\n",
       "      <td>12</td>\n",
       "      <td>17</td>\n",
       "      <td>100</td>\n",
       "      <td>2</td>\n",
       "      <td>1</td>\n",
       "      <td>58</td>\n",
       "      <td>MF</td>\n",
       "    </tr>\n",
       "    <tr>\n",
       "      <th>18789</th>\n",
       "      <td>175</td>\n",
       "      <td>0</td>\n",
       "      <td>8</td>\n",
       "      <td>10</td>\n",
       "      <td>21</td>\n",
       "      <td>25</td>\n",
       "      <td>32</td>\n",
       "      <td>19</td>\n",
       "      <td>78</td>\n",
       "      <td>MF</td>\n",
       "    </tr>\n",
       "    <tr>\n",
       "      <th>25533</th>\n",
       "      <td>185</td>\n",
       "      <td>25</td>\n",
       "      <td>31</td>\n",
       "      <td>45</td>\n",
       "      <td>26</td>\n",
       "      <td>27</td>\n",
       "      <td>30</td>\n",
       "      <td>30</td>\n",
       "      <td>57</td>\n",
       "      <td>MF</td>\n",
       "    </tr>\n",
       "    <tr>\n",
       "      <th>...</th>\n",
       "      <td>...</td>\n",
       "      <td>...</td>\n",
       "      <td>...</td>\n",
       "      <td>...</td>\n",
       "      <td>...</td>\n",
       "      <td>...</td>\n",
       "      <td>...</td>\n",
       "      <td>...</td>\n",
       "      <td>...</td>\n",
       "      <td>...</td>\n",
       "    </tr>\n",
       "    <tr>\n",
       "      <th>21449</th>\n",
       "      <td>183</td>\n",
       "      <td>7</td>\n",
       "      <td>29</td>\n",
       "      <td>22</td>\n",
       "      <td>4</td>\n",
       "      <td>20</td>\n",
       "      <td>46</td>\n",
       "      <td>44</td>\n",
       "      <td>56</td>\n",
       "      <td>MF</td>\n",
       "    </tr>\n",
       "    <tr>\n",
       "      <th>29985</th>\n",
       "      <td>178</td>\n",
       "      <td>42</td>\n",
       "      <td>13</td>\n",
       "      <td>18</td>\n",
       "      <td>24</td>\n",
       "      <td>33</td>\n",
       "      <td>40</td>\n",
       "      <td>2</td>\n",
       "      <td>33</td>\n",
       "      <td>FW</td>\n",
       "    </tr>\n",
       "    <tr>\n",
       "      <th>25471</th>\n",
       "      <td>181</td>\n",
       "      <td>20</td>\n",
       "      <td>14</td>\n",
       "      <td>31</td>\n",
       "      <td>10</td>\n",
       "      <td>27</td>\n",
       "      <td>11</td>\n",
       "      <td>10</td>\n",
       "      <td>51</td>\n",
       "      <td>FW</td>\n",
       "    </tr>\n",
       "    <tr>\n",
       "      <th>34124</th>\n",
       "      <td>190</td>\n",
       "      <td>22</td>\n",
       "      <td>0</td>\n",
       "      <td>4</td>\n",
       "      <td>10</td>\n",
       "      <td>0</td>\n",
       "      <td>13</td>\n",
       "      <td>5</td>\n",
       "      <td>37</td>\n",
       "      <td>FW</td>\n",
       "    </tr>\n",
       "    <tr>\n",
       "      <th>29352</th>\n",
       "      <td>167</td>\n",
       "      <td>0</td>\n",
       "      <td>26</td>\n",
       "      <td>37</td>\n",
       "      <td>29</td>\n",
       "      <td>30</td>\n",
       "      <td>34</td>\n",
       "      <td>24</td>\n",
       "      <td>67</td>\n",
       "      <td>MF</td>\n",
       "    </tr>\n",
       "  </tbody>\n",
       "</table>\n",
       "<p>34114 rows × 10 columns</p>\n",
       "</div>"
      ],
      "text/plain": [
       "       height  shooting  agressive  impulse_degree  crossing  assisting  \\\n",
       "10848     190        17         30              12         0          7   \n",
       "10906     182        54         21              23         0          0   \n",
       "2469      179        76         34              12        17        100   \n",
       "18789     175         0          8              10        21         25   \n",
       "25533     185        25         31              45        26         27   \n",
       "...       ...       ...        ...             ...       ...        ...   \n",
       "21449     183         7         29              22         4         20   \n",
       "29985     178        42         13              18        24         33   \n",
       "25471     181        20         14              31        10         27   \n",
       "34124     190        22          0               4        10          0   \n",
       "29352     167         0         26              37        29         30   \n",
       "\n",
       "       tackling  intercepting  power position  \n",
       "10848         0             0     75       DF  \n",
       "10906         0             0     56       FW  \n",
       "2469          2             1     58       MF  \n",
       "18789        32            19     78       MF  \n",
       "25533        30            30     57       MF  \n",
       "...         ...           ...    ...      ...  \n",
       "21449        46            44     56       MF  \n",
       "29985        40             2     33       FW  \n",
       "25471        11            10     51       FW  \n",
       "34124        13             5     37       FW  \n",
       "29352        34            24     67       MF  \n",
       "\n",
       "[34114 rows x 10 columns]"
      ]
     },
     "execution_count": 281,
     "metadata": {},
     "output_type": "execute_result"
    }
   ],
   "source": [
    "data.sample(frac=1)[columns]"
   ]
  },
  {
   "cell_type": "code",
   "execution_count": 282,
   "id": "2d63aba0",
   "metadata": {},
   "outputs": [],
   "source": [
    "data=data.sample(frac=1)"
   ]
  },
  {
   "cell_type": "code",
   "execution_count": 283,
   "id": "af570489",
   "metadata": {},
   "outputs": [],
   "source": [
    "test=data[0:6750][columns]"
   ]
  },
  {
   "cell_type": "code",
   "execution_count": 284,
   "id": "91a30a1c",
   "metadata": {
    "scrolled": true
   },
   "outputs": [
    {
     "data": {
      "text/html": [
       "<div>\n",
       "<style scoped>\n",
       "    .dataframe tbody tr th:only-of-type {\n",
       "        vertical-align: middle;\n",
       "    }\n",
       "\n",
       "    .dataframe tbody tr th {\n",
       "        vertical-align: top;\n",
       "    }\n",
       "\n",
       "    .dataframe thead th {\n",
       "        text-align: right;\n",
       "    }\n",
       "</style>\n",
       "<table border=\"1\" class=\"dataframe\">\n",
       "  <thead>\n",
       "    <tr style=\"text-align: right;\">\n",
       "      <th></th>\n",
       "      <th>height</th>\n",
       "      <th>shooting</th>\n",
       "      <th>agressive</th>\n",
       "      <th>impulse_degree</th>\n",
       "      <th>crossing</th>\n",
       "      <th>assisting</th>\n",
       "      <th>tackling</th>\n",
       "      <th>intercepting</th>\n",
       "      <th>power</th>\n",
       "      <th>position</th>\n",
       "    </tr>\n",
       "  </thead>\n",
       "  <tbody>\n",
       "    <tr>\n",
       "      <th>18793</th>\n",
       "      <td>175</td>\n",
       "      <td>15</td>\n",
       "      <td>16</td>\n",
       "      <td>40</td>\n",
       "      <td>12</td>\n",
       "      <td>50</td>\n",
       "      <td>13</td>\n",
       "      <td>8</td>\n",
       "      <td>64</td>\n",
       "      <td>FW</td>\n",
       "    </tr>\n",
       "    <tr>\n",
       "      <th>7127</th>\n",
       "      <td>189</td>\n",
       "      <td>19</td>\n",
       "      <td>55</td>\n",
       "      <td>50</td>\n",
       "      <td>8</td>\n",
       "      <td>28</td>\n",
       "      <td>40</td>\n",
       "      <td>58</td>\n",
       "      <td>54</td>\n",
       "      <td>MF</td>\n",
       "    </tr>\n",
       "    <tr>\n",
       "      <th>2488</th>\n",
       "      <td>185</td>\n",
       "      <td>17</td>\n",
       "      <td>69</td>\n",
       "      <td>57</td>\n",
       "      <td>1</td>\n",
       "      <td>18</td>\n",
       "      <td>19</td>\n",
       "      <td>50</td>\n",
       "      <td>72</td>\n",
       "      <td>DF</td>\n",
       "    </tr>\n",
       "    <tr>\n",
       "      <th>26603</th>\n",
       "      <td>179</td>\n",
       "      <td>0</td>\n",
       "      <td>10</td>\n",
       "      <td>17</td>\n",
       "      <td>10</td>\n",
       "      <td>4</td>\n",
       "      <td>20</td>\n",
       "      <td>33</td>\n",
       "      <td>67</td>\n",
       "      <td>DF</td>\n",
       "    </tr>\n",
       "    <tr>\n",
       "      <th>31690</th>\n",
       "      <td>186</td>\n",
       "      <td>12</td>\n",
       "      <td>39</td>\n",
       "      <td>42</td>\n",
       "      <td>10</td>\n",
       "      <td>14</td>\n",
       "      <td>45</td>\n",
       "      <td>23</td>\n",
       "      <td>59</td>\n",
       "      <td>MF</td>\n",
       "    </tr>\n",
       "    <tr>\n",
       "      <th>...</th>\n",
       "      <td>...</td>\n",
       "      <td>...</td>\n",
       "      <td>...</td>\n",
       "      <td>...</td>\n",
       "      <td>...</td>\n",
       "      <td>...</td>\n",
       "      <td>...</td>\n",
       "      <td>...</td>\n",
       "      <td>...</td>\n",
       "      <td>...</td>\n",
       "    </tr>\n",
       "    <tr>\n",
       "      <th>10585</th>\n",
       "      <td>185</td>\n",
       "      <td>8</td>\n",
       "      <td>38</td>\n",
       "      <td>20</td>\n",
       "      <td>13</td>\n",
       "      <td>0</td>\n",
       "      <td>35</td>\n",
       "      <td>36</td>\n",
       "      <td>70</td>\n",
       "      <td>DF</td>\n",
       "    </tr>\n",
       "    <tr>\n",
       "      <th>14669</th>\n",
       "      <td>178</td>\n",
       "      <td>22</td>\n",
       "      <td>27</td>\n",
       "      <td>24</td>\n",
       "      <td>11</td>\n",
       "      <td>31</td>\n",
       "      <td>20</td>\n",
       "      <td>14</td>\n",
       "      <td>40</td>\n",
       "      <td>MF</td>\n",
       "    </tr>\n",
       "    <tr>\n",
       "      <th>16340</th>\n",
       "      <td>178</td>\n",
       "      <td>6</td>\n",
       "      <td>20</td>\n",
       "      <td>10</td>\n",
       "      <td>18</td>\n",
       "      <td>19</td>\n",
       "      <td>19</td>\n",
       "      <td>18</td>\n",
       "      <td>55</td>\n",
       "      <td>MF</td>\n",
       "    </tr>\n",
       "    <tr>\n",
       "      <th>34192</th>\n",
       "      <td>189</td>\n",
       "      <td>29</td>\n",
       "      <td>32</td>\n",
       "      <td>23</td>\n",
       "      <td>11</td>\n",
       "      <td>5</td>\n",
       "      <td>31</td>\n",
       "      <td>43</td>\n",
       "      <td>70</td>\n",
       "      <td>DF</td>\n",
       "    </tr>\n",
       "    <tr>\n",
       "      <th>7825</th>\n",
       "      <td>181</td>\n",
       "      <td>12</td>\n",
       "      <td>25</td>\n",
       "      <td>19</td>\n",
       "      <td>16</td>\n",
       "      <td>0</td>\n",
       "      <td>12</td>\n",
       "      <td>8</td>\n",
       "      <td>75</td>\n",
       "      <td>FW</td>\n",
       "    </tr>\n",
       "  </tbody>\n",
       "</table>\n",
       "<p>6750 rows × 10 columns</p>\n",
       "</div>"
      ],
      "text/plain": [
       "       height  shooting  agressive  impulse_degree  crossing  assisting  \\\n",
       "18793     175        15         16              40        12         50   \n",
       "7127      189        19         55              50         8         28   \n",
       "2488      185        17         69              57         1         18   \n",
       "26603     179         0         10              17        10          4   \n",
       "31690     186        12         39              42        10         14   \n",
       "...       ...       ...        ...             ...       ...        ...   \n",
       "10585     185         8         38              20        13          0   \n",
       "14669     178        22         27              24        11         31   \n",
       "16340     178         6         20              10        18         19   \n",
       "34192     189        29         32              23        11          5   \n",
       "7825      181        12         25              19        16          0   \n",
       "\n",
       "       tackling  intercepting  power position  \n",
       "18793        13             8     64       FW  \n",
       "7127         40            58     54       MF  \n",
       "2488         19            50     72       DF  \n",
       "26603        20            33     67       DF  \n",
       "31690        45            23     59       MF  \n",
       "...         ...           ...    ...      ...  \n",
       "10585        35            36     70       DF  \n",
       "14669        20            14     40       MF  \n",
       "16340        19            18     55       MF  \n",
       "34192        31            43     70       DF  \n",
       "7825         12             8     75       FW  \n",
       "\n",
       "[6750 rows x 10 columns]"
      ]
     },
     "execution_count": 284,
     "metadata": {},
     "output_type": "execute_result"
    }
   ],
   "source": [
    "test"
   ]
  },
  {
   "cell_type": "code",
   "execution_count": 285,
   "id": "eee68a8f",
   "metadata": {},
   "outputs": [],
   "source": [
    "test.to_csv('finalData/test.csv',index=False)"
   ]
  },
  {
   "cell_type": "code",
   "execution_count": 286,
   "id": "487f3c0d",
   "metadata": {
    "scrolled": true
   },
   "outputs": [
    {
     "data": {
      "text/plain": [
       "Index(['impulse_degree', 'crossing', 'assisting', 'tackling', 'intercepting',\n",
       "       'power'],\n",
       "      dtype='object')"
      ]
     },
     "execution_count": 286,
     "metadata": {},
     "output_type": "execute_result"
    }
   ],
   "source": [
    "data.columns[30:]"
   ]
  },
  {
   "cell_type": "code",
   "execution_count": 289,
   "id": "0f4283b9",
   "metadata": {},
   "outputs": [],
   "source": [
    "new=data[6750:]"
   ]
  },
  {
   "cell_type": "code",
   "execution_count": 290,
   "id": "e0249138",
   "metadata": {},
   "outputs": [],
   "source": [
    "new.to_csv('finalData/TrainingData.csv',index=False)"
   ]
  }
 ],
 "metadata": {
  "kernelspec": {
   "display_name": "Python 3 (ipykernel)",
   "language": "python",
   "name": "python3"
  },
  "language_info": {
   "codemirror_mode": {
    "name": "ipython",
    "version": 3
   },
   "file_extension": ".py",
   "mimetype": "text/x-python",
   "name": "python",
   "nbconvert_exporter": "python",
   "pygments_lexer": "ipython3",
   "version": "3.9.7"
  }
 },
 "nbformat": 4,
 "nbformat_minor": 5
}
