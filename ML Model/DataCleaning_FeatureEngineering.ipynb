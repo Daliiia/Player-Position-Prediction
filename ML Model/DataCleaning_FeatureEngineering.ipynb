{
 "cells": [
  {
   "cell_type": "code",
   "execution_count": 693,
   "id": "681476c8",
   "metadata": {},
   "outputs": [],
   "source": [
    "import pandas as pd \n",
    "import numpy as np"
   ]
  },
  {
   "cell_type": "code",
   "execution_count": 694,
   "id": "d57f1ce3",
   "metadata": {},
   "outputs": [],
   "source": [
    "# Reading scraped files"
   ]
  },
  {
   "cell_type": "code",
   "execution_count": 695,
   "id": "c1b0fd5c",
   "metadata": {},
   "outputs": [],
   "source": [
    "import os\n",
    "import glob"
   ]
  },
  {
   "cell_type": "code",
   "execution_count": 696,
   "id": "122f6087",
   "metadata": {},
   "outputs": [],
   "source": [
    "path = os.getcwd()\n",
    "csv_files = glob.glob(os.path.join(path, \"*.csv\"))"
   ]
  },
  {
   "cell_type": "code",
   "execution_count": 697,
   "id": "35c455f7",
   "metadata": {},
   "outputs": [
    {
     "data": {
      "text/plain": [
       "71"
      ]
     },
     "execution_count": 697,
     "metadata": {},
     "output_type": "execute_result"
    }
   ],
   "source": [
    "len(csv_files)"
   ]
  },
  {
   "cell_type": "code",
   "execution_count": 698,
   "id": "b9fb799b",
   "metadata": {},
   "outputs": [],
   "source": [
    "data=pd.read_csv(csv_files[0])"
   ]
  },
  {
   "cell_type": "code",
   "execution_count": 699,
   "id": "eae70f47",
   "metadata": {},
   "outputs": [],
   "source": [
    "for i in csv_files[1:]:\n",
    "    readed_data=pd.read_csv(i)\n",
    "    data=pd.concat([data,readed_data],ignore_index=True)"
   ]
  },
  {
   "cell_type": "code",
   "execution_count": 700,
   "id": "3e1f8d72",
   "metadata": {},
   "outputs": [
    {
     "data": {
      "text/html": [
       "<div>\n",
       "<style scoped>\n",
       "    .dataframe tbody tr th:only-of-type {\n",
       "        vertical-align: middle;\n",
       "    }\n",
       "\n",
       "    .dataframe tbody tr th {\n",
       "        vertical-align: top;\n",
       "    }\n",
       "\n",
       "    .dataframe thead th {\n",
       "        text-align: right;\n",
       "    }\n",
       "</style>\n",
       "<table border=\"1\" class=\"dataframe\">\n",
       "  <thead>\n",
       "    <tr style=\"text-align: right;\">\n",
       "      <th></th>\n",
       "      <th>MP</th>\n",
       "      <th>games_starts</th>\n",
       "      <th>minutes</th>\n",
       "      <th>goals</th>\n",
       "      <th>assists</th>\n",
       "      <th>goals_pens</th>\n",
       "      <th>pens_made</th>\n",
       "      <th>pens_att</th>\n",
       "      <th>cards_yellow</th>\n",
       "      <th>cards_red</th>\n",
       "      <th>...</th>\n",
       "      <th>fouls</th>\n",
       "      <th>fouled</th>\n",
       "      <th>offsides</th>\n",
       "      <th>crosses</th>\n",
       "      <th>interceptions</th>\n",
       "      <th>tackles_won</th>\n",
       "      <th>pens_won</th>\n",
       "      <th>pens_conceded</th>\n",
       "      <th>main_info</th>\n",
       "      <th>country</th>\n",
       "    </tr>\n",
       "  </thead>\n",
       "  <tbody>\n",
       "    <tr>\n",
       "      <th>0</th>\n",
       "      <td>1.0</td>\n",
       "      <td>0.0</td>\n",
       "      <td>34</td>\n",
       "      <td>0.0</td>\n",
       "      <td>0.0</td>\n",
       "      <td>0.0</td>\n",
       "      <td>0.0</td>\n",
       "      <td>0.0</td>\n",
       "      <td>0.0</td>\n",
       "      <td>0.0</td>\n",
       "      <td>...</td>\n",
       "      <td>NaN</td>\n",
       "      <td>NaN</td>\n",
       "      <td>NaN</td>\n",
       "      <td>NaN</td>\n",
       "      <td>NaN</td>\n",
       "      <td>NaN</td>\n",
       "      <td>NaN</td>\n",
       "      <td>NaN</td>\n",
       "      <td>Masood Abdulsaeed Position: DF 180cm, 69kg (5-...</td>\n",
       "      <td>Afghanistan</td>\n",
       "    </tr>\n",
       "    <tr>\n",
       "      <th>1</th>\n",
       "      <td>1.0</td>\n",
       "      <td>0.0</td>\n",
       "      <td>7</td>\n",
       "      <td>0.0</td>\n",
       "      <td>0.0</td>\n",
       "      <td>0.0</td>\n",
       "      <td>0.0</td>\n",
       "      <td>0.0</td>\n",
       "      <td>0.0</td>\n",
       "      <td>0.0</td>\n",
       "      <td>...</td>\n",
       "      <td>NaN</td>\n",
       "      <td>NaN</td>\n",
       "      <td>NaN</td>\n",
       "      <td>NaN</td>\n",
       "      <td>NaN</td>\n",
       "      <td>NaN</td>\n",
       "      <td>NaN</td>\n",
       "      <td>NaN</td>\n",
       "      <td>Mustafa Afshar Position: FW Born: November 25,...</td>\n",
       "      <td>Afghanistan</td>\n",
       "    </tr>\n",
       "    <tr>\n",
       "      <th>2</th>\n",
       "      <td>4.0</td>\n",
       "      <td>4.0</td>\n",
       "      <td>321</td>\n",
       "      <td>0.0</td>\n",
       "      <td>NaN</td>\n",
       "      <td>0.0</td>\n",
       "      <td>0.0</td>\n",
       "      <td>0.0</td>\n",
       "      <td>2.0</td>\n",
       "      <td>1.0</td>\n",
       "      <td>...</td>\n",
       "      <td>NaN</td>\n",
       "      <td>NaN</td>\n",
       "      <td>NaN</td>\n",
       "      <td>NaN</td>\n",
       "      <td>NaN</td>\n",
       "      <td>NaN</td>\n",
       "      <td>NaN</td>\n",
       "      <td>NaN</td>\n",
       "      <td>Bashir Ahmad Saadat Position: DF Born: Decembe...</td>\n",
       "      <td>Afghanistan</td>\n",
       "    </tr>\n",
       "    <tr>\n",
       "      <th>3</th>\n",
       "      <td>2.0</td>\n",
       "      <td>2.0</td>\n",
       "      <td>104</td>\n",
       "      <td>0.0</td>\n",
       "      <td>0.0</td>\n",
       "      <td>0.0</td>\n",
       "      <td>0.0</td>\n",
       "      <td>0.0</td>\n",
       "      <td>0.0</td>\n",
       "      <td>0.0</td>\n",
       "      <td>...</td>\n",
       "      <td>NaN</td>\n",
       "      <td>NaN</td>\n",
       "      <td>NaN</td>\n",
       "      <td>NaN</td>\n",
       "      <td>NaN</td>\n",
       "      <td>NaN</td>\n",
       "      <td>NaN</td>\n",
       "      <td>NaN</td>\n",
       "      <td>Moshtaq Ahmadi Moshtaq Ahmadi Position: FW 180...</td>\n",
       "      <td>Afghanistan</td>\n",
       "    </tr>\n",
       "    <tr>\n",
       "      <th>4</th>\n",
       "      <td>1.0</td>\n",
       "      <td>0.0</td>\n",
       "      <td>1</td>\n",
       "      <td>0.0</td>\n",
       "      <td>0.0</td>\n",
       "      <td>0.0</td>\n",
       "      <td>0.0</td>\n",
       "      <td>0.0</td>\n",
       "      <td>0.0</td>\n",
       "      <td>0.0</td>\n",
       "      <td>...</td>\n",
       "      <td>NaN</td>\n",
       "      <td>NaN</td>\n",
       "      <td>NaN</td>\n",
       "      <td>NaN</td>\n",
       "      <td>NaN</td>\n",
       "      <td>NaN</td>\n",
       "      <td>NaN</td>\n",
       "      <td>NaN</td>\n",
       "      <td>Qesmat Ahmadi Position: MF Born: August 13, 19...</td>\n",
       "      <td>Afghanistan</td>\n",
       "    </tr>\n",
       "  </tbody>\n",
       "</table>\n",
       "<p>5 rows × 21 columns</p>\n",
       "</div>"
      ],
      "text/plain": [
       "    MP  games_starts minutes  goals  assists  goals_pens  pens_made  pens_att  \\\n",
       "0  1.0           0.0      34    0.0      0.0         0.0        0.0       0.0   \n",
       "1  1.0           0.0       7    0.0      0.0         0.0        0.0       0.0   \n",
       "2  4.0           4.0     321    0.0      NaN         0.0        0.0       0.0   \n",
       "3  2.0           2.0     104    0.0      0.0         0.0        0.0       0.0   \n",
       "4  1.0           0.0       1    0.0      0.0         0.0        0.0       0.0   \n",
       "\n",
       "   cards_yellow  cards_red  ...  fouls  fouled  offsides  crosses  \\\n",
       "0           0.0        0.0  ...    NaN     NaN       NaN      NaN   \n",
       "1           0.0        0.0  ...    NaN     NaN       NaN      NaN   \n",
       "2           2.0        1.0  ...    NaN     NaN       NaN      NaN   \n",
       "3           0.0        0.0  ...    NaN     NaN       NaN      NaN   \n",
       "4           0.0        0.0  ...    NaN     NaN       NaN      NaN   \n",
       "\n",
       "   interceptions  tackles_won  pens_won  pens_conceded  \\\n",
       "0            NaN          NaN       NaN            NaN   \n",
       "1            NaN          NaN       NaN            NaN   \n",
       "2            NaN          NaN       NaN            NaN   \n",
       "3            NaN          NaN       NaN            NaN   \n",
       "4            NaN          NaN       NaN            NaN   \n",
       "\n",
       "                                           main_info       country  \n",
       "0  Masood Abdulsaeed Position: DF 180cm, 69kg (5-...  Afghanistan   \n",
       "1  Mustafa Afshar Position: FW Born: November 25,...  Afghanistan   \n",
       "2  Bashir Ahmad Saadat Position: DF Born: Decembe...  Afghanistan   \n",
       "3  Moshtaq Ahmadi Moshtaq Ahmadi Position: FW 180...  Afghanistan   \n",
       "4  Qesmat Ahmadi Position: MF Born: August 13, 19...  Afghanistan   \n",
       "\n",
       "[5 rows x 21 columns]"
      ]
     },
     "execution_count": 700,
     "metadata": {},
     "output_type": "execute_result"
    }
   ],
   "source": [
    "data.head()"
   ]
  },
  {
   "cell_type": "code",
   "execution_count": 701,
   "id": "43e87fe6",
   "metadata": {},
   "outputs": [
    {
     "data": {
      "text/html": [
       "<div>\n",
       "<style scoped>\n",
       "    .dataframe tbody tr th:only-of-type {\n",
       "        vertical-align: middle;\n",
       "    }\n",
       "\n",
       "    .dataframe tbody tr th {\n",
       "        vertical-align: top;\n",
       "    }\n",
       "\n",
       "    .dataframe thead th {\n",
       "        text-align: right;\n",
       "    }\n",
       "</style>\n",
       "<table border=\"1\" class=\"dataframe\">\n",
       "  <thead>\n",
       "    <tr style=\"text-align: right;\">\n",
       "      <th></th>\n",
       "      <th>MP</th>\n",
       "      <th>games_starts</th>\n",
       "      <th>goals</th>\n",
       "      <th>assists</th>\n",
       "      <th>goals_pens</th>\n",
       "      <th>pens_made</th>\n",
       "      <th>pens_att</th>\n",
       "      <th>cards_yellow</th>\n",
       "      <th>cards_red</th>\n",
       "      <th>cards_yellow_red</th>\n",
       "      <th>fouls</th>\n",
       "      <th>fouled</th>\n",
       "      <th>offsides</th>\n",
       "      <th>crosses</th>\n",
       "      <th>interceptions</th>\n",
       "      <th>tackles_won</th>\n",
       "      <th>pens_won</th>\n",
       "      <th>pens_conceded</th>\n",
       "    </tr>\n",
       "  </thead>\n",
       "  <tbody>\n",
       "    <tr>\n",
       "      <th>count</th>\n",
       "      <td>44887.000000</td>\n",
       "      <td>44887.000000</td>\n",
       "      <td>44739.000000</td>\n",
       "      <td>40455.000000</td>\n",
       "      <td>44733.000000</td>\n",
       "      <td>44734.000000</td>\n",
       "      <td>43436.000000</td>\n",
       "      <td>44739.000000</td>\n",
       "      <td>44739.000000</td>\n",
       "      <td>33544.000000</td>\n",
       "      <td>25490.000000</td>\n",
       "      <td>18438.000000</td>\n",
       "      <td>18441.00000</td>\n",
       "      <td>18428.000000</td>\n",
       "      <td>18425.000000</td>\n",
       "      <td>18425.000000</td>\n",
       "      <td>12290.000000</td>\n",
       "      <td>12290.000000</td>\n",
       "    </tr>\n",
       "    <tr>\n",
       "      <th>mean</th>\n",
       "      <td>76.311761</td>\n",
       "      <td>61.124758</td>\n",
       "      <td>7.769530</td>\n",
       "      <td>4.801631</td>\n",
       "      <td>7.113496</td>\n",
       "      <td>0.651250</td>\n",
       "      <td>0.817870</td>\n",
       "      <td>10.813384</td>\n",
       "      <td>0.698227</td>\n",
       "      <td>0.168883</td>\n",
       "      <td>69.334092</td>\n",
       "      <td>32.894023</td>\n",
       "      <td>4.82604</td>\n",
       "      <td>43.971945</td>\n",
       "      <td>30.805645</td>\n",
       "      <td>28.126784</td>\n",
       "      <td>0.188446</td>\n",
       "      <td>0.221969</td>\n",
       "    </tr>\n",
       "    <tr>\n",
       "      <th>std</th>\n",
       "      <td>102.017541</td>\n",
       "      <td>88.459597</td>\n",
       "      <td>18.449261</td>\n",
       "      <td>10.123852</td>\n",
       "      <td>16.522869</td>\n",
       "      <td>2.622051</td>\n",
       "      <td>3.146857</td>\n",
       "      <td>17.296886</td>\n",
       "      <td>1.531443</td>\n",
       "      <td>0.511277</td>\n",
       "      <td>104.168824</td>\n",
       "      <td>53.586972</td>\n",
       "      <td>12.57997</td>\n",
       "      <td>96.622404</td>\n",
       "      <td>52.034252</td>\n",
       "      <td>44.271637</td>\n",
       "      <td>0.758469</td>\n",
       "      <td>0.681675</td>\n",
       "    </tr>\n",
       "    <tr>\n",
       "      <th>min</th>\n",
       "      <td>0.000000</td>\n",
       "      <td>0.000000</td>\n",
       "      <td>0.000000</td>\n",
       "      <td>0.000000</td>\n",
       "      <td>-1.000000</td>\n",
       "      <td>0.000000</td>\n",
       "      <td>0.000000</td>\n",
       "      <td>0.000000</td>\n",
       "      <td>0.000000</td>\n",
       "      <td>0.000000</td>\n",
       "      <td>0.000000</td>\n",
       "      <td>0.000000</td>\n",
       "      <td>0.00000</td>\n",
       "      <td>0.000000</td>\n",
       "      <td>0.000000</td>\n",
       "      <td>0.000000</td>\n",
       "      <td>0.000000</td>\n",
       "      <td>0.000000</td>\n",
       "    </tr>\n",
       "    <tr>\n",
       "      <th>25%</th>\n",
       "      <td>6.000000</td>\n",
       "      <td>3.000000</td>\n",
       "      <td>0.000000</td>\n",
       "      <td>0.000000</td>\n",
       "      <td>0.000000</td>\n",
       "      <td>0.000000</td>\n",
       "      <td>0.000000</td>\n",
       "      <td>0.000000</td>\n",
       "      <td>0.000000</td>\n",
       "      <td>0.000000</td>\n",
       "      <td>3.000000</td>\n",
       "      <td>0.000000</td>\n",
       "      <td>0.00000</td>\n",
       "      <td>0.000000</td>\n",
       "      <td>0.000000</td>\n",
       "      <td>0.000000</td>\n",
       "      <td>0.000000</td>\n",
       "      <td>0.000000</td>\n",
       "    </tr>\n",
       "    <tr>\n",
       "      <th>50%</th>\n",
       "      <td>29.000000</td>\n",
       "      <td>19.000000</td>\n",
       "      <td>1.000000</td>\n",
       "      <td>1.000000</td>\n",
       "      <td>1.000000</td>\n",
       "      <td>0.000000</td>\n",
       "      <td>0.000000</td>\n",
       "      <td>3.000000</td>\n",
       "      <td>0.000000</td>\n",
       "      <td>0.000000</td>\n",
       "      <td>25.000000</td>\n",
       "      <td>9.000000</td>\n",
       "      <td>0.00000</td>\n",
       "      <td>5.000000</td>\n",
       "      <td>6.000000</td>\n",
       "      <td>7.000000</td>\n",
       "      <td>0.000000</td>\n",
       "      <td>0.000000</td>\n",
       "    </tr>\n",
       "    <tr>\n",
       "      <th>75%</th>\n",
       "      <td>112.000000</td>\n",
       "      <td>87.000000</td>\n",
       "      <td>7.000000</td>\n",
       "      <td>5.000000</td>\n",
       "      <td>6.000000</td>\n",
       "      <td>0.000000</td>\n",
       "      <td>0.000000</td>\n",
       "      <td>14.000000</td>\n",
       "      <td>1.000000</td>\n",
       "      <td>0.000000</td>\n",
       "      <td>93.000000</td>\n",
       "      <td>44.000000</td>\n",
       "      <td>4.00000</td>\n",
       "      <td>39.000000</td>\n",
       "      <td>38.000000</td>\n",
       "      <td>39.000000</td>\n",
       "      <td>0.000000</td>\n",
       "      <td>0.000000</td>\n",
       "    </tr>\n",
       "    <tr>\n",
       "      <th>max</th>\n",
       "      <td>773.000000</td>\n",
       "      <td>768.000000</td>\n",
       "      <td>482.000000</td>\n",
       "      <td>206.000000</td>\n",
       "      <td>421.000000</td>\n",
       "      <td>61.000000</td>\n",
       "      <td>75.000000</td>\n",
       "      <td>201.000000</td>\n",
       "      <td>22.000000</td>\n",
       "      <td>7.000000</td>\n",
       "      <td>1290.000000</td>\n",
       "      <td>714.000000</td>\n",
       "      <td>192.00000</td>\n",
       "      <td>1528.000000</td>\n",
       "      <td>498.000000</td>\n",
       "      <td>449.000000</td>\n",
       "      <td>19.000000</td>\n",
       "      <td>10.000000</td>\n",
       "    </tr>\n",
       "  </tbody>\n",
       "</table>\n",
       "</div>"
      ],
      "text/plain": [
       "                 MP  games_starts         goals       assists    goals_pens  \\\n",
       "count  44887.000000  44887.000000  44739.000000  40455.000000  44733.000000   \n",
       "mean      76.311761     61.124758      7.769530      4.801631      7.113496   \n",
       "std      102.017541     88.459597     18.449261     10.123852     16.522869   \n",
       "min        0.000000      0.000000      0.000000      0.000000     -1.000000   \n",
       "25%        6.000000      3.000000      0.000000      0.000000      0.000000   \n",
       "50%       29.000000     19.000000      1.000000      1.000000      1.000000   \n",
       "75%      112.000000     87.000000      7.000000      5.000000      6.000000   \n",
       "max      773.000000    768.000000    482.000000    206.000000    421.000000   \n",
       "\n",
       "          pens_made      pens_att  cards_yellow     cards_red  \\\n",
       "count  44734.000000  43436.000000  44739.000000  44739.000000   \n",
       "mean       0.651250      0.817870     10.813384      0.698227   \n",
       "std        2.622051      3.146857     17.296886      1.531443   \n",
       "min        0.000000      0.000000      0.000000      0.000000   \n",
       "25%        0.000000      0.000000      0.000000      0.000000   \n",
       "50%        0.000000      0.000000      3.000000      0.000000   \n",
       "75%        0.000000      0.000000     14.000000      1.000000   \n",
       "max       61.000000     75.000000    201.000000     22.000000   \n",
       "\n",
       "       cards_yellow_red         fouls        fouled     offsides  \\\n",
       "count      33544.000000  25490.000000  18438.000000  18441.00000   \n",
       "mean           0.168883     69.334092     32.894023      4.82604   \n",
       "std            0.511277    104.168824     53.586972     12.57997   \n",
       "min            0.000000      0.000000      0.000000      0.00000   \n",
       "25%            0.000000      3.000000      0.000000      0.00000   \n",
       "50%            0.000000     25.000000      9.000000      0.00000   \n",
       "75%            0.000000     93.000000     44.000000      4.00000   \n",
       "max            7.000000   1290.000000    714.000000    192.00000   \n",
       "\n",
       "            crosses  interceptions   tackles_won      pens_won  pens_conceded  \n",
       "count  18428.000000   18425.000000  18425.000000  12290.000000   12290.000000  \n",
       "mean      43.971945      30.805645     28.126784      0.188446       0.221969  \n",
       "std       96.622404      52.034252     44.271637      0.758469       0.681675  \n",
       "min        0.000000       0.000000      0.000000      0.000000       0.000000  \n",
       "25%        0.000000       0.000000      0.000000      0.000000       0.000000  \n",
       "50%        5.000000       6.000000      7.000000      0.000000       0.000000  \n",
       "75%       39.000000      38.000000     39.000000      0.000000       0.000000  \n",
       "max     1528.000000     498.000000    449.000000     19.000000      10.000000  "
      ]
     },
     "execution_count": 701,
     "metadata": {},
     "output_type": "execute_result"
    }
   ],
   "source": [
    "data.describe()"
   ]
  },
  {
   "cell_type": "code",
   "execution_count": 702,
   "id": "27ced725",
   "metadata": {},
   "outputs": [],
   "source": [
    "import seaborn as sns "
   ]
  },
  {
   "cell_type": "code",
   "execution_count": 703,
   "id": "ebff269f",
   "metadata": {},
   "outputs": [
    {
     "data": {
      "text/plain": [
       "<AxesSubplot:>"
      ]
     },
     "execution_count": 703,
     "metadata": {},
     "output_type": "execute_result"
    },
    {
     "data": {
      "image/png": "[encoded data removed]",
      "text/plain": [
       "<Figure size 432x288 with 2 Axes>"
      ]
     },
     "metadata": {
      "needs_background": "light"
     },
     "output_type": "display_data"
    }
   ],
   "source": [
    "sns.heatmap(data.corr())"
   ]
  },
  {
   "cell_type": "code",
   "execution_count": 704,
   "id": "f16ade63",
   "metadata": {},
   "outputs": [],
   "source": [
    "# Data preparation/ cleaning  "
   ]
  },
  {
   "cell_type": "code",
   "execution_count": 705,
   "id": "bc6bc118",
   "metadata": {},
   "outputs": [],
   "source": [
    "# Extract Name "
   ]
  },
  {
   "cell_type": "code",
   "execution_count": 706,
   "id": "5b8c3752",
   "metadata": {},
   "outputs": [
    {
     "data": {
      "text/plain": [
       "'Masood Abdulsaeed Position: DF 180cm, 69kg (5-10½, 152lb) Born: March 1, 1994 in Afghanistan af National Team: Afghanistan af'"
      ]
     },
     "execution_count": 706,
     "metadata": {},
     "output_type": "execute_result"
    }
   ],
   "source": [
    "data['main_info'][0]"
   ]
  },
  {
   "cell_type": "code",
   "execution_count": 707,
   "id": "60f2f7f4",
   "metadata": {},
   "outputs": [],
   "source": [
    "data['name']=data['main_info'].apply(lambda x: x.split(' ')[0]+' '+ x.split(' ')[1])"
   ]
  },
  {
   "cell_type": "code",
   "execution_count": 708,
   "id": "2fc967fd",
   "metadata": {},
   "outputs": [
    {
     "data": {
      "text/plain": [
       "0        Masood Abdulsaeed\n",
       "1           Mustafa Afshar\n",
       "2             Bashir Ahmad\n",
       "3           Moshtaq Ahmadi\n",
       "4            Qesmat Ahmadi\n",
       "               ...        \n",
       "45762       Roberto Acosta\n",
       "45763       Federico Acuña\n",
       "45764         Javier Acuña\n",
       "45765        Roberto Acuña\n",
       "45766         Ronald Acuña\n",
       "Name: name, Length: 45767, dtype: object"
      ]
     },
     "execution_count": 708,
     "metadata": {},
     "output_type": "execute_result"
    }
   ],
   "source": [
    "data['name']"
   ]
  },
  {
   "cell_type": "code",
   "execution_count": 709,
   "id": "23d3e899",
   "metadata": {},
   "outputs": [],
   "source": [
    "# Extract Position(Target)"
   ]
  },
  {
   "cell_type": "code",
   "execution_count": 710,
   "id": "7c1cfc49",
   "metadata": {},
   "outputs": [],
   "source": [
    "pos=data['main_info'].apply(lambda x: x.split('Position'))"
   ]
  },
  {
   "cell_type": "code",
   "execution_count": 711,
   "id": "136b9263",
   "metadata": {},
   "outputs": [],
   "source": [
    "condition=data['main_info'].str.contains('Position')"
   ]
  },
  {
   "cell_type": "code",
   "execution_count": 712,
   "id": "36bdf334",
   "metadata": {},
   "outputs": [],
   "source": [
    "data=data[condition]"
   ]
  },
  {
   "cell_type": "code",
   "execution_count": 713,
   "id": "a21f54b0",
   "metadata": {},
   "outputs": [],
   "source": [
    "data['position']=data['main_info'].apply(lambda x : x.split('Position:')[1].strip().split(' ')[0])"
   ]
  },
  {
   "cell_type": "code",
   "execution_count": 714,
   "id": "fe1832a4",
   "metadata": {},
   "outputs": [],
   "source": [
    "# Extract birth month and year  "
   ]
  },
  {
   "cell_type": "code",
   "execution_count": 715,
   "id": "c02cdbf8",
   "metadata": {},
   "outputs": [],
   "source": [
    "def birth_month(x):\n",
    "    if 'Born:' in x:\n",
    "        return x.split('Born: ')[1].split(' ')[0]\n",
    "    else:\n",
    "        return np.nan"
   ]
  },
  {
   "cell_type": "code",
   "execution_count": 716,
   "id": "6537fd4a",
   "metadata": {},
   "outputs": [],
   "source": [
    "data['month']=data['main_info'].apply(birth_month)"
   ]
  },
  {
   "cell_type": "code",
   "execution_count": 717,
   "id": "2b0b7fed",
   "metadata": {},
   "outputs": [],
   "source": [
    "def birth_year(x):\n",
    "    if 'Born:' in x:\n",
    "        return x.split('Born: ')[1].split(' ')[2]\n",
    "    else:\n",
    "        return np.nan"
   ]
  },
  {
   "cell_type": "code",
   "execution_count": 718,
   "id": "dd88877c",
   "metadata": {},
   "outputs": [],
   "source": [
    "data['year']=data['main_info'].apply(birth_year)"
   ]
  },
  {
   "cell_type": "code",
   "execution_count": 719,
   "id": "55504ce1",
   "metadata": {},
   "outputs": [],
   "source": [
    "data=data[~data['year'].isna()]"
   ]
  },
  {
   "cell_type": "code",
   "execution_count": 720,
   "id": "beee00ad",
   "metadata": {},
   "outputs": [
    {
     "data": {
      "text/html": [
       "<div>\n",
       "<style scoped>\n",
       "    .dataframe tbody tr th:only-of-type {\n",
       "        vertical-align: middle;\n",
       "    }\n",
       "\n",
       "    .dataframe tbody tr th {\n",
       "        vertical-align: top;\n",
       "    }\n",
       "\n",
       "    .dataframe thead th {\n",
       "        text-align: right;\n",
       "    }\n",
       "</style>\n",
       "<table border=\"1\" class=\"dataframe\">\n",
       "  <thead>\n",
       "    <tr style=\"text-align: right;\">\n",
       "      <th></th>\n",
       "      <th>MP</th>\n",
       "      <th>games_starts</th>\n",
       "      <th>minutes</th>\n",
       "      <th>goals</th>\n",
       "      <th>assists</th>\n",
       "      <th>goals_pens</th>\n",
       "      <th>pens_made</th>\n",
       "      <th>pens_att</th>\n",
       "      <th>cards_yellow</th>\n",
       "      <th>cards_red</th>\n",
       "      <th>...</th>\n",
       "      <th>interceptions</th>\n",
       "      <th>tackles_won</th>\n",
       "      <th>pens_won</th>\n",
       "      <th>pens_conceded</th>\n",
       "      <th>main_info</th>\n",
       "      <th>country</th>\n",
       "      <th>name</th>\n",
       "      <th>position</th>\n",
       "      <th>month</th>\n",
       "      <th>year</th>\n",
       "    </tr>\n",
       "  </thead>\n",
       "  <tbody>\n",
       "    <tr>\n",
       "      <th>0</th>\n",
       "      <td>1.0</td>\n",
       "      <td>0.0</td>\n",
       "      <td>34</td>\n",
       "      <td>0.0</td>\n",
       "      <td>0.0</td>\n",
       "      <td>0.0</td>\n",
       "      <td>0.0</td>\n",
       "      <td>0.0</td>\n",
       "      <td>0.0</td>\n",
       "      <td>0.0</td>\n",
       "      <td>...</td>\n",
       "      <td>NaN</td>\n",
       "      <td>NaN</td>\n",
       "      <td>NaN</td>\n",
       "      <td>NaN</td>\n",
       "      <td>Masood Abdulsaeed Position: DF 180cm, 69kg (5-...</td>\n",
       "      <td>Afghanistan</td>\n",
       "      <td>Masood Abdulsaeed</td>\n",
       "      <td>DF</td>\n",
       "      <td>March</td>\n",
       "      <td>1994</td>\n",
       "    </tr>\n",
       "    <tr>\n",
       "      <th>1</th>\n",
       "      <td>1.0</td>\n",
       "      <td>0.0</td>\n",
       "      <td>7</td>\n",
       "      <td>0.0</td>\n",
       "      <td>0.0</td>\n",
       "      <td>0.0</td>\n",
       "      <td>0.0</td>\n",
       "      <td>0.0</td>\n",
       "      <td>0.0</td>\n",
       "      <td>0.0</td>\n",
       "      <td>...</td>\n",
       "      <td>NaN</td>\n",
       "      <td>NaN</td>\n",
       "      <td>NaN</td>\n",
       "      <td>NaN</td>\n",
       "      <td>Mustafa Afshar Position: FW Born: November 25,...</td>\n",
       "      <td>Afghanistan</td>\n",
       "      <td>Mustafa Afshar</td>\n",
       "      <td>FW</td>\n",
       "      <td>November</td>\n",
       "      <td>1988</td>\n",
       "    </tr>\n",
       "    <tr>\n",
       "      <th>2</th>\n",
       "      <td>4.0</td>\n",
       "      <td>4.0</td>\n",
       "      <td>321</td>\n",
       "      <td>0.0</td>\n",
       "      <td>NaN</td>\n",
       "      <td>0.0</td>\n",
       "      <td>0.0</td>\n",
       "      <td>0.0</td>\n",
       "      <td>2.0</td>\n",
       "      <td>1.0</td>\n",
       "      <td>...</td>\n",
       "      <td>NaN</td>\n",
       "      <td>NaN</td>\n",
       "      <td>NaN</td>\n",
       "      <td>NaN</td>\n",
       "      <td>Bashir Ahmad Saadat Position: DF Born: Decembe...</td>\n",
       "      <td>Afghanistan</td>\n",
       "      <td>Bashir Ahmad</td>\n",
       "      <td>DF</td>\n",
       "      <td>December</td>\n",
       "      <td>1981</td>\n",
       "    </tr>\n",
       "    <tr>\n",
       "      <th>3</th>\n",
       "      <td>2.0</td>\n",
       "      <td>2.0</td>\n",
       "      <td>104</td>\n",
       "      <td>0.0</td>\n",
       "      <td>0.0</td>\n",
       "      <td>0.0</td>\n",
       "      <td>0.0</td>\n",
       "      <td>0.0</td>\n",
       "      <td>0.0</td>\n",
       "      <td>0.0</td>\n",
       "      <td>...</td>\n",
       "      <td>NaN</td>\n",
       "      <td>NaN</td>\n",
       "      <td>NaN</td>\n",
       "      <td>NaN</td>\n",
       "      <td>Moshtaq Ahmadi Moshtaq Ahmadi Position: FW 180...</td>\n",
       "      <td>Afghanistan</td>\n",
       "      <td>Moshtaq Ahmadi</td>\n",
       "      <td>FW</td>\n",
       "      <td>April</td>\n",
       "      <td>1996</td>\n",
       "    </tr>\n",
       "    <tr>\n",
       "      <th>4</th>\n",
       "      <td>1.0</td>\n",
       "      <td>0.0</td>\n",
       "      <td>1</td>\n",
       "      <td>0.0</td>\n",
       "      <td>0.0</td>\n",
       "      <td>0.0</td>\n",
       "      <td>0.0</td>\n",
       "      <td>0.0</td>\n",
       "      <td>0.0</td>\n",
       "      <td>0.0</td>\n",
       "      <td>...</td>\n",
       "      <td>NaN</td>\n",
       "      <td>NaN</td>\n",
       "      <td>NaN</td>\n",
       "      <td>NaN</td>\n",
       "      <td>Qesmat Ahmadi Position: MF Born: August 13, 19...</td>\n",
       "      <td>Afghanistan</td>\n",
       "      <td>Qesmat Ahmadi</td>\n",
       "      <td>MF</td>\n",
       "      <td>August</td>\n",
       "      <td>1996</td>\n",
       "    </tr>\n",
       "  </tbody>\n",
       "</table>\n",
       "<p>5 rows × 25 columns</p>\n",
       "</div>"
      ],
      "text/plain": [
       "    MP  games_starts minutes  goals  assists  goals_pens  pens_made  pens_att  \\\n",
       "0  1.0           0.0      34    0.0      0.0         0.0        0.0       0.0   \n",
       "1  1.0           0.0       7    0.0      0.0         0.0        0.0       0.0   \n",
       "2  4.0           4.0     321    0.0      NaN         0.0        0.0       0.0   \n",
       "3  2.0           2.0     104    0.0      0.0         0.0        0.0       0.0   \n",
       "4  1.0           0.0       1    0.0      0.0         0.0        0.0       0.0   \n",
       "\n",
       "   cards_yellow  cards_red  ...  interceptions  tackles_won  pens_won  \\\n",
       "0           0.0        0.0  ...            NaN          NaN       NaN   \n",
       "1           0.0        0.0  ...            NaN          NaN       NaN   \n",
       "2           2.0        1.0  ...            NaN          NaN       NaN   \n",
       "3           0.0        0.0  ...            NaN          NaN       NaN   \n",
       "4           0.0        0.0  ...            NaN          NaN       NaN   \n",
       "\n",
       "   pens_conceded                                          main_info  \\\n",
       "0            NaN  Masood Abdulsaeed Position: DF 180cm, 69kg (5-...   \n",
       "1            NaN  Mustafa Afshar Position: FW Born: November 25,...   \n",
       "2            NaN  Bashir Ahmad Saadat Position: DF Born: Decembe...   \n",
       "3            NaN  Moshtaq Ahmadi Moshtaq Ahmadi Position: FW 180...   \n",
       "4            NaN  Qesmat Ahmadi Position: MF Born: August 13, 19...   \n",
       "\n",
       "        country               name  position     month  year  \n",
       "0  Afghanistan   Masood Abdulsaeed        DF     March  1994  \n",
       "1  Afghanistan      Mustafa Afshar        FW  November  1988  \n",
       "2  Afghanistan        Bashir Ahmad        DF  December  1981  \n",
       "3  Afghanistan      Moshtaq Ahmadi        FW     April  1996  \n",
       "4  Afghanistan       Qesmat Ahmadi        MF    August  1996  \n",
       "\n",
       "[5 rows x 25 columns]"
      ]
     },
     "execution_count": 720,
     "metadata": {},
     "output_type": "execute_result"
    }
   ],
   "source": [
    "data.head()"
   ]
  },
  {
   "cell_type": "code",
   "execution_count": 721,
   "id": "0ff9f966",
   "metadata": {},
   "outputs": [],
   "source": [
    "# Extract height "
   ]
  },
  {
   "cell_type": "code",
   "execution_count": 722,
   "id": "95518884",
   "metadata": {},
   "outputs": [],
   "source": [
    "height_condition=data['main_info'].str.contains('cm')"
   ]
  },
  {
   "cell_type": "code",
   "execution_count": 723,
   "id": "2f1fc293",
   "metadata": {},
   "outputs": [
    {
     "data": {
      "text/plain": [
       "0        180\n",
       "1         af\n",
       "2         af\n",
       "3        180\n",
       "4         af\n",
       "        ... \n",
       "45762    180\n",
       "45763    181\n",
       "45764    175\n",
       "45765    175\n",
       "45766    JLM\n",
       "Name: main_info, Length: 45398, dtype: object"
      ]
     },
     "execution_count": 723,
     "metadata": {},
     "output_type": "execute_result"
    }
   ],
   "source": [
    "data['main_info'].apply(lambda x : x.split('cm')[0].split(' ')[-1])"
   ]
  },
  {
   "cell_type": "code",
   "execution_count": 724,
   "id": "cbc89d38",
   "metadata": {},
   "outputs": [
    {
     "data": {
      "text/plain": [
       "False"
      ]
     },
     "execution_count": 724,
     "metadata": {},
     "output_type": "execute_result"
    }
   ],
   "source": [
    "height_condition.all()"
   ]
  },
  {
   "cell_type": "code",
   "execution_count": 725,
   "id": "00efab7b",
   "metadata": {},
   "outputs": [],
   "source": [
    "def height_col(x):\n",
    "    if 'cm' in x:\n",
    "        return x.split('cm')[0].split(' ')[-1]\n",
    "    else:\n",
    "        return np.nan"
   ]
  },
  {
   "cell_type": "code",
   "execution_count": 726,
   "id": "bc312844",
   "metadata": {},
   "outputs": [],
   "source": [
    "data['height']=data['main_info'].apply(height_col)"
   ]
  },
  {
   "cell_type": "code",
   "execution_count": 727,
   "id": "8852ed26",
   "metadata": {},
   "outputs": [],
   "source": [
    "data=data[data['height']!='']"
   ]
  },
  {
   "cell_type": "code",
   "execution_count": 728,
   "id": "3ef18df2",
   "metadata": {},
   "outputs": [],
   "source": [
    "# Extract weight "
   ]
  },
  {
   "cell_type": "code",
   "execution_count": 729,
   "id": "2488c499",
   "metadata": {},
   "outputs": [
    {
     "data": {
      "text/plain": [
       "0         69\n",
       "1         af\n",
       "2         af\n",
       "3         77\n",
       "4         af\n",
       "        ... \n",
       "45762     82\n",
       "45763     89\n",
       "45764     69\n",
       "45765     86\n",
       "45766    JLM\n",
       "Name: main_info, Length: 45397, dtype: object"
      ]
     },
     "execution_count": 729,
     "metadata": {},
     "output_type": "execute_result"
    }
   ],
   "source": [
    "data['main_info'].apply(lambda x : x.split('kg')[0].split(' ')[-1])"
   ]
  },
  {
   "cell_type": "code",
   "execution_count": 730,
   "id": "5703f094",
   "metadata": {},
   "outputs": [
    {
     "data": {
      "text/plain": [
       "0                                                       69\n",
       "1             Afghanistan af National Team: Afghanistan af\n",
       "2             Afghanistan af National Team: Afghanistan af\n",
       "3                                                       77\n",
       "4                       1996 National Team: Afghanistan af\n",
       "                               ...                        \n",
       "45762                                                   82\n",
       "45763                                                   89\n",
       "45764                                                   69\n",
       "45765                                                   86\n",
       "45766     1993 (Age: 29-090d) Citizenship: Paraguay py ...\n",
       "Name: main_info, Length: 45397, dtype: object"
      ]
     },
     "execution_count": 730,
     "metadata": {},
     "output_type": "execute_result"
    }
   ],
   "source": [
    "data['main_info'].apply(lambda x : x.split('kg')[0].split(',')[-1])"
   ]
  },
  {
   "cell_type": "code",
   "execution_count": 731,
   "id": "0ee8edb0",
   "metadata": {},
   "outputs": [],
   "source": [
    "def weight_col(x):\n",
    "    if 'kg' in x:\n",
    "        return x.split('kg')[0].split(' ')[-1]\n",
    "    else:\n",
    "        return np.nan"
   ]
  },
  {
   "cell_type": "code",
   "execution_count": 732,
   "id": "ad7aa4d1",
   "metadata": {},
   "outputs": [],
   "source": [
    "data['weight']=data['main_info'].apply(weight_col)"
   ]
  },
  {
   "cell_type": "code",
   "execution_count": 733,
   "id": "f6da8b70",
   "metadata": {},
   "outputs": [
    {
     "data": {
      "text/plain": [
       "24179"
      ]
     },
     "execution_count": 733,
     "metadata": {},
     "output_type": "execute_result"
    }
   ],
   "source": [
    "data['weight'].isna().sum()"
   ]
  },
  {
   "cell_type": "code",
   "execution_count": 734,
   "id": "f6fce506",
   "metadata": {},
   "outputs": [
    {
     "data": {
      "text/plain": [
       "73     2139\n",
       "78     2135\n",
       "69     1773\n",
       "68     1487\n",
       "74     1451\n",
       "       ... \n",
       "70        1\n",
       "40        1\n",
       "200       1\n",
       "116       1\n",
       "126       1\n",
       "Name: weight, Length: 68, dtype: int64"
      ]
     },
     "execution_count": 734,
     "metadata": {},
     "output_type": "execute_result"
    }
   ],
   "source": [
    "data['weight'].value_counts()"
   ]
  },
  {
   "cell_type": "code",
   "execution_count": 735,
   "id": "b0cb4ed9",
   "metadata": {},
   "outputs": [],
   "source": [
    "def weight_col(x):\n",
    "    try:\n",
    "        x=float(x)\n",
    "    except:\n",
    "        return np.nan\n",
    "    return x"
   ]
  },
  {
   "cell_type": "code",
   "execution_count": 736,
   "id": "dabcbcae",
   "metadata": {},
   "outputs": [],
   "source": [
    "data['weight']=data['weight'].apply(weight_col)"
   ]
  },
  {
   "cell_type": "code",
   "execution_count": 737,
   "id": "f80d98a6",
   "metadata": {},
   "outputs": [],
   "source": [
    "data=data.groupby('position').filter(lambda x: len(x)>200)"
   ]
  },
  {
   "cell_type": "code",
   "execution_count": 738,
   "id": "26549ec2",
   "metadata": {},
   "outputs": [],
   "source": [
    "# Explore target variable "
   ]
  },
  {
   "cell_type": "code",
   "execution_count": 739,
   "id": "03e9b9d7",
   "metadata": {
    "scrolled": true
   },
   "outputs": [
    {
     "data": {
      "text/plain": [
       "MF       14560\n",
       "DF       12156\n",
       "FW        9935\n",
       "GK        3589\n",
       "FW-MF     2544\n",
       "DF-MF     2291\n",
       "Name: position, dtype: int64"
      ]
     },
     "execution_count": 739,
     "metadata": {},
     "output_type": "execute_result"
    }
   ],
   "source": [
    "data['position'].value_counts()"
   ]
  },
  {
   "cell_type": "code",
   "execution_count": 740,
   "id": "c63033b7",
   "metadata": {},
   "outputs": [],
   "source": [
    "# remove uneccessary data "
   ]
  },
  {
   "cell_type": "code",
   "execution_count": 741,
   "id": "f01632d2",
   "metadata": {},
   "outputs": [],
   "source": [
    "data=data[data['MP']>0]"
   ]
  },
  {
   "cell_type": "code",
   "execution_count": 742,
   "id": "6da1907d",
   "metadata": {},
   "outputs": [],
   "source": [
    "data.to_csv('finaldata/EDA_data.csv',index=False)"
   ]
  },
  {
   "cell_type": "code",
   "execution_count": 743,
   "id": "c89a910b",
   "metadata": {},
   "outputs": [],
   "source": [
    "#handling missing data "
   ]
  },
  {
   "cell_type": "code",
   "execution_count": 744,
   "id": "635a3ea4",
   "metadata": {},
   "outputs": [],
   "source": [
    "data.loc[data['position']=='FW-MF','position']='MF'\n",
    "data.loc[data['position']=='DF-MF','position']='MF'"
   ]
  },
  {
   "cell_type": "code",
   "execution_count": 745,
   "id": "206d8f89",
   "metadata": {},
   "outputs": [
    {
     "data": {
      "text/plain": [
       "MF    18999\n",
       "DF    11847\n",
       "FW     9739\n",
       "GK     3469\n",
       "Name: position, dtype: int64"
      ]
     },
     "execution_count": 745,
     "metadata": {},
     "output_type": "execute_result"
    }
   ],
   "source": [
    "data['position'].value_counts()"
   ]
  },
  {
   "cell_type": "code",
   "execution_count": 746,
   "id": "5c71baae",
   "metadata": {},
   "outputs": [],
   "source": [
    "data['minutes']=data['minutes'].astype(str)"
   ]
  },
  {
   "cell_type": "code",
   "execution_count": 747,
   "id": "9099ecea",
   "metadata": {},
   "outputs": [
    {
     "data": {
      "text/plain": [
       "(44054, 27)"
      ]
     },
     "execution_count": 747,
     "metadata": {},
     "output_type": "execute_result"
    }
   ],
   "source": [
    "data.shape"
   ]
  },
  {
   "cell_type": "code",
   "execution_count": 748,
   "id": "eafb6177",
   "metadata": {},
   "outputs": [],
   "source": [
    "data=data.groupby('month').filter(lambda x: len(x)>43)\n",
    "data=data.groupby('year').filter(lambda x: len(x)>1)"
   ]
  },
  {
   "cell_type": "code",
   "execution_count": 749,
   "id": "cb6c704f",
   "metadata": {},
   "outputs": [],
   "source": [
    "data['minutes']=data['minutes'].apply(lambda x : x.replace(',',''))"
   ]
  },
  {
   "cell_type": "code",
   "execution_count": 750,
   "id": "e693ca5c",
   "metadata": {},
   "outputs": [
    {
     "data": {
      "text/plain": [
       "(44038, 27)"
      ]
     },
     "execution_count": 750,
     "metadata": {},
     "output_type": "execute_result"
    }
   ],
   "source": [
    "data.shape"
   ]
  },
  {
   "cell_type": "code",
   "execution_count": 751,
   "id": "eb16090e",
   "metadata": {},
   "outputs": [
    {
     "data": {
      "text/plain": [
       "0        1994\n",
       "1        1988\n",
       "2        1981\n",
       "3        1996\n",
       "4        1996\n",
       "         ... \n",
       "45762    1984\n",
       "45763    1985\n",
       "45764    1988\n",
       "45765    1972\n",
       "45766    1993\n",
       "Name: year, Length: 44038, dtype: object"
      ]
     },
     "execution_count": 751,
     "metadata": {},
     "output_type": "execute_result"
    }
   ],
   "source": [
    "data['year']"
   ]
  },
  {
   "cell_type": "code",
   "execution_count": 752,
   "id": "f858fbbd",
   "metadata": {},
   "outputs": [
    {
     "data": {
      "text/plain": [
       "array([2010, 2007, 1995, 1973, 1960, 1902, 1844, 1826, 1782, 1731, 1682,\n",
       "       1660, 1564, 1496, 1433, 1295, 1273, 1205, 1157, 1027,  964,  940,\n",
       "        859,  822,  749,  646,  561,  523,  473,  436,  424,  418,  343,\n",
       "        316,  299,  256,  193,  155,  144,  135,  122,  117,  106,  106,\n",
       "         65,   62,   44,   36,   35,   33,   31,   31,   26,   26,   25,\n",
       "         23,   23,   22,   21,   21,   21,   21,   20,   20,   20,   19,\n",
       "         19,   19,   18,   17,   17,   17,   17,   16,   16,   16,   15,\n",
       "         15,   14,   13,   13,   13,   12,   12,   12,   12,   11,   11,\n",
       "         10,   10,    9,    9,    9,    9,    8,    8,    8,    7,    7,\n",
       "          7,    7,    4,    4,    4,    4,    4,    3,    3,    3,    2],\n",
       "      dtype=int64)"
      ]
     },
     "execution_count": 752,
     "metadata": {},
     "output_type": "execute_result"
    }
   ],
   "source": [
    "data['year'].value_counts().values"
   ]
  },
  {
   "cell_type": "code",
   "execution_count": 753,
   "id": "9f29d4df",
   "metadata": {},
   "outputs": [],
   "source": [
    "from sklearn.impute import KNNImputer\n",
    "from sklearn.preprocessing import MinMaxScaler\n",
    "from sklearn.preprocessing import StandardScaler"
   ]
  },
  {
   "cell_type": "code",
   "execution_count": 754,
   "id": "39d64070",
   "metadata": {},
   "outputs": [],
   "source": [
    "scaler=StandardScaler()"
   ]
  },
  {
   "cell_type": "code",
   "execution_count": 755,
   "id": "06bffc51",
   "metadata": {},
   "outputs": [
    {
     "data": {
      "text/plain": [
       "1996    2010\n",
       "1995    2007\n",
       "1997    1995\n",
       "1994    1973\n",
       "1993    1960\n",
       "        ... \n",
       "1901       4\n",
       "1919       3\n",
       "1900       3\n",
       "2007       3\n",
       "1899       2\n",
       "Name: year, Length: 110, dtype: int64"
      ]
     },
     "execution_count": 755,
     "metadata": {},
     "output_type": "execute_result"
    }
   ],
   "source": [
    "data['year'].value_counts()"
   ]
  },
  {
   "cell_type": "code",
   "execution_count": 756,
   "id": "f3514ef8",
   "metadata": {},
   "outputs": [],
   "source": [
    "numerical=['MP', 'games_starts', 'goals', 'assists', 'goals_pens',\n",
    "       'pens_made', 'pens_att', 'cards_yellow', 'cards_red',\n",
    "       'cards_yellow_red', 'fouls', 'fouled', 'offsides', 'crosses',\n",
    "       'interceptions', 'tackles_won','height','minutes','weight']"
   ]
  },
  {
   "cell_type": "code",
   "execution_count": 757,
   "id": "fa9a2924",
   "metadata": {},
   "outputs": [],
   "source": [
    "# data[numerical]=scaler.fit_transform(data[numerical])"
   ]
  },
  {
   "cell_type": "code",
   "execution_count": 758,
   "id": "4a795582",
   "metadata": {},
   "outputs": [],
   "source": [
    "forward=data[data['position']=='FW']\n",
    "mid=data[data['position']=='MF']\n",
    "goalkeeper=data[data['position']=='GK']\n",
    "defense=data[data['position']=='DF']"
   ]
  },
  {
   "cell_type": "code",
   "execution_count": 759,
   "id": "fa63f7d5",
   "metadata": {},
   "outputs": [
    {
     "data": {
      "text/plain": [
       "(9732, 27)"
      ]
     },
     "execution_count": 759,
     "metadata": {},
     "output_type": "execute_result"
    }
   ],
   "source": [
    "forward.shape\n"
   ]
  },
  {
   "cell_type": "code",
   "execution_count": 760,
   "id": "173e499e",
   "metadata": {},
   "outputs": [
    {
     "data": {
      "text/plain": [
       "(18993, 27)"
      ]
     },
     "execution_count": 760,
     "metadata": {},
     "output_type": "execute_result"
    }
   ],
   "source": [
    "mid.shape"
   ]
  },
  {
   "cell_type": "code",
   "execution_count": 761,
   "id": "870bb703",
   "metadata": {},
   "outputs": [
    {
     "data": {
      "text/plain": [
       "(3468, 27)"
      ]
     },
     "execution_count": 761,
     "metadata": {},
     "output_type": "execute_result"
    }
   ],
   "source": [
    "goalkeeper.shape"
   ]
  },
  {
   "cell_type": "code",
   "execution_count": 762,
   "id": "12e7427c",
   "metadata": {},
   "outputs": [
    {
     "data": {
      "text/plain": [
       "(11845, 27)"
      ]
     },
     "execution_count": 762,
     "metadata": {},
     "output_type": "execute_result"
    }
   ],
   "source": [
    "defense.shape"
   ]
  },
  {
   "cell_type": "code",
   "execution_count": 763,
   "id": "f9255256",
   "metadata": {},
   "outputs": [
    {
     "data": {
      "text/plain": [
       "(44038, 27)"
      ]
     },
     "execution_count": 763,
     "metadata": {},
     "output_type": "execute_result"
    }
   ],
   "source": [
    "data.shape"
   ]
  },
  {
   "cell_type": "code",
   "execution_count": 764,
   "id": "c473c132",
   "metadata": {},
   "outputs": [],
   "source": [
    "# Imputing missing values "
   ]
  },
  {
   "cell_type": "code",
   "execution_count": 765,
   "id": "0aad1be8",
   "metadata": {},
   "outputs": [
    {
     "data": {
      "text/plain": [
       "MP                   0.000000\n",
       "games_starts         0.000000\n",
       "minutes              0.000000\n",
       "goals                0.004542\n",
       "assists              9.428221\n",
       "goals_pens           0.015895\n",
       "pens_made            0.013625\n",
       "pens_att             2.861165\n",
       "cards_yellow         0.004542\n",
       "cards_red            0.004542\n",
       "cards_yellow_red    24.846723\n",
       "fouls               42.758527\n",
       "fouled              58.547164\n",
       "offsides            58.540352\n",
       "crosses             58.569871\n",
       "interceptions       58.576684\n",
       "tackles_won         58.576684\n",
       "pens_won            72.448794\n",
       "pens_conceded       72.448794\n",
       "main_info            0.000000\n",
       "country              0.000000\n",
       "name                 0.000000\n",
       "position             0.000000\n",
       "month                0.000000\n",
       "year                 0.000000\n",
       "height              33.745856\n",
       "weight              52.472864\n",
       "dtype: float64"
      ]
     },
     "execution_count": 765,
     "metadata": {},
     "output_type": "execute_result"
    }
   ],
   "source": [
    "data.isna().sum()/len(data)*100"
   ]
  },
  {
   "cell_type": "code",
   "execution_count": 766,
   "id": "2523a14f",
   "metadata": {},
   "outputs": [],
   "source": [
    "from sklearn.neighbors import KNeighborsClassifier"
   ]
  },
  {
   "cell_type": "code",
   "execution_count": 767,
   "id": "dd39b135",
   "metadata": {},
   "outputs": [],
   "source": [
    "imputer=KNNImputer(n_neighbors=23)\n"
   ]
  },
  {
   "cell_type": "code",
   "execution_count": 768,
   "id": "80f738d4",
   "metadata": {
    "scrolled": true
   },
   "outputs": [
    {
     "data": {
      "text/html": [
       "<div>\n",
       "<style scoped>\n",
       "    .dataframe tbody tr th:only-of-type {\n",
       "        vertical-align: middle;\n",
       "    }\n",
       "\n",
       "    .dataframe tbody tr th {\n",
       "        vertical-align: top;\n",
       "    }\n",
       "\n",
       "    .dataframe thead th {\n",
       "        text-align: right;\n",
       "    }\n",
       "</style>\n",
       "<table border=\"1\" class=\"dataframe\">\n",
       "  <thead>\n",
       "    <tr style=\"text-align: right;\">\n",
       "      <th></th>\n",
       "      <th>MP</th>\n",
       "      <th>games_starts</th>\n",
       "      <th>goals</th>\n",
       "      <th>assists</th>\n",
       "      <th>goals_pens</th>\n",
       "      <th>pens_made</th>\n",
       "      <th>pens_att</th>\n",
       "      <th>cards_yellow</th>\n",
       "      <th>cards_red</th>\n",
       "      <th>cards_yellow_red</th>\n",
       "      <th>fouls</th>\n",
       "      <th>fouled</th>\n",
       "      <th>offsides</th>\n",
       "      <th>crosses</th>\n",
       "      <th>interceptions</th>\n",
       "      <th>tackles_won</th>\n",
       "      <th>height</th>\n",
       "      <th>minutes</th>\n",
       "      <th>weight</th>\n",
       "    </tr>\n",
       "  </thead>\n",
       "  <tbody>\n",
       "    <tr>\n",
       "      <th>1</th>\n",
       "      <td>1.0</td>\n",
       "      <td>0.0</td>\n",
       "      <td>0.0</td>\n",
       "      <td>0.0</td>\n",
       "      <td>0.0</td>\n",
       "      <td>0.0</td>\n",
       "      <td>0.0</td>\n",
       "      <td>0.0</td>\n",
       "      <td>0.0</td>\n",
       "      <td>0.0</td>\n",
       "      <td>NaN</td>\n",
       "      <td>NaN</td>\n",
       "      <td>NaN</td>\n",
       "      <td>NaN</td>\n",
       "      <td>NaN</td>\n",
       "      <td>NaN</td>\n",
       "      <td>NaN</td>\n",
       "      <td>7</td>\n",
       "      <td>NaN</td>\n",
       "    </tr>\n",
       "    <tr>\n",
       "      <th>3</th>\n",
       "      <td>2.0</td>\n",
       "      <td>2.0</td>\n",
       "      <td>0.0</td>\n",
       "      <td>0.0</td>\n",
       "      <td>0.0</td>\n",
       "      <td>0.0</td>\n",
       "      <td>0.0</td>\n",
       "      <td>0.0</td>\n",
       "      <td>0.0</td>\n",
       "      <td>0.0</td>\n",
       "      <td>NaN</td>\n",
       "      <td>NaN</td>\n",
       "      <td>NaN</td>\n",
       "      <td>NaN</td>\n",
       "      <td>NaN</td>\n",
       "      <td>NaN</td>\n",
       "      <td>180</td>\n",
       "      <td>104</td>\n",
       "      <td>77.0</td>\n",
       "    </tr>\n",
       "    <tr>\n",
       "      <th>7</th>\n",
       "      <td>16.0</td>\n",
       "      <td>6.0</td>\n",
       "      <td>3.0</td>\n",
       "      <td>0.0</td>\n",
       "      <td>3.0</td>\n",
       "      <td>0.0</td>\n",
       "      <td>0.0</td>\n",
       "      <td>0.0</td>\n",
       "      <td>0.0</td>\n",
       "      <td>0.0</td>\n",
       "      <td>NaN</td>\n",
       "      <td>NaN</td>\n",
       "      <td>NaN</td>\n",
       "      <td>NaN</td>\n",
       "      <td>NaN</td>\n",
       "      <td>NaN</td>\n",
       "      <td>183</td>\n",
       "      <td>614</td>\n",
       "      <td>79.0</td>\n",
       "    </tr>\n",
       "    <tr>\n",
       "      <th>11</th>\n",
       "      <td>2.0</td>\n",
       "      <td>1.0</td>\n",
       "      <td>1.0</td>\n",
       "      <td>0.0</td>\n",
       "      <td>1.0</td>\n",
       "      <td>0.0</td>\n",
       "      <td>0.0</td>\n",
       "      <td>0.0</td>\n",
       "      <td>0.0</td>\n",
       "      <td>0.0</td>\n",
       "      <td>NaN</td>\n",
       "      <td>NaN</td>\n",
       "      <td>NaN</td>\n",
       "      <td>NaN</td>\n",
       "      <td>NaN</td>\n",
       "      <td>NaN</td>\n",
       "      <td>178</td>\n",
       "      <td>94</td>\n",
       "      <td>78.0</td>\n",
       "    </tr>\n",
       "    <tr>\n",
       "      <th>12</th>\n",
       "      <td>8.0</td>\n",
       "      <td>7.0</td>\n",
       "      <td>1.0</td>\n",
       "      <td>1.0</td>\n",
       "      <td>1.0</td>\n",
       "      <td>0.0</td>\n",
       "      <td>0.0</td>\n",
       "      <td>1.0</td>\n",
       "      <td>0.0</td>\n",
       "      <td>0.0</td>\n",
       "      <td>NaN</td>\n",
       "      <td>NaN</td>\n",
       "      <td>NaN</td>\n",
       "      <td>NaN</td>\n",
       "      <td>NaN</td>\n",
       "      <td>NaN</td>\n",
       "      <td>180</td>\n",
       "      <td>524</td>\n",
       "      <td>NaN</td>\n",
       "    </tr>\n",
       "    <tr>\n",
       "      <th>...</th>\n",
       "      <td>...</td>\n",
       "      <td>...</td>\n",
       "      <td>...</td>\n",
       "      <td>...</td>\n",
       "      <td>...</td>\n",
       "      <td>...</td>\n",
       "      <td>...</td>\n",
       "      <td>...</td>\n",
       "      <td>...</td>\n",
       "      <td>...</td>\n",
       "      <td>...</td>\n",
       "      <td>...</td>\n",
       "      <td>...</td>\n",
       "      <td>...</td>\n",
       "      <td>...</td>\n",
       "      <td>...</td>\n",
       "      <td>...</td>\n",
       "      <td>...</td>\n",
       "      <td>...</td>\n",
       "    </tr>\n",
       "    <tr>\n",
       "      <th>45750</th>\n",
       "      <td>3.0</td>\n",
       "      <td>0.0</td>\n",
       "      <td>1.0</td>\n",
       "      <td>0.0</td>\n",
       "      <td>1.0</td>\n",
       "      <td>0.0</td>\n",
       "      <td>0.0</td>\n",
       "      <td>0.0</td>\n",
       "      <td>0.0</td>\n",
       "      <td>0.0</td>\n",
       "      <td>NaN</td>\n",
       "      <td>NaN</td>\n",
       "      <td>NaN</td>\n",
       "      <td>NaN</td>\n",
       "      <td>NaN</td>\n",
       "      <td>NaN</td>\n",
       "      <td>NaN</td>\n",
       "      <td>67</td>\n",
       "      <td>NaN</td>\n",
       "    </tr>\n",
       "    <tr>\n",
       "      <th>45752</th>\n",
       "      <td>227.0</td>\n",
       "      <td>151.0</td>\n",
       "      <td>44.0</td>\n",
       "      <td>19.0</td>\n",
       "      <td>43.0</td>\n",
       "      <td>1.0</td>\n",
       "      <td>1.0</td>\n",
       "      <td>58.0</td>\n",
       "      <td>3.0</td>\n",
       "      <td>0.0</td>\n",
       "      <td>52.0</td>\n",
       "      <td>NaN</td>\n",
       "      <td>NaN</td>\n",
       "      <td>NaN</td>\n",
       "      <td>NaN</td>\n",
       "      <td>NaN</td>\n",
       "      <td>172</td>\n",
       "      <td>13479</td>\n",
       "      <td>78.0</td>\n",
       "    </tr>\n",
       "    <tr>\n",
       "      <th>45753</th>\n",
       "      <td>12.0</td>\n",
       "      <td>7.0</td>\n",
       "      <td>0.0</td>\n",
       "      <td>0.0</td>\n",
       "      <td>0.0</td>\n",
       "      <td>0.0</td>\n",
       "      <td>0.0</td>\n",
       "      <td>2.0</td>\n",
       "      <td>0.0</td>\n",
       "      <td>0.0</td>\n",
       "      <td>NaN</td>\n",
       "      <td>NaN</td>\n",
       "      <td>NaN</td>\n",
       "      <td>NaN</td>\n",
       "      <td>NaN</td>\n",
       "      <td>NaN</td>\n",
       "      <td>NaN</td>\n",
       "      <td>614</td>\n",
       "      <td>NaN</td>\n",
       "    </tr>\n",
       "    <tr>\n",
       "      <th>45764</th>\n",
       "      <td>248.0</td>\n",
       "      <td>102.0</td>\n",
       "      <td>35.0</td>\n",
       "      <td>3.0</td>\n",
       "      <td>34.0</td>\n",
       "      <td>1.0</td>\n",
       "      <td>1.0</td>\n",
       "      <td>27.0</td>\n",
       "      <td>2.0</td>\n",
       "      <td>0.0</td>\n",
       "      <td>83.0</td>\n",
       "      <td>43.0</td>\n",
       "      <td>10.0</td>\n",
       "      <td>38.0</td>\n",
       "      <td>6.0</td>\n",
       "      <td>8.0</td>\n",
       "      <td>175</td>\n",
       "      <td>10716</td>\n",
       "      <td>69.0</td>\n",
       "    </tr>\n",
       "    <tr>\n",
       "      <th>45766</th>\n",
       "      <td>7.0</td>\n",
       "      <td>3.0</td>\n",
       "      <td>0.0</td>\n",
       "      <td>0.0</td>\n",
       "      <td>0.0</td>\n",
       "      <td>0.0</td>\n",
       "      <td>0.0</td>\n",
       "      <td>1.0</td>\n",
       "      <td>0.0</td>\n",
       "      <td>0.0</td>\n",
       "      <td>NaN</td>\n",
       "      <td>NaN</td>\n",
       "      <td>NaN</td>\n",
       "      <td>NaN</td>\n",
       "      <td>NaN</td>\n",
       "      <td>NaN</td>\n",
       "      <td>NaN</td>\n",
       "      <td>244</td>\n",
       "      <td>NaN</td>\n",
       "    </tr>\n",
       "  </tbody>\n",
       "</table>\n",
       "<p>9732 rows × 19 columns</p>\n",
       "</div>"
      ],
      "text/plain": [
       "          MP  games_starts  goals  assists  goals_pens  pens_made  pens_att  \\\n",
       "1        1.0           0.0    0.0      0.0         0.0        0.0       0.0   \n",
       "3        2.0           2.0    0.0      0.0         0.0        0.0       0.0   \n",
       "7       16.0           6.0    3.0      0.0         3.0        0.0       0.0   \n",
       "11       2.0           1.0    1.0      0.0         1.0        0.0       0.0   \n",
       "12       8.0           7.0    1.0      1.0         1.0        0.0       0.0   \n",
       "...      ...           ...    ...      ...         ...        ...       ...   \n",
       "45750    3.0           0.0    1.0      0.0         1.0        0.0       0.0   \n",
       "45752  227.0         151.0   44.0     19.0        43.0        1.0       1.0   \n",
       "45753   12.0           7.0    0.0      0.0         0.0        0.0       0.0   \n",
       "45764  248.0         102.0   35.0      3.0        34.0        1.0       1.0   \n",
       "45766    7.0           3.0    0.0      0.0         0.0        0.0       0.0   \n",
       "\n",
       "       cards_yellow  cards_red  cards_yellow_red  fouls  fouled  offsides  \\\n",
       "1               0.0        0.0               0.0    NaN     NaN       NaN   \n",
       "3               0.0        0.0               0.0    NaN     NaN       NaN   \n",
       "7               0.0        0.0               0.0    NaN     NaN       NaN   \n",
       "11              0.0        0.0               0.0    NaN     NaN       NaN   \n",
       "12              1.0        0.0               0.0    NaN     NaN       NaN   \n",
       "...             ...        ...               ...    ...     ...       ...   \n",
       "45750           0.0        0.0               0.0    NaN     NaN       NaN   \n",
       "45752          58.0        3.0               0.0   52.0     NaN       NaN   \n",
       "45753           2.0        0.0               0.0    NaN     NaN       NaN   \n",
       "45764          27.0        2.0               0.0   83.0    43.0      10.0   \n",
       "45766           1.0        0.0               0.0    NaN     NaN       NaN   \n",
       "\n",
       "       crosses  interceptions  tackles_won height minutes  weight  \n",
       "1          NaN            NaN          NaN    NaN       7     NaN  \n",
       "3          NaN            NaN          NaN    180     104    77.0  \n",
       "7          NaN            NaN          NaN    183     614    79.0  \n",
       "11         NaN            NaN          NaN    178      94    78.0  \n",
       "12         NaN            NaN          NaN    180     524     NaN  \n",
       "...        ...            ...          ...    ...     ...     ...  \n",
       "45750      NaN            NaN          NaN    NaN      67     NaN  \n",
       "45752      NaN            NaN          NaN    172   13479    78.0  \n",
       "45753      NaN            NaN          NaN    NaN     614     NaN  \n",
       "45764     38.0            6.0          8.0    175   10716    69.0  \n",
       "45766      NaN            NaN          NaN    NaN     244     NaN  \n",
       "\n",
       "[9732 rows x 19 columns]"
      ]
     },
     "execution_count": 768,
     "metadata": {},
     "output_type": "execute_result"
    }
   ],
   "source": [
    "forward[numerical]"
   ]
  },
  {
   "cell_type": "code",
   "execution_count": 769,
   "id": "4faaec22",
   "metadata": {},
   "outputs": [
    {
     "data": {
      "text/plain": [
       "0           March\n",
       "1        November\n",
       "2        December\n",
       "3           April\n",
       "4          August\n",
       "           ...   \n",
       "45762        July\n",
       "45763       March\n",
       "45764        June\n",
       "45765       March\n",
       "45766         May\n",
       "Name: month, Length: 44038, dtype: object"
      ]
     },
     "execution_count": 769,
     "metadata": {},
     "output_type": "execute_result"
    }
   ],
   "source": [
    "data['month']"
   ]
  },
  {
   "cell_type": "code",
   "execution_count": 770,
   "id": "1a12c08a",
   "metadata": {},
   "outputs": [
    {
     "name": "stderr",
     "output_type": "stream",
     "text": [
      "C:\\Users\\DELL\\anaconda3\\lib\\site-packages\\pandas\\core\\frame.py:3678: SettingWithCopyWarning: \n",
      "A value is trying to be set on a copy of a slice from a DataFrame.\n",
      "Try using .loc[row_indexer,col_indexer] = value instead\n",
      "\n",
      "See the caveats in the documentation: https://pandas.pydata.org/pandas-docs/stable/user_guide/indexing.html#returning-a-view-versus-a-copy\n",
      "  self[col] = igetitem(value, i)\n"
     ]
    }
   ],
   "source": [
    "forward[numerical]=imputer.fit_transform(forward[numerical])"
   ]
  },
  {
   "cell_type": "code",
   "execution_count": 771,
   "id": "0a9914b1",
   "metadata": {},
   "outputs": [
    {
     "data": {
      "text/html": [
       "<div>\n",
       "<style scoped>\n",
       "    .dataframe tbody tr th:only-of-type {\n",
       "        vertical-align: middle;\n",
       "    }\n",
       "\n",
       "    .dataframe tbody tr th {\n",
       "        vertical-align: top;\n",
       "    }\n",
       "\n",
       "    .dataframe thead th {\n",
       "        text-align: right;\n",
       "    }\n",
       "</style>\n",
       "<table border=\"1\" class=\"dataframe\">\n",
       "  <thead>\n",
       "    <tr style=\"text-align: right;\">\n",
       "      <th></th>\n",
       "      <th>MP</th>\n",
       "      <th>games_starts</th>\n",
       "      <th>goals</th>\n",
       "      <th>assists</th>\n",
       "      <th>goals_pens</th>\n",
       "      <th>pens_made</th>\n",
       "      <th>pens_att</th>\n",
       "      <th>cards_yellow</th>\n",
       "      <th>cards_red</th>\n",
       "      <th>cards_yellow_red</th>\n",
       "      <th>fouls</th>\n",
       "      <th>fouled</th>\n",
       "      <th>offsides</th>\n",
       "      <th>crosses</th>\n",
       "      <th>interceptions</th>\n",
       "      <th>tackles_won</th>\n",
       "      <th>height</th>\n",
       "      <th>minutes</th>\n",
       "      <th>weight</th>\n",
       "    </tr>\n",
       "  </thead>\n",
       "  <tbody>\n",
       "    <tr>\n",
       "      <th>1</th>\n",
       "      <td>1.0</td>\n",
       "      <td>0.0</td>\n",
       "      <td>0.0</td>\n",
       "      <td>0.0</td>\n",
       "      <td>0.0</td>\n",
       "      <td>0.0</td>\n",
       "      <td>0.0</td>\n",
       "      <td>0.0</td>\n",
       "      <td>0.0</td>\n",
       "      <td>0.0</td>\n",
       "      <td>0.391304</td>\n",
       "      <td>0.043478</td>\n",
       "      <td>0.000000</td>\n",
       "      <td>0.043478</td>\n",
       "      <td>0.217391</td>\n",
       "      <td>0.217391</td>\n",
       "      <td>180.739130</td>\n",
       "      <td>7.0</td>\n",
       "      <td>73.739130</td>\n",
       "    </tr>\n",
       "    <tr>\n",
       "      <th>3</th>\n",
       "      <td>2.0</td>\n",
       "      <td>2.0</td>\n",
       "      <td>0.0</td>\n",
       "      <td>0.0</td>\n",
       "      <td>0.0</td>\n",
       "      <td>0.0</td>\n",
       "      <td>0.0</td>\n",
       "      <td>0.0</td>\n",
       "      <td>0.0</td>\n",
       "      <td>0.0</td>\n",
       "      <td>1.739130</td>\n",
       "      <td>1.260870</td>\n",
       "      <td>0.565217</td>\n",
       "      <td>0.826087</td>\n",
       "      <td>0.434783</td>\n",
       "      <td>0.956522</td>\n",
       "      <td>180.000000</td>\n",
       "      <td>104.0</td>\n",
       "      <td>77.000000</td>\n",
       "    </tr>\n",
       "    <tr>\n",
       "      <th>7</th>\n",
       "      <td>16.0</td>\n",
       "      <td>6.0</td>\n",
       "      <td>3.0</td>\n",
       "      <td>0.0</td>\n",
       "      <td>3.0</td>\n",
       "      <td>0.0</td>\n",
       "      <td>0.0</td>\n",
       "      <td>0.0</td>\n",
       "      <td>0.0</td>\n",
       "      <td>0.0</td>\n",
       "      <td>7.565217</td>\n",
       "      <td>8.086957</td>\n",
       "      <td>2.608696</td>\n",
       "      <td>8.347826</td>\n",
       "      <td>2.478261</td>\n",
       "      <td>4.086957</td>\n",
       "      <td>183.000000</td>\n",
       "      <td>614.0</td>\n",
       "      <td>79.000000</td>\n",
       "    </tr>\n",
       "    <tr>\n",
       "      <th>11</th>\n",
       "      <td>2.0</td>\n",
       "      <td>1.0</td>\n",
       "      <td>1.0</td>\n",
       "      <td>0.0</td>\n",
       "      <td>1.0</td>\n",
       "      <td>0.0</td>\n",
       "      <td>0.0</td>\n",
       "      <td>0.0</td>\n",
       "      <td>0.0</td>\n",
       "      <td>0.0</td>\n",
       "      <td>1.521739</td>\n",
       "      <td>1.304348</td>\n",
       "      <td>0.304348</td>\n",
       "      <td>1.652174</td>\n",
       "      <td>0.521739</td>\n",
       "      <td>0.869565</td>\n",
       "      <td>178.000000</td>\n",
       "      <td>94.0</td>\n",
       "      <td>78.000000</td>\n",
       "    </tr>\n",
       "    <tr>\n",
       "      <th>12</th>\n",
       "      <td>8.0</td>\n",
       "      <td>7.0</td>\n",
       "      <td>1.0</td>\n",
       "      <td>1.0</td>\n",
       "      <td>1.0</td>\n",
       "      <td>0.0</td>\n",
       "      <td>0.0</td>\n",
       "      <td>1.0</td>\n",
       "      <td>0.0</td>\n",
       "      <td>0.0</td>\n",
       "      <td>8.521739</td>\n",
       "      <td>4.739130</td>\n",
       "      <td>0.956522</td>\n",
       "      <td>5.913043</td>\n",
       "      <td>2.869565</td>\n",
       "      <td>3.434783</td>\n",
       "      <td>180.000000</td>\n",
       "      <td>524.0</td>\n",
       "      <td>73.956522</td>\n",
       "    </tr>\n",
       "    <tr>\n",
       "      <th>...</th>\n",
       "      <td>...</td>\n",
       "      <td>...</td>\n",
       "      <td>...</td>\n",
       "      <td>...</td>\n",
       "      <td>...</td>\n",
       "      <td>...</td>\n",
       "      <td>...</td>\n",
       "      <td>...</td>\n",
       "      <td>...</td>\n",
       "      <td>...</td>\n",
       "      <td>...</td>\n",
       "      <td>...</td>\n",
       "      <td>...</td>\n",
       "      <td>...</td>\n",
       "      <td>...</td>\n",
       "      <td>...</td>\n",
       "      <td>...</td>\n",
       "      <td>...</td>\n",
       "      <td>...</td>\n",
       "    </tr>\n",
       "    <tr>\n",
       "      <th>45750</th>\n",
       "      <td>3.0</td>\n",
       "      <td>0.0</td>\n",
       "      <td>1.0</td>\n",
       "      <td>0.0</td>\n",
       "      <td>1.0</td>\n",
       "      <td>0.0</td>\n",
       "      <td>0.0</td>\n",
       "      <td>0.0</td>\n",
       "      <td>0.0</td>\n",
       "      <td>0.0</td>\n",
       "      <td>1.217391</td>\n",
       "      <td>1.000000</td>\n",
       "      <td>0.130435</td>\n",
       "      <td>1.260870</td>\n",
       "      <td>0.434783</td>\n",
       "      <td>0.652174</td>\n",
       "      <td>178.478261</td>\n",
       "      <td>67.0</td>\n",
       "      <td>72.391304</td>\n",
       "    </tr>\n",
       "    <tr>\n",
       "      <th>45752</th>\n",
       "      <td>227.0</td>\n",
       "      <td>151.0</td>\n",
       "      <td>44.0</td>\n",
       "      <td>19.0</td>\n",
       "      <td>43.0</td>\n",
       "      <td>1.0</td>\n",
       "      <td>1.0</td>\n",
       "      <td>58.0</td>\n",
       "      <td>3.0</td>\n",
       "      <td>0.0</td>\n",
       "      <td>52.000000</td>\n",
       "      <td>61.956522</td>\n",
       "      <td>32.869565</td>\n",
       "      <td>18.130435</td>\n",
       "      <td>11.260870</td>\n",
       "      <td>17.695652</td>\n",
       "      <td>172.000000</td>\n",
       "      <td>13479.0</td>\n",
       "      <td>78.000000</td>\n",
       "    </tr>\n",
       "    <tr>\n",
       "      <th>45753</th>\n",
       "      <td>12.0</td>\n",
       "      <td>7.0</td>\n",
       "      <td>0.0</td>\n",
       "      <td>0.0</td>\n",
       "      <td>0.0</td>\n",
       "      <td>0.0</td>\n",
       "      <td>0.0</td>\n",
       "      <td>2.0</td>\n",
       "      <td>0.0</td>\n",
       "      <td>0.0</td>\n",
       "      <td>8.434783</td>\n",
       "      <td>7.652174</td>\n",
       "      <td>2.739130</td>\n",
       "      <td>7.695652</td>\n",
       "      <td>2.173913</td>\n",
       "      <td>4.000000</td>\n",
       "      <td>180.869565</td>\n",
       "      <td>614.0</td>\n",
       "      <td>75.826087</td>\n",
       "    </tr>\n",
       "    <tr>\n",
       "      <th>45764</th>\n",
       "      <td>248.0</td>\n",
       "      <td>102.0</td>\n",
       "      <td>35.0</td>\n",
       "      <td>3.0</td>\n",
       "      <td>34.0</td>\n",
       "      <td>1.0</td>\n",
       "      <td>1.0</td>\n",
       "      <td>27.0</td>\n",
       "      <td>2.0</td>\n",
       "      <td>0.0</td>\n",
       "      <td>83.000000</td>\n",
       "      <td>43.000000</td>\n",
       "      <td>10.000000</td>\n",
       "      <td>38.000000</td>\n",
       "      <td>6.000000</td>\n",
       "      <td>8.000000</td>\n",
       "      <td>175.000000</td>\n",
       "      <td>10716.0</td>\n",
       "      <td>69.000000</td>\n",
       "    </tr>\n",
       "    <tr>\n",
       "      <th>45766</th>\n",
       "      <td>7.0</td>\n",
       "      <td>3.0</td>\n",
       "      <td>0.0</td>\n",
       "      <td>0.0</td>\n",
       "      <td>0.0</td>\n",
       "      <td>0.0</td>\n",
       "      <td>0.0</td>\n",
       "      <td>1.0</td>\n",
       "      <td>0.0</td>\n",
       "      <td>0.0</td>\n",
       "      <td>3.434783</td>\n",
       "      <td>3.260870</td>\n",
       "      <td>0.608696</td>\n",
       "      <td>4.695652</td>\n",
       "      <td>1.086957</td>\n",
       "      <td>1.739130</td>\n",
       "      <td>178.217391</td>\n",
       "      <td>244.0</td>\n",
       "      <td>71.739130</td>\n",
       "    </tr>\n",
       "  </tbody>\n",
       "</table>\n",
       "<p>9732 rows × 19 columns</p>\n",
       "</div>"
      ],
      "text/plain": [
       "          MP  games_starts  goals  assists  goals_pens  pens_made  pens_att  \\\n",
       "1        1.0           0.0    0.0      0.0         0.0        0.0       0.0   \n",
       "3        2.0           2.0    0.0      0.0         0.0        0.0       0.0   \n",
       "7       16.0           6.0    3.0      0.0         3.0        0.0       0.0   \n",
       "11       2.0           1.0    1.0      0.0         1.0        0.0       0.0   \n",
       "12       8.0           7.0    1.0      1.0         1.0        0.0       0.0   \n",
       "...      ...           ...    ...      ...         ...        ...       ...   \n",
       "45750    3.0           0.0    1.0      0.0         1.0        0.0       0.0   \n",
       "45752  227.0         151.0   44.0     19.0        43.0        1.0       1.0   \n",
       "45753   12.0           7.0    0.0      0.0         0.0        0.0       0.0   \n",
       "45764  248.0         102.0   35.0      3.0        34.0        1.0       1.0   \n",
       "45766    7.0           3.0    0.0      0.0         0.0        0.0       0.0   \n",
       "\n",
       "       cards_yellow  cards_red  cards_yellow_red      fouls     fouled  \\\n",
       "1               0.0        0.0               0.0   0.391304   0.043478   \n",
       "3               0.0        0.0               0.0   1.739130   1.260870   \n",
       "7               0.0        0.0               0.0   7.565217   8.086957   \n",
       "11              0.0        0.0               0.0   1.521739   1.304348   \n",
       "12              1.0        0.0               0.0   8.521739   4.739130   \n",
       "...             ...        ...               ...        ...        ...   \n",
       "45750           0.0        0.0               0.0   1.217391   1.000000   \n",
       "45752          58.0        3.0               0.0  52.000000  61.956522   \n",
       "45753           2.0        0.0               0.0   8.434783   7.652174   \n",
       "45764          27.0        2.0               0.0  83.000000  43.000000   \n",
       "45766           1.0        0.0               0.0   3.434783   3.260870   \n",
       "\n",
       "        offsides    crosses  interceptions  tackles_won      height  minutes  \\\n",
       "1       0.000000   0.043478       0.217391     0.217391  180.739130      7.0   \n",
       "3       0.565217   0.826087       0.434783     0.956522  180.000000    104.0   \n",
       "7       2.608696   8.347826       2.478261     4.086957  183.000000    614.0   \n",
       "11      0.304348   1.652174       0.521739     0.869565  178.000000     94.0   \n",
       "12      0.956522   5.913043       2.869565     3.434783  180.000000    524.0   \n",
       "...          ...        ...            ...          ...         ...      ...   \n",
       "45750   0.130435   1.260870       0.434783     0.652174  178.478261     67.0   \n",
       "45752  32.869565  18.130435      11.260870    17.695652  172.000000  13479.0   \n",
       "45753   2.739130   7.695652       2.173913     4.000000  180.869565    614.0   \n",
       "45764  10.000000  38.000000       6.000000     8.000000  175.000000  10716.0   \n",
       "45766   0.608696   4.695652       1.086957     1.739130  178.217391    244.0   \n",
       "\n",
       "          weight  \n",
       "1      73.739130  \n",
       "3      77.000000  \n",
       "7      79.000000  \n",
       "11     78.000000  \n",
       "12     73.956522  \n",
       "...          ...  \n",
       "45750  72.391304  \n",
       "45752  78.000000  \n",
       "45753  75.826087  \n",
       "45764  69.000000  \n",
       "45766  71.739130  \n",
       "\n",
       "[9732 rows x 19 columns]"
      ]
     },
     "execution_count": 771,
     "metadata": {},
     "output_type": "execute_result"
    }
   ],
   "source": [
    "forward[numerical]"
   ]
  },
  {
   "cell_type": "code",
   "execution_count": 772,
   "id": "d682d97b",
   "metadata": {
    "scrolled": true
   },
   "outputs": [
    {
     "name": "stderr",
     "output_type": "stream",
     "text": [
      "C:\\Users\\DELL\\anaconda3\\lib\\site-packages\\pandas\\core\\frame.py:3678: SettingWithCopyWarning: \n",
      "A value is trying to be set on a copy of a slice from a DataFrame.\n",
      "Try using .loc[row_indexer,col_indexer] = value instead\n",
      "\n",
      "See the caveats in the documentation: https://pandas.pydata.org/pandas-docs/stable/user_guide/indexing.html#returning-a-view-versus-a-copy\n",
      "  self[col] = igetitem(value, i)\n"
     ]
    }
   ],
   "source": [
    "defense[numerical]=imputer.fit_transform(defense[numerical])"
   ]
  },
  {
   "cell_type": "code",
   "execution_count": 773,
   "id": "aa17fbb7",
   "metadata": {
    "scrolled": true
   },
   "outputs": [
    {
     "name": "stderr",
     "output_type": "stream",
     "text": [
      "C:\\Users\\DELL\\anaconda3\\lib\\site-packages\\pandas\\core\\frame.py:3678: SettingWithCopyWarning: \n",
      "A value is trying to be set on a copy of a slice from a DataFrame.\n",
      "Try using .loc[row_indexer,col_indexer] = value instead\n",
      "\n",
      "See the caveats in the documentation: https://pandas.pydata.org/pandas-docs/stable/user_guide/indexing.html#returning-a-view-versus-a-copy\n",
      "  self[col] = igetitem(value, i)\n"
     ]
    }
   ],
   "source": [
    "goalkeeper[numerical]=imputer.fit_transform(goalkeeper[numerical])"
   ]
  },
  {
   "cell_type": "code",
   "execution_count": 774,
   "id": "ebf603cb",
   "metadata": {
    "scrolled": true
   },
   "outputs": [
    {
     "name": "stderr",
     "output_type": "stream",
     "text": [
      "C:\\Users\\DELL\\anaconda3\\lib\\site-packages\\pandas\\core\\frame.py:3678: SettingWithCopyWarning: \n",
      "A value is trying to be set on a copy of a slice from a DataFrame.\n",
      "Try using .loc[row_indexer,col_indexer] = value instead\n",
      "\n",
      "See the caveats in the documentation: https://pandas.pydata.org/pandas-docs/stable/user_guide/indexing.html#returning-a-view-versus-a-copy\n",
      "  self[col] = igetitem(value, i)\n"
     ]
    }
   ],
   "source": [
    "forward[numerical]=imputer.fit_transform(forward[numerical])"
   ]
  },
  {
   "cell_type": "code",
   "execution_count": 775,
   "id": "db9ac979",
   "metadata": {
    "scrolled": true
   },
   "outputs": [
    {
     "name": "stderr",
     "output_type": "stream",
     "text": [
      "C:\\Users\\DELL\\anaconda3\\lib\\site-packages\\pandas\\core\\frame.py:3678: SettingWithCopyWarning: \n",
      "A value is trying to be set on a copy of a slice from a DataFrame.\n",
      "Try using .loc[row_indexer,col_indexer] = value instead\n",
      "\n",
      "See the caveats in the documentation: https://pandas.pydata.org/pandas-docs/stable/user_guide/indexing.html#returning-a-view-versus-a-copy\n",
      "  self[col] = igetitem(value, i)\n"
     ]
    }
   ],
   "source": [
    "mid[numerical]=imputer.fit_transform(mid[numerical])"
   ]
  },
  {
   "cell_type": "code",
   "execution_count": 776,
   "id": "e0de972e",
   "metadata": {},
   "outputs": [],
   "source": [
    "data.loc[data['position']=='FW']=forward\n",
    "data.loc[data['position']=='MF']=mid\n",
    "data.loc[data['position']=='DF']=defense\n",
    "data.loc[data['position']=='GK']=goalkeeper\n"
   ]
  },
  {
   "cell_type": "code",
   "execution_count": 777,
   "id": "ead42d2f",
   "metadata": {},
   "outputs": [],
   "source": [
    "# data[numerical]=scaler.inverse_transform(data[numerical])"
   ]
  },
  {
   "cell_type": "code",
   "execution_count": 778,
   "id": "d8c9a309",
   "metadata": {
    "scrolled": true
   },
   "outputs": [
    {
     "data": {
      "text/plain": [
       "(44038, 27)"
      ]
     },
     "execution_count": 778,
     "metadata": {},
     "output_type": "execute_result"
    }
   ],
   "source": [
    "data.shape"
   ]
  },
  {
   "cell_type": "code",
   "execution_count": 779,
   "id": "38072a27",
   "metadata": {},
   "outputs": [
    {
     "data": {
      "text/html": [
       "<div>\n",
       "<style scoped>\n",
       "    .dataframe tbody tr th:only-of-type {\n",
       "        vertical-align: middle;\n",
       "    }\n",
       "\n",
       "    .dataframe tbody tr th {\n",
       "        vertical-align: top;\n",
       "    }\n",
       "\n",
       "    .dataframe thead th {\n",
       "        text-align: right;\n",
       "    }\n",
       "</style>\n",
       "<table border=\"1\" class=\"dataframe\">\n",
       "  <thead>\n",
       "    <tr style=\"text-align: right;\">\n",
       "      <th></th>\n",
       "      <th>MP</th>\n",
       "      <th>games_starts</th>\n",
       "      <th>goals</th>\n",
       "      <th>assists</th>\n",
       "      <th>goals_pens</th>\n",
       "      <th>pens_made</th>\n",
       "      <th>pens_att</th>\n",
       "      <th>cards_yellow</th>\n",
       "      <th>cards_red</th>\n",
       "      <th>cards_yellow_red</th>\n",
       "      <th>fouls</th>\n",
       "      <th>fouled</th>\n",
       "      <th>offsides</th>\n",
       "      <th>crosses</th>\n",
       "      <th>interceptions</th>\n",
       "      <th>tackles_won</th>\n",
       "      <th>height</th>\n",
       "      <th>minutes</th>\n",
       "      <th>weight</th>\n",
       "    </tr>\n",
       "  </thead>\n",
       "  <tbody>\n",
       "    <tr>\n",
       "      <th>0</th>\n",
       "      <td>1.0</td>\n",
       "      <td>0.0</td>\n",
       "      <td>0.0</td>\n",
       "      <td>0.000000</td>\n",
       "      <td>0.0</td>\n",
       "      <td>0.0</td>\n",
       "      <td>0.0</td>\n",
       "      <td>0.0</td>\n",
       "      <td>0.0</td>\n",
       "      <td>0.0</td>\n",
       "      <td>0.739130</td>\n",
       "      <td>0.173913</td>\n",
       "      <td>0.000000</td>\n",
       "      <td>0.565217</td>\n",
       "      <td>0.826087</td>\n",
       "      <td>0.652174</td>\n",
       "      <td>180.0</td>\n",
       "      <td>34.0</td>\n",
       "      <td>69.000000</td>\n",
       "    </tr>\n",
       "    <tr>\n",
       "      <th>1</th>\n",
       "      <td>1.0</td>\n",
       "      <td>0.0</td>\n",
       "      <td>0.0</td>\n",
       "      <td>0.000000</td>\n",
       "      <td>0.0</td>\n",
       "      <td>0.0</td>\n",
       "      <td>0.0</td>\n",
       "      <td>0.0</td>\n",
       "      <td>0.0</td>\n",
       "      <td>0.0</td>\n",
       "      <td>0.391304</td>\n",
       "      <td>0.043478</td>\n",
       "      <td>0.000000</td>\n",
       "      <td>0.043478</td>\n",
       "      <td>0.217391</td>\n",
       "      <td>0.217391</td>\n",
       "      <td>180.73913</td>\n",
       "      <td>7.0</td>\n",
       "      <td>73.739130</td>\n",
       "    </tr>\n",
       "    <tr>\n",
       "      <th>2</th>\n",
       "      <td>4.0</td>\n",
       "      <td>4.0</td>\n",
       "      <td>0.0</td>\n",
       "      <td>0.043478</td>\n",
       "      <td>0.0</td>\n",
       "      <td>0.0</td>\n",
       "      <td>0.0</td>\n",
       "      <td>2.0</td>\n",
       "      <td>1.0</td>\n",
       "      <td>1.0</td>\n",
       "      <td>3.043478</td>\n",
       "      <td>1.695652</td>\n",
       "      <td>0.043478</td>\n",
       "      <td>3.565217</td>\n",
       "      <td>3.782609</td>\n",
       "      <td>2.956522</td>\n",
       "      <td>181.652174</td>\n",
       "      <td>321.0</td>\n",
       "      <td>73.869565</td>\n",
       "    </tr>\n",
       "    <tr>\n",
       "      <th>3</th>\n",
       "      <td>2.0</td>\n",
       "      <td>2.0</td>\n",
       "      <td>0.0</td>\n",
       "      <td>0.000000</td>\n",
       "      <td>0.0</td>\n",
       "      <td>0.0</td>\n",
       "      <td>0.0</td>\n",
       "      <td>0.0</td>\n",
       "      <td>0.0</td>\n",
       "      <td>0.0</td>\n",
       "      <td>1.739130</td>\n",
       "      <td>1.260870</td>\n",
       "      <td>0.565217</td>\n",
       "      <td>0.826087</td>\n",
       "      <td>0.434783</td>\n",
       "      <td>0.956522</td>\n",
       "      <td>180.0</td>\n",
       "      <td>104.0</td>\n",
       "      <td>77.000000</td>\n",
       "    </tr>\n",
       "    <tr>\n",
       "      <th>4</th>\n",
       "      <td>1.0</td>\n",
       "      <td>0.0</td>\n",
       "      <td>0.0</td>\n",
       "      <td>0.000000</td>\n",
       "      <td>0.0</td>\n",
       "      <td>0.0</td>\n",
       "      <td>0.0</td>\n",
       "      <td>0.0</td>\n",
       "      <td>0.0</td>\n",
       "      <td>0.0</td>\n",
       "      <td>0.130435</td>\n",
       "      <td>0.086957</td>\n",
       "      <td>0.043478</td>\n",
       "      <td>0.086957</td>\n",
       "      <td>0.043478</td>\n",
       "      <td>0.043478</td>\n",
       "      <td>178.521739</td>\n",
       "      <td>1.0</td>\n",
       "      <td>69.739130</td>\n",
       "    </tr>\n",
       "  </tbody>\n",
       "</table>\n",
       "</div>"
      ],
      "text/plain": [
       "    MP  games_starts  goals   assists  goals_pens  pens_made  pens_att  \\\n",
       "0  1.0           0.0    0.0  0.000000         0.0        0.0       0.0   \n",
       "1  1.0           0.0    0.0  0.000000         0.0        0.0       0.0   \n",
       "2  4.0           4.0    0.0  0.043478         0.0        0.0       0.0   \n",
       "3  2.0           2.0    0.0  0.000000         0.0        0.0       0.0   \n",
       "4  1.0           0.0    0.0  0.000000         0.0        0.0       0.0   \n",
       "\n",
       "   cards_yellow  cards_red  cards_yellow_red     fouls    fouled  offsides  \\\n",
       "0           0.0        0.0               0.0  0.739130  0.173913  0.000000   \n",
       "1           0.0        0.0               0.0  0.391304  0.043478  0.000000   \n",
       "2           2.0        1.0               1.0  3.043478  1.695652  0.043478   \n",
       "3           0.0        0.0               0.0  1.739130  1.260870  0.565217   \n",
       "4           0.0        0.0               0.0  0.130435  0.086957  0.043478   \n",
       "\n",
       "    crosses  interceptions  tackles_won      height minutes     weight  \n",
       "0  0.565217       0.826087     0.652174       180.0    34.0  69.000000  \n",
       "1  0.043478       0.217391     0.217391   180.73913     7.0  73.739130  \n",
       "2  3.565217       3.782609     2.956522  181.652174   321.0  73.869565  \n",
       "3  0.826087       0.434783     0.956522       180.0   104.0  77.000000  \n",
       "4  0.086957       0.043478     0.043478  178.521739     1.0  69.739130  "
      ]
     },
     "execution_count": 779,
     "metadata": {},
     "output_type": "execute_result"
    }
   ],
   "source": [
    "data[numerical].head()"
   ]
  },
  {
   "cell_type": "code",
   "execution_count": 780,
   "id": "05b8ff1a",
   "metadata": {},
   "outputs": [],
   "source": [
    "from matplotlib import pyplot as plt"
   ]
  },
  {
   "cell_type": "code",
   "execution_count": 781,
   "id": "5f4e7c18",
   "metadata": {
    "scrolled": true
   },
   "outputs": [],
   "source": [
    "data[['minutes','height','weight']]=data[['minutes','height','weight']].astype(float)"
   ]
  },
  {
   "cell_type": "code",
   "execution_count": 782,
   "id": "f8229411",
   "metadata": {
    "scrolled": true
   },
   "outputs": [
    {
     "data": {
      "text/plain": [
       "MP                      0\n",
       "games_starts            0\n",
       "minutes                 0\n",
       "goals                   0\n",
       "assists                 0\n",
       "goals_pens              0\n",
       "pens_made               0\n",
       "pens_att                0\n",
       "cards_yellow            0\n",
       "cards_red               0\n",
       "cards_yellow_red        0\n",
       "fouls                   0\n",
       "fouled                  0\n",
       "offsides                0\n",
       "crosses                 0\n",
       "interceptions           0\n",
       "tackles_won             0\n",
       "pens_won            31905\n",
       "pens_conceded       31905\n",
       "main_info               0\n",
       "country                 0\n",
       "name                    0\n",
       "position                0\n",
       "month                   0\n",
       "year                    0\n",
       "height                  0\n",
       "weight                  0\n",
       "dtype: int64"
      ]
     },
     "execution_count": 782,
     "metadata": {},
     "output_type": "execute_result"
    }
   ],
   "source": [
    "data.isna().sum()"
   ]
  },
  {
   "cell_type": "code",
   "execution_count": 783,
   "id": "be3297a5",
   "metadata": {},
   "outputs": [
    {
     "name": "stdout",
     "output_type": "stream",
     "text": [
      "<class 'pandas.core.frame.DataFrame'>\n",
      "Int64Index: 44038 entries, 0 to 45766\n",
      "Data columns (total 27 columns):\n",
      " #   Column            Non-Null Count  Dtype  \n",
      "---  ------            --------------  -----  \n",
      " 0   MP                44038 non-null  float64\n",
      " 1   games_starts      44038 non-null  float64\n",
      " 2   minutes           44038 non-null  float64\n",
      " 3   goals             44038 non-null  float64\n",
      " 4   assists           44038 non-null  float64\n",
      " 5   goals_pens        44038 non-null  float64\n",
      " 6   pens_made         44038 non-null  float64\n",
      " 7   pens_att          44038 non-null  float64\n",
      " 8   cards_yellow      44038 non-null  float64\n",
      " 9   cards_red         44038 non-null  float64\n",
      " 10  cards_yellow_red  44038 non-null  float64\n",
      " 11  fouls             44038 non-null  float64\n",
      " 12  fouled            44038 non-null  float64\n",
      " 13  offsides          44038 non-null  float64\n",
      " 14  crosses           44038 non-null  float64\n",
      " 15  interceptions     44038 non-null  float64\n",
      " 16  tackles_won       44038 non-null  float64\n",
      " 17  pens_won          12133 non-null  float64\n",
      " 18  pens_conceded     12133 non-null  float64\n",
      " 19  main_info         44038 non-null  object \n",
      " 20  country           44038 non-null  object \n",
      " 21  name              44038 non-null  object \n",
      " 22  position          44038 non-null  object \n",
      " 23  month             44038 non-null  object \n",
      " 24  year              44038 non-null  object \n",
      " 25  height            44038 non-null  float64\n",
      " 26  weight            44038 non-null  float64\n",
      "dtypes: float64(21), object(6)\n",
      "memory usage: 9.4+ MB\n"
     ]
    }
   ],
   "source": [
    "data.info()"
   ]
  },
  {
   "cell_type": "code",
   "execution_count": 784,
   "id": "ae999b76",
   "metadata": {},
   "outputs": [
    {
     "data": {
      "text/plain": [
       "Index(['January', 'March', 'February', 'May', 'April', 'September', 'October',\n",
       "       'June', 'August', 'July', 'November', 'December', '(Date'],\n",
       "      dtype='object')"
      ]
     },
     "execution_count": 784,
     "metadata": {},
     "output_type": "execute_result"
    }
   ],
   "source": [
    "data.month.value_counts().index"
   ]
  },
  {
   "cell_type": "code",
   "execution_count": 785,
   "id": "ce3bee34",
   "metadata": {},
   "outputs": [],
   "source": [
    "from sklearn.model_selection import train_test_split"
   ]
  },
  {
   "cell_type": "code",
   "execution_count": 786,
   "id": "f133d327",
   "metadata": {},
   "outputs": [],
   "source": [
    "import xgboost as xgb"
   ]
  },
  {
   "cell_type": "code",
   "execution_count": 787,
   "id": "d9151c54",
   "metadata": {},
   "outputs": [],
   "source": [
    "xgboostModel=xgb.XGBClassifier(learning_rate = 0.1,\n",
    "                max_depth = 10, alpha = 10, n_estimators = 500)"
   ]
  },
  {
   "cell_type": "code",
   "execution_count": 788,
   "id": "4c6d74e7",
   "metadata": {},
   "outputs": [],
   "source": [
    "xgboostModel=xgb.XGBClassifier(n_estimators=500,max_depth=10,learning_rate=0.1,reg_alpha=10,reg_lambda=3,gamma=0.8,min_child_weight=4,subsample=0.9)"
   ]
  },
  {
   "cell_type": "code",
   "execution_count": 789,
   "id": "271023a6",
   "metadata": {},
   "outputs": [],
   "source": [
    "new=data"
   ]
  },
  {
   "cell_type": "code",
   "execution_count": 790,
   "id": "2db3fce7",
   "metadata": {},
   "outputs": [
    {
     "data": {
      "text/plain": [
       "Index(['England ', 'Brazil ', 'Argentina ', 'Netherlands ', 'Colombia ',\n",
       "       'Norway ', 'Denmark ', 'Croatia ', 'Bulgaria ', 'Austria ',\n",
       "       'Czech Republic ', 'Australia ', 'Ecuador ', 'Belgium ', 'Nigeria ',\n",
       "       'Bolivia ', 'Chile ', 'Bosnia and Herzegovina ', 'Côte d'Ivoire ',\n",
       "       'Northern Ireland ', 'North Macedonia ', 'Costa Rica ', 'Congo DR ',\n",
       "       'Panama ', 'El Salvador ', 'New Zealand ', 'Egypt ', 'Belarus ',\n",
       "       'Cuba ', 'Armenia ', 'Azerbaijan ', 'Dominican Republic ',\n",
       "       'Chinese Taipei ', 'Palestine ', 'Bahrain ', 'Nicaragua ', 'Barbados ',\n",
       "       'Congo ', 'Cyprus ', 'Curaçao ', 'Botswana ', 'Oman ', 'Bangladesh ',\n",
       "       'Bermuda ', 'Aruba ', 'Belize ', 'Czechoslovakia ', 'Angola ',\n",
       "       'Dominica ', 'Andorra ', 'Pakistan ', 'China PR ', 'Anguilla ',\n",
       "       'New Caledonia ', 'Benin ', 'Bahamas ', 'Niger ', 'Afghanistan ',\n",
       "       'Djibouti ', 'Papua New Guinea ', 'Algeria ', 'Antigua and Barbuda ',\n",
       "       'Bhutan ', 'Albania ', 'Cook Islands ', 'Comoros ', 'American Samoa ',\n",
       "       'Burkina Faso ', 'Commonwealth of Independent States ', 'Paraguay '],\n",
       "      dtype='object')"
      ]
     },
     "execution_count": 790,
     "metadata": {},
     "output_type": "execute_result"
    }
   ],
   "source": [
    "countries=data['country'].value_counts().index\n",
    "countries"
   ]
  },
  {
   "cell_type": "code",
   "execution_count": 791,
   "id": "29618fa9",
   "metadata": {},
   "outputs": [
    {
     "data": {
      "text/plain": [
       "Float64Index([  1.0,   2.0,   3.0,   4.0,   5.0,   6.0,   7.0,   8.0,   9.0,\n",
       "               10.0,\n",
       "              ...\n",
       "              570.0, 603.0, 550.0, 582.0, 527.0, 563.0, 618.0, 699.0, 557.0,\n",
       "              528.0],\n",
       "             dtype='float64', length=584)"
      ]
     },
     "execution_count": 791,
     "metadata": {},
     "output_type": "execute_result"
    }
   ],
   "source": [
    "data['MP'].value_counts().index"
   ]
  },
  {
   "cell_type": "code",
   "execution_count": 792,
   "id": "d3fe15a9",
   "metadata": {},
   "outputs": [],
   "source": [
    "data=data[data['position']!='GK']"
   ]
  },
  {
   "cell_type": "markdown",
   "id": "ec7f206b",
   "metadata": {},
   "source": [
    "# Feature Engineering "
   ]
  },
  {
   "cell_type": "code",
   "execution_count": 793,
   "id": "162dc591",
   "metadata": {},
   "outputs": [],
   "source": [
    "def classify_minutes(x):\n",
    "    if x<=120:\n",
    "        return 1\n",
    "    j=2\n",
    "    for i in range(120,46196,120):\n",
    "        if x>i and x<=i+120:\n",
    "            return j\n",
    "        j+=1"
   ]
  },
  {
   "cell_type": "code",
   "execution_count": 794,
   "id": "7a4c0f31",
   "metadata": {},
   "outputs": [
    {
     "name": "stderr",
     "output_type": "stream",
     "text": [
      "C:\\Users\\DELL\\AppData\\Local\\Temp/ipykernel_19708/1933400124.py:1: SettingWithCopyWarning: \n",
      "A value is trying to be set on a copy of a slice from a DataFrame.\n",
      "Try using .loc[row_indexer,col_indexer] = value instead\n",
      "\n",
      "See the caveats in the documentation: https://pandas.pydata.org/pandas-docs/stable/user_guide/indexing.html#returning-a-view-versus-a-copy\n",
      "  data['minutes']=data['minutes'].apply(classify_minutes)\n"
     ]
    }
   ],
   "source": [
    "data['minutes']=data['minutes'].apply(classify_minutes)"
   ]
  },
  {
   "cell_type": "code",
   "execution_count": 795,
   "id": "46be7336",
   "metadata": {},
   "outputs": [
    {
     "name": "stderr",
     "output_type": "stream",
     "text": [
      "C:\\Users\\DELL\\AppData\\Local\\Temp/ipykernel_19708/930947896.py:1: SettingWithCopyWarning: \n",
      "A value is trying to be set on a copy of a slice from a DataFrame.\n",
      "Try using .loc[row_indexer,col_indexer] = value instead\n",
      "\n",
      "See the caveats in the documentation: https://pandas.pydata.org/pandas-docs/stable/user_guide/indexing.html#returning-a-view-versus-a-copy\n",
      "  data['MP_']=data['MP']\n"
     ]
    }
   ],
   "source": [
    "data['MP_']=data['MP']"
   ]
  },
  {
   "cell_type": "code",
   "execution_count": 796,
   "id": "b8145d4b",
   "metadata": {},
   "outputs": [
    {
     "data": {
      "text/plain": [
       "0          1.0\n",
       "1          1.0\n",
       "2          4.0\n",
       "3          2.0\n",
       "4          1.0\n",
       "         ...  \n",
       "45761      6.0\n",
       "45763    222.0\n",
       "45764    248.0\n",
       "45765    332.0\n",
       "45766      7.0\n",
       "Name: MP, Length: 40570, dtype: float64"
      ]
     },
     "execution_count": 796,
     "metadata": {},
     "output_type": "execute_result"
    }
   ],
   "source": [
    "data['MP']"
   ]
  },
  {
   "cell_type": "code",
   "execution_count": 797,
   "id": "655f43e2",
   "metadata": {},
   "outputs": [],
   "source": [
    "matches_played=data['MP'].value_counts().index"
   ]
  },
  {
   "cell_type": "code",
   "execution_count": 798,
   "id": "ba8c078d",
   "metadata": {},
   "outputs": [],
   "source": [
    "ranged_columns=['shooting', 'agressive', 'impulse_degree', 'crossing', 'assisting',\n",
    "       'tackling','intercepting','height','weight','power']"
   ]
  },
  {
   "cell_type": "code",
   "execution_count": 799,
   "id": "088d930c",
   "metadata": {},
   "outputs": [],
   "source": [
    "countries=data['country'].value_counts().index"
   ]
  },
  {
   "cell_type": "code",
   "execution_count": 800,
   "id": "758eeabc",
   "metadata": {},
   "outputs": [],
   "source": [
    "def clear_messy(x):\n",
    "    try:\n",
    "        x=int(x)\n",
    "    except:\n",
    "        return False\n",
    "    return True"
   ]
  },
  {
   "cell_type": "code",
   "execution_count": 801,
   "id": "bed782f1",
   "metadata": {},
   "outputs": [],
   "source": [
    "condition=data['year'].apply(clear_messy)"
   ]
  },
  {
   "cell_type": "code",
   "execution_count": 802,
   "id": "00e84737",
   "metadata": {},
   "outputs": [],
   "source": [
    "data=data[condition]"
   ]
  },
  {
   "cell_type": "code",
   "execution_count": 803,
   "id": "5e3a16cc",
   "metadata": {},
   "outputs": [],
   "source": [
    "data['year']=data['year'].astype(int)"
   ]
  },
  {
   "cell_type": "code",
   "execution_count": 804,
   "id": "462cac94",
   "metadata": {},
   "outputs": [],
   "source": [
    "def classify_year(x):\n",
    "    if x<1970:\n",
    "        return 1\n",
    "    if x>=1970 and x<1980:\n",
    "        return 2\n",
    "    if x>=1980 and x<1990:\n",
    "        return 3\n",
    "    if x>=1990 and x<2000:\n",
    "        return 4\n",
    "    if x>=2000:\n",
    "        return 5"
   ]
  },
  {
   "cell_type": "code",
   "execution_count": 805,
   "id": "bf917ccd",
   "metadata": {},
   "outputs": [],
   "source": [
    "data['year']=data['year'].apply(classify_year)"
   ]
  },
  {
   "cell_type": "code",
   "execution_count": 806,
   "id": "c6a2c103",
   "metadata": {},
   "outputs": [
    {
     "data": {
      "text/plain": [
       "Int64Index([4, 3, 5, 2, 1], dtype='int64')"
      ]
     },
     "execution_count": 806,
     "metadata": {},
     "output_type": "execute_result"
    }
   ],
   "source": [
    "years=data['year'].value_counts().index\n",
    "years"
   ]
  },
  {
   "cell_type": "code",
   "execution_count": 807,
   "id": "82b5466a",
   "metadata": {},
   "outputs": [],
   "source": [
    "data=data.groupby('MP_').filter(lambda x: len(x)>1)"
   ]
  },
  {
   "cell_type": "code",
   "execution_count": 808,
   "id": "b4db6655",
   "metadata": {},
   "outputs": [],
   "source": [
    "minutes=data['minutes'].value_counts().index"
   ]
  },
  {
   "cell_type": "code",
   "execution_count": 809,
   "id": "a7815400",
   "metadata": {
    "scrolled": true
   },
   "outputs": [],
   "source": [
    "for m in minutes:\n",
    "    data.loc[data['minutes']==m,'shooting']=((data.loc[data['minutes']==m,'goals']+data.loc[data['minutes']==m,'goals_pens']))/(data.loc[data['minutes']==m,'goals'].max()+data.loc[data['minutes']==m,'goals_pens'].max())*100"
   ]
  },
  {
   "cell_type": "code",
   "execution_count": 810,
   "id": "20889526",
   "metadata": {},
   "outputs": [
    {
     "data": {
      "text/plain": [
       "0         0.000000\n",
       "1         0.000000\n",
       "2         0.000000\n",
       "3         0.000000\n",
       "4         0.000000\n",
       "           ...    \n",
       "45761    11.111111\n",
       "45763     6.926407\n",
       "45764    52.671756\n",
       "45765    19.559229\n",
       "45766     0.000000\n",
       "Name: shooting, Length: 40404, dtype: float64"
      ]
     },
     "execution_count": 810,
     "metadata": {},
     "output_type": "execute_result"
    }
   ],
   "source": [
    "data['shooting']"
   ]
  },
  {
   "cell_type": "code",
   "execution_count": 811,
   "id": "7a584739",
   "metadata": {},
   "outputs": [],
   "source": [
    "for m in minutes:\n",
    "    data.loc[data['minutes']==m,'agressive']=(data.loc[data['minutes']==m,'cards_yellow']+data.loc[data['minutes']==m,'cards_red']+data.loc[data['minutes']==m,'cards_yellow_red'])/(data.loc[data['minutes']==m,'cards_yellow'].max()+data.loc[data['minutes']==m,'cards_red'].max()+data.loc[data['minutes']==m,'cards_yellow_red'].max())*100"
   ]
  },
  {
   "cell_type": "code",
   "execution_count": 812,
   "id": "a27de3c5",
   "metadata": {
    "scrolled": true
   },
   "outputs": [
    {
     "data": {
      "text/plain": [
       "0         0.000000\n",
       "1         0.000000\n",
       "2        50.000000\n",
       "3         0.000000\n",
       "4         0.000000\n",
       "           ...    \n",
       "45761    20.000000\n",
       "45763    70.873786\n",
       "45764    48.333333\n",
       "45765    52.800000\n",
       "45766    12.500000\n",
       "Name: agressive, Length: 40404, dtype: float64"
      ]
     },
     "execution_count": 812,
     "metadata": {},
     "output_type": "execute_result"
    }
   ],
   "source": [
    "data['agressive']"
   ]
  },
  {
   "cell_type": "code",
   "execution_count": 813,
   "id": "bc408d2b",
   "metadata": {},
   "outputs": [],
   "source": [
    "for m in minutes:\n",
    "    data.loc[data['minutes']==m,'impulse_degree']=(data.loc[data['minutes']==m,'fouls']+data.loc[data['minutes']==m,'offsides'])/(data.loc[data['minutes']==m,'fouls'].max()+data.loc[data['minutes']==m,'offsides'].max())*100"
   ]
  },
  {
   "cell_type": "code",
   "execution_count": 814,
   "id": "642679b8",
   "metadata": {},
   "outputs": [
    {
     "data": {
      "text/plain": [
       "0         5.279503\n",
       "1         2.795031\n",
       "2        12.862319\n",
       "3        16.459627\n",
       "4         1.242236\n",
       "           ...    \n",
       "45761    15.527950\n",
       "45763    35.715010\n",
       "45764    24.155844\n",
       "45765    36.361312\n",
       "45766    16.847826\n",
       "Name: impulse_degree, Length: 40404, dtype: float64"
      ]
     },
     "execution_count": 814,
     "metadata": {},
     "output_type": "execute_result"
    }
   ],
   "source": [
    "data['impulse_degree']"
   ]
  },
  {
   "cell_type": "code",
   "execution_count": 815,
   "id": "45b6d380",
   "metadata": {},
   "outputs": [],
   "source": [
    "for m in minutes:\n",
    "    data.loc[data['minutes']==m,'crossing']=data.loc[data['minutes']==m,'crosses']/data.loc[data['minutes']==m,'crosses'].max()*100"
   ]
  },
  {
   "cell_type": "code",
   "execution_count": 816,
   "id": "e3d0e356",
   "metadata": {},
   "outputs": [
    {
     "data": {
      "text/plain": [
       "0         5.138340\n",
       "1         0.395257\n",
       "2        11.141304\n",
       "3         7.509881\n",
       "4         0.790514\n",
       "           ...    \n",
       "45761     8.813161\n",
       "45763    13.043478\n",
       "45764     8.558559\n",
       "45765    35.190489\n",
       "45766    14.673913\n",
       "Name: crossing, Length: 40404, dtype: float64"
      ]
     },
     "execution_count": 816,
     "metadata": {},
     "output_type": "execute_result"
    }
   ],
   "source": [
    "data['crossing']"
   ]
  },
  {
   "cell_type": "code",
   "execution_count": 817,
   "id": "03939616",
   "metadata": {},
   "outputs": [],
   "source": [
    "for m in minutes:\n",
    "    data.loc[data['minutes']==m,'assisting']=data.loc[data['minutes']==m,'assists']/data.loc[data['minutes']==m,'assists'].max()*100"
   ]
  },
  {
   "cell_type": "code",
   "execution_count": 818,
   "id": "84cf176b",
   "metadata": {},
   "outputs": [
    {
     "data": {
      "text/plain": [
       "0         0.000000\n",
       "1         0.000000\n",
       "2         1.449275\n",
       "3         0.000000\n",
       "4         0.000000\n",
       "           ...    \n",
       "45761     0.000000\n",
       "45763     1.886792\n",
       "45764    11.111111\n",
       "45765    75.000000\n",
       "45766     0.000000\n",
       "Name: assisting, Length: 40404, dtype: float64"
      ]
     },
     "execution_count": 818,
     "metadata": {},
     "output_type": "execute_result"
    }
   ],
   "source": [
    "data['assisting']"
   ]
  },
  {
   "cell_type": "code",
   "execution_count": 819,
   "id": "764fd939",
   "metadata": {},
   "outputs": [
    {
     "data": {
      "text/plain": [
       "(40404, 33)"
      ]
     },
     "execution_count": 819,
     "metadata": {},
     "output_type": "execute_result"
    }
   ],
   "source": [
    "data.shape"
   ]
  },
  {
   "cell_type": "code",
   "execution_count": 820,
   "id": "6e200970",
   "metadata": {},
   "outputs": [],
   "source": [
    "for m in minutes:\n",
    "    data.loc[data['minutes']==m,'tackling']=data.loc[data['minutes']==m,'tackles_won']/data.loc[data['minutes']==m,'tackles_won'].max()*100"
   ]
  },
  {
   "cell_type": "code",
   "execution_count": 821,
   "id": "fed68029",
   "metadata": {},
   "outputs": [
    {
     "data": {
      "text/plain": [
       "0        10.869565\n",
       "1         3.623188\n",
       "2        18.478261\n",
       "3        15.942029\n",
       "4         0.724638\n",
       "           ...    \n",
       "45761    25.362319\n",
       "45763    33.262980\n",
       "45764     3.030303\n",
       "45765    31.827064\n",
       "45766    10.869565\n",
       "Name: tackling, Length: 40404, dtype: float64"
      ]
     },
     "execution_count": 821,
     "metadata": {},
     "output_type": "execute_result"
    }
   ],
   "source": [
    "data['tackling']"
   ]
  },
  {
   "cell_type": "code",
   "execution_count": 822,
   "id": "5388cf4d",
   "metadata": {},
   "outputs": [],
   "source": [
    "for m in minutes:\n",
    "    data.loc[data['minutes']==m,'intercepting']=data.loc[data['minutes']==m,'interceptions']/data.loc[data['minutes']==m,'interceptions'].max()*100"
   ]
  },
  {
   "cell_type": "code",
   "execution_count": 823,
   "id": "53cf39f3",
   "metadata": {},
   "outputs": [
    {
     "data": {
      "text/plain": [
       "0        10.326087\n",
       "1         2.717391\n",
       "2        21.014493\n",
       "3         5.434783\n",
       "4         0.543478\n",
       "           ...    \n",
       "45761    31.739130\n",
       "45763    41.402818\n",
       "45764     2.166065\n",
       "45765    36.492754\n",
       "45766     6.038647\n",
       "Name: intercepting, Length: 40404, dtype: float64"
      ]
     },
     "execution_count": 823,
     "metadata": {},
     "output_type": "execute_result"
    }
   ],
   "source": [
    "data['intercepting']"
   ]
  },
  {
   "cell_type": "code",
   "execution_count": 824,
   "id": "a8fbe5bd",
   "metadata": {},
   "outputs": [],
   "source": [
    "data['power']=data['minutes']/data['MP_']*100"
   ]
  },
  {
   "cell_type": "code",
   "execution_count": 825,
   "id": "4757d2e4",
   "metadata": {},
   "outputs": [
    {
     "data": {
      "text/html": [
       "<div>\n",
       "<style scoped>\n",
       "    .dataframe tbody tr th:only-of-type {\n",
       "        vertical-align: middle;\n",
       "    }\n",
       "\n",
       "    .dataframe tbody tr th {\n",
       "        vertical-align: top;\n",
       "    }\n",
       "\n",
       "    .dataframe thead th {\n",
       "        text-align: right;\n",
       "    }\n",
       "</style>\n",
       "<table border=\"1\" class=\"dataframe\">\n",
       "  <thead>\n",
       "    <tr style=\"text-align: right;\">\n",
       "      <th></th>\n",
       "      <th>shooting</th>\n",
       "      <th>agressive</th>\n",
       "      <th>impulse_degree</th>\n",
       "      <th>crossing</th>\n",
       "      <th>assisting</th>\n",
       "      <th>tackling</th>\n",
       "      <th>intercepting</th>\n",
       "      <th>height</th>\n",
       "      <th>weight</th>\n",
       "      <th>power</th>\n",
       "    </tr>\n",
       "  </thead>\n",
       "  <tbody>\n",
       "    <tr>\n",
       "      <th>0</th>\n",
       "      <td>0.000000</td>\n",
       "      <td>0.000000</td>\n",
       "      <td>5.279503</td>\n",
       "      <td>5.138340</td>\n",
       "      <td>0.000000</td>\n",
       "      <td>10.869565</td>\n",
       "      <td>10.326087</td>\n",
       "      <td>180.000000</td>\n",
       "      <td>69.000000</td>\n",
       "      <td>100.000000</td>\n",
       "    </tr>\n",
       "    <tr>\n",
       "      <th>1</th>\n",
       "      <td>0.000000</td>\n",
       "      <td>0.000000</td>\n",
       "      <td>2.795031</td>\n",
       "      <td>0.395257</td>\n",
       "      <td>0.000000</td>\n",
       "      <td>3.623188</td>\n",
       "      <td>2.717391</td>\n",
       "      <td>180.739130</td>\n",
       "      <td>73.739130</td>\n",
       "      <td>100.000000</td>\n",
       "    </tr>\n",
       "    <tr>\n",
       "      <th>2</th>\n",
       "      <td>0.000000</td>\n",
       "      <td>50.000000</td>\n",
       "      <td>12.862319</td>\n",
       "      <td>11.141304</td>\n",
       "      <td>1.449275</td>\n",
       "      <td>18.478261</td>\n",
       "      <td>21.014493</td>\n",
       "      <td>181.652174</td>\n",
       "      <td>73.869565</td>\n",
       "      <td>75.000000</td>\n",
       "    </tr>\n",
       "    <tr>\n",
       "      <th>3</th>\n",
       "      <td>0.000000</td>\n",
       "      <td>0.000000</td>\n",
       "      <td>16.459627</td>\n",
       "      <td>7.509881</td>\n",
       "      <td>0.000000</td>\n",
       "      <td>15.942029</td>\n",
       "      <td>5.434783</td>\n",
       "      <td>180.000000</td>\n",
       "      <td>77.000000</td>\n",
       "      <td>50.000000</td>\n",
       "    </tr>\n",
       "    <tr>\n",
       "      <th>4</th>\n",
       "      <td>0.000000</td>\n",
       "      <td>0.000000</td>\n",
       "      <td>1.242236</td>\n",
       "      <td>0.790514</td>\n",
       "      <td>0.000000</td>\n",
       "      <td>0.724638</td>\n",
       "      <td>0.543478</td>\n",
       "      <td>178.521739</td>\n",
       "      <td>69.739130</td>\n",
       "      <td>100.000000</td>\n",
       "    </tr>\n",
       "    <tr>\n",
       "      <th>...</th>\n",
       "      <td>...</td>\n",
       "      <td>...</td>\n",
       "      <td>...</td>\n",
       "      <td>...</td>\n",
       "      <td>...</td>\n",
       "      <td>...</td>\n",
       "      <td>...</td>\n",
       "      <td>...</td>\n",
       "      <td>...</td>\n",
       "      <td>...</td>\n",
       "    </tr>\n",
       "    <tr>\n",
       "      <th>45761</th>\n",
       "      <td>11.111111</td>\n",
       "      <td>20.000000</td>\n",
       "      <td>15.527950</td>\n",
       "      <td>8.813161</td>\n",
       "      <td>0.000000</td>\n",
       "      <td>25.362319</td>\n",
       "      <td>31.739130</td>\n",
       "      <td>178.826087</td>\n",
       "      <td>70.695652</td>\n",
       "      <td>66.666667</td>\n",
       "    </tr>\n",
       "    <tr>\n",
       "      <th>45763</th>\n",
       "      <td>6.926407</td>\n",
       "      <td>70.873786</td>\n",
       "      <td>35.715010</td>\n",
       "      <td>13.043478</td>\n",
       "      <td>1.886792</td>\n",
       "      <td>33.262980</td>\n",
       "      <td>41.402818</td>\n",
       "      <td>181.000000</td>\n",
       "      <td>89.000000</td>\n",
       "      <td>70.270270</td>\n",
       "    </tr>\n",
       "    <tr>\n",
       "      <th>45764</th>\n",
       "      <td>52.671756</td>\n",
       "      <td>48.333333</td>\n",
       "      <td>24.155844</td>\n",
       "      <td>8.558559</td>\n",
       "      <td>11.111111</td>\n",
       "      <td>3.030303</td>\n",
       "      <td>2.166065</td>\n",
       "      <td>175.000000</td>\n",
       "      <td>69.000000</td>\n",
       "      <td>36.290323</td>\n",
       "    </tr>\n",
       "    <tr>\n",
       "      <th>45765</th>\n",
       "      <td>19.559229</td>\n",
       "      <td>52.800000</td>\n",
       "      <td>36.361312</td>\n",
       "      <td>35.190489</td>\n",
       "      <td>75.000000</td>\n",
       "      <td>31.827064</td>\n",
       "      <td>36.492754</td>\n",
       "      <td>175.000000</td>\n",
       "      <td>86.000000</td>\n",
       "      <td>64.156627</td>\n",
       "    </tr>\n",
       "    <tr>\n",
       "      <th>45766</th>\n",
       "      <td>0.000000</td>\n",
       "      <td>12.500000</td>\n",
       "      <td>16.847826</td>\n",
       "      <td>14.673913</td>\n",
       "      <td>0.000000</td>\n",
       "      <td>10.869565</td>\n",
       "      <td>6.038647</td>\n",
       "      <td>178.217391</td>\n",
       "      <td>71.739130</td>\n",
       "      <td>42.857143</td>\n",
       "    </tr>\n",
       "  </tbody>\n",
       "</table>\n",
       "<p>40404 rows × 10 columns</p>\n",
       "</div>"
      ],
      "text/plain": [
       "        shooting  agressive  impulse_degree   crossing  assisting   tackling  \\\n",
       "0       0.000000   0.000000        5.279503   5.138340   0.000000  10.869565   \n",
       "1       0.000000   0.000000        2.795031   0.395257   0.000000   3.623188   \n",
       "2       0.000000  50.000000       12.862319  11.141304   1.449275  18.478261   \n",
       "3       0.000000   0.000000       16.459627   7.509881   0.000000  15.942029   \n",
       "4       0.000000   0.000000        1.242236   0.790514   0.000000   0.724638   \n",
       "...          ...        ...             ...        ...        ...        ...   \n",
       "45761  11.111111  20.000000       15.527950   8.813161   0.000000  25.362319   \n",
       "45763   6.926407  70.873786       35.715010  13.043478   1.886792  33.262980   \n",
       "45764  52.671756  48.333333       24.155844   8.558559  11.111111   3.030303   \n",
       "45765  19.559229  52.800000       36.361312  35.190489  75.000000  31.827064   \n",
       "45766   0.000000  12.500000       16.847826  14.673913   0.000000  10.869565   \n",
       "\n",
       "       intercepting      height     weight       power  \n",
       "0         10.326087  180.000000  69.000000  100.000000  \n",
       "1          2.717391  180.739130  73.739130  100.000000  \n",
       "2         21.014493  181.652174  73.869565   75.000000  \n",
       "3          5.434783  180.000000  77.000000   50.000000  \n",
       "4          0.543478  178.521739  69.739130  100.000000  \n",
       "...             ...         ...        ...         ...  \n",
       "45761     31.739130  178.826087  70.695652   66.666667  \n",
       "45763     41.402818  181.000000  89.000000   70.270270  \n",
       "45764      2.166065  175.000000  69.000000   36.290323  \n",
       "45765     36.492754  175.000000  86.000000   64.156627  \n",
       "45766      6.038647  178.217391  71.739130   42.857143  \n",
       "\n",
       "[40404 rows x 10 columns]"
      ]
     },
     "execution_count": 825,
     "metadata": {},
     "output_type": "execute_result"
    }
   ],
   "source": [
    "data[ranged_columns]"
   ]
  },
  {
   "cell_type": "code",
   "execution_count": 826,
   "id": "c192bb47",
   "metadata": {},
   "outputs": [],
   "source": [
    "def round_data(series):\n",
    "    for i in range(20,0,-1):\n",
    "        series=series.apply(lambda x: round(x,i))\n",
    "    \n",
    "    series=series.apply(lambda x: round(x))\n",
    "    return series "
   ]
  },
  {
   "cell_type": "code",
   "execution_count": 827,
   "id": "66a7e039",
   "metadata": {},
   "outputs": [
    {
     "data": {
      "text/plain": [
       "shooting          13\n",
       "agressive         13\n",
       "impulse_degree    13\n",
       "crossing          15\n",
       "assisting         13\n",
       "tackling          16\n",
       "intercepting      15\n",
       "height             0\n",
       "weight             0\n",
       "power             13\n",
       "dtype: int64"
      ]
     },
     "execution_count": 827,
     "metadata": {},
     "output_type": "execute_result"
    }
   ],
   "source": [
    "data[ranged_columns].isna().sum()"
   ]
  },
  {
   "cell_type": "code",
   "execution_count": 828,
   "id": "5df5c79f",
   "metadata": {},
   "outputs": [],
   "source": [
    "data=data[~data['tackling'].isna()]"
   ]
  },
  {
   "cell_type": "code",
   "execution_count": 829,
   "id": "ce702e43",
   "metadata": {},
   "outputs": [],
   "source": [
    "data=data[~data['impulse_degree'].isna()]"
   ]
  },
  {
   "cell_type": "code",
   "execution_count": 830,
   "id": "60e1f988",
   "metadata": {},
   "outputs": [],
   "source": [
    "data=data[~data['crossing'].isna()]"
   ]
  },
  {
   "cell_type": "code",
   "execution_count": 831,
   "id": "98c66a39",
   "metadata": {},
   "outputs": [],
   "source": [
    "data=data[~data['assisting'].isna()]"
   ]
  },
  {
   "cell_type": "code",
   "execution_count": 832,
   "id": "7e143090",
   "metadata": {},
   "outputs": [],
   "source": [
    "data=data[~data['power'].isna()]"
   ]
  },
  {
   "cell_type": "code",
   "execution_count": 833,
   "id": "5df4d16e",
   "metadata": {},
   "outputs": [],
   "source": [
    "data=data[~data['intercepting'].isna()]"
   ]
  },
  {
   "cell_type": "code",
   "execution_count": 834,
   "id": "e6a1e70f",
   "metadata": {},
   "outputs": [],
   "source": [
    "data=data[~data['shooting'].isna()]"
   ]
  },
  {
   "cell_type": "code",
   "execution_count": 835,
   "id": "02967d5f",
   "metadata": {},
   "outputs": [],
   "source": [
    "# data=data[~data]"
   ]
  },
  {
   "cell_type": "code",
   "execution_count": 836,
   "id": "b301e8e3",
   "metadata": {},
   "outputs": [],
   "source": [
    "data=data[~data['agressive'].isna()]"
   ]
  },
  {
   "cell_type": "code",
   "execution_count": 837,
   "id": "28977708",
   "metadata": {
    "scrolled": true
   },
   "outputs": [],
   "source": [
    "for col in ranged_columns:\n",
    "    data[col]=round_data(data[col])"
   ]
  },
  {
   "cell_type": "code",
   "execution_count": 838,
   "id": "d0ddd626",
   "metadata": {
    "scrolled": true
   },
   "outputs": [
    {
     "data": {
      "text/html": [
       "<div>\n",
       "<style scoped>\n",
       "    .dataframe tbody tr th:only-of-type {\n",
       "        vertical-align: middle;\n",
       "    }\n",
       "\n",
       "    .dataframe tbody tr th {\n",
       "        vertical-align: top;\n",
       "    }\n",
       "\n",
       "    .dataframe thead th {\n",
       "        text-align: right;\n",
       "    }\n",
       "</style>\n",
       "<table border=\"1\" class=\"dataframe\">\n",
       "  <thead>\n",
       "    <tr style=\"text-align: right;\">\n",
       "      <th></th>\n",
       "      <th>shooting</th>\n",
       "      <th>agressive</th>\n",
       "      <th>impulse_degree</th>\n",
       "      <th>crossing</th>\n",
       "      <th>assisting</th>\n",
       "      <th>tackling</th>\n",
       "      <th>intercepting</th>\n",
       "      <th>height</th>\n",
       "      <th>weight</th>\n",
       "      <th>power</th>\n",
       "    </tr>\n",
       "  </thead>\n",
       "  <tbody>\n",
       "    <tr>\n",
       "      <th>0</th>\n",
       "      <td>0</td>\n",
       "      <td>0</td>\n",
       "      <td>5</td>\n",
       "      <td>5</td>\n",
       "      <td>0</td>\n",
       "      <td>11</td>\n",
       "      <td>10</td>\n",
       "      <td>180</td>\n",
       "      <td>69</td>\n",
       "      <td>100</td>\n",
       "    </tr>\n",
       "    <tr>\n",
       "      <th>1</th>\n",
       "      <td>0</td>\n",
       "      <td>0</td>\n",
       "      <td>3</td>\n",
       "      <td>0</td>\n",
       "      <td>0</td>\n",
       "      <td>4</td>\n",
       "      <td>3</td>\n",
       "      <td>181</td>\n",
       "      <td>74</td>\n",
       "      <td>100</td>\n",
       "    </tr>\n",
       "    <tr>\n",
       "      <th>2</th>\n",
       "      <td>0</td>\n",
       "      <td>50</td>\n",
       "      <td>13</td>\n",
       "      <td>11</td>\n",
       "      <td>1</td>\n",
       "      <td>18</td>\n",
       "      <td>21</td>\n",
       "      <td>182</td>\n",
       "      <td>74</td>\n",
       "      <td>75</td>\n",
       "    </tr>\n",
       "    <tr>\n",
       "      <th>3</th>\n",
       "      <td>0</td>\n",
       "      <td>0</td>\n",
       "      <td>16</td>\n",
       "      <td>8</td>\n",
       "      <td>0</td>\n",
       "      <td>16</td>\n",
       "      <td>5</td>\n",
       "      <td>180</td>\n",
       "      <td>77</td>\n",
       "      <td>50</td>\n",
       "    </tr>\n",
       "    <tr>\n",
       "      <th>4</th>\n",
       "      <td>0</td>\n",
       "      <td>0</td>\n",
       "      <td>1</td>\n",
       "      <td>1</td>\n",
       "      <td>0</td>\n",
       "      <td>1</td>\n",
       "      <td>0</td>\n",
       "      <td>178</td>\n",
       "      <td>70</td>\n",
       "      <td>100</td>\n",
       "    </tr>\n",
       "    <tr>\n",
       "      <th>...</th>\n",
       "      <td>...</td>\n",
       "      <td>...</td>\n",
       "      <td>...</td>\n",
       "      <td>...</td>\n",
       "      <td>...</td>\n",
       "      <td>...</td>\n",
       "      <td>...</td>\n",
       "      <td>...</td>\n",
       "      <td>...</td>\n",
       "      <td>...</td>\n",
       "    </tr>\n",
       "    <tr>\n",
       "      <th>45761</th>\n",
       "      <td>11</td>\n",
       "      <td>20</td>\n",
       "      <td>16</td>\n",
       "      <td>9</td>\n",
       "      <td>0</td>\n",
       "      <td>25</td>\n",
       "      <td>32</td>\n",
       "      <td>179</td>\n",
       "      <td>71</td>\n",
       "      <td>67</td>\n",
       "    </tr>\n",
       "    <tr>\n",
       "      <th>45763</th>\n",
       "      <td>7</td>\n",
       "      <td>71</td>\n",
       "      <td>36</td>\n",
       "      <td>13</td>\n",
       "      <td>2</td>\n",
       "      <td>33</td>\n",
       "      <td>41</td>\n",
       "      <td>181</td>\n",
       "      <td>89</td>\n",
       "      <td>70</td>\n",
       "    </tr>\n",
       "    <tr>\n",
       "      <th>45764</th>\n",
       "      <td>53</td>\n",
       "      <td>48</td>\n",
       "      <td>24</td>\n",
       "      <td>9</td>\n",
       "      <td>11</td>\n",
       "      <td>3</td>\n",
       "      <td>2</td>\n",
       "      <td>175</td>\n",
       "      <td>69</td>\n",
       "      <td>36</td>\n",
       "    </tr>\n",
       "    <tr>\n",
       "      <th>45765</th>\n",
       "      <td>20</td>\n",
       "      <td>53</td>\n",
       "      <td>36</td>\n",
       "      <td>35</td>\n",
       "      <td>75</td>\n",
       "      <td>32</td>\n",
       "      <td>36</td>\n",
       "      <td>175</td>\n",
       "      <td>86</td>\n",
       "      <td>64</td>\n",
       "    </tr>\n",
       "    <tr>\n",
       "      <th>45766</th>\n",
       "      <td>0</td>\n",
       "      <td>12</td>\n",
       "      <td>17</td>\n",
       "      <td>15</td>\n",
       "      <td>0</td>\n",
       "      <td>11</td>\n",
       "      <td>6</td>\n",
       "      <td>178</td>\n",
       "      <td>72</td>\n",
       "      <td>43</td>\n",
       "    </tr>\n",
       "  </tbody>\n",
       "</table>\n",
       "<p>40388 rows × 10 columns</p>\n",
       "</div>"
      ],
      "text/plain": [
       "       shooting  agressive  impulse_degree  crossing  assisting  tackling  \\\n",
       "0             0          0               5         5          0        11   \n",
       "1             0          0               3         0          0         4   \n",
       "2             0         50              13        11          1        18   \n",
       "3             0          0              16         8          0        16   \n",
       "4             0          0               1         1          0         1   \n",
       "...         ...        ...             ...       ...        ...       ...   \n",
       "45761        11         20              16         9          0        25   \n",
       "45763         7         71              36        13          2        33   \n",
       "45764        53         48              24         9         11         3   \n",
       "45765        20         53              36        35         75        32   \n",
       "45766         0         12              17        15          0        11   \n",
       "\n",
       "       intercepting  height  weight  power  \n",
       "0                10     180      69    100  \n",
       "1                 3     181      74    100  \n",
       "2                21     182      74     75  \n",
       "3                 5     180      77     50  \n",
       "4                 0     178      70    100  \n",
       "...             ...     ...     ...    ...  \n",
       "45761            32     179      71     67  \n",
       "45763            41     181      89     70  \n",
       "45764             2     175      69     36  \n",
       "45765            36     175      86     64  \n",
       "45766             6     178      72     43  \n",
       "\n",
       "[40388 rows x 10 columns]"
      ]
     },
     "execution_count": 838,
     "metadata": {},
     "output_type": "execute_result"
    }
   ],
   "source": [
    "data[ranged_columns]"
   ]
  },
  {
   "cell_type": "code",
   "execution_count": 839,
   "id": "7b9ad902",
   "metadata": {},
   "outputs": [
    {
     "data": {
      "text/plain": [
       "MF    1864\n",
       "DF    1487\n",
       "FW    1137\n",
       "Name: position, dtype: int64"
      ]
     },
     "execution_count": 839,
     "metadata": {},
     "output_type": "execute_result"
    }
   ],
   "source": [
    "data[data['power']==data['power'].max()]['position'].value_counts()"
   ]
  },
  {
   "cell_type": "markdown",
   "id": "aaacbc84",
   "metadata": {},
   "source": [
    "# Test Validation Train "
   ]
  },
  {
   "cell_type": "code",
   "execution_count": 876,
   "id": "01f2d6a0",
   "metadata": {},
   "outputs": [],
   "source": [
    "data=data[data['position']!='GK']"
   ]
  },
  {
   "cell_type": "code",
   "execution_count": 840,
   "id": "caca2fef",
   "metadata": {},
   "outputs": [],
   "source": [
    "columns=['height',\n",
    "        'shooting', 'agressive', 'impulse_degree', 'crossing',\n",
    "       'assisting', 'tackling', 'intercepting', 'power','position']"
   ]
  },
  {
   "cell_type": "code",
   "execution_count": 877,
   "id": "cd9fe0db",
   "metadata": {},
   "outputs": [
    {
     "data": {
      "text/html": [
       "<div>\n",
       "<style scoped>\n",
       "    .dataframe tbody tr th:only-of-type {\n",
       "        vertical-align: middle;\n",
       "    }\n",
       "\n",
       "    .dataframe tbody tr th {\n",
       "        vertical-align: top;\n",
       "    }\n",
       "\n",
       "    .dataframe thead th {\n",
       "        text-align: right;\n",
       "    }\n",
       "</style>\n",
       "<table border=\"1\" class=\"dataframe\">\n",
       "  <thead>\n",
       "    <tr style=\"text-align: right;\">\n",
       "      <th></th>\n",
       "      <th>height</th>\n",
       "      <th>shooting</th>\n",
       "      <th>agressive</th>\n",
       "      <th>impulse_degree</th>\n",
       "      <th>crossing</th>\n",
       "      <th>assisting</th>\n",
       "      <th>tackling</th>\n",
       "      <th>intercepting</th>\n",
       "      <th>power</th>\n",
       "      <th>position</th>\n",
       "    </tr>\n",
       "  </thead>\n",
       "  <tbody>\n",
       "    <tr>\n",
       "      <th>44155</th>\n",
       "      <td>179</td>\n",
       "      <td>17</td>\n",
       "      <td>4</td>\n",
       "      <td>17</td>\n",
       "      <td>48</td>\n",
       "      <td>0</td>\n",
       "      <td>35</td>\n",
       "      <td>21</td>\n",
       "      <td>67</td>\n",
       "      <td>MF</td>\n",
       "    </tr>\n",
       "    <tr>\n",
       "      <th>31841</th>\n",
       "      <td>180</td>\n",
       "      <td>4</td>\n",
       "      <td>56</td>\n",
       "      <td>61</td>\n",
       "      <td>19</td>\n",
       "      <td>11</td>\n",
       "      <td>64</td>\n",
       "      <td>49</td>\n",
       "      <td>65</td>\n",
       "      <td>MF</td>\n",
       "    </tr>\n",
       "    <tr>\n",
       "      <th>8528</th>\n",
       "      <td>183</td>\n",
       "      <td>84</td>\n",
       "      <td>31</td>\n",
       "      <td>10</td>\n",
       "      <td>11</td>\n",
       "      <td>47</td>\n",
       "      <td>3</td>\n",
       "      <td>2</td>\n",
       "      <td>53</td>\n",
       "      <td>MF</td>\n",
       "    </tr>\n",
       "    <tr>\n",
       "      <th>30395</th>\n",
       "      <td>175</td>\n",
       "      <td>4</td>\n",
       "      <td>25</td>\n",
       "      <td>34</td>\n",
       "      <td>11</td>\n",
       "      <td>19</td>\n",
       "      <td>27</td>\n",
       "      <td>21</td>\n",
       "      <td>68</td>\n",
       "      <td>MF</td>\n",
       "    </tr>\n",
       "    <tr>\n",
       "      <th>7444</th>\n",
       "      <td>175</td>\n",
       "      <td>0</td>\n",
       "      <td>0</td>\n",
       "      <td>8</td>\n",
       "      <td>12</td>\n",
       "      <td>0</td>\n",
       "      <td>16</td>\n",
       "      <td>10</td>\n",
       "      <td>100</td>\n",
       "      <td>MF</td>\n",
       "    </tr>\n",
       "    <tr>\n",
       "      <th>...</th>\n",
       "      <td>...</td>\n",
       "      <td>...</td>\n",
       "      <td>...</td>\n",
       "      <td>...</td>\n",
       "      <td>...</td>\n",
       "      <td>...</td>\n",
       "      <td>...</td>\n",
       "      <td>...</td>\n",
       "      <td>...</td>\n",
       "      <td>...</td>\n",
       "    </tr>\n",
       "    <tr>\n",
       "      <th>4853</th>\n",
       "      <td>176</td>\n",
       "      <td>0</td>\n",
       "      <td>0</td>\n",
       "      <td>1</td>\n",
       "      <td>3</td>\n",
       "      <td>0</td>\n",
       "      <td>4</td>\n",
       "      <td>2</td>\n",
       "      <td>100</td>\n",
       "      <td>FW</td>\n",
       "    </tr>\n",
       "    <tr>\n",
       "      <th>7726</th>\n",
       "      <td>182</td>\n",
       "      <td>0</td>\n",
       "      <td>33</td>\n",
       "      <td>23</td>\n",
       "      <td>28</td>\n",
       "      <td>0</td>\n",
       "      <td>42</td>\n",
       "      <td>41</td>\n",
       "      <td>67</td>\n",
       "      <td>DF</td>\n",
       "    </tr>\n",
       "    <tr>\n",
       "      <th>28015</th>\n",
       "      <td>168</td>\n",
       "      <td>0</td>\n",
       "      <td>0</td>\n",
       "      <td>22</td>\n",
       "      <td>16</td>\n",
       "      <td>0</td>\n",
       "      <td>12</td>\n",
       "      <td>6</td>\n",
       "      <td>75</td>\n",
       "      <td>FW</td>\n",
       "    </tr>\n",
       "    <tr>\n",
       "      <th>33534</th>\n",
       "      <td>180</td>\n",
       "      <td>38</td>\n",
       "      <td>26</td>\n",
       "      <td>36</td>\n",
       "      <td>0</td>\n",
       "      <td>30</td>\n",
       "      <td>0</td>\n",
       "      <td>0</td>\n",
       "      <td>40</td>\n",
       "      <td>FW</td>\n",
       "    </tr>\n",
       "    <tr>\n",
       "      <th>25302</th>\n",
       "      <td>176</td>\n",
       "      <td>0</td>\n",
       "      <td>0</td>\n",
       "      <td>3</td>\n",
       "      <td>8</td>\n",
       "      <td>1</td>\n",
       "      <td>6</td>\n",
       "      <td>0</td>\n",
       "      <td>100</td>\n",
       "      <td>MF</td>\n",
       "    </tr>\n",
       "  </tbody>\n",
       "</table>\n",
       "<p>40388 rows × 10 columns</p>\n",
       "</div>"
      ],
      "text/plain": [
       "       height  shooting  agressive  impulse_degree  crossing  assisting  \\\n",
       "44155     179        17          4              17        48          0   \n",
       "31841     180         4         56              61        19         11   \n",
       "8528      183        84         31              10        11         47   \n",
       "30395     175         4         25              34        11         19   \n",
       "7444      175         0          0               8        12          0   \n",
       "...       ...       ...        ...             ...       ...        ...   \n",
       "4853      176         0          0               1         3          0   \n",
       "7726      182         0         33              23        28          0   \n",
       "28015     168         0          0              22        16          0   \n",
       "33534     180        38         26              36         0         30   \n",
       "25302     176         0          0               3         8          1   \n",
       "\n",
       "       tackling  intercepting  power position  \n",
       "44155        35            21     67       MF  \n",
       "31841        64            49     65       MF  \n",
       "8528          3             2     53       MF  \n",
       "30395        27            21     68       MF  \n",
       "7444         16            10    100       MF  \n",
       "...         ...           ...    ...      ...  \n",
       "4853          4             2    100       FW  \n",
       "7726         42            41     67       DF  \n",
       "28015        12             6     75       FW  \n",
       "33534         0             0     40       FW  \n",
       "25302         6             0    100       MF  \n",
       "\n",
       "[40388 rows x 10 columns]"
      ]
     },
     "execution_count": 877,
     "metadata": {},
     "output_type": "execute_result"
    }
   ],
   "source": [
    "data.sample(frac=1)[columns]"
   ]
  },
  {
   "cell_type": "code",
   "execution_count": 878,
   "id": "2d63aba0",
   "metadata": {},
   "outputs": [],
   "source": [
    "data=data.sample(frac=1)"
   ]
  },
  {
   "cell_type": "code",
   "execution_count": 879,
   "id": "af570489",
   "metadata": {},
   "outputs": [],
   "source": [
    "test=data[0:6750][columns]"
   ]
  },
  {
   "cell_type": "code",
   "execution_count": 880,
   "id": "91a30a1c",
   "metadata": {
    "scrolled": true
   },
   "outputs": [
    {
     "data": {
      "text/html": [
       "<div>\n",
       "<style scoped>\n",
       "    .dataframe tbody tr th:only-of-type {\n",
       "        vertical-align: middle;\n",
       "    }\n",
       "\n",
       "    .dataframe tbody tr th {\n",
       "        vertical-align: top;\n",
       "    }\n",
       "\n",
       "    .dataframe thead th {\n",
       "        text-align: right;\n",
       "    }\n",
       "</style>\n",
       "<table border=\"1\" class=\"dataframe\">\n",
       "  <thead>\n",
       "    <tr style=\"text-align: right;\">\n",
       "      <th></th>\n",
       "      <th>height</th>\n",
       "      <th>shooting</th>\n",
       "      <th>agressive</th>\n",
       "      <th>impulse_degree</th>\n",
       "      <th>crossing</th>\n",
       "      <th>assisting</th>\n",
       "      <th>tackling</th>\n",
       "      <th>intercepting</th>\n",
       "      <th>power</th>\n",
       "      <th>position</th>\n",
       "    </tr>\n",
       "  </thead>\n",
       "  <tbody>\n",
       "    <tr>\n",
       "      <th>37086</th>\n",
       "      <td>176</td>\n",
       "      <td>0</td>\n",
       "      <td>10</td>\n",
       "      <td>15</td>\n",
       "      <td>15</td>\n",
       "      <td>0</td>\n",
       "      <td>25</td>\n",
       "      <td>19</td>\n",
       "      <td>27</td>\n",
       "      <td>MF</td>\n",
       "    </tr>\n",
       "    <tr>\n",
       "      <th>20640</th>\n",
       "      <td>180</td>\n",
       "      <td>0</td>\n",
       "      <td>67</td>\n",
       "      <td>39</td>\n",
       "      <td>47</td>\n",
       "      <td>5</td>\n",
       "      <td>65</td>\n",
       "      <td>44</td>\n",
       "      <td>73</td>\n",
       "      <td>DF</td>\n",
       "    </tr>\n",
       "    <tr>\n",
       "      <th>23244</th>\n",
       "      <td>188</td>\n",
       "      <td>63</td>\n",
       "      <td>38</td>\n",
       "      <td>46</td>\n",
       "      <td>13</td>\n",
       "      <td>40</td>\n",
       "      <td>71</td>\n",
       "      <td>36</td>\n",
       "      <td>52</td>\n",
       "      <td>MF</td>\n",
       "    </tr>\n",
       "    <tr>\n",
       "      <th>37089</th>\n",
       "      <td>180</td>\n",
       "      <td>37</td>\n",
       "      <td>34</td>\n",
       "      <td>28</td>\n",
       "      <td>0</td>\n",
       "      <td>71</td>\n",
       "      <td>0</td>\n",
       "      <td>0</td>\n",
       "      <td>46</td>\n",
       "      <td>MF</td>\n",
       "    </tr>\n",
       "    <tr>\n",
       "      <th>20026</th>\n",
       "      <td>183</td>\n",
       "      <td>0</td>\n",
       "      <td>0</td>\n",
       "      <td>17</td>\n",
       "      <td>25</td>\n",
       "      <td>33</td>\n",
       "      <td>31</td>\n",
       "      <td>39</td>\n",
       "      <td>75</td>\n",
       "      <td>DF</td>\n",
       "    </tr>\n",
       "    <tr>\n",
       "      <th>...</th>\n",
       "      <td>...</td>\n",
       "      <td>...</td>\n",
       "      <td>...</td>\n",
       "      <td>...</td>\n",
       "      <td>...</td>\n",
       "      <td>...</td>\n",
       "      <td>...</td>\n",
       "      <td>...</td>\n",
       "      <td>...</td>\n",
       "      <td>...</td>\n",
       "    </tr>\n",
       "    <tr>\n",
       "      <th>34414</th>\n",
       "      <td>168</td>\n",
       "      <td>25</td>\n",
       "      <td>7</td>\n",
       "      <td>22</td>\n",
       "      <td>12</td>\n",
       "      <td>0</td>\n",
       "      <td>20</td>\n",
       "      <td>9</td>\n",
       "      <td>44</td>\n",
       "      <td>FW</td>\n",
       "    </tr>\n",
       "    <tr>\n",
       "      <th>16461</th>\n",
       "      <td>193</td>\n",
       "      <td>15</td>\n",
       "      <td>45</td>\n",
       "      <td>17</td>\n",
       "      <td>0</td>\n",
       "      <td>4</td>\n",
       "      <td>0</td>\n",
       "      <td>0</td>\n",
       "      <td>71</td>\n",
       "      <td>DF</td>\n",
       "    </tr>\n",
       "    <tr>\n",
       "      <th>10436</th>\n",
       "      <td>169</td>\n",
       "      <td>40</td>\n",
       "      <td>30</td>\n",
       "      <td>2</td>\n",
       "      <td>0</td>\n",
       "      <td>0</td>\n",
       "      <td>2</td>\n",
       "      <td>2</td>\n",
       "      <td>42</td>\n",
       "      <td>MF</td>\n",
       "    </tr>\n",
       "    <tr>\n",
       "      <th>5331</th>\n",
       "      <td>180</td>\n",
       "      <td>0</td>\n",
       "      <td>0</td>\n",
       "      <td>18</td>\n",
       "      <td>22</td>\n",
       "      <td>0</td>\n",
       "      <td>17</td>\n",
       "      <td>60</td>\n",
       "      <td>36</td>\n",
       "      <td>DF</td>\n",
       "    </tr>\n",
       "    <tr>\n",
       "      <th>25503</th>\n",
       "      <td>179</td>\n",
       "      <td>11</td>\n",
       "      <td>37</td>\n",
       "      <td>10</td>\n",
       "      <td>13</td>\n",
       "      <td>32</td>\n",
       "      <td>32</td>\n",
       "      <td>28</td>\n",
       "      <td>68</td>\n",
       "      <td>DF</td>\n",
       "    </tr>\n",
       "  </tbody>\n",
       "</table>\n",
       "<p>6750 rows × 10 columns</p>\n",
       "</div>"
      ],
      "text/plain": [
       "       height  shooting  agressive  impulse_degree  crossing  assisting  \\\n",
       "37086     176         0         10              15        15          0   \n",
       "20640     180         0         67              39        47          5   \n",
       "23244     188        63         38              46        13         40   \n",
       "37089     180        37         34              28         0         71   \n",
       "20026     183         0          0              17        25         33   \n",
       "...       ...       ...        ...             ...       ...        ...   \n",
       "34414     168        25          7              22        12          0   \n",
       "16461     193        15         45              17         0          4   \n",
       "10436     169        40         30               2         0          0   \n",
       "5331      180         0          0              18        22          0   \n",
       "25503     179        11         37              10        13         32   \n",
       "\n",
       "       tackling  intercepting  power position  \n",
       "37086        25            19     27       MF  \n",
       "20640        65            44     73       DF  \n",
       "23244        71            36     52       MF  \n",
       "37089         0             0     46       MF  \n",
       "20026        31            39     75       DF  \n",
       "...         ...           ...    ...      ...  \n",
       "34414        20             9     44       FW  \n",
       "16461         0             0     71       DF  \n",
       "10436         2             2     42       MF  \n",
       "5331         17            60     36       DF  \n",
       "25503        32            28     68       DF  \n",
       "\n",
       "[6750 rows x 10 columns]"
      ]
     },
     "execution_count": 880,
     "metadata": {},
     "output_type": "execute_result"
    }
   ],
   "source": [
    "test"
   ]
  },
  {
   "cell_type": "code",
   "execution_count": 881,
   "id": "eee68a8f",
   "metadata": {},
   "outputs": [],
   "source": [
    "test.to_csv('finalData/test.csv',index=False)"
   ]
  },
  {
   "cell_type": "code",
   "execution_count": 882,
   "id": "487f3c0d",
   "metadata": {
    "scrolled": true
   },
   "outputs": [
    {
     "data": {
      "text/plain": [
       "Index(['impulse_degree', 'crossing', 'assisting', 'tackling', 'intercepting',\n",
       "       'power'],\n",
       "      dtype='object')"
      ]
     },
     "execution_count": 882,
     "metadata": {},
     "output_type": "execute_result"
    }
   ],
   "source": [
    "data.columns[30:]"
   ]
  },
  {
   "cell_type": "code",
   "execution_count": 883,
   "id": "a01caed1",
   "metadata": {},
   "outputs": [],
   "source": [
    "saved_data=data[['MP', 'games_starts', 'minutes', 'goals', 'assists', 'goals_pens',\n",
    "       'pens_made', 'pens_att', 'cards_yellow', 'cards_red',\n",
    "       'cards_yellow_red', 'fouls', 'fouled', 'offsides', 'crosses',\n",
    "       'interceptions', 'tackles_won', 'pens_won', 'pens_conceded',\n",
    "       'main_info', 'country', 'name', 'position', 'month', 'year', 'height',\n",
    "       'weight', 'shooting',\n",
    "       'agressive', 'impulse_degree', 'crossing', 'assisting', 'tackling',\n",
    "       'intercepting', 'power']]"
   ]
  },
  {
   "cell_type": "code",
   "execution_count": 884,
   "id": "2dd07ac3",
   "metadata": {},
   "outputs": [],
   "source": [
    "saved_data.to_csv('finalData/data_for_EDA.csv',index=False)"
   ]
  },
  {
   "cell_type": "code",
   "execution_count": 885,
   "id": "0f4283b9",
   "metadata": {},
   "outputs": [],
   "source": [
    "new=data[6750:]"
   ]
  },
  {
   "cell_type": "code",
   "execution_count": 886,
   "id": "e0249138",
   "metadata": {},
   "outputs": [],
   "source": [
    "new.to_csv('finalData/TrainingData.csv',index=False)"
   ]
  }
 ],
 "metadata": {
  "kernelspec": {
   "display_name": "Python 3 (ipykernel)",
   "language": "python",
   "name": "python3"
  },
  "language_info": {
   "codemirror_mode": {
    "name": "ipython",
    "version": 3
   },
   "file_extension": ".py",
   "mimetype": "text/x-python",
   "name": "python",
   "nbconvert_exporter": "python",
   "pygments_lexer": "ipython3",
   "version": "3.9.7"
  }
 },
 "nbformat": 4,
 "nbformat_minor": 5
}
