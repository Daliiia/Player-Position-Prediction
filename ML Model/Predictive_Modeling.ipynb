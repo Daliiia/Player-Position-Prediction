{
 "cells": [
  {
   "cell_type": "code",
   "execution_count": 100,
   "id": "7cc1cc5f",
   "metadata": {},
   "outputs": [],
   "source": [
    "import pandas as pd "
   ]
  },
  {
   "cell_type": "code",
   "execution_count": 101,
   "id": "c94d8be8",
   "metadata": {},
   "outputs": [],
   "source": [
    "data=pd.read_csv('finalData/TrainingData.csv')"
   ]
  },
  {
   "cell_type": "code",
   "execution_count": 102,
   "id": "4fcea1c1",
   "metadata": {},
   "outputs": [
    {
     "data": {
      "text/plain": [
       "Index(['MP', 'games_starts', 'minutes', 'goals', 'assists', 'goals_pens',\n",
       "       'pens_made', 'pens_att', 'cards_yellow', 'cards_red',\n",
       "       'cards_yellow_red', 'fouls', 'fouled', 'offsides', 'crosses',\n",
       "       'interceptions', 'tackles_won', 'pens_won', 'pens_conceded',\n",
       "       'main_info', 'country', 'name', 'position', 'month', 'year', 'height',\n",
       "       'weight', 'MP_', 'shooting', 'agressive', 'impulse_degree', 'crossing',\n",
       "       'assisting', 'tackling', 'intercepting', 'power'],\n",
       "      dtype='object')"
      ]
     },
     "execution_count": 102,
     "metadata": {},
     "output_type": "execute_result"
    }
   ],
   "source": [
    "data.columns"
   ]
  },
  {
   "cell_type": "code",
   "execution_count": 103,
   "id": "0aaa18bc",
   "metadata": {},
   "outputs": [
    {
     "data": {
      "text/plain": [
       "(33638, 36)"
      ]
     },
     "execution_count": 103,
     "metadata": {},
     "output_type": "execute_result"
    }
   ],
   "source": [
    "data.shape"
   ]
  },
  {
   "cell_type": "code",
   "execution_count": 104,
   "id": "c2ef06f7",
   "metadata": {},
   "outputs": [
    {
     "name": "stdout",
     "output_type": "stream",
     "text": [
      "<class 'pandas.core.frame.DataFrame'>\n",
      "RangeIndex: 33638 entries, 0 to 33637\n",
      "Data columns (total 36 columns):\n",
      " #   Column            Non-Null Count  Dtype  \n",
      "---  ------            --------------  -----  \n",
      " 0   MP                33638 non-null  float64\n",
      " 1   games_starts      33638 non-null  float64\n",
      " 2   minutes           33638 non-null  float64\n",
      " 3   goals             33638 non-null  float64\n",
      " 4   assists           33638 non-null  float64\n",
      " 5   goals_pens        33638 non-null  float64\n",
      " 6   pens_made         33638 non-null  float64\n",
      " 7   pens_att          33638 non-null  float64\n",
      " 8   cards_yellow      33638 non-null  float64\n",
      " 9   cards_red         33638 non-null  float64\n",
      " 10  cards_yellow_red  33638 non-null  float64\n",
      " 11  fouls             33638 non-null  float64\n",
      " 12  fouled            33638 non-null  float64\n",
      " 13  offsides          33638 non-null  float64\n",
      " 14  crosses           33638 non-null  float64\n",
      " 15  interceptions     33638 non-null  float64\n",
      " 16  tackles_won       33638 non-null  float64\n",
      " 17  pens_won          9270 non-null   float64\n",
      " 18  pens_conceded     9270 non-null   float64\n",
      " 19  main_info         33638 non-null  object \n",
      " 20  country           33638 non-null  object \n",
      " 21  name              33638 non-null  object \n",
      " 22  position          33638 non-null  object \n",
      " 23  month             33638 non-null  object \n",
      " 24  year              33638 non-null  int64  \n",
      " 25  height            33638 non-null  int64  \n",
      " 26  weight            33638 non-null  int64  \n",
      " 27  MP_               33638 non-null  float64\n",
      " 28  shooting          33638 non-null  int64  \n",
      " 29  agressive         33638 non-null  int64  \n",
      " 30  impulse_degree    33638 non-null  int64  \n",
      " 31  crossing          33638 non-null  int64  \n",
      " 32  assisting         33638 non-null  int64  \n",
      " 33  tackling          33638 non-null  int64  \n",
      " 34  intercepting      33638 non-null  int64  \n",
      " 35  power             33638 non-null  int64  \n",
      "dtypes: float64(20), int64(11), object(5)\n",
      "memory usage: 9.2+ MB\n"
     ]
    }
   ],
   "source": [
    "data.info()"
   ]
  },
  {
   "cell_type": "code",
   "execution_count": 105,
   "id": "ec393110",
   "metadata": {},
   "outputs": [],
   "source": [
    "from sklearn.preprocessing import StandardScaler\n",
    "from sklearn.preprocessing import MinMaxScaler"
   ]
  },
  {
   "cell_type": "code",
   "execution_count": 106,
   "id": "5ed66257",
   "metadata": {},
   "outputs": [],
   "source": [
    "scaler=StandardScaler()"
   ]
  },
  {
   "cell_type": "code",
   "execution_count": 107,
   "id": "79aede50",
   "metadata": {},
   "outputs": [
    {
     "data": {
      "text/plain": [
       "Index(['MP', 'games_starts', 'minutes', 'goals', 'assists', 'goals_pens',\n",
       "       'pens_made', 'pens_att', 'cards_yellow', 'cards_red',\n",
       "       'cards_yellow_red', 'fouls', 'fouled', 'offsides', 'crosses',\n",
       "       'interceptions', 'tackles_won', 'pens_won', 'pens_conceded',\n",
       "       'main_info', 'country', 'name', 'position', 'month', 'year', 'height',\n",
       "       'weight', 'MP_', 'shooting', 'agressive', 'impulse_degree', 'crossing',\n",
       "       'assisting', 'tackling', 'intercepting', 'power'],\n",
       "      dtype='object')"
      ]
     },
     "execution_count": 107,
     "metadata": {},
     "output_type": "execute_result"
    }
   ],
   "source": [
    "data.columns"
   ]
  },
  {
   "cell_type": "code",
   "execution_count": 108,
   "id": "936964c5",
   "metadata": {},
   "outputs": [],
   "source": [
    "cols=[ 'height', 'shooting', 'agressive', 'impulse_degree', 'crossing',\n",
    "       'assisting', 'tackling', 'intercepting', 'power']"
   ]
  },
  {
   "cell_type": "code",
   "execution_count": 109,
   "id": "33fafcfd",
   "metadata": {},
   "outputs": [],
   "source": [
    "data[cols]=scaler.fit_transform(data[cols])"
   ]
  },
  {
   "cell_type": "code",
   "execution_count": 110,
   "id": "c14fd35f",
   "metadata": {},
   "outputs": [
    {
     "data": {
      "text/html": [
       "<div>\n",
       "<style scoped>\n",
       "    .dataframe tbody tr th:only-of-type {\n",
       "        vertical-align: middle;\n",
       "    }\n",
       "\n",
       "    .dataframe tbody tr th {\n",
       "        vertical-align: top;\n",
       "    }\n",
       "\n",
       "    .dataframe thead th {\n",
       "        text-align: right;\n",
       "    }\n",
       "</style>\n",
       "<table border=\"1\" class=\"dataframe\">\n",
       "  <thead>\n",
       "    <tr style=\"text-align: right;\">\n",
       "      <th></th>\n",
       "      <th>height</th>\n",
       "      <th>shooting</th>\n",
       "      <th>agressive</th>\n",
       "      <th>impulse_degree</th>\n",
       "      <th>crossing</th>\n",
       "      <th>assisting</th>\n",
       "      <th>tackling</th>\n",
       "      <th>intercepting</th>\n",
       "      <th>power</th>\n",
       "    </tr>\n",
       "  </thead>\n",
       "  <tbody>\n",
       "    <tr>\n",
       "      <th>0</th>\n",
       "      <td>0.998104</td>\n",
       "      <td>0.897280</td>\n",
       "      <td>-1.028639</td>\n",
       "      <td>-0.177853</td>\n",
       "      <td>-0.111967</td>\n",
       "      <td>-0.726764</td>\n",
       "      <td>-0.466750</td>\n",
       "      <td>-0.830916</td>\n",
       "      <td>-0.456966</td>\n",
       "    </tr>\n",
       "    <tr>\n",
       "      <th>1</th>\n",
       "      <td>1.852253</td>\n",
       "      <td>4.121296</td>\n",
       "      <td>-0.288417</td>\n",
       "      <td>-0.515902</td>\n",
       "      <td>3.607691</td>\n",
       "      <td>1.453578</td>\n",
       "      <td>-0.198733</td>\n",
       "      <td>0.204992</td>\n",
       "      <td>-0.356907</td>\n",
       "    </tr>\n",
       "    <tr>\n",
       "      <th>2</th>\n",
       "      <td>1.168934</td>\n",
       "      <td>2.485228</td>\n",
       "      <td>1.053235</td>\n",
       "      <td>4.047755</td>\n",
       "      <td>-0.545927</td>\n",
       "      <td>0.499678</td>\n",
       "      <td>-0.520353</td>\n",
       "      <td>-0.727325</td>\n",
       "      <td>-0.557026</td>\n",
       "    </tr>\n",
       "    <tr>\n",
       "      <th>3</th>\n",
       "      <td>0.143955</td>\n",
       "      <td>0.079246</td>\n",
       "      <td>1.747193</td>\n",
       "      <td>0.667269</td>\n",
       "      <td>1.003930</td>\n",
       "      <td>0.635949</td>\n",
       "      <td>3.392694</td>\n",
       "      <td>0.671151</td>\n",
       "      <td>0.443569</td>\n",
       "    </tr>\n",
       "    <tr>\n",
       "      <th>4</th>\n",
       "      <td>2.023083</td>\n",
       "      <td>-0.353831</td>\n",
       "      <td>-0.334681</td>\n",
       "      <td>-0.008829</td>\n",
       "      <td>0.569970</td>\n",
       "      <td>-0.726764</td>\n",
       "      <td>0.926938</td>\n",
       "      <td>1.448082</td>\n",
       "      <td>0.843807</td>\n",
       "    </tr>\n",
       "    <tr>\n",
       "      <th>...</th>\n",
       "      <td>...</td>\n",
       "      <td>...</td>\n",
       "      <td>...</td>\n",
       "      <td>...</td>\n",
       "      <td>...</td>\n",
       "      <td>...</td>\n",
       "      <td>...</td>\n",
       "      <td>...</td>\n",
       "      <td>...</td>\n",
       "    </tr>\n",
       "    <tr>\n",
       "      <th>33633</th>\n",
       "      <td>-0.368535</td>\n",
       "      <td>-0.690668</td>\n",
       "      <td>-1.028639</td>\n",
       "      <td>-0.853950</td>\n",
       "      <td>-0.483933</td>\n",
       "      <td>-0.590493</td>\n",
       "      <td>-0.573957</td>\n",
       "      <td>-0.779121</td>\n",
       "      <td>-0.456966</td>\n",
       "    </tr>\n",
       "    <tr>\n",
       "      <th>33634</th>\n",
       "      <td>-0.368535</td>\n",
       "      <td>-0.690668</td>\n",
       "      <td>-0.242153</td>\n",
       "      <td>-0.177853</td>\n",
       "      <td>2.491793</td>\n",
       "      <td>0.408830</td>\n",
       "      <td>0.498111</td>\n",
       "      <td>-0.261167</td>\n",
       "      <td>-1.057323</td>\n",
       "    </tr>\n",
       "    <tr>\n",
       "      <th>33635</th>\n",
       "      <td>-2.247664</td>\n",
       "      <td>0.127366</td>\n",
       "      <td>-0.658528</td>\n",
       "      <td>-0.797609</td>\n",
       "      <td>1.561879</td>\n",
       "      <td>1.544425</td>\n",
       "      <td>-0.252337</td>\n",
       "      <td>0.153197</td>\n",
       "      <td>-1.207413</td>\n",
       "    </tr>\n",
       "    <tr>\n",
       "      <th>33636</th>\n",
       "      <td>-0.197705</td>\n",
       "      <td>-0.305711</td>\n",
       "      <td>0.405541</td>\n",
       "      <td>1.737756</td>\n",
       "      <td>-0.235955</td>\n",
       "      <td>-0.726764</td>\n",
       "      <td>1.570179</td>\n",
       "      <td>1.914240</td>\n",
       "      <td>-0.106758</td>\n",
       "    </tr>\n",
       "    <tr>\n",
       "      <th>33637</th>\n",
       "      <td>-0.197705</td>\n",
       "      <td>-0.690668</td>\n",
       "      <td>0.821916</td>\n",
       "      <td>-0.403219</td>\n",
       "      <td>-0.235955</td>\n",
       "      <td>-0.090831</td>\n",
       "      <td>0.873335</td>\n",
       "      <td>0.049606</td>\n",
       "      <td>-0.006699</td>\n",
       "    </tr>\n",
       "  </tbody>\n",
       "</table>\n",
       "<p>33638 rows × 9 columns</p>\n",
       "</div>"
      ],
      "text/plain": [
       "         height  shooting  agressive  impulse_degree  crossing  assisting  \\\n",
       "0      0.998104  0.897280  -1.028639       -0.177853 -0.111967  -0.726764   \n",
       "1      1.852253  4.121296  -0.288417       -0.515902  3.607691   1.453578   \n",
       "2      1.168934  2.485228   1.053235        4.047755 -0.545927   0.499678   \n",
       "3      0.143955  0.079246   1.747193        0.667269  1.003930   0.635949   \n",
       "4      2.023083 -0.353831  -0.334681       -0.008829  0.569970  -0.726764   \n",
       "...         ...       ...        ...             ...       ...        ...   \n",
       "33633 -0.368535 -0.690668  -1.028639       -0.853950 -0.483933  -0.590493   \n",
       "33634 -0.368535 -0.690668  -0.242153       -0.177853  2.491793   0.408830   \n",
       "33635 -2.247664  0.127366  -0.658528       -0.797609  1.561879   1.544425   \n",
       "33636 -0.197705 -0.305711   0.405541        1.737756 -0.235955  -0.726764   \n",
       "33637 -0.197705 -0.690668   0.821916       -0.403219 -0.235955  -0.090831   \n",
       "\n",
       "       tackling  intercepting     power  \n",
       "0     -0.466750     -0.830916 -0.456966  \n",
       "1     -0.198733      0.204992 -0.356907  \n",
       "2     -0.520353     -0.727325 -0.557026  \n",
       "3      3.392694      0.671151  0.443569  \n",
       "4      0.926938      1.448082  0.843807  \n",
       "...         ...           ...       ...  \n",
       "33633 -0.573957     -0.779121 -0.456966  \n",
       "33634  0.498111     -0.261167 -1.057323  \n",
       "33635 -0.252337      0.153197 -1.207413  \n",
       "33636  1.570179      1.914240 -0.106758  \n",
       "33637  0.873335      0.049606 -0.006699  \n",
       "\n",
       "[33638 rows x 9 columns]"
      ]
     },
     "execution_count": 110,
     "metadata": {},
     "output_type": "execute_result"
    }
   ],
   "source": [
    "data[cols]"
   ]
  },
  {
   "cell_type": "code",
   "execution_count": 111,
   "id": "43274cde",
   "metadata": {},
   "outputs": [],
   "source": [
    "y=data['position']"
   ]
  },
  {
   "cell_type": "code",
   "execution_count": 112,
   "id": "31d7201c",
   "metadata": {},
   "outputs": [],
   "source": [
    "y=y.map({'FW':0,'MF':1,'DF':2})"
   ]
  },
  {
   "cell_type": "code",
   "execution_count": 113,
   "id": "dd11661d",
   "metadata": {},
   "outputs": [
    {
     "data": {
      "text/plain": [
       "Index(['MP', 'games_starts', 'minutes', 'goals', 'assists', 'goals_pens',\n",
       "       'pens_made', 'pens_att', 'cards_yellow', 'cards_red',\n",
       "       'cards_yellow_red', 'fouls', 'fouled', 'offsides', 'crosses',\n",
       "       'interceptions', 'tackles_won', 'pens_won', 'pens_conceded',\n",
       "       'main_info', 'country', 'name', 'position', 'month', 'year', 'height',\n",
       "       'weight', 'MP_', 'shooting', 'agressive', 'impulse_degree', 'crossing',\n",
       "       'assisting', 'tackling', 'intercepting', 'power'],\n",
       "      dtype='object')"
      ]
     },
     "execution_count": 113,
     "metadata": {},
     "output_type": "execute_result"
    }
   ],
   "source": [
    "data.columns"
   ]
  },
  {
   "cell_type": "code",
   "execution_count": 114,
   "id": "14b749da",
   "metadata": {},
   "outputs": [],
   "source": [
    "X=data.drop(['MP', 'games_starts', 'minutes', 'goals', 'assists', 'goals_pens',\n",
    "       'pens_made', 'pens_att', 'cards_yellow', 'cards_red',\n",
    "       'cards_yellow_red', 'fouls', 'fouled', 'offsides', 'crosses',\n",
    "       'interceptions', 'tackles_won', 'pens_won', 'pens_conceded',\n",
    "       'main_info', 'country', 'name', 'month', 'year', 'position',\n",
    "       'weight', 'MP_'],axis=1)"
   ]
  },
  {
   "cell_type": "code",
   "execution_count": 115,
   "id": "6df3269f",
   "metadata": {},
   "outputs": [
    {
     "data": {
      "text/plain": [
       "Index(['height', 'shooting', 'agressive', 'impulse_degree', 'crossing',\n",
       "       'assisting', 'tackling', 'intercepting', 'power'],\n",
       "      dtype='object')"
      ]
     },
     "execution_count": 115,
     "metadata": {},
     "output_type": "execute_result"
    }
   ],
   "source": [
    "X.columns"
   ]
  },
  {
   "cell_type": "code",
   "execution_count": 116,
   "id": "1d2e3b48",
   "metadata": {},
   "outputs": [],
   "source": [
    "from matplotlib import pyplot as plt\n",
    "import seaborn as sns\n",
    "import numpy as np"
   ]
  },
  {
   "cell_type": "code",
   "execution_count": 117,
   "id": "959f275a",
   "metadata": {},
   "outputs": [
    {
     "name": "stderr",
     "output_type": "stream",
     "text": [
      "C:\\Users\\DELL\\anaconda3\\lib\\site-packages\\seaborn\\_decorators.py:36: FutureWarning: Pass the following variables as keyword args: x, y. From version 0.12, the only valid positional argument will be `data`, and passing other arguments without an explicit keyword will result in an error or misinterpretation.\n",
      "  warnings.warn(\n"
     ]
    },
    {
     "data": {
      "text/plain": [
       "<AxesSubplot:>"
      ]
     },
     "execution_count": 117,
     "metadata": {},
     "output_type": "execute_result"
    },
    {
     "data": {
      "image/png": "[encoded data removed]",
      "text/plain": [
       "<Figure size 432x288 with 1 Axes>"
      ]
     },
     "metadata": {
      "needs_background": "light"
     },
     "output_type": "display_data"
    }
   ],
   "source": [
    "sns.barplot(y.value_counts().index,y.value_counts().values)"
   ]
  },
  {
   "cell_type": "code",
   "execution_count": 118,
   "id": "3067e87b",
   "metadata": {},
   "outputs": [],
   "source": [
    "from imblearn.over_sampling import SMOTE "
   ]
  },
  {
   "cell_type": "code",
   "execution_count": 119,
   "id": "1b1b9e14",
   "metadata": {},
   "outputs": [],
   "source": [
    "resampler=SMOTE()"
   ]
  },
  {
   "cell_type": "code",
   "execution_count": 120,
   "id": "5b4db911",
   "metadata": {},
   "outputs": [],
   "source": [
    "X,y=resampler.fit_resample(X,y)"
   ]
  },
  {
   "cell_type": "code",
   "execution_count": 121,
   "id": "66438e6d",
   "metadata": {},
   "outputs": [],
   "source": [
    "from sklearn.model_selection import train_test_split"
   ]
  },
  {
   "cell_type": "code",
   "execution_count": 122,
   "id": "3e029d12",
   "metadata": {},
   "outputs": [],
   "source": [
    "X_train, X_test, y_train, y_test = train_test_split(X, y, test_size=0.33, random_state=42,stratify=y)"
   ]
  },
  {
   "cell_type": "code",
   "execution_count": 123,
   "id": "a159bba7",
   "metadata": {},
   "outputs": [],
   "source": [
    "from sklearn.linear_model import LogisticRegression\n",
    "from sklearn import svm\n",
    "from sklearn.neighbors import KNeighborsClassifier\n",
    "from sklearn import tree\n",
    "from sklearn.ensemble import RandomForestClassifier\n",
    "import xgboost"
   ]
  },
  {
   "cell_type": "code",
   "execution_count": 124,
   "id": "297c71b9",
   "metadata": {},
   "outputs": [],
   "source": [
    "models=[LogisticRegression(),svm.SVC(),KNeighborsClassifier(),tree.DecisionTreeClassifier(),RandomForestClassifier(),xgboost.XGBClassifier()]"
   ]
  },
  {
   "cell_type": "code",
   "execution_count": 125,
   "id": "eca8c160",
   "metadata": {},
   "outputs": [],
   "source": [
    "from sklearn.metrics import accuracy_score"
   ]
  },
  {
   "cell_type": "code",
   "execution_count": 126,
   "id": "d9f98532",
   "metadata": {},
   "outputs": [
    {
     "name": "stdout",
     "output_type": "stream",
     "text": [
      "LogisticRegression()\n",
      "Training score: 72.23504854675986\n",
      "Testing score: 72.44124823423654\n",
      "SVC()\n",
      "Training score: 81.70087605553623\n",
      "Testing score: 80.89122897136252\n",
      "KNeighborsClassifier()\n",
      "Training score: 87.67829469622696\n",
      "Testing score: 83.01014511365096\n",
      "DecisionTreeClassifier()\n",
      "Training score: 99.54774028274139\n",
      "Testing score: 80.30050083472455\n",
      "RandomForestClassifier()\n",
      "Training score: 99.54774028274139\n",
      "Testing score: 87.88365224091434\n",
      "XGBClassifier(base_score=0.5, booster='gbtree', callbacks=None,\n",
      "              colsample_bylevel=1, colsample_bynode=1, colsample_bytree=1,\n",
      "              early_stopping_rounds=None, enable_categorical=False,\n",
      "              eval_metric=None, gamma=0, gpu_id=-1, grow_policy='depthwise',\n",
      "              importance_type=None, interaction_constraints='',\n",
      "              learning_rate=0.300000012, max_bin=256, max_cat_to_onehot=4,\n",
      "              max_delta_step=0, max_depth=6, max_leaves=0, min_child_weight=1,\n",
      "              missing=nan, monotone_constraints='()', n_estimators=100,\n",
      "              n_jobs=0, num_parallel_tree=1, objective='multi:softprob',\n",
      "              predictor='auto', random_state=0, reg_alpha=0, ...)\n",
      "Training score: 93.26354407160252\n",
      "Testing score: 87.40208039039425\n"
     ]
    }
   ],
   "source": [
    "train_scores=[]\n",
    "test_scores=[]\n",
    "for model in models:\n",
    "    model.fit(X_train,y_train)\n",
    "    y_pred=model.predict(X_train)\n",
    "    print(model)\n",
    "    print(f'Training score: {accuracy_score(y_train,y_pred)*100}' )\n",
    "    train_scores.append(accuracy_score(y_train,y_pred)*100)\n",
    "    y_pred=model.predict(X_test)\n",
    "    print(f'Testing score: {accuracy_score(y_test,y_pred)*100}' )\n",
    "    test_scores.append(accuracy_score(y_test,y_pred)*100)\n",
    "    "
   ]
  },
  {
   "cell_type": "code",
   "execution_count": 127,
   "id": "af9e74f8",
   "metadata": {},
   "outputs": [
    {
     "data": {
      "text/plain": [
       "0    15731\n",
       "1    15731\n",
       "2    15731\n",
       "Name: position, dtype: int64"
      ]
     },
     "execution_count": 127,
     "metadata": {},
     "output_type": "execute_result"
    }
   ],
   "source": [
    "y.value_counts()"
   ]
  },
  {
   "cell_type": "code",
   "execution_count": 128,
   "id": "afba88d5",
   "metadata": {},
   "outputs": [
    {
     "data": {
      "image/png": "[encoded data removed]",
      "text/plain": [
       "<Figure size 432x288 with 1 Axes>"
      ]
     },
     "metadata": {
      "needs_background": "light"
     },
     "output_type": "display_data"
    }
   ],
   "source": [
    "labels=['LogisticRegression','SVM','KNN','DecisionTree','RandomForest','XGboost']\n",
    "x=np.arange(len(labels))\n",
    "fig, ax = plt.subplots()\n",
    "rects1 = ax.bar(x - 0.35/2, test_scores, 0.35, label='Test')\n",
    "rects2 = ax.bar(x + 0.35/2, train_scores, 0.35, label='Train')\n",
    "\n",
    "# Add some text for labels, title and custom x-axis tick labels, etc.\n",
    "ax.set_ylabel('Scores')\n",
    "ax.set_title('Scores of training and testing ')\n",
    "ax.set_xticks(x)\n",
    "ax.set_xticklabels(labels)\n",
    "plt.xticks(rotation=10)\n",
    "ax.legend()\n",
    "plt.savefig('model.png')"
   ]
  },
  {
   "cell_type": "code",
   "execution_count": 129,
   "id": "87b0ee2e",
   "metadata": {},
   "outputs": [],
   "source": [
    "from sklearn.model_selection import RandomizedSearchCV\n",
    "from sklearn.model_selection import GridSearchCV"
   ]
  },
  {
   "cell_type": "code",
   "execution_count": 130,
   "id": "3b1ca5f9",
   "metadata": {},
   "outputs": [],
   "source": [
    "distributions={\n",
    "        'learning_rate':[0.05,0.10,0.15,0.20,0.25,0.30],\n",
    "        'max_depth': [3,4,5,6,7,8,10,12,15],\n",
    "        'gamma':[0.2,0.4,0.6,0.8],\n",
    "        \"colsample_bytree\":[0.3,0.4,0.5,0.7],\n",
    "        'reg_alpha':[5,6,8,10],\n",
    "        'reg_lambda':[1,2,3,4,5],\n",
    "        'min_child_weight':[2,3,4,5],\n",
    "        'subsample':[0.5,0.7,0.9],\n",
    "        'n_estimators':[100,200,400,500]\n",
    "    \n",
    "}"
   ]
  },
  {
   "cell_type": "code",
   "execution_count": 131,
   "id": "30bf55ec",
   "metadata": {},
   "outputs": [],
   "source": [
    "clf=RandomizedSearchCV(xgboost.XGBClassifier(),distributions)"
   ]
  },
  {
   "cell_type": "code",
   "execution_count": 132,
   "id": "44a133ad",
   "metadata": {},
   "outputs": [],
   "source": [
    "search=clf.fit(X,y)"
   ]
  },
  {
   "cell_type": "code",
   "execution_count": 133,
   "id": "e1c412d5",
   "metadata": {},
   "outputs": [
    {
     "data": {
      "text/plain": [
       "0.8742201141598228"
      ]
     },
     "execution_count": 133,
     "metadata": {},
     "output_type": "execute_result"
    }
   ],
   "source": [
    "search.best_score_"
   ]
  },
  {
   "cell_type": "code",
   "execution_count": 134,
   "id": "27950989",
   "metadata": {},
   "outputs": [
    {
     "data": {
      "text/plain": [
       "{'subsample': 0.9,\n",
       " 'reg_lambda': 2,\n",
       " 'reg_alpha': 10,\n",
       " 'n_estimators': 500,\n",
       " 'min_child_weight': 5,\n",
       " 'max_depth': 15,\n",
       " 'learning_rate': 0.25,\n",
       " 'gamma': 0.2,\n",
       " 'colsample_bytree': 0.7}"
      ]
     },
     "execution_count": 134,
     "metadata": {},
     "output_type": "execute_result"
    }
   ],
   "source": [
    "search.best_params_"
   ]
  },
  {
   "cell_type": "code",
   "execution_count": 149,
   "id": "c8104a57",
   "metadata": {},
   "outputs": [],
   "source": [
    "model=search.best_estimator_"
   ]
  },
  {
   "cell_type": "code",
   "execution_count": 166,
   "id": "851a7c24",
   "metadata": {},
   "outputs": [
    {
     "data": {
      "text/html": [
       "<style>#sk-container-id-7 {color: black;background-color: white;}#sk-container-id-7 pre{padding: 0;}#sk-container-id-7 div.sk-toggleable {background-color: white;}#sk-container-id-7 label.sk-toggleable__label {cursor: pointer;display: block;width: 100%;margin-bottom: 0;padding: 0.3em;box-sizing: border-box;text-align: center;}#sk-container-id-7 label.sk-toggleable__label-arrow:before {content: \"▸\";float: left;margin-right: 0.25em;color: #696969;}#sk-container-id-7 label.sk-toggleable__label-arrow:hover:before {color: black;}#sk-container-id-7 div.sk-estimator:hover label.sk-toggleable__label-arrow:before {color: black;}#sk-container-id-7 div.sk-toggleable__content {max-height: 0;max-width: 0;overflow: hidden;text-align: left;background-color: #f0f8ff;}#sk-container-id-7 div.sk-toggleable__content pre {margin: 0.2em;color: black;border-radius: 0.25em;background-color: #f0f8ff;}#sk-container-id-7 input.sk-toggleable__control:checked~div.sk-toggleable__content {max-height: 200px;max-width: 100%;overflow: auto;}#sk-container-id-7 input.sk-toggleable__control:checked~label.sk-toggleable__label-arrow:before {content: \"▾\";}#sk-container-id-7 div.sk-estimator input.sk-toggleable__control:checked~label.sk-toggleable__label {background-color: #d4ebff;}#sk-container-id-7 div.sk-label input.sk-toggleable__control:checked~label.sk-toggleable__label {background-color: #d4ebff;}#sk-container-id-7 input.sk-hidden--visually {border: 0;clip: rect(1px 1px 1px 1px);clip: rect(1px, 1px, 1px, 1px);height: 1px;margin: -1px;overflow: hidden;padding: 0;position: absolute;width: 1px;}#sk-container-id-7 div.sk-estimator {font-family: monospace;background-color: #f0f8ff;border: 1px dotted black;border-radius: 0.25em;box-sizing: border-box;margin-bottom: 0.5em;}#sk-container-id-7 div.sk-estimator:hover {background-color: #d4ebff;}#sk-container-id-7 div.sk-parallel-item::after {content: \"\";width: 100%;border-bottom: 1px solid gray;flex-grow: 1;}#sk-container-id-7 div.sk-label:hover label.sk-toggleable__label {background-color: #d4ebff;}#sk-container-id-7 div.sk-serial::before {content: \"\";position: absolute;border-left: 1px solid gray;box-sizing: border-box;top: 0;bottom: 0;left: 50%;z-index: 0;}#sk-container-id-7 div.sk-serial {display: flex;flex-direction: column;align-items: center;background-color: white;padding-right: 0.2em;padding-left: 0.2em;position: relative;}#sk-container-id-7 div.sk-item {position: relative;z-index: 1;}#sk-container-id-7 div.sk-parallel {display: flex;align-items: stretch;justify-content: center;background-color: white;position: relative;}#sk-container-id-7 div.sk-item::before, #sk-container-id-7 div.sk-parallel-item::before {content: \"\";position: absolute;border-left: 1px solid gray;box-sizing: border-box;top: 0;bottom: 0;left: 50%;z-index: -1;}#sk-container-id-7 div.sk-parallel-item {display: flex;flex-direction: column;z-index: 1;position: relative;background-color: white;}#sk-container-id-7 div.sk-parallel-item:first-child::after {align-self: flex-end;width: 50%;}#sk-container-id-7 div.sk-parallel-item:last-child::after {align-self: flex-start;width: 50%;}#sk-container-id-7 div.sk-parallel-item:only-child::after {width: 0;}#sk-container-id-7 div.sk-dashed-wrapped {border: 1px dashed gray;margin: 0 0.4em 0.5em 0.4em;box-sizing: border-box;padding-bottom: 0.4em;background-color: white;}#sk-container-id-7 div.sk-label label {font-family: monospace;font-weight: bold;display: inline-block;line-height: 1.2em;}#sk-container-id-7 div.sk-label-container {text-align: center;}#sk-container-id-7 div.sk-container {/* jupyter's `normalize.less` sets `[hidden] { display: none; }` but bootstrap.min.css set `[hidden] { display: none !important; }` so we also need the `!important` here to be able to override the default hidden behavior on the sphinx rendered scikit-learn.org. See: https://github.com/scikit-learn/scikit-learn/issues/21755 */display: inline-block !important;position: relative;}#sk-container-id-7 div.sk-text-repr-fallback {display: none;}</style><div id=\"sk-container-id-7\" class=\"sk-top-container\"><div class=\"sk-text-repr-fallback\"><pre>XGBClassifier(base_score=0.5, booster=&#x27;gbtree&#x27;, callbacks=None,\n",
       "              colsample_bylevel=1, colsample_bynode=1, colsample_bytree=1,\n",
       "              early_stopping_rounds=None, enable_categorical=False,\n",
       "              eval_metric=None, gamma=0, gpu_id=-1, grow_policy=&#x27;depthwise&#x27;,\n",
       "              importance_type=None, interaction_constraints=&#x27;&#x27;,\n",
       "              learning_rate=0.300000012, max_bin=256, max_cat_to_onehot=4,\n",
       "              max_delta_step=0, max_depth=6, max_leaves=0, min_child_weight=1,\n",
       "              missing=nan, monotone_constraints=&#x27;()&#x27;, n_estimators=100,\n",
       "              n_jobs=0, num_parallel_tree=1, objective=&#x27;multi:softprob&#x27;,\n",
       "              predictor=&#x27;auto&#x27;, random_state=0, reg_alpha=0, ...)</pre><b>In a Jupyter environment, please rerun this cell to show the HTML representation or trust the notebook. <br />On GitHub, the HTML representation is unable to render, please try loading this page with nbviewer.org.</b></div><div class=\"sk-container\" hidden><div class=\"sk-item\"><div class=\"sk-estimator sk-toggleable\"><input class=\"sk-toggleable__control sk-hidden--visually\" id=\"sk-estimator-id-7\" type=\"checkbox\" checked><label for=\"sk-estimator-id-7\" class=\"sk-toggleable__label sk-toggleable__label-arrow\">XGBClassifier</label><div class=\"sk-toggleable__content\"><pre>XGBClassifier(base_score=0.5, booster=&#x27;gbtree&#x27;, callbacks=None,\n",
       "              colsample_bylevel=1, colsample_bynode=1, colsample_bytree=1,\n",
       "              early_stopping_rounds=None, enable_categorical=False,\n",
       "              eval_metric=None, gamma=0, gpu_id=-1, grow_policy=&#x27;depthwise&#x27;,\n",
       "              importance_type=None, interaction_constraints=&#x27;&#x27;,\n",
       "              learning_rate=0.300000012, max_bin=256, max_cat_to_onehot=4,\n",
       "              max_delta_step=0, max_depth=6, max_leaves=0, min_child_weight=1,\n",
       "              missing=nan, monotone_constraints=&#x27;()&#x27;, n_estimators=100,\n",
       "              n_jobs=0, num_parallel_tree=1, objective=&#x27;multi:softprob&#x27;,\n",
       "              predictor=&#x27;auto&#x27;, random_state=0, reg_alpha=0, ...)</pre></div></div></div></div></div>"
      ],
      "text/plain": [
       "XGBClassifier(base_score=0.5, booster='gbtree', callbacks=None,\n",
       "              colsample_bylevel=1, colsample_bynode=1, colsample_bytree=1,\n",
       "              early_stopping_rounds=None, enable_categorical=False,\n",
       "              eval_metric=None, gamma=0, gpu_id=-1, grow_policy='depthwise',\n",
       "              importance_type=None, interaction_constraints='',\n",
       "              learning_rate=0.300000012, max_bin=256, max_cat_to_onehot=4,\n",
       "              max_delta_step=0, max_depth=6, max_leaves=0, min_child_weight=1,\n",
       "              missing=nan, monotone_constraints='()', n_estimators=100,\n",
       "              n_jobs=0, num_parallel_tree=1, objective='multi:softprob',\n",
       "              predictor='auto', random_state=0, reg_alpha=0, ...)"
      ]
     },
     "execution_count": 166,
     "metadata": {},
     "output_type": "execute_result"
    }
   ],
   "source": [
    "model.fit(X_train,y_train)"
   ]
  },
  {
   "cell_type": "code",
   "execution_count": 167,
   "id": "c805f15c",
   "metadata": {},
   "outputs": [],
   "source": [
    "y_pred=model.predict(X_test)"
   ]
  },
  {
   "cell_type": "code",
   "execution_count": 169,
   "id": "675176e5",
   "metadata": {},
   "outputs": [
    {
     "data": {
      "text/plain": [
       "array([0.11577351, 0.11100955, 0.04688055, 0.09434554, 0.09915334,\n",
       "       0.05178869, 0.07093804, 0.31246623, 0.09764456], dtype=float32)"
      ]
     },
     "execution_count": 169,
     "metadata": {},
     "output_type": "execute_result"
    }
   ],
   "source": [
    "model.feature_importances_"
   ]
  },
  {
   "cell_type": "code",
   "execution_count": 173,
   "id": "dbb5bf19",
   "metadata": {},
   "outputs": [
    {
     "data": {
      "text/plain": [
       "['height',\n",
       " 'shooting',\n",
       " 'agressive',\n",
       " 'impulse_degree',\n",
       " 'crossing',\n",
       " 'assisting',\n",
       " 'tackling',\n",
       " 'intercepting',\n",
       " 'power']"
      ]
     },
     "execution_count": 173,
     "metadata": {},
     "output_type": "execute_result"
    }
   ],
   "source": [
    "cols"
   ]
  },
  {
   "cell_type": "code",
   "execution_count": 174,
   "id": "097e1e8b",
   "metadata": {},
   "outputs": [],
   "source": [
    "from sklearn.metrics import confusion_matrix, ConfusionMatrixDisplay"
   ]
  },
  {
   "cell_type": "code",
   "execution_count": 179,
   "id": "72840a4c",
   "metadata": {},
   "outputs": [
    {
     "data": {
      "text/plain": [
       "<sklearn.metrics._plot.confusion_matrix.ConfusionMatrixDisplay at 0x22bc5821ca0>"
      ]
     },
     "execution_count": 179,
     "metadata": {},
     "output_type": "execute_result"
    },
    {
     "data": {
      "image/png": "[encoded data removed]",
      "text/plain": [
       "<Figure size 432x288 with 2 Axes>"
      ]
     },
     "metadata": {
      "needs_background": "light"
     },
     "output_type": "display_data"
    }
   ],
   "source": [
    "cm=confusion_matrix(y_test,y_pred,labels=model.classes_)\n",
    "disp = ConfusionMatrixDisplay(confusion_matrix=cm, display_labels=model.classes_)\n",
    "disp.plot()"
   ]
  },
  {
   "cell_type": "code",
   "execution_count": 180,
   "id": "e918b135",
   "metadata": {},
   "outputs": [],
   "source": [
    "from sklearn.metrics import classification_report"
   ]
  },
  {
   "cell_type": "code",
   "execution_count": 181,
   "id": "242cea7b",
   "metadata": {},
   "outputs": [
    {
     "name": "stdout",
     "output_type": "stream",
     "text": [
      "              precision    recall  f1-score   support\n",
      "\n",
      "           0       0.90      0.90      0.90      5191\n",
      "           1       0.84      0.82      0.83      5191\n",
      "           2       0.89      0.90      0.89      5192\n",
      "\n",
      "    accuracy                           0.87     15574\n",
      "   macro avg       0.87      0.87      0.87     15574\n",
      "weighted avg       0.87      0.87      0.87     15574\n",
      "\n"
     ]
    }
   ],
   "source": [
    "print(classification_report(y_test,y_pred))"
   ]
  },
  {
   "cell_type": "code",
   "execution_count": 151,
   "id": "72c24d1c",
   "metadata": {},
   "outputs": [],
   "source": [
    "from sklearn.model_selection import cross_validate"
   ]
  },
  {
   "cell_type": "code",
   "execution_count": 152,
   "id": "0d0e101c",
   "metadata": {},
   "outputs": [
    {
     "data": {
      "text/plain": [
       "{'fit_time': array([75.0460012 , 74.57400036, 75.82600451, 74.43600345, 73.35800099,\n",
       "        72.56499529, 72.11500072, 74.85799861, 70.58700228, 71.01399994]),\n",
       " 'score_time': array([0.11800385, 0.13600206, 0.15800166, 0.1259973 , 0.11500168,\n",
       "        0.12300038, 0.13300204, 0.12500072, 0.127002  , 0.13599992]),\n",
       " 'test_score': array([0.84915254, 0.85      , 0.84682203, 0.84488239, 0.85145158,\n",
       "        0.88302606, 0.91396482, 0.91311719, 0.91587201, 0.92795084]),\n",
       " 'train_score': array([0.94495326, 0.94561251, 0.94504744, 0.94535481, 0.94547252,\n",
       "        0.94311814, 0.94064604, 0.94017517, 0.93956303, 0.94019871])}"
      ]
     },
     "execution_count": 152,
     "metadata": {},
     "output_type": "execute_result"
    }
   ],
   "source": [
    "cv_results = cross_validate(model,X, y, cv = 10, scoring = 'accuracy',return_train_score=True)\n",
    "cv_results"
   ]
  },
  {
   "cell_type": "code",
   "execution_count": 158,
   "id": "ec03bd5c",
   "metadata": {},
   "outputs": [
    {
     "data": {
      "text/html": [
       "<style>#sk-container-id-6 {color: black;background-color: white;}#sk-container-id-6 pre{padding: 0;}#sk-container-id-6 div.sk-toggleable {background-color: white;}#sk-container-id-6 label.sk-toggleable__label {cursor: pointer;display: block;width: 100%;margin-bottom: 0;padding: 0.3em;box-sizing: border-box;text-align: center;}#sk-container-id-6 label.sk-toggleable__label-arrow:before {content: \"▸\";float: left;margin-right: 0.25em;color: #696969;}#sk-container-id-6 label.sk-toggleable__label-arrow:hover:before {color: black;}#sk-container-id-6 div.sk-estimator:hover label.sk-toggleable__label-arrow:before {color: black;}#sk-container-id-6 div.sk-toggleable__content {max-height: 0;max-width: 0;overflow: hidden;text-align: left;background-color: #f0f8ff;}#sk-container-id-6 div.sk-toggleable__content pre {margin: 0.2em;color: black;border-radius: 0.25em;background-color: #f0f8ff;}#sk-container-id-6 input.sk-toggleable__control:checked~div.sk-toggleable__content {max-height: 200px;max-width: 100%;overflow: auto;}#sk-container-id-6 input.sk-toggleable__control:checked~label.sk-toggleable__label-arrow:before {content: \"▾\";}#sk-container-id-6 div.sk-estimator input.sk-toggleable__control:checked~label.sk-toggleable__label {background-color: #d4ebff;}#sk-container-id-6 div.sk-label input.sk-toggleable__control:checked~label.sk-toggleable__label {background-color: #d4ebff;}#sk-container-id-6 input.sk-hidden--visually {border: 0;clip: rect(1px 1px 1px 1px);clip: rect(1px, 1px, 1px, 1px);height: 1px;margin: -1px;overflow: hidden;padding: 0;position: absolute;width: 1px;}#sk-container-id-6 div.sk-estimator {font-family: monospace;background-color: #f0f8ff;border: 1px dotted black;border-radius: 0.25em;box-sizing: border-box;margin-bottom: 0.5em;}#sk-container-id-6 div.sk-estimator:hover {background-color: #d4ebff;}#sk-container-id-6 div.sk-parallel-item::after {content: \"\";width: 100%;border-bottom: 1px solid gray;flex-grow: 1;}#sk-container-id-6 div.sk-label:hover label.sk-toggleable__label {background-color: #d4ebff;}#sk-container-id-6 div.sk-serial::before {content: \"\";position: absolute;border-left: 1px solid gray;box-sizing: border-box;top: 0;bottom: 0;left: 50%;z-index: 0;}#sk-container-id-6 div.sk-serial {display: flex;flex-direction: column;align-items: center;background-color: white;padding-right: 0.2em;padding-left: 0.2em;position: relative;}#sk-container-id-6 div.sk-item {position: relative;z-index: 1;}#sk-container-id-6 div.sk-parallel {display: flex;align-items: stretch;justify-content: center;background-color: white;position: relative;}#sk-container-id-6 div.sk-item::before, #sk-container-id-6 div.sk-parallel-item::before {content: \"\";position: absolute;border-left: 1px solid gray;box-sizing: border-box;top: 0;bottom: 0;left: 50%;z-index: -1;}#sk-container-id-6 div.sk-parallel-item {display: flex;flex-direction: column;z-index: 1;position: relative;background-color: white;}#sk-container-id-6 div.sk-parallel-item:first-child::after {align-self: flex-end;width: 50%;}#sk-container-id-6 div.sk-parallel-item:last-child::after {align-self: flex-start;width: 50%;}#sk-container-id-6 div.sk-parallel-item:only-child::after {width: 0;}#sk-container-id-6 div.sk-dashed-wrapped {border: 1px dashed gray;margin: 0 0.4em 0.5em 0.4em;box-sizing: border-box;padding-bottom: 0.4em;background-color: white;}#sk-container-id-6 div.sk-label label {font-family: monospace;font-weight: bold;display: inline-block;line-height: 1.2em;}#sk-container-id-6 div.sk-label-container {text-align: center;}#sk-container-id-6 div.sk-container {/* jupyter's `normalize.less` sets `[hidden] { display: none; }` but bootstrap.min.css set `[hidden] { display: none !important; }` so we also need the `!important` here to be able to override the default hidden behavior on the sphinx rendered scikit-learn.org. See: https://github.com/scikit-learn/scikit-learn/issues/21755 */display: inline-block !important;position: relative;}#sk-container-id-6 div.sk-text-repr-fallback {display: none;}</style><div id=\"sk-container-id-6\" class=\"sk-top-container\"><div class=\"sk-text-repr-fallback\"><pre>XGBClassifier(base_score=0.5, booster=&#x27;gbtree&#x27;, callbacks=None,\n",
       "              colsample_bylevel=1, colsample_bynode=1, colsample_bytree=0.7,\n",
       "              early_stopping_rounds=None, enable_categorical=False,\n",
       "              eval_metric=None, gamma=0.2, gpu_id=-1, grow_policy=&#x27;depthwise&#x27;,\n",
       "              importance_type=None, interaction_constraints=&#x27;&#x27;,\n",
       "              learning_rate=0.25, max_bin=256, max_cat_to_onehot=4,\n",
       "              max_delta_step=0, max_depth=15, max_leaves=0, min_child_weight=5,\n",
       "              missing=nan, monotone_constraints=&#x27;()&#x27;, n_estimators=500,\n",
       "              n_jobs=0, num_parallel_tree=1, objective=&#x27;multi:softprob&#x27;,\n",
       "              predictor=&#x27;auto&#x27;, random_state=0, reg_alpha=10, ...)</pre><b>In a Jupyter environment, please rerun this cell to show the HTML representation or trust the notebook. <br />On GitHub, the HTML representation is unable to render, please try loading this page with nbviewer.org.</b></div><div class=\"sk-container\" hidden><div class=\"sk-item\"><div class=\"sk-estimator sk-toggleable\"><input class=\"sk-toggleable__control sk-hidden--visually\" id=\"sk-estimator-id-6\" type=\"checkbox\" checked><label for=\"sk-estimator-id-6\" class=\"sk-toggleable__label sk-toggleable__label-arrow\">XGBClassifier</label><div class=\"sk-toggleable__content\"><pre>XGBClassifier(base_score=0.5, booster=&#x27;gbtree&#x27;, callbacks=None,\n",
       "              colsample_bylevel=1, colsample_bynode=1, colsample_bytree=0.7,\n",
       "              early_stopping_rounds=None, enable_categorical=False,\n",
       "              eval_metric=None, gamma=0.2, gpu_id=-1, grow_policy=&#x27;depthwise&#x27;,\n",
       "              importance_type=None, interaction_constraints=&#x27;&#x27;,\n",
       "              learning_rate=0.25, max_bin=256, max_cat_to_onehot=4,\n",
       "              max_delta_step=0, max_depth=15, max_leaves=0, min_child_weight=5,\n",
       "              missing=nan, monotone_constraints=&#x27;()&#x27;, n_estimators=500,\n",
       "              n_jobs=0, num_parallel_tree=1, objective=&#x27;multi:softprob&#x27;,\n",
       "              predictor=&#x27;auto&#x27;, random_state=0, reg_alpha=10, ...)</pre></div></div></div></div></div>"
      ],
      "text/plain": [
       "XGBClassifier(base_score=0.5, booster='gbtree', callbacks=None,\n",
       "              colsample_bylevel=1, colsample_bynode=1, colsample_bytree=0.7,\n",
       "              early_stopping_rounds=None, enable_categorical=False,\n",
       "              eval_metric=None, gamma=0.2, gpu_id=-1, grow_policy='depthwise',\n",
       "              importance_type=None, interaction_constraints='',\n",
       "              learning_rate=0.25, max_bin=256, max_cat_to_onehot=4,\n",
       "              max_delta_step=0, max_depth=15, max_leaves=0, min_child_weight=5,\n",
       "              missing=nan, monotone_constraints='()', n_estimators=500,\n",
       "              n_jobs=0, num_parallel_tree=1, objective='multi:softprob',\n",
       "              predictor='auto', random_state=0, reg_alpha=10, ...)"
      ]
     },
     "execution_count": 158,
     "metadata": {},
     "output_type": "execute_result"
    }
   ],
   "source": [
    "model.fit(X,y)"
   ]
  },
  {
   "cell_type": "code",
   "execution_count": 159,
   "id": "8f3868cb",
   "metadata": {},
   "outputs": [],
   "source": [
    "import joblib"
   ]
  },
  {
   "cell_type": "code",
   "execution_count": 162,
   "id": "12c05e29",
   "metadata": {},
   "outputs": [
    {
     "data": {
      "text/plain": [
       "['FinalModel.sav']"
      ]
     },
     "execution_count": 162,
     "metadata": {},
     "output_type": "execute_result"
    }
   ],
   "source": [
    "joblib.dump(model,'FinalModel.sav')"
   ]
  },
  {
   "cell_type": "code",
   "execution_count": 163,
   "id": "7bacd820",
   "metadata": {},
   "outputs": [
    {
     "data": {
      "text/plain": [
       "['scaler.sav']"
      ]
     },
     "execution_count": 163,
     "metadata": {},
     "output_type": "execute_result"
    }
   ],
   "source": [
    "joblib.dump(scaler,'scaler.sav')"
   ]
  }
 ],
 "metadata": {
  "kernelspec": {
   "display_name": "Python 3 (ipykernel)",
   "language": "python",
   "name": "python3"
  },
  "language_info": {
   "codemirror_mode": {
    "name": "ipython",
    "version": 3
   },
   "file_extension": ".py",
   "mimetype": "text/x-python",
   "name": "python",
   "nbconvert_exporter": "python",
   "pygments_lexer": "ipython3",
   "version": "3.9.7"
  }
 },
 "nbformat": 4,
 "nbformat_minor": 5
}
