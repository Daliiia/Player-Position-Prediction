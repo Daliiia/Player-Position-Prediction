{
 "cells": [
  {
   "cell_type": "code",
   "execution_count": 1,
   "id": "7cc1cc5f",
   "metadata": {},
   "outputs": [],
   "source": [
    "import pandas as pd "
   ]
  },
  {
   "cell_type": "code",
   "execution_count": 2,
   "id": "c94d8be8",
   "metadata": {},
   "outputs": [],
   "source": [
    "data=pd.read_csv('finalData/TrainingData.csv')"
   ]
  },
  {
   "cell_type": "code",
   "execution_count": 3,
   "id": "4fcea1c1",
   "metadata": {},
   "outputs": [
    {
     "data": {
      "text/plain": [
       "Index(['MP', 'games_starts', 'minutes', 'goals', 'assists', 'goals_pens',\n",
       "       'pens_made', 'pens_att', 'cards_yellow', 'cards_red',\n",
       "       'cards_yellow_red', 'fouls', 'fouled', 'offsides', 'crosses',\n",
       "       'interceptions', 'tackles_won', 'pens_won', 'pens_conceded',\n",
       "       'main_info', 'country', 'name', 'position', 'month', 'year', 'height',\n",
       "       'weight', 'MP_', 'shooting', 'agressive', 'impulse_degree', 'crossing',\n",
       "       'assisting', 'tackling', 'intercepting', 'power'],\n",
       "      dtype='object')"
      ]
     },
     "execution_count": 3,
     "metadata": {},
     "output_type": "execute_result"
    }
   ],
   "source": [
    "data.columns"
   ]
  },
  {
   "cell_type": "code",
   "execution_count": 4,
   "id": "0aaa18bc",
   "metadata": {},
   "outputs": [
    {
     "data": {
      "text/plain": [
       "(27364, 36)"
      ]
     },
     "execution_count": 4,
     "metadata": {},
     "output_type": "execute_result"
    }
   ],
   "source": [
    "data.shape"
   ]
  },
  {
   "cell_type": "code",
   "execution_count": 5,
   "id": "c2ef06f7",
   "metadata": {},
   "outputs": [
    {
     "name": "stdout",
     "output_type": "stream",
     "text": [
      "<class 'pandas.core.frame.DataFrame'>\n",
      "RangeIndex: 27364 entries, 0 to 27363\n",
      "Data columns (total 36 columns):\n",
      " #   Column            Non-Null Count  Dtype  \n",
      "---  ------            --------------  -----  \n",
      " 0   MP                27364 non-null  float64\n",
      " 1   games_starts      27364 non-null  float64\n",
      " 2   minutes           27364 non-null  float64\n",
      " 3   goals             27364 non-null  float64\n",
      " 4   assists           27364 non-null  float64\n",
      " 5   goals_pens        27364 non-null  float64\n",
      " 6   pens_made         27364 non-null  float64\n",
      " 7   pens_att          27364 non-null  float64\n",
      " 8   cards_yellow      27364 non-null  float64\n",
      " 9   cards_red         27364 non-null  float64\n",
      " 10  cards_yellow_red  27364 non-null  float64\n",
      " 11  fouls             27364 non-null  float64\n",
      " 12  fouled            27364 non-null  float64\n",
      " 13  offsides          27364 non-null  float64\n",
      " 14  crosses           27364 non-null  float64\n",
      " 15  interceptions     27364 non-null  float64\n",
      " 16  tackles_won       27364 non-null  float64\n",
      " 17  pens_won          7064 non-null   float64\n",
      " 18  pens_conceded     7064 non-null   float64\n",
      " 19  main_info         27364 non-null  object \n",
      " 20  country           27364 non-null  object \n",
      " 21  name              27364 non-null  object \n",
      " 22  position          27364 non-null  object \n",
      " 23  month             27364 non-null  object \n",
      " 24  year              27364 non-null  int64  \n",
      " 25  height            27364 non-null  int64  \n",
      " 26  weight            27364 non-null  int64  \n",
      " 27  MP_               27364 non-null  float64\n",
      " 28  shooting          27364 non-null  int64  \n",
      " 29  agressive         27364 non-null  int64  \n",
      " 30  impulse_degree    27364 non-null  int64  \n",
      " 31  crossing          27364 non-null  int64  \n",
      " 32  assisting         27364 non-null  int64  \n",
      " 33  tackling          27364 non-null  int64  \n",
      " 34  intercepting      27364 non-null  int64  \n",
      " 35  power             27364 non-null  int64  \n",
      "dtypes: float64(20), int64(11), object(5)\n",
      "memory usage: 7.5+ MB\n"
     ]
    }
   ],
   "source": [
    "data.info()"
   ]
  },
  {
   "cell_type": "code",
   "execution_count": 6,
   "id": "ec393110",
   "metadata": {},
   "outputs": [],
   "source": [
    "from sklearn.preprocessing import StandardScaler\n",
    "from sklearn.preprocessing import MinMaxScaler"
   ]
  },
  {
   "cell_type": "code",
   "execution_count": 7,
   "id": "5ed66257",
   "metadata": {},
   "outputs": [],
   "source": [
    "scaler=StandardScaler()"
   ]
  },
  {
   "cell_type": "code",
   "execution_count": 8,
   "id": "79aede50",
   "metadata": {},
   "outputs": [
    {
     "data": {
      "text/plain": [
       "Index(['MP', 'games_starts', 'minutes', 'goals', 'assists', 'goals_pens',\n",
       "       'pens_made', 'pens_att', 'cards_yellow', 'cards_red',\n",
       "       'cards_yellow_red', 'fouls', 'fouled', 'offsides', 'crosses',\n",
       "       'interceptions', 'tackles_won', 'pens_won', 'pens_conceded',\n",
       "       'main_info', 'country', 'name', 'position', 'month', 'year', 'height',\n",
       "       'weight', 'MP_', 'shooting', 'agressive', 'impulse_degree', 'crossing',\n",
       "       'assisting', 'tackling', 'intercepting', 'power'],\n",
       "      dtype='object')"
      ]
     },
     "execution_count": 8,
     "metadata": {},
     "output_type": "execute_result"
    }
   ],
   "source": [
    "data.columns"
   ]
  },
  {
   "cell_type": "code",
   "execution_count": 9,
   "id": "936964c5",
   "metadata": {},
   "outputs": [],
   "source": [
    "cols=[ 'height', 'shooting', 'agressive', 'impulse_degree', 'crossing',\n",
    "       'assisting', 'tackling', 'intercepting', 'power']"
   ]
  },
  {
   "cell_type": "code",
   "execution_count": 10,
   "id": "33fafcfd",
   "metadata": {},
   "outputs": [],
   "source": [
    "data[cols]=scaler.fit_transform(data[cols])"
   ]
  },
  {
   "cell_type": "code",
   "execution_count": 11,
   "id": "c14fd35f",
   "metadata": {},
   "outputs": [
    {
     "data": {
      "text/html": [
       "<div>\n",
       "<style scoped>\n",
       "    .dataframe tbody tr th:only-of-type {\n",
       "        vertical-align: middle;\n",
       "    }\n",
       "\n",
       "    .dataframe tbody tr th {\n",
       "        vertical-align: top;\n",
       "    }\n",
       "\n",
       "    .dataframe thead th {\n",
       "        text-align: right;\n",
       "    }\n",
       "</style>\n",
       "<table border=\"1\" class=\"dataframe\">\n",
       "  <thead>\n",
       "    <tr style=\"text-align: right;\">\n",
       "      <th></th>\n",
       "      <th>height</th>\n",
       "      <th>shooting</th>\n",
       "      <th>agressive</th>\n",
       "      <th>impulse_degree</th>\n",
       "      <th>crossing</th>\n",
       "      <th>assisting</th>\n",
       "      <th>tackling</th>\n",
       "      <th>intercepting</th>\n",
       "      <th>power</th>\n",
       "    </tr>\n",
       "  </thead>\n",
       "  <tbody>\n",
       "    <tr>\n",
       "      <th>0</th>\n",
       "      <td>-0.006209</td>\n",
       "      <td>-0.241280</td>\n",
       "      <td>1.315394</td>\n",
       "      <td>-0.555584</td>\n",
       "      <td>-0.497692</td>\n",
       "      <td>0.652629</td>\n",
       "      <td>-1.061546</td>\n",
       "      <td>-0.831934</td>\n",
       "      <td>0.181220</td>\n",
       "    </tr>\n",
       "    <tr>\n",
       "      <th>1</th>\n",
       "      <td>-0.176111</td>\n",
       "      <td>-0.671762</td>\n",
       "      <td>-1.008118</td>\n",
       "      <td>-0.089508</td>\n",
       "      <td>0.841302</td>\n",
       "      <td>0.787804</td>\n",
       "      <td>0.435817</td>\n",
       "      <td>0.087418</td>\n",
       "      <td>-0.454074</td>\n",
       "    </tr>\n",
       "    <tr>\n",
       "      <th>2</th>\n",
       "      <td>0.503498</td>\n",
       "      <td>-0.671762</td>\n",
       "      <td>-1.008118</td>\n",
       "      <td>-0.846881</td>\n",
       "      <td>-0.436829</td>\n",
       "      <td>-0.699113</td>\n",
       "      <td>-0.901114</td>\n",
       "      <td>-0.883009</td>\n",
       "      <td>1.989363</td>\n",
       "    </tr>\n",
       "    <tr>\n",
       "      <th>3</th>\n",
       "      <td>-0.515916</td>\n",
       "      <td>-0.671762</td>\n",
       "      <td>-1.008118</td>\n",
       "      <td>-1.312957</td>\n",
       "      <td>-0.862872</td>\n",
       "      <td>-0.699113</td>\n",
       "      <td>-1.221977</td>\n",
       "      <td>-1.036235</td>\n",
       "      <td>1.989363</td>\n",
       "    </tr>\n",
       "    <tr>\n",
       "      <th>4</th>\n",
       "      <td>0.163693</td>\n",
       "      <td>-0.336943</td>\n",
       "      <td>2.499930</td>\n",
       "      <td>1.308721</td>\n",
       "      <td>-0.802009</td>\n",
       "      <td>-0.248533</td>\n",
       "      <td>0.917112</td>\n",
       "      <td>3.305150</td>\n",
       "      <td>0.621039</td>\n",
       "    </tr>\n",
       "    <tr>\n",
       "      <th>...</th>\n",
       "      <td>...</td>\n",
       "      <td>...</td>\n",
       "      <td>...</td>\n",
       "      <td>...</td>\n",
       "      <td>...</td>\n",
       "      <td>...</td>\n",
       "      <td>...</td>\n",
       "      <td>...</td>\n",
       "      <td>...</td>\n",
       "    </tr>\n",
       "    <tr>\n",
       "      <th>27359</th>\n",
       "      <td>1.013204</td>\n",
       "      <td>-0.480437</td>\n",
       "      <td>-0.370291</td>\n",
       "      <td>0.959163</td>\n",
       "      <td>2.545477</td>\n",
       "      <td>1.193327</td>\n",
       "      <td>0.275385</td>\n",
       "      <td>-0.116883</td>\n",
       "      <td>-0.600680</td>\n",
       "    </tr>\n",
       "    <tr>\n",
       "      <th>27360</th>\n",
       "      <td>-0.346013</td>\n",
       "      <td>-0.671762</td>\n",
       "      <td>-1.008118</td>\n",
       "      <td>-0.963400</td>\n",
       "      <td>-0.680282</td>\n",
       "      <td>-0.699113</td>\n",
       "      <td>-0.901114</td>\n",
       "      <td>-0.780859</td>\n",
       "      <td>1.989363</td>\n",
       "    </tr>\n",
       "    <tr>\n",
       "      <th>27361</th>\n",
       "      <td>-0.346013</td>\n",
       "      <td>-0.671762</td>\n",
       "      <td>-1.008118</td>\n",
       "      <td>-1.312957</td>\n",
       "      <td>-0.862872</td>\n",
       "      <td>-0.699113</td>\n",
       "      <td>-1.221977</td>\n",
       "      <td>-1.036235</td>\n",
       "      <td>1.989363</td>\n",
       "    </tr>\n",
       "    <tr>\n",
       "      <th>27362</th>\n",
       "      <td>-0.515916</td>\n",
       "      <td>-0.671762</td>\n",
       "      <td>-0.461410</td>\n",
       "      <td>-0.846881</td>\n",
       "      <td>2.180296</td>\n",
       "      <td>-0.699113</td>\n",
       "      <td>-0.580251</td>\n",
       "      <td>-0.474408</td>\n",
       "      <td>0.034614</td>\n",
       "    </tr>\n",
       "    <tr>\n",
       "      <th>27363</th>\n",
       "      <td>-0.515916</td>\n",
       "      <td>0.906671</td>\n",
       "      <td>-0.370291</td>\n",
       "      <td>-0.147767</td>\n",
       "      <td>-0.132512</td>\n",
       "      <td>-0.699113</td>\n",
       "      <td>0.061476</td>\n",
       "      <td>-0.525484</td>\n",
       "      <td>-1.920136</td>\n",
       "    </tr>\n",
       "  </tbody>\n",
       "</table>\n",
       "<p>27364 rows × 9 columns</p>\n",
       "</div>"
      ],
      "text/plain": [
       "         height  shooting  agressive  impulse_degree  crossing  assisting  \\\n",
       "0     -0.006209 -0.241280   1.315394       -0.555584 -0.497692   0.652629   \n",
       "1     -0.176111 -0.671762  -1.008118       -0.089508  0.841302   0.787804   \n",
       "2      0.503498 -0.671762  -1.008118       -0.846881 -0.436829  -0.699113   \n",
       "3     -0.515916 -0.671762  -1.008118       -1.312957 -0.862872  -0.699113   \n",
       "4      0.163693 -0.336943   2.499930        1.308721 -0.802009  -0.248533   \n",
       "...         ...       ...        ...             ...       ...        ...   \n",
       "27359  1.013204 -0.480437  -0.370291        0.959163  2.545477   1.193327   \n",
       "27360 -0.346013 -0.671762  -1.008118       -0.963400 -0.680282  -0.699113   \n",
       "27361 -0.346013 -0.671762  -1.008118       -1.312957 -0.862872  -0.699113   \n",
       "27362 -0.515916 -0.671762  -0.461410       -0.846881  2.180296  -0.699113   \n",
       "27363 -0.515916  0.906671  -0.370291       -0.147767 -0.132512  -0.699113   \n",
       "\n",
       "       tackling  intercepting     power  \n",
       "0     -1.061546     -0.831934  0.181220  \n",
       "1      0.435817      0.087418 -0.454074  \n",
       "2     -0.901114     -0.883009  1.989363  \n",
       "3     -1.221977     -1.036235  1.989363  \n",
       "4      0.917112      3.305150  0.621039  \n",
       "...         ...           ...       ...  \n",
       "27359  0.275385     -0.116883 -0.600680  \n",
       "27360 -0.901114     -0.780859  1.989363  \n",
       "27361 -1.221977     -1.036235  1.989363  \n",
       "27362 -0.580251     -0.474408  0.034614  \n",
       "27363  0.061476     -0.525484 -1.920136  \n",
       "\n",
       "[27364 rows x 9 columns]"
      ]
     },
     "execution_count": 11,
     "metadata": {},
     "output_type": "execute_result"
    }
   ],
   "source": [
    "data[cols]"
   ]
  },
  {
   "cell_type": "code",
   "execution_count": 12,
   "id": "43274cde",
   "metadata": {},
   "outputs": [],
   "source": [
    "y=data['position']"
   ]
  },
  {
   "cell_type": "code",
   "execution_count": 13,
   "id": "31d7201c",
   "metadata": {},
   "outputs": [],
   "source": [
    "y=y.map({'FW':0,'MF':1,'DF':2})"
   ]
  },
  {
   "cell_type": "code",
   "execution_count": 14,
   "id": "dd11661d",
   "metadata": {},
   "outputs": [
    {
     "data": {
      "text/plain": [
       "Index(['MP', 'games_starts', 'minutes', 'goals', 'assists', 'goals_pens',\n",
       "       'pens_made', 'pens_att', 'cards_yellow', 'cards_red',\n",
       "       'cards_yellow_red', 'fouls', 'fouled', 'offsides', 'crosses',\n",
       "       'interceptions', 'tackles_won', 'pens_won', 'pens_conceded',\n",
       "       'main_info', 'country', 'name', 'position', 'month', 'year', 'height',\n",
       "       'weight', 'MP_', 'shooting', 'agressive', 'impulse_degree', 'crossing',\n",
       "       'assisting', 'tackling', 'intercepting', 'power'],\n",
       "      dtype='object')"
      ]
     },
     "execution_count": 14,
     "metadata": {},
     "output_type": "execute_result"
    }
   ],
   "source": [
    "data.columns"
   ]
  },
  {
   "cell_type": "code",
   "execution_count": 15,
   "id": "14b749da",
   "metadata": {},
   "outputs": [],
   "source": [
    "X=data.drop(['MP', 'games_starts', 'minutes', 'goals', 'assists', 'goals_pens',\n",
    "       'pens_made', 'pens_att', 'cards_yellow', 'cards_red',\n",
    "       'cards_yellow_red', 'fouls', 'fouled', 'offsides', 'crosses',\n",
    "       'interceptions', 'tackles_won', 'pens_won', 'pens_conceded',\n",
    "       'main_info', 'country', 'name', 'month', 'year', 'position',\n",
    "       'weight', 'MP_'],axis=1)"
   ]
  },
  {
   "cell_type": "code",
   "execution_count": 16,
   "id": "6df3269f",
   "metadata": {},
   "outputs": [
    {
     "data": {
      "text/plain": [
       "Index(['height', 'shooting', 'agressive', 'impulse_degree', 'crossing',\n",
       "       'assisting', 'tackling', 'intercepting', 'power'],\n",
       "      dtype='object')"
      ]
     },
     "execution_count": 16,
     "metadata": {},
     "output_type": "execute_result"
    }
   ],
   "source": [
    "X.columns"
   ]
  },
  {
   "cell_type": "code",
   "execution_count": 17,
   "id": "1d2e3b48",
   "metadata": {},
   "outputs": [],
   "source": [
    "from matplotlib import pyplot as plt\n",
    "import seaborn as sns\n",
    "import numpy as np"
   ]
  },
  {
   "cell_type": "code",
   "execution_count": 18,
   "id": "959f275a",
   "metadata": {},
   "outputs": [
    {
     "name": "stderr",
     "output_type": "stream",
     "text": [
      "C:\\Users\\DELL\\anaconda3\\lib\\site-packages\\seaborn\\_decorators.py:36: FutureWarning: Pass the following variables as keyword args: x, y. From version 0.12, the only valid positional argument will be `data`, and passing other arguments without an explicit keyword will result in an error or misinterpretation.\n",
      "  warnings.warn(\n"
     ]
    },
    {
     "data": {
      "text/plain": [
       "<AxesSubplot:>"
      ]
     },
     "execution_count": 18,
     "metadata": {},
     "output_type": "execute_result"
    },
    {
     "data": {
      "image/png": "[encoded data removed]",
      "text/plain": [
       "<Figure size 432x288 with 1 Axes>"
      ]
     },
     "metadata": {
      "needs_background": "light"
     },
     "output_type": "display_data"
    }
   ],
   "source": [
    "sns.barplot(y.value_counts().index,y.value_counts().values)"
   ]
  },
  {
   "cell_type": "code",
   "execution_count": 19,
   "id": "3067e87b",
   "metadata": {},
   "outputs": [],
   "source": [
    "from imblearn.over_sampling import SMOTE "
   ]
  },
  {
   "cell_type": "code",
   "execution_count": 20,
   "id": "1b1b9e14",
   "metadata": {},
   "outputs": [],
   "source": [
    "resampler=SMOTE()"
   ]
  },
  {
   "cell_type": "code",
   "execution_count": 21,
   "id": "5b4db911",
   "metadata": {},
   "outputs": [],
   "source": [
    "X,y=resampler.fit_resample(X,y)"
   ]
  },
  {
   "cell_type": "code",
   "execution_count": 22,
   "id": "66438e6d",
   "metadata": {},
   "outputs": [],
   "source": [
    "from sklearn.model_selection import train_test_split"
   ]
  },
  {
   "cell_type": "code",
   "execution_count": 23,
   "id": "3e029d12",
   "metadata": {},
   "outputs": [],
   "source": [
    "X_train, X_test, y_train, y_test = train_test_split(X, y, test_size=0.33, random_state=42,stratify=y)"
   ]
  },
  {
   "cell_type": "code",
   "execution_count": 24,
   "id": "a159bba7",
   "metadata": {},
   "outputs": [],
   "source": [
    "from sklearn.linear_model import LogisticRegression\n",
    "from sklearn import svm\n",
    "from sklearn.neighbors import KNeighborsClassifier\n",
    "from sklearn import tree\n",
    "from sklearn.ensemble import RandomForestClassifier\n",
    "import xgboost"
   ]
  },
  {
   "cell_type": "code",
   "execution_count": 25,
   "id": "297c71b9",
   "metadata": {},
   "outputs": [],
   "source": [
    "models=[LogisticRegression(),svm.SVC(),KNeighborsClassifier(),tree.DecisionTreeClassifier(),RandomForestClassifier(),xgboost.XGBClassifier()]"
   ]
  },
  {
   "cell_type": "code",
   "execution_count": 26,
   "id": "eca8c160",
   "metadata": {},
   "outputs": [],
   "source": [
    "from sklearn.metrics import accuracy_score"
   ]
  },
  {
   "cell_type": "code",
   "execution_count": 27,
   "id": "d9f98532",
   "metadata": {},
   "outputs": [
    {
     "name": "stdout",
     "output_type": "stream",
     "text": [
      "LogisticRegression()\n",
      "Training score: 73.20722202639722\n",
      "Testing score: 73.39376590330788\n",
      "SVC()\n",
      "Training score: 82.9005600595308\n",
      "Testing score: 81.99745547073792\n",
      "KNeighborsClassifier()\n",
      "Training score: 87.80401832922101\n",
      "Testing score: 82.92779898218829\n",
      "DecisionTreeClassifier()\n",
      "Training score: 99.48693847178161\n",
      "Testing score: 80.7808524173028\n",
      "RandomForestClassifier()\n",
      "Training score: 99.48693847178161\n",
      "Testing score: 87.40458015267176\n",
      "XGBClassifier(base_score=0.5, booster='gbtree', callbacks=None,\n",
      "              colsample_bylevel=1, colsample_bynode=1, colsample_bytree=1,\n",
      "              early_stopping_rounds=None, enable_categorical=False,\n",
      "              eval_metric=None, gamma=0, gpu_id=-1, grow_policy='depthwise',\n",
      "              importance_type=None, interaction_constraints='',\n",
      "              learning_rate=0.300000012, max_bin=256, max_cat_to_onehot=4,\n",
      "              max_delta_step=0, max_depth=6, max_leaves=0, min_child_weight=1,\n",
      "              missing=nan, monotone_constraints='()', n_estimators=100,\n",
      "              n_jobs=0, num_parallel_tree=1, objective='multi:softprob',\n",
      "              predictor='auto', random_state=0, reg_alpha=0, ...)\n",
      "Training score: 94.41898719304429\n",
      "Testing score: 87.73059796437659\n"
     ]
    }
   ],
   "source": [
    "train_scores=[]\n",
    "test_scores=[]\n",
    "for model in models:\n",
    "    model.fit(X_train,y_train)\n",
    "    y_pred=model.predict(X_train)\n",
    "    print(model)\n",
    "    print(f'Training score: {accuracy_score(y_train,y_pred)*100}' )\n",
    "    train_scores.append(accuracy_score(y_train,y_pred)*100)\n",
    "    y_pred=model.predict(X_test)\n",
    "    print(f'Testing score: {accuracy_score(y_test,y_pred)*100}' )\n",
    "    test_scores.append(accuracy_score(y_test,y_pred)*100)\n",
    "    "
   ]
  },
  {
   "cell_type": "code",
   "execution_count": 28,
   "id": "af9e74f8",
   "metadata": {},
   "outputs": [
    {
     "data": {
      "text/plain": [
       "2    12703\n",
       "0    12703\n",
       "1    12703\n",
       "Name: position, dtype: int64"
      ]
     },
     "execution_count": 28,
     "metadata": {},
     "output_type": "execute_result"
    }
   ],
   "source": [
    "y.value_counts()"
   ]
  },
  {
   "cell_type": "code",
   "execution_count": 29,
   "id": "afba88d5",
   "metadata": {},
   "outputs": [
    {
     "data": {
      "image/png": "[encoded data removed]",
      "text/plain": [
       "<Figure size 432x288 with 1 Axes>"
      ]
     },
     "metadata": {
      "needs_background": "light"
     },
     "output_type": "display_data"
    }
   ],
   "source": [
    "labels=['LogisticRegression','SVM','KNN','DecisionTree','RandomForest','XGboost']\n",
    "x=np.arange(len(labels))\n",
    "fig, ax = plt.subplots()\n",
    "rects1 = ax.bar(x - 0.35/2, test_scores, 0.35, label='Test')\n",
    "rects2 = ax.bar(x + 0.35/2, train_scores, 0.35, label='Train')\n",
    "\n",
    "# Add some text for labels, title and custom x-axis tick labels, etc.\n",
    "ax.set_ylabel('Scores')\n",
    "ax.set_title('Scores of training and testing ')\n",
    "ax.set_xticks(x)\n",
    "ax.set_xticklabels(labels)\n",
    "plt.xticks(rotation=10)\n",
    "ax.legend()\n",
    "plt.savefig('model.png')"
   ]
  },
  {
   "cell_type": "code",
   "execution_count": 136,
   "id": "87b0ee2e",
   "metadata": {},
   "outputs": [],
   "source": [
    "from sklearn.model_selection import RandomizedSearchCV\n",
    "from sklearn.model_selection import GridSearchCV"
   ]
  },
  {
   "cell_type": "code",
   "execution_count": 137,
   "id": "3b1ca5f9",
   "metadata": {},
   "outputs": [],
   "source": [
    "distributions={\n",
    "        'learning_rate':[0.05,0.10,0.15,0.20],\n",
    "        'max_depth': [20,25,30,40],\n",
    "        'gamma':[1,2,4,6,8,9],\n",
    "        \"colsample_bytree\":[0.3,0.4,0.5,0.7],\n",
    "        'reg_alpha':[0,1,2,3],\n",
    "        'reg_lambda':[2,3,4,5,6],\n",
    "        'n_estimators':[100,200,400,500]\n",
    "    \n",
    "}"
   ]
  },
  {
   "cell_type": "code",
   "execution_count": 139,
   "id": "30bf55ec",
   "metadata": {},
   "outputs": [],
   "source": [
    "clf=RandomizedSearchCV(xgboost.XGBClassifier(),distributions)"
   ]
  },
  {
   "cell_type": "code",
   "execution_count": 140,
   "id": "44a133ad",
   "metadata": {},
   "outputs": [],
   "source": [
    "search=clf.fit(X,y)"
   ]
  },
  {
   "cell_type": "code",
   "execution_count": 141,
   "id": "e1c412d5",
   "metadata": {},
   "outputs": [
    {
     "data": {
      "text/plain": [
       "0.8770903335054765"
      ]
     },
     "execution_count": 141,
     "metadata": {},
     "output_type": "execute_result"
    }
   ],
   "source": [
    "search.best_score_"
   ]
  },
  {
   "cell_type": "code",
   "execution_count": 142,
   "id": "27950989",
   "metadata": {},
   "outputs": [
    {
     "data": {
      "text/plain": [
       "{'reg_lambda': 3,\n",
       " 'reg_alpha': 2,\n",
       " 'n_estimators': 200,\n",
       " 'max_depth': 25,\n",
       " 'learning_rate': 0.15,\n",
       " 'gamma': 2,\n",
       " 'colsample_bytree': 0.7}"
      ]
     },
     "execution_count": 142,
     "metadata": {},
     "output_type": "execute_result"
    }
   ],
   "source": [
    "search.best_params_"
   ]
  },
  {
   "cell_type": "code",
   "execution_count": 143,
   "id": "c8104a57",
   "metadata": {},
   "outputs": [],
   "source": [
    "model=search.best_estimator_"
   ]
  },
  {
   "cell_type": "code",
   "execution_count": 144,
   "id": "851a7c24",
   "metadata": {},
   "outputs": [
    {
     "data": {
      "text/html": [
       "<style>#sk-container-id-24 {color: black;background-color: white;}#sk-container-id-24 pre{padding: 0;}#sk-container-id-24 div.sk-toggleable {background-color: white;}#sk-container-id-24 label.sk-toggleable__label {cursor: pointer;display: block;width: 100%;margin-bottom: 0;padding: 0.3em;box-sizing: border-box;text-align: center;}#sk-container-id-24 label.sk-toggleable__label-arrow:before {content: \"▸\";float: left;margin-right: 0.25em;color: #696969;}#sk-container-id-24 label.sk-toggleable__label-arrow:hover:before {color: black;}#sk-container-id-24 div.sk-estimator:hover label.sk-toggleable__label-arrow:before {color: black;}#sk-container-id-24 div.sk-toggleable__content {max-height: 0;max-width: 0;overflow: hidden;text-align: left;background-color: #f0f8ff;}#sk-container-id-24 div.sk-toggleable__content pre {margin: 0.2em;color: black;border-radius: 0.25em;background-color: #f0f8ff;}#sk-container-id-24 input.sk-toggleable__control:checked~div.sk-toggleable__content {max-height: 200px;max-width: 100%;overflow: auto;}#sk-container-id-24 input.sk-toggleable__control:checked~label.sk-toggleable__label-arrow:before {content: \"▾\";}#sk-container-id-24 div.sk-estimator input.sk-toggleable__control:checked~label.sk-toggleable__label {background-color: #d4ebff;}#sk-container-id-24 div.sk-label input.sk-toggleable__control:checked~label.sk-toggleable__label {background-color: #d4ebff;}#sk-container-id-24 input.sk-hidden--visually {border: 0;clip: rect(1px 1px 1px 1px);clip: rect(1px, 1px, 1px, 1px);height: 1px;margin: -1px;overflow: hidden;padding: 0;position: absolute;width: 1px;}#sk-container-id-24 div.sk-estimator {font-family: monospace;background-color: #f0f8ff;border: 1px dotted black;border-radius: 0.25em;box-sizing: border-box;margin-bottom: 0.5em;}#sk-container-id-24 div.sk-estimator:hover {background-color: #d4ebff;}#sk-container-id-24 div.sk-parallel-item::after {content: \"\";width: 100%;border-bottom: 1px solid gray;flex-grow: 1;}#sk-container-id-24 div.sk-label:hover label.sk-toggleable__label {background-color: #d4ebff;}#sk-container-id-24 div.sk-serial::before {content: \"\";position: absolute;border-left: 1px solid gray;box-sizing: border-box;top: 0;bottom: 0;left: 50%;z-index: 0;}#sk-container-id-24 div.sk-serial {display: flex;flex-direction: column;align-items: center;background-color: white;padding-right: 0.2em;padding-left: 0.2em;position: relative;}#sk-container-id-24 div.sk-item {position: relative;z-index: 1;}#sk-container-id-24 div.sk-parallel {display: flex;align-items: stretch;justify-content: center;background-color: white;position: relative;}#sk-container-id-24 div.sk-item::before, #sk-container-id-24 div.sk-parallel-item::before {content: \"\";position: absolute;border-left: 1px solid gray;box-sizing: border-box;top: 0;bottom: 0;left: 50%;z-index: -1;}#sk-container-id-24 div.sk-parallel-item {display: flex;flex-direction: column;z-index: 1;position: relative;background-color: white;}#sk-container-id-24 div.sk-parallel-item:first-child::after {align-self: flex-end;width: 50%;}#sk-container-id-24 div.sk-parallel-item:last-child::after {align-self: flex-start;width: 50%;}#sk-container-id-24 div.sk-parallel-item:only-child::after {width: 0;}#sk-container-id-24 div.sk-dashed-wrapped {border: 1px dashed gray;margin: 0 0.4em 0.5em 0.4em;box-sizing: border-box;padding-bottom: 0.4em;background-color: white;}#sk-container-id-24 div.sk-label label {font-family: monospace;font-weight: bold;display: inline-block;line-height: 1.2em;}#sk-container-id-24 div.sk-label-container {text-align: center;}#sk-container-id-24 div.sk-container {/* jupyter's `normalize.less` sets `[hidden] { display: none; }` but bootstrap.min.css set `[hidden] { display: none !important; }` so we also need the `!important` here to be able to override the default hidden behavior on the sphinx rendered scikit-learn.org. See: https://github.com/scikit-learn/scikit-learn/issues/21755 */display: inline-block !important;position: relative;}#sk-container-id-24 div.sk-text-repr-fallback {display: none;}</style><div id=\"sk-container-id-24\" class=\"sk-top-container\"><div class=\"sk-text-repr-fallback\"><pre>XGBClassifier(base_score=0.5, booster=&#x27;gbtree&#x27;, callbacks=None,\n",
       "              colsample_bylevel=1, colsample_bynode=1, colsample_bytree=0.7,\n",
       "              early_stopping_rounds=None, enable_categorical=False,\n",
       "              eval_metric=None, gamma=2, gpu_id=-1, grow_policy=&#x27;depthwise&#x27;,\n",
       "              importance_type=None, interaction_constraints=&#x27;&#x27;,\n",
       "              learning_rate=0.15, max_bin=256, max_cat_to_onehot=4,\n",
       "              max_delta_step=0, max_depth=25, max_leaves=0, min_child_weight=1,\n",
       "              missing=nan, monotone_constraints=&#x27;()&#x27;, n_estimators=200,\n",
       "              n_jobs=0, num_parallel_tree=1, objective=&#x27;multi:softprob&#x27;,\n",
       "              predictor=&#x27;auto&#x27;, random_state=0, reg_alpha=2, ...)</pre><b>In a Jupyter environment, please rerun this cell to show the HTML representation or trust the notebook. <br />On GitHub, the HTML representation is unable to render, please try loading this page with nbviewer.org.</b></div><div class=\"sk-container\" hidden><div class=\"sk-item\"><div class=\"sk-estimator sk-toggleable\"><input class=\"sk-toggleable__control sk-hidden--visually\" id=\"sk-estimator-id-24\" type=\"checkbox\" checked><label for=\"sk-estimator-id-24\" class=\"sk-toggleable__label sk-toggleable__label-arrow\">XGBClassifier</label><div class=\"sk-toggleable__content\"><pre>XGBClassifier(base_score=0.5, booster=&#x27;gbtree&#x27;, callbacks=None,\n",
       "              colsample_bylevel=1, colsample_bynode=1, colsample_bytree=0.7,\n",
       "              early_stopping_rounds=None, enable_categorical=False,\n",
       "              eval_metric=None, gamma=2, gpu_id=-1, grow_policy=&#x27;depthwise&#x27;,\n",
       "              importance_type=None, interaction_constraints=&#x27;&#x27;,\n",
       "              learning_rate=0.15, max_bin=256, max_cat_to_onehot=4,\n",
       "              max_delta_step=0, max_depth=25, max_leaves=0, min_child_weight=1,\n",
       "              missing=nan, monotone_constraints=&#x27;()&#x27;, n_estimators=200,\n",
       "              n_jobs=0, num_parallel_tree=1, objective=&#x27;multi:softprob&#x27;,\n",
       "              predictor=&#x27;auto&#x27;, random_state=0, reg_alpha=2, ...)</pre></div></div></div></div></div>"
      ],
      "text/plain": [
       "XGBClassifier(base_score=0.5, booster='gbtree', callbacks=None,\n",
       "              colsample_bylevel=1, colsample_bynode=1, colsample_bytree=0.7,\n",
       "              early_stopping_rounds=None, enable_categorical=False,\n",
       "              eval_metric=None, gamma=2, gpu_id=-1, grow_policy='depthwise',\n",
       "              importance_type=None, interaction_constraints='',\n",
       "              learning_rate=0.15, max_bin=256, max_cat_to_onehot=4,\n",
       "              max_delta_step=0, max_depth=25, max_leaves=0, min_child_weight=1,\n",
       "              missing=nan, monotone_constraints='()', n_estimators=200,\n",
       "              n_jobs=0, num_parallel_tree=1, objective='multi:softprob',\n",
       "              predictor='auto', random_state=0, reg_alpha=2, ...)"
      ]
     },
     "execution_count": 144,
     "metadata": {},
     "output_type": "execute_result"
    }
   ],
   "source": [
    "model.fit(X_train,y_train)"
   ]
  },
  {
   "cell_type": "code",
   "execution_count": 145,
   "id": "c805f15c",
   "metadata": {},
   "outputs": [],
   "source": [
    "y_pred=model.predict(X_test)"
   ]
  },
  {
   "cell_type": "code",
   "execution_count": 146,
   "id": "675176e5",
   "metadata": {},
   "outputs": [
    {
     "data": {
      "text/plain": [
       "array([0.11929449, 0.11110966, 0.05652077, 0.1047323 , 0.08403137,\n",
       "       0.0615898 , 0.07177262, 0.28366405, 0.10728488], dtype=float32)"
      ]
     },
     "execution_count": 146,
     "metadata": {},
     "output_type": "execute_result"
    }
   ],
   "source": [
    "model.feature_importances_"
   ]
  },
  {
   "cell_type": "code",
   "execution_count": 147,
   "id": "dbb5bf19",
   "metadata": {},
   "outputs": [
    {
     "data": {
      "text/plain": [
       "['height',\n",
       " 'shooting',\n",
       " 'agressive',\n",
       " 'impulse_degree',\n",
       " 'crossing',\n",
       " 'assisting',\n",
       " 'tackling',\n",
       " 'intercepting',\n",
       " 'power']"
      ]
     },
     "execution_count": 147,
     "metadata": {},
     "output_type": "execute_result"
    }
   ],
   "source": [
    "cols"
   ]
  },
  {
   "cell_type": "code",
   "execution_count": 149,
   "id": "097e1e8b",
   "metadata": {},
   "outputs": [],
   "source": [
    "from sklearn.metrics import confusion_matrix, ConfusionMatrixDisplay"
   ]
  },
  {
   "cell_type": "code",
   "execution_count": 150,
   "id": "72840a4c",
   "metadata": {},
   "outputs": [
    {
     "data": {
      "text/plain": [
       "<sklearn.metrics._plot.confusion_matrix.ConfusionMatrixDisplay at 0x1bfdc9050a0>"
      ]
     },
     "execution_count": 150,
     "metadata": {},
     "output_type": "execute_result"
    },
    {
     "data": {
      "image/png": "[encoded data removed]",
      "text/plain": [
       "<Figure size 432x288 with 2 Axes>"
      ]
     },
     "metadata": {
      "needs_background": "light"
     },
     "output_type": "display_data"
    }
   ],
   "source": [
    "cm=confusion_matrix(y_test,y_pred,labels=model.classes_)\n",
    "disp = ConfusionMatrixDisplay(confusion_matrix=cm, display_labels=model.classes_)\n",
    "disp.plot()"
   ]
  },
  {
   "cell_type": "code",
   "execution_count": 151,
   "id": "e918b135",
   "metadata": {},
   "outputs": [],
   "source": [
    "from sklearn.metrics import classification_report"
   ]
  },
  {
   "cell_type": "code",
   "execution_count": 152,
   "id": "242cea7b",
   "metadata": {},
   "outputs": [
    {
     "name": "stdout",
     "output_type": "stream",
     "text": [
      "              precision    recall  f1-score   support\n",
      "\n",
      "           0       0.90      0.91      0.90      4192\n",
      "           1       0.84      0.84      0.84      4192\n",
      "           2       0.90      0.90      0.90      4192\n",
      "\n",
      "    accuracy                           0.88     12576\n",
      "   macro avg       0.88      0.88      0.88     12576\n",
      "weighted avg       0.88      0.88      0.88     12576\n",
      "\n"
     ]
    }
   ],
   "source": [
    "print(classification_report(y_test,y_pred))"
   ]
  },
  {
   "cell_type": "code",
   "execution_count": 153,
   "id": "72c24d1c",
   "metadata": {},
   "outputs": [],
   "source": [
    "from sklearn.model_selection import cross_validate"
   ]
  },
  {
   "cell_type": "code",
   "execution_count": 154,
   "id": "0d0e101c",
   "metadata": {},
   "outputs": [
    {
     "data": {
      "text/plain": [
       "{'fit_time': array([51.22700191, 63.00304961, 91.79099154, 75.58590746, 56.15662766,\n",
       "        59.83116102, 53.99252391, 64.35908484, 58.83141208, 46.75700474]),\n",
       " 'score_time': array([0.048002  , 0.05300093, 0.05700231, 0.05200028, 0.05400062,\n",
       "        0.16700959, 0.0539999 , 0.08499885, 0.07400608, 0.05298948]),\n",
       " 'test_score': array([0.85122015, 0.85017056, 0.85410653, 0.85673052, 0.85384414,\n",
       "        0.88087116, 0.91235896, 0.91865652, 0.9220677 , 0.91732283]),\n",
       " 'train_score': array([0.93253251, 0.93419441, 0.93186192, 0.93326141, 0.93311563,\n",
       "        0.93066651, 0.92608898, 0.92658464, 0.92667211, 0.92673256])}"
      ]
     },
     "execution_count": 154,
     "metadata": {},
     "output_type": "execute_result"
    }
   ],
   "source": [
    "cv_results = cross_validate(model,X, y, cv = 10, scoring = 'accuracy',return_train_score=True)\n",
    "cv_results"
   ]
  },
  {
   "cell_type": "code",
   "execution_count": 155,
   "id": "ec03bd5c",
   "metadata": {},
   "outputs": [
    {
     "data": {
      "text/html": [
       "<style>#sk-container-id-25 {color: black;background-color: white;}#sk-container-id-25 pre{padding: 0;}#sk-container-id-25 div.sk-toggleable {background-color: white;}#sk-container-id-25 label.sk-toggleable__label {cursor: pointer;display: block;width: 100%;margin-bottom: 0;padding: 0.3em;box-sizing: border-box;text-align: center;}#sk-container-id-25 label.sk-toggleable__label-arrow:before {content: \"▸\";float: left;margin-right: 0.25em;color: #696969;}#sk-container-id-25 label.sk-toggleable__label-arrow:hover:before {color: black;}#sk-container-id-25 div.sk-estimator:hover label.sk-toggleable__label-arrow:before {color: black;}#sk-container-id-25 div.sk-toggleable__content {max-height: 0;max-width: 0;overflow: hidden;text-align: left;background-color: #f0f8ff;}#sk-container-id-25 div.sk-toggleable__content pre {margin: 0.2em;color: black;border-radius: 0.25em;background-color: #f0f8ff;}#sk-container-id-25 input.sk-toggleable__control:checked~div.sk-toggleable__content {max-height: 200px;max-width: 100%;overflow: auto;}#sk-container-id-25 input.sk-toggleable__control:checked~label.sk-toggleable__label-arrow:before {content: \"▾\";}#sk-container-id-25 div.sk-estimator input.sk-toggleable__control:checked~label.sk-toggleable__label {background-color: #d4ebff;}#sk-container-id-25 div.sk-label input.sk-toggleable__control:checked~label.sk-toggleable__label {background-color: #d4ebff;}#sk-container-id-25 input.sk-hidden--visually {border: 0;clip: rect(1px 1px 1px 1px);clip: rect(1px, 1px, 1px, 1px);height: 1px;margin: -1px;overflow: hidden;padding: 0;position: absolute;width: 1px;}#sk-container-id-25 div.sk-estimator {font-family: monospace;background-color: #f0f8ff;border: 1px dotted black;border-radius: 0.25em;box-sizing: border-box;margin-bottom: 0.5em;}#sk-container-id-25 div.sk-estimator:hover {background-color: #d4ebff;}#sk-container-id-25 div.sk-parallel-item::after {content: \"\";width: 100%;border-bottom: 1px solid gray;flex-grow: 1;}#sk-container-id-25 div.sk-label:hover label.sk-toggleable__label {background-color: #d4ebff;}#sk-container-id-25 div.sk-serial::before {content: \"\";position: absolute;border-left: 1px solid gray;box-sizing: border-box;top: 0;bottom: 0;left: 50%;z-index: 0;}#sk-container-id-25 div.sk-serial {display: flex;flex-direction: column;align-items: center;background-color: white;padding-right: 0.2em;padding-left: 0.2em;position: relative;}#sk-container-id-25 div.sk-item {position: relative;z-index: 1;}#sk-container-id-25 div.sk-parallel {display: flex;align-items: stretch;justify-content: center;background-color: white;position: relative;}#sk-container-id-25 div.sk-item::before, #sk-container-id-25 div.sk-parallel-item::before {content: \"\";position: absolute;border-left: 1px solid gray;box-sizing: border-box;top: 0;bottom: 0;left: 50%;z-index: -1;}#sk-container-id-25 div.sk-parallel-item {display: flex;flex-direction: column;z-index: 1;position: relative;background-color: white;}#sk-container-id-25 div.sk-parallel-item:first-child::after {align-self: flex-end;width: 50%;}#sk-container-id-25 div.sk-parallel-item:last-child::after {align-self: flex-start;width: 50%;}#sk-container-id-25 div.sk-parallel-item:only-child::after {width: 0;}#sk-container-id-25 div.sk-dashed-wrapped {border: 1px dashed gray;margin: 0 0.4em 0.5em 0.4em;box-sizing: border-box;padding-bottom: 0.4em;background-color: white;}#sk-container-id-25 div.sk-label label {font-family: monospace;font-weight: bold;display: inline-block;line-height: 1.2em;}#sk-container-id-25 div.sk-label-container {text-align: center;}#sk-container-id-25 div.sk-container {/* jupyter's `normalize.less` sets `[hidden] { display: none; }` but bootstrap.min.css set `[hidden] { display: none !important; }` so we also need the `!important` here to be able to override the default hidden behavior on the sphinx rendered scikit-learn.org. See: https://github.com/scikit-learn/scikit-learn/issues/21755 */display: inline-block !important;position: relative;}#sk-container-id-25 div.sk-text-repr-fallback {display: none;}</style><div id=\"sk-container-id-25\" class=\"sk-top-container\"><div class=\"sk-text-repr-fallback\"><pre>XGBClassifier(base_score=0.5, booster=&#x27;gbtree&#x27;, callbacks=None,\n",
       "              colsample_bylevel=1, colsample_bynode=1, colsample_bytree=0.7,\n",
       "              early_stopping_rounds=None, enable_categorical=False,\n",
       "              eval_metric=None, gamma=2, gpu_id=-1, grow_policy=&#x27;depthwise&#x27;,\n",
       "              importance_type=None, interaction_constraints=&#x27;&#x27;,\n",
       "              learning_rate=0.15, max_bin=256, max_cat_to_onehot=4,\n",
       "              max_delta_step=0, max_depth=25, max_leaves=0, min_child_weight=1,\n",
       "              missing=nan, monotone_constraints=&#x27;()&#x27;, n_estimators=200,\n",
       "              n_jobs=0, num_parallel_tree=1, objective=&#x27;multi:softprob&#x27;,\n",
       "              predictor=&#x27;auto&#x27;, random_state=0, reg_alpha=2, ...)</pre><b>In a Jupyter environment, please rerun this cell to show the HTML representation or trust the notebook. <br />On GitHub, the HTML representation is unable to render, please try loading this page with nbviewer.org.</b></div><div class=\"sk-container\" hidden><div class=\"sk-item\"><div class=\"sk-estimator sk-toggleable\"><input class=\"sk-toggleable__control sk-hidden--visually\" id=\"sk-estimator-id-25\" type=\"checkbox\" checked><label for=\"sk-estimator-id-25\" class=\"sk-toggleable__label sk-toggleable__label-arrow\">XGBClassifier</label><div class=\"sk-toggleable__content\"><pre>XGBClassifier(base_score=0.5, booster=&#x27;gbtree&#x27;, callbacks=None,\n",
       "              colsample_bylevel=1, colsample_bynode=1, colsample_bytree=0.7,\n",
       "              early_stopping_rounds=None, enable_categorical=False,\n",
       "              eval_metric=None, gamma=2, gpu_id=-1, grow_policy=&#x27;depthwise&#x27;,\n",
       "              importance_type=None, interaction_constraints=&#x27;&#x27;,\n",
       "              learning_rate=0.15, max_bin=256, max_cat_to_onehot=4,\n",
       "              max_delta_step=0, max_depth=25, max_leaves=0, min_child_weight=1,\n",
       "              missing=nan, monotone_constraints=&#x27;()&#x27;, n_estimators=200,\n",
       "              n_jobs=0, num_parallel_tree=1, objective=&#x27;multi:softprob&#x27;,\n",
       "              predictor=&#x27;auto&#x27;, random_state=0, reg_alpha=2, ...)</pre></div></div></div></div></div>"
      ],
      "text/plain": [
       "XGBClassifier(base_score=0.5, booster='gbtree', callbacks=None,\n",
       "              colsample_bylevel=1, colsample_bynode=1, colsample_bytree=0.7,\n",
       "              early_stopping_rounds=None, enable_categorical=False,\n",
       "              eval_metric=None, gamma=2, gpu_id=-1, grow_policy='depthwise',\n",
       "              importance_type=None, interaction_constraints='',\n",
       "              learning_rate=0.15, max_bin=256, max_cat_to_onehot=4,\n",
       "              max_delta_step=0, max_depth=25, max_leaves=0, min_child_weight=1,\n",
       "              missing=nan, monotone_constraints='()', n_estimators=200,\n",
       "              n_jobs=0, num_parallel_tree=1, objective='multi:softprob',\n",
       "              predictor='auto', random_state=0, reg_alpha=2, ...)"
      ]
     },
     "execution_count": 155,
     "metadata": {},
     "output_type": "execute_result"
    }
   ],
   "source": [
    "model.fit(X,y)"
   ]
  },
  {
   "cell_type": "code",
   "execution_count": 156,
   "id": "8f3868cb",
   "metadata": {},
   "outputs": [],
   "source": [
    "import joblib"
   ]
  },
  {
   "cell_type": "code",
   "execution_count": 159,
   "id": "12c05e29",
   "metadata": {},
   "outputs": [
    {
     "data": {
      "text/plain": [
       "['FinalModel.sav']"
      ]
     },
     "execution_count": 159,
     "metadata": {},
     "output_type": "execute_result"
    }
   ],
   "source": [
    "joblib.dump(m,'FinalModel.sav')"
   ]
  },
  {
   "cell_type": "code",
   "execution_count": 160,
   "id": "7bacd820",
   "metadata": {},
   "outputs": [
    {
     "data": {
      "text/plain": [
       "['scaler.sav']"
      ]
     },
     "execution_count": 160,
     "metadata": {},
     "output_type": "execute_result"
    }
   ],
   "source": [
    "joblib.dump(scaler,'scaler.sav')"
   ]
  }
 ],
 "metadata": {
  "kernelspec": {
   "display_name": "Python 3 (ipykernel)",
   "language": "python",
   "name": "python3"
  },
  "language_info": {
   "codemirror_mode": {
    "name": "ipython",
    "version": 3
   },
   "file_extension": ".py",
   "mimetype": "text/x-python",
   "name": "python",
   "nbconvert_exporter": "python",
   "pygments_lexer": "ipython3",
   "version": "3.9.7"
  }
 },
 "nbformat": 4,
 "nbformat_minor": 5
}
